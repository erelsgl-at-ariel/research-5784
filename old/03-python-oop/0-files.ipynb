{
 "cells": [
  {
   "cell_type": "markdown",
   "metadata": {},
   "source": [
    "## Files Handling\n",
    "\n",
    "### open()\n",
    "\n",
    "Open file and return a stream.  Raise IOError upon failure.\n",
    "\n",
    "file is either a text or byte string giving the name (and the path\n",
    "if the file isn't in the current working directory) of the file to\n",
    "be opened or an integer file descriptor of the file to be\n",
    "wrapped. (If a file descriptor is given, it is closed when the\n",
    "returned I/O object is closed, unless closefd is set to False.)\n",
    "\n",
    "mode is an optional string that specifies the mode in which the file\n",
    "is opened. It defaults to 'r' which means open for reading in text\n",
    "mode.  Other common values are 'w' for writing (truncating the file if\n",
    "it already exists), 'x' for creating and writing to a new file, and\n",
    "'a' for appending (which on some Unix systems, means that all writes\n",
    "append to the end of the file regardless of the current seek position).\n",
    "In text mode, if encoding is not specified the encoding used is platform\n",
    "dependent: locale.getpreferredencoding(False) is called to get the\n",
    "current locale encoding. (For reading and writing raw bytes use binary\n",
    "mode and leave encoding unspecified.) The available modes are:\n",
    "\n",
    "\n",
    "* 'r'          open for reading (default)\n",
    "* 'w'          open for writing, truncating the file first\n",
    "* 'x'         create a new file and open it for writing\n",
    "* 'a'          open for writing, appending to the end of the file if it exists\n",
    "* 'b'         binary mode\n",
    "* 't'         text mode (default)\n",
    "* '+'         open a disk file for updating (reading and writing)\n",
    "* 'U'         universal newline mode (deprecated)\n"
   ]
  },
  {
   "cell_type": "markdown",
   "metadata": {},
   "source": [
    "### reading:\n",
    "\n"
   ]
  },
  {
   "cell_type": "code",
   "execution_count": 1,
   "metadata": {},
   "outputs": [
    {
     "name": "stdout",
     "output_type": "stream",
     "text": [
      "   _______________                        |*\\_/*|________\n",
      "  |  ___________  |     .-.     .-.      ||_/-\\_|        |\n",
      "  | |           | |    .****. .****.     |               |\n",
      "  | |   0   0   | |    .*****.*****.     |     0   0     |\n",
      "  | |     -     | |     .*********.      |       -       |\n",
      "  | |   \\___/   | |      .*******.       |     \\___/     |\n",
      "  | |___     ___| |       .*****.        |               |\n",
      "  |_____|\\_/|_____|        .***.         |               |\n",
      "    _|__|/ \\|_|_.............*...........|  I am a FILE  |\n",
      "   / ********** \\                        |               | \n",
      " /  ************  \\                       ---------------\n",
      "--------------------                    \n"
     ]
    }
   ],
   "source": [
    "file = open(\"stam.txt\", \"r\") # r = reading\n",
    "print(file.read())\n",
    "file.close()"
   ]
  },
  {
   "cell_type": "markdown",
   "metadata": {},
   "source": [
    "### writing:"
   ]
  },
  {
   "cell_type": "code",
   "execution_count": 2,
   "metadata": {},
   "outputs": [
    {
     "name": "stdout",
     "output_type": "stream",
     "text": [
      "This is the first line I write in this file\n",
      "This is the second line I write in this file\n"
     ]
    }
   ],
   "source": [
    "file = open('new_file.txt','w')\n",
    "file.write(\"This is the first line I write in this file\")\n",
    "file.write(\"\\nThis is the second line I write in this file\")\n",
    "file.close()\n",
    "file = open('new_file.txt','r')\n",
    "print(file.read())\n",
    "file.close()"
   ]
  },
  {
   "cell_type": "code",
   "execution_count": 5,
   "metadata": {},
   "outputs": [
    {
     "name": "stdout",
     "output_type": "stream",
     "text": [
      "This is the first line I write in this file\n",
      "This is the second line I write in this file\n",
      "This is a new line I just added\n",
      "This is a new line I just added\n",
      "This is a new line I just added\n"
     ]
    }
   ],
   "source": [
    "# 'a'-open for writing, appending to the end of the file if it exists:\n",
    "file = open('new_file.txt','a')\n",
    "file.write(\"\\nThis is a new line I just added\")\n",
    "file.close()\n",
    "file = open('new_file.txt','r')\n",
    "print(file.read())\n",
    "file.close()"
   ]
  },
  {
   "cell_type": "markdown",
   "metadata": {},
   "source": [
    "### with keyword - context manager"
   ]
  },
  {
   "cell_type": "code",
   "execution_count": 6,
   "metadata": {},
   "outputs": [
    {
     "name": "stdout",
     "output_type": "stream",
     "text": [
      "                                ,--,    ,--,           \n",
      "|  |  :                        .---.            ,--.'|  ,--.'|           \n",
      ":  :  :                       /. ./|            |  |,   |  |,            \n",
      ":  |  |,--.  ,--.--.       .-'-. ' |  ,--.--.   `--'_   `--'_            \n",
      "|  :  '   | /       \\     /___/ \\: | /       \\  ,' ,'|  ,' ,'|           \n",
      "|  |   /' :.--.  .-. | .-'.. '   ' ..--.  .-. | '  | |  '  | |           \n",
      "'  :  | | | \\__\\/: . ./___/ \\:     ' \\__\\/: . . |  | :  |  | :           \n",
      "|  |  ' | : ,\" .--.; |.   \\  ' .\\    ,\" .--.; | '  : |__'  : |__         \n",
      "|  :  :_:,'/  /  ,.  | \\   \\   ' \\ |/  /  ,.  | |  | '.'|  | '.'|        \n",
      "|  | ,'   ;  :   .'   \\ \\   \\  |--\";  :   .'   \\;  :    ;  :    ;        \n",
      "`--''     |  ,     .-./  \\   \\ |   |  ,     .-./|  ,   /|  ,   /         \n",
      "           `--`---'       '---\"     `--`---'     ---`-'  ---`-'          \n",
      "inside False\n",
      "outside True\n"
     ]
    }
   ],
   "source": [
    "with open(\"hawaii.txt\",'r+') as file:\n",
    "    file.write(\"\\nPYTHON==GOOD LIFE\")\n",
    "    print(file.read())\n",
    "    print(\"inside\", file.closed)\n",
    "\n",
    "print(\"outside\", file.closed)"
   ]
  },
  {
   "cell_type": "code",
   "execution_count": 7,
   "metadata": {},
   "outputs": [
    {
     "name": "stdout",
     "output_type": "stream",
     "text": [
      "False\n",
      "True\n"
     ]
    }
   ],
   "source": [
    "try:\n",
    "    with open(\"hawaii.txt\",'r+') as file:\n",
    "        file.write(\"\\nPYTHON==GOOD LIFE\")\n",
    "        print(file.closed)\n",
    "        raise ValueError()\n",
    "except:\n",
    "    pass\n",
    "print(file.closed)"
   ]
  }
 ],
 "metadata": {
  "kernelspec": {
   "display_name": "Python 3.10.2 64-bit",
   "language": "python",
   "name": "python3"
  },
  "language_info": {
   "codemirror_mode": {
    "name": "ipython",
    "version": 3
   },
   "file_extension": ".py",
   "mimetype": "text/x-python",
   "name": "python",
   "nbconvert_exporter": "python",
   "pygments_lexer": "ipython3",
   "version": "3.10.2"
  },
  "orig_nbformat": 2,
  "vscode": {
   "interpreter": {
    "hash": "fb4569285eef3a3450cb62085a5b1e0da4bce0af555edc33dcf29baf3acc1368"
   }
  }
 },
 "nbformat": 4,
 "nbformat_minor": 2
}
