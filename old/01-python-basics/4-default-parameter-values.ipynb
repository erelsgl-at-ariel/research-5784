{
 "cells": [
  {
   "cell_type": "markdown",
   "metadata": {},
   "source": [
    "## Default parameter values\n",
    "\n",
    "Write a recursive binary search function.\n",
    "\n",
    "```java\n",
    "/* Java code by Microsoft Copilot */\n",
    "    public static int binarySearchRecursive(int[] arr, int target, int left, int right) {\n",
    "        if (left <= right) {\n",
    "            int mid = left + (right - left) / 2;\n",
    "\n",
    "            if (arr[mid] == target) {\n",
    "                return mid; // Found the target\n",
    "            } else if (arr[mid] < target) {\n",
    "                return binarySearchRecursive(arr, target, mid + 1, right); // Search right half\n",
    "            } else {\n",
    "                return binarySearchRecursive(arr, target, left, mid - 1); // Search left half\n",
    "            }\n",
    "        }\n",
    "        return -1; // Target not found\n",
    "    }\n",
    "\n",
    "    public static int binarySearch(int[] arr, int target) {\n",
    "        return \n",
    "    }\n",
    "\n",
    "```\n"
   ]
  }
 ],
 "metadata": {
  "kernelspec": {
   "display_name": "Python 3.10.2 64-bit",
   "language": "python",
   "name": "python3"
  },
  "language_info": {
   "codemirror_mode": {
    "name": "ipython",
    "version": 3
   },
   "file_extension": ".py",
   "mimetype": "text/x-python",
   "name": "python",
   "nbconvert_exporter": "python",
   "pygments_lexer": "ipython3",
   "version": "3.10.2"
  },
  "orig_nbformat": 2,
  "vscode": {
   "interpreter": {
    "hash": "fb4569285eef3a3450cb62085a5b1e0da4bce0af555edc33dcf29baf3acc1368"
   }
  }
 },
 "nbformat": 4,
 "nbformat_minor": 2
}
