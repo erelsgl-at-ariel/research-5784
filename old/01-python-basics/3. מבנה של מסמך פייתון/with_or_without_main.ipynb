{
 "cells": [
  {
   "cell_type": "markdown",
   "metadata": {},
   "source": [
    "<div dir='rtl'>\n",
    "כשמריצים מסמך שאין לו קובץ main\n",
    "אין סדר פעולות, והוא יפעיל ישר מה שצויין בלי רווח.\n",
    "למשל בסקריפט \n",
    "moo_without_main\n",
    "הפונקציה \n",
    "function()\n",
    "נקראת בשורה 9, ולכן כשנייבא את הסקריפט הוא יריץ ישר את הפונקציה.\n",
    "</div>"
   ]
  },
  {
   "cell_type": "code",
   "execution_count": 1,
   "metadata": {},
   "outputs": [
    {
     "name": "stdout",
     "output_type": "stream",
     "text": [
      "\n",
      "               \\|/          (__)    \n",
      "                    `\\------(oo)\n",
      "                      ||    (__)\n",
      "                      ||w--||     \\|/\n",
      "                                      \\|/\n",
      "                      moooooooooooooooooooo!\n"
     ]
    }
   ],
   "source": [
    "import moo_without_main"
   ]
  },
  {
   "cell_type": "code",
   "execution_count": 2,
   "metadata": {},
   "outputs": [
    {
     "name": "stdout",
     "output_type": "stream",
     "text": [
      "\n",
      "               \\|/          (__)    \n",
      "                    `\\------(oo)\n",
      "                      ||    (__)\n",
      "                      ||w--||     \\|/\n",
      "                                      \\|/\n",
      "                      moooooooooooooooooooo!\n"
     ]
    }
   ],
   "source": [
    "moo_without_main.function()"
   ]
  },
  {
   "cell_type": "markdown",
   "metadata": {},
   "source": [
    "<div dir = 'rtl'>\n",
    "לעומת זאת קובץ עם הגדרת main\n",
    "יריץ את פונקציית ה-main \n",
    "רק אם אנחנו מקמפלים את הקוד, אחרת צריך להגדיר לו איזו פונקציה להריץ\n",
    "</div>"
   ]
  },
  {
   "cell_type": "code",
   "execution_count": 1,
   "metadata": {},
   "outputs": [
    {
     "name": "stdout",
     "output_type": "stream",
     "text": [
      "__name__= moo_with_main\n"
     ]
    }
   ],
   "source": [
    "import moo_with_main"
   ]
  },
  {
   "cell_type": "code",
   "execution_count": null,
   "metadata": {},
   "outputs": [],
   "source": [
    "moo_with_main.function()"
   ]
  },
  {
   "cell_type": "code",
   "execution_count": null,
   "metadata": {},
   "outputs": [],
   "source": [
    "print(moo_with_main.__dir__())"
   ]
  },
  {
   "cell_type": "code",
   "execution_count": null,
   "metadata": {},
   "outputs": [],
   "source": []
  }
 ],
 "metadata": {
  "kernelspec": {
   "display_name": "Python 3.10.2 64-bit",
   "language": "python",
   "name": "python3"
  },
  "language_info": {
   "codemirror_mode": {
    "name": "ipython",
    "version": 3
   },
   "file_extension": ".py",
   "mimetype": "text/x-python",
   "name": "python",
   "nbconvert_exporter": "python",
   "pygments_lexer": "ipython3",
   "version": "3.10.2"
  },
  "orig_nbformat": 2,
  "vscode": {
   "interpreter": {
    "hash": "fb4569285eef3a3450cb62085a5b1e0da4bce0af555edc33dcf29baf3acc1368"
   }
  }
 },
 "nbformat": 4,
 "nbformat_minor": 2
}
