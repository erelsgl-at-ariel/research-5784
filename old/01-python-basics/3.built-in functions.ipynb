{
 "cells": [
  {
   "cell_type": "markdown",
   "metadata": {},
   "source": [
    "## Built in functions:\n",
    "\n",
    "### input & output:"
   ]
  },
  {
   "cell_type": "code",
   "execution_count": 3,
   "metadata": {},
   "outputs": [
    {
     "name": "stdout",
     "output_type": "stream",
     "text": [
      "Help on built-in function print in module builtins:\n",
      "\n",
      "print(...)\n",
      "    print(value, ..., sep=' ', end='\\n', file=sys.stdout, flush=False)\n",
      "    \n",
      "    Prints the values to a stream, or to sys.stdout by default.\n",
      "    Optional keyword arguments:\n",
      "    file:  a file-like object (stream); defaults to the current sys.stdout.\n",
      "    sep:   string inserted between values, default a space.\n",
      "    end:   string appended after the last value, default a newline.\n",
      "    flush: whether to forcibly flush the stream.\n",
      "\n"
     ]
    }
   ],
   "source": [
    "# print function:\n",
    "help(print)"
   ]
  },
  {
   "cell_type": "code",
   "execution_count": 3,
   "metadata": {},
   "outputs": [
    {
     "name": "stdout",
     "output_type": "stream",
     "text": [
      "HELLO-WORLD\n",
      "HELLO__WORD\n"
     ]
    }
   ],
   "source": [
    "# end  param:\n",
    "hello_world = ['H','E','L','L','O','-','W','O','R','L','D']\n",
    "for char in hello_world:\n",
    "    print(char, end=\"\")\n",
    "else: \n",
    "    print()\n",
    "# sep param: \n",
    "print('HELLO', 'WORD', sep='__')"
   ]
  },
  {
   "cell_type": "code",
   "execution_count": 4,
   "metadata": {},
   "outputs": [
    {
     "name": "stdout",
     "output_type": "stream",
     "text": [
      "Forward raw_input to frontends\n",
      "\n",
      "        Raises\n",
      "        ------\n",
      "        StdinNotImplementedError if active frontend doesn't support stdin.\n",
      "        \n"
     ]
    }
   ],
   "source": [
    "# input\n",
    "print(input.__doc__)"
   ]
  },
  {
   "cell_type": "code",
   "execution_count": 10,
   "metadata": {},
   "outputs": [
    {
     "name": "stdout",
     "output_type": "stream",
     "text": [
      "The value is:  dfdf\n"
     ]
    }
   ],
   "source": [
    "x= input(\"Enter your value: \")\n",
    "print('The value is: ',x)"
   ]
  },
  {
   "cell_type": "markdown",
   "metadata": {},
   "source": [
    "____________\n",
    "### Casting:"
   ]
  },
  {
   "cell_type": "code",
   "execution_count": 12,
   "metadata": {},
   "outputs": [
    {
     "name": "stdout",
     "output_type": "stream",
     "text": [
      "pi  3.1415926\n",
      "int_pi  3\n",
      "float_pi  3.1415926\n",
      "complex_pi  (3.1415926+0j)\n",
      "this is str(pi): 3.1415926\n"
     ]
    }
   ],
   "source": [
    "# int:\n",
    "pi = 3.1415926\n",
    "int_pi = int(pi)\n",
    "float_pi = float(pi)\n",
    "complex_pi = complex(pi)\n",
    "str_pi = 'this is str(pi): ' + str(pi)\n",
    "print('pi ' , pi)\n",
    "print('int_pi ',int_pi)\n",
    "print('float_pi ',float_pi )\n",
    "print('complex_pi ', complex_pi)\n",
    "print(str_pi)"
   ]
  },
  {
   "cell_type": "code",
   "execution_count": 13,
   "metadata": {},
   "outputs": [
    {
     "name": "stdout",
     "output_type": "stream",
     "text": [
      "π² =  9.869208227676161\n"
     ]
    }
   ],
   "source": [
    "# string => number\n",
    "pi_str = '3.1415296'\n",
    "print('π² = ', float(pi_str)**2)"
   ]
  },
  {
   "cell_type": "markdown",
   "metadata": {},
   "source": [
    "[more about format function](https://www.w3schools.com/python/ref_func_format.asp)"
   ]
  },
  {
   "cell_type": "code",
   "execution_count": 5,
   "metadata": {},
   "outputs": [
    {
     "name": "stdout",
     "output_type": "stream",
     "text": [
      "I was evaluated!!\n"
     ]
    }
   ],
   "source": [
    "# eval()\n",
    "# Evaluate the given source in the context of globals and locals.\n",
    "# The source may be a string representing a Python expression\n",
    "string = 'print(\"I was evaluated!!\")'\n",
    "eval(string)"
   ]
  },
  {
   "cell_type": "code",
   "execution_count": 6,
   "metadata": {},
   "outputs": [
    {
     "name": "stdout",
     "output_type": "stream",
     "text": [
      "Tom Pythonovitz\n"
     ]
    }
   ],
   "source": [
    "# exec()\n",
    "# Execute the given source in the context of globals and locals.\n",
    "# The source may be a string representing one or more Python statements\n",
    "# or a code object as returned by compile()\n",
    "# Unlike eval() ,exec() can evaluate a block of code\n",
    "\n",
    "string = 'name = \"Tom\"\\nlast_name = \"Pythonovitz\"\\nprint(name+\" \"+last_name)\\n'\n",
    "exec(string)"
   ]
  },
  {
   "cell_type": "code",
   "execution_count": null,
   "metadata": {},
   "outputs": [],
   "source": []
  }
 ],
 "metadata": {
  "kernelspec": {
   "display_name": "Python 3.6.6 64-bit",
   "metadata": {
    "interpreter": {
     "hash": "2e5c6628eef985e7fd2fa2aad22c988c5b8aa1d2648cf9c51c543a2a2637c546"
    }
   },
   "name": "python3"
  },
  "language_info": {
   "codemirror_mode": {
    "name": "ipython",
    "version": 3
   },
   "file_extension": ".py",
   "mimetype": "text/x-python",
   "name": "python",
   "nbconvert_exporter": "python",
   "pygments_lexer": "ipython3",
   "version": "3.10.2"
  },
  "orig_nbformat": 2
 },
 "nbformat": 4,
 "nbformat_minor": 2
}
