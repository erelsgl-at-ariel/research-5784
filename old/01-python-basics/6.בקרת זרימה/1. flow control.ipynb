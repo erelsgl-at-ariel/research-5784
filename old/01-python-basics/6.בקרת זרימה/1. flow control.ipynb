{
 "cells": [
  {
   "cell_type": "markdown",
   "metadata": {},
   "source": [
    "__________________________\n",
    "## conditions:\n",
    "\n",
    "conditions in java:\n",
    "<br>\n",
    "```java\n",
    " if (condition1){\n",
    "    Statement1;\n",
    "}\n",
    " else if(condition2){\n",
    "    statment2\n",
    "}\n",
    " else{\n",
    "    StatementDefault;\n",
    "}\n",
    "```\n",
    "\n",
    "conditions in python:\n"
   ]
  },
  {
   "cell_type": "code",
   "execution_count": 1,
   "metadata": {},
   "outputs": [
    {
     "name": "stdout",
     "output_type": "stream",
     "text": [
      "if: a is 7, and len(a) == 1\n"
     ]
    }
   ],
   "source": [
    "a = input('What is a? ')\n",
    "# if\n",
    "if len(a) < 5:\n",
    "    print(f'if: a is {a}, and len(a) == {len(a)}')\n",
    "# else if\n",
    "elif len(a) == 5:\n",
    "    print(f'elif: a is {a}, and len(a) == 5')\n",
    "# else\n",
    "else:\n",
    "    print(f'else:  a is {a} a is too long')"
   ]
  },
  {
   "cell_type": "markdown",
   "metadata": {},
   "source": [
    "#### syntactic sugar\n",
    "```java\n",
    "// bool   true  false\n",
    "condition? yes : no\n",
    "```\n",
    "python:"
   ]
  },
  {
   "cell_type": "code",
   "execution_count": 2,
   "metadata": {},
   "outputs": [
    {
     "name": "stdout",
     "output_type": "stream",
     "text": [
      "LONG\n"
     ]
    }
   ],
   "source": [
    "# True        bool           False\n",
    "#  yes        condition      no\n",
    "a=\"xxxx\"\n",
    "L = 'LONG' if len(a) >= 5 else 'SHORT'\n",
    "print(L)"
   ]
  },
  {
   "cell_type": "markdown",
   "metadata": {},
   "source": [
    "______________\n",
    "## Loops:\n",
    "\n",
    "### while loop:\n",
    "while loop in java:\n",
    "```java\n",
    "while(x>2)\n",
    "{\n",
    " x++;\n",
    "}\n",
    "\n",
    "```\n",
    "in python:"
   ]
  },
  {
   "cell_type": "code",
   "execution_count": null,
   "metadata": {},
   "outputs": [],
   "source": [
    "x = 0\n",
    "while x < 2:\n",
    "    x+=1\n",
    "print(f'end of loop, x is {x}')"
   ]
  },
  {
   "cell_type": "markdown",
   "metadata": {},
   "source": [
    "#### else statement: \n",
    "else statement occurs if the loop finish without any interruptions (like breaks)."
   ]
  },
  {
   "cell_type": "code",
   "execution_count": 5,
   "metadata": {},
   "outputs": [
    {
     "name": "stdout",
     "output_type": "stream",
     "text": [
      "3\n",
      "2\n",
      "1\n",
      "end of loop\n"
     ]
    }
   ],
   "source": [
    "# while(true):\n",
    "lst = [1,2,3]\n",
    "while lst: \n",
    "    print(lst.pop(-1))\n",
    "# else statement occurs if the loop finish without interruptions (like breaks):\n",
    "else:\n",
    "    print('end of loop')"
   ]
  },
  {
   "cell_type": "code",
   "execution_count": 3,
   "metadata": {},
   "outputs": [
    {
     "name": "stdout",
     "output_type": "stream",
     "text": [
      "1\n",
      "2\n",
      "3\n",
      "break\n"
     ]
    }
   ],
   "source": [
    "\n",
    "# or like so: \n",
    "lst_2 = [3,2,1]\n",
    "while lst_2:\n",
    "    elem = lst_2.pop(-1)\n",
    "    print(elem)\n",
    "    if elem == 3:\n",
    "        print('break')\n",
    "        break\n",
    "else:\n",
    "    print('end of loop')"
   ]
  },
  {
   "cell_type": "markdown",
   "metadata": {},
   "source": [
    "### for loop:\n",
    "for loop in java: \n",
    "```java\n",
    "for(int i=0; i!=arr.length; ++i)\n",
    "{\n",
    "//code..\n",
    "}\n",
    "```\n",
    "for each in java:\n",
    "```java\n",
    "for(int elem in arr){\n",
    "    //code...\n",
    "}\n",
    "```\n",
    "in python every loop is for each: "
   ]
  },
  {
   "cell_type": "code",
   "execution_count": 7,
   "metadata": {},
   "outputs": [
    {
     "name": "stdout",
     "output_type": "stream",
     "text": [
      "aaa\n",
      "bbb\n",
      "ccc\n"
     ]
    }
   ],
   "source": [
    "# for(int elem : arr)\n",
    "arr = [\"aaa\",\"bbb\",\"ccc\"]\n",
    "for elem in arr:\n",
    "    print(elem)"
   ]
  },
  {
   "cell_type": "code",
   "execution_count": 4,
   "metadata": {},
   "outputs": [
    {
     "name": "stdout",
     "output_type": "stream",
     "text": [
      "[0, 1, 2, 3, 4]\n",
      "0 0\n",
      "1 1\n",
      "2 4\n",
      "3 9\n",
      "4 16\n"
     ]
    }
   ],
   "source": [
    "# for(int i = 0; i!=arr.length; ++i)\n",
    "print(list(range(5)))\n",
    "for i in range(5):  #for i in [0,1,2,3,4]\n",
    "    print(i, i**2)"
   ]
  },
  {
   "cell_type": "code",
   "execution_count": 6,
   "metadata": {},
   "outputs": [
    {
     "name": "stdout",
     "output_type": "stream",
     "text": [
      "0 aaa\n",
      "1 bbb\n",
      "2 ccc\n"
     ]
    }
   ],
   "source": [
    "arr = [\"aaa\",\"bbb\",4,\"ccc\",5]\n",
    "for i,elem in enumerate([x for x in arr if type(x)==str]):\n",
    "    print(i, elem)"
   ]
  },
  {
   "cell_type": "code",
   "execution_count": 12,
   "metadata": {},
   "outputs": [
    {
     "name": "stdout",
     "output_type": "stream",
     "text": [
      "0 1 2 3 4 5 6 7 8 9 \n",
      "~~~~~~~~~~~\n",
      "2 3 4 5 6 7 8 \n",
      "~~~~~~~~~~~\n",
      "2 4 6 8 "
     ]
    }
   ],
   "source": [
    "for n in range(10): #n=0 -> n=9\n",
    "    print(n , end=' ' )\n",
    "print('\\n~~~~~~~~~~~')\n",
    "for n in range(2,9): #n=2 -> n=8\n",
    "    print(n, end = ' ')\n",
    "print('\\n~~~~~~~~~~~')\n",
    "for n in range(2,10,2): #n=2-> n=8 iff n%2==0\n",
    "    print(n, end = ' ')"
   ]
  }
 ],
 "metadata": {
  "kernelspec": {
   "display_name": "Python 3.10.2 64-bit",
   "language": "python",
   "name": "python3"
  },
  "language_info": {
   "codemirror_mode": {
    "name": "ipython",
    "version": 3
   },
   "file_extension": ".py",
   "mimetype": "text/x-python",
   "name": "python",
   "nbconvert_exporter": "python",
   "pygments_lexer": "ipython3",
   "version": "3.10.2"
  },
  "orig_nbformat": 2,
  "vscode": {
   "interpreter": {
    "hash": "fb4569285eef3a3450cb62085a5b1e0da4bce0af555edc33dcf29baf3acc1368"
   }
  }
 },
 "nbformat": 4,
 "nbformat_minor": 2
}
