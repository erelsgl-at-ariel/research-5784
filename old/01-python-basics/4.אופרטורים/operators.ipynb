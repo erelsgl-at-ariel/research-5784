{
 "cells": [
  {
   "cell_type": "markdown",
   "metadata": {},
   "source": [
    "## Arithmetics:"
   ]
  },
  {
   "cell_type": "code",
   "execution_count": 1,
   "metadata": {},
   "outputs": [
    {
     "name": "stdout",
     "output_type": "stream",
     "text": [
      "5\n",
      "-1\n",
      "6\n",
      "0.6666666666666666\n",
      "0\n",
      "2\n",
      "8\n"
     ]
    }
   ],
   "source": [
    "\n",
    "x = 2\n",
    "y = 3\n",
    "print(x + y)            # → 5\n",
    "print(x - y)             # → -1\n",
    "print(x * y)             # → 6\n",
    "print(x / y)             # → 2/3\n",
    "print(x // y)            # → 0\n",
    "print(x % y)            # → 2\n",
    "print(x ** y)            # → 8"
   ]
  },
  {
   "cell_type": "markdown",
   "metadata": {},
   "source": [
    "## Comparison Operators:"
   ]
  },
  {
   "cell_type": "code",
   "execution_count": 2,
   "metadata": {},
   "outputs": [
    {
     "name": "stdout",
     "output_type": "stream",
     "text": [
      "True\n",
      "False\n",
      "True\n",
      "False\n",
      "False\n",
      "True\n"
     ]
    }
   ],
   "source": [
    "print( x < y)\n",
    "print(x > y)\n",
    "print( x <= y)\n",
    "print(x >= y)\n",
    "print(x == y)\n",
    "print(x != y)"
   ]
  },
  {
   "cell_type": "markdown",
   "metadata": {},
   "source": [
    "## Logical operators:"
   ]
  },
  {
   "cell_type": "code",
   "execution_count": 3,
   "metadata": {},
   "outputs": [
    {
     "name": "stdout",
     "output_type": "stream",
     "text": [
      "True\n",
      "True\n",
      "True\n"
     ]
    }
   ],
   "source": [
    "print(x<5 and y<7)\n",
    "print(x<5 or y<7)\n",
    "print(not x==y)"
   ]
  },
  {
   "cell_type": "markdown",
   "metadata": {},
   "source": [
    "## Identity operators:"
   ]
  },
  {
   "cell_type": "code",
   "execution_count": 3,
   "metadata": {},
   "outputs": [
    {
     "name": "stdout",
     "output_type": "stream",
     "text": [
      "True\n",
      "False\n",
      "2118975762352\n",
      "2119058438192\n"
     ]
    }
   ],
   "source": [
    "# In Python, all variables - including ints - are pointers.\n",
    "a = \"2\"\n",
    "x = 2\n",
    "w = str(x) # casting x to str\n",
    "print(w==a)\n",
    "print(w is a)\n",
    "# The memory address of a and w\n",
    "print(id(a)) \n",
    "print(id(w))"
   ]
  },
  {
   "cell_type": "code",
   "execution_count": 4,
   "metadata": {},
   "outputs": [
    {
     "name": "stdout",
     "output_type": "stream",
     "text": [
      "True\n",
      "2118975762352\n",
      "2118975762352\n"
     ]
    }
   ],
   "source": [
    "z = a\n",
    "print(z is a)\n",
    "print(id(a)) \n",
    "print(id(z))"
   ]
  },
  {
   "cell_type": "code",
   "execution_count": 5,
   "metadata": {},
   "outputs": [
    {
     "name": "stdout",
     "output_type": "stream",
     "text": [
      "True\n"
     ]
    }
   ],
   "source": [
    "## __eq__ - by default like `is`, but can be overridden.\n",
    "print(w == a)"
   ]
  },
  {
   "cell_type": "markdown",
   "metadata": {},
   "source": [
    "## Bitwise operators:"
   ]
  },
  {
   "cell_type": "code",
   "execution_count": 6,
   "metadata": {},
   "outputs": [
    {
     "name": "stdout",
     "output_type": "stream",
     "text": [
      "5 & 3  ==  0101 & 0001  ==  0001 =  1\n",
      "5 | 3  ==  0101 | 0011  == 0111 = 7\n",
      "5 ^ 3  == 0101 ^ 0011 = 0110 = 6\n",
      "-6\n"
     ]
    }
   ],
   "source": [
    "x = 5\n",
    "y = 3\n",
    "print('5 & 3  ==  0101 & 0001  ==  0001 = ', x & y)\n",
    "print('5 | 3  ==  0101 | 0011  == 0111 =', x | y)\n",
    "print('5 ^ 3  == 0101 ^ 0011 = 0110 =',  x ^ y)\n",
    "print(~x)"
   ]
  },
  {
   "cell_type": "code",
   "execution_count": 7,
   "metadata": {},
   "outputs": [
    {
     "name": "stdout",
     "output_type": "stream",
     "text": [
      "40\n",
      "0\n"
     ]
    }
   ],
   "source": [
    "print(x << y)\n",
    "print(x >> y)"
   ]
  }
 ],
 "metadata": {
  "kernelspec": {
   "display_name": "Python 3.10.2 64-bit",
   "language": "python",
   "name": "python3"
  },
  "language_info": {
   "codemirror_mode": {
    "name": "ipython",
    "version": 3
   },
   "file_extension": ".py",
   "mimetype": "text/x-python",
   "name": "python",
   "nbconvert_exporter": "python",
   "pygments_lexer": "ipython3",
   "version": "3.10.2"
  },
  "orig_nbformat": 2,
  "vscode": {
   "interpreter": {
    "hash": "fb4569285eef3a3450cb62085a5b1e0da4bce0af555edc33dcf29baf3acc1368"
   }
  }
 },
 "nbformat": 4,
 "nbformat_minor": 2
}
