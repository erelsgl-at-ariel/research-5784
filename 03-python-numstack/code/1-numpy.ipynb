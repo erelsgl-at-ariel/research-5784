{
 "cells": [
  {
   "cell_type": "markdown",
   "metadata": {},
   "source": [
    "# numpy\n",
    "\n",
    "`numpy` is a Python library for fast computations with vectors and matrices.\n",
    "\n",
    "It is the basis for many other, more advanced libraries."
   ]
  },
  {
   "cell_type": "code",
   "execution_count": 1,
   "metadata": {},
   "outputs": [],
   "source": [
    "import numpy as np"
   ]
  },
  {
   "cell_type": "markdown",
   "metadata": {},
   "source": [
    "## Vectors"
   ]
  },
  {
   "cell_type": "code",
   "execution_count": 15,
   "metadata": {},
   "outputs": [
    {
     "data": {
      "text/plain": [
       "(array([1, 2, 3, 4]), dtype('int32'))"
      ]
     },
     "execution_count": 15,
     "metadata": {},
     "output_type": "execute_result"
    }
   ],
   "source": [
    "arr = np.array((1,2,3,4))\n",
    "arr, arr.dtype               # Vector in numpy has a single data-type."
   ]
  },
  {
   "cell_type": "code",
   "execution_count": 16,
   "metadata": {},
   "outputs": [
    {
     "data": {
      "text/plain": [
       "(array([1., 2., 3., 4.]), dtype('float64'))"
      ]
     },
     "execution_count": 16,
     "metadata": {},
     "output_type": "execute_result"
    }
   ],
   "source": [
    "arr = np.array((1, 2, 3, 4.0))\n",
    "arr, arr.dtype"
   ]
  },
  {
   "cell_type": "code",
   "execution_count": 17,
   "metadata": {},
   "outputs": [
    {
     "data": {
      "text/plain": [
       "array(['1', '2', '3', 'a'], dtype='<U11')"
      ]
     },
     "execution_count": 17,
     "metadata": {},
     "output_type": "execute_result"
    }
   ],
   "source": [
    "arr = np.array((1,2,3,'a'))\n",
    "arr"
   ]
  },
  {
   "cell_type": "code",
   "execution_count": 20,
   "metadata": {},
   "outputs": [
    {
     "name": "stdout",
     "output_type": "stream",
     "text": [
      "list+list: [1, 2, 3, 4, 5, 6]\n",
      "type(list+list) = <class 'list'>\n",
      "arr+list: [5 7 9]\n",
      "type(arr+list) = <class 'numpy.ndarray'>\n"
     ]
    }
   ],
   "source": [
    "lst = [1,2,3]\n",
    "lst_lst = lst + [4,5,6]\n",
    "print(f\"list+list: {lst_lst}\")\n",
    "print(f\"type(list+list) = {type(lst_lst)}\")\n",
    "\n",
    "arr = np.array((1,2,3))\n",
    "lst_arr = arr + [4,5,6]\n",
    "print(f\"arr+list: {lst_arr}\")\n",
    "print(f\"type(arr+list) = {type(lst_arr)}\")"
   ]
  },
  {
   "cell_type": "code",
   "execution_count": 30,
   "metadata": {},
   "outputs": [
    {
     "name": "stdout",
     "output_type": "stream",
     "text": [
      "[0.5 1.  1.5]\n",
      "[1 4 9]\n",
      "[ 5 10 15]\n",
      "[6 7 8]\n",
      "operands could not be broadcast together with shapes (3,) (2,) \n"
     ]
    }
   ],
   "source": [
    "arr = np.array((1,2,3))\n",
    "print(arr/2)\n",
    "print(arr**2)\n",
    "print(arr*5)\n",
    "print(arr + [5])   # the [5] is \"broad-cast\" to a vector [5,5,5]\n",
    "try:\n",
    "    arr + [1,2] #=> ValueError\n",
    "except ValueError as e:\n",
    "    print(e)"
   ]
  },
  {
   "cell_type": "code",
   "execution_count": 27,
   "metadata": {},
   "outputs": [
    {
     "data": {
      "text/plain": [
       "array([1, 2, 3, 4, 5, 6, 7])"
      ]
     },
     "execution_count": 27,
     "metadata": {},
     "output_type": "execute_result"
    }
   ],
   "source": [
    "np.concatenate( (arr, [4], [5,6,7]) )"
   ]
  },
  {
   "cell_type": "code",
   "execution_count": 13,
   "metadata": {},
   "outputs": [
    {
     "name": "stdout",
     "output_type": "stream",
     "text": [
      "[0.76159416 0.96402758 0.99505475]\n",
      "[ 0.54030231 -0.41614684 -0.9899925 ]\n",
      "[0.84147098 0.90929743 0.14112001]\n",
      "[ 2.71828183  7.3890561  20.08553692]\n",
      "[1.         1.41421356 1.73205081]\n",
      "[0.         0.69314718 1.09861229]\n"
     ]
    }
   ],
   "source": [
    "print(np.tanh(arr))\n",
    "print(np.cos(arr))\n",
    "print(np.sin(arr))\n",
    "print(np.exp(arr))\n",
    "print(np.sqrt(arr))\n",
    "print(np.log(arr))"
   ]
  },
  {
   "cell_type": "code",
   "execution_count": 31,
   "metadata": {},
   "outputs": [
    {
     "name": "stdout",
     "output_type": "stream",
     "text": [
      "32\n",
      "32\n",
      "32\n"
     ]
    }
   ],
   "source": [
    "arr =  np.array([1,2,3])\n",
    "arr2 = np.array([4,5,6])\n",
    "\n",
    "# Many ways to compute a scalar product:\n",
    "print(np.sum(arr2*arr))\n",
    "print(arr2.dot(arr))\n",
    "print(arr2 @ arr)"
   ]
  },
  {
   "cell_type": "code",
   "execution_count": 37,
   "metadata": {},
   "outputs": [
    {
     "name": "stdout",
     "output_type": "stream",
     "text": [
      "[False  True False  True False  True]\n",
      "[22 44 66]\n",
      "[22, 44, 66]\n"
     ]
    },
    {
     "data": {
      "text/plain": [
       "[33, 44]"
      ]
     },
     "execution_count": 37,
     "metadata": {},
     "output_type": "execute_result"
    }
   ],
   "source": [
    "# Indexing by condition\n",
    "\n",
    "a = np.array([11,22,33,44,55,66])\n",
    "print(a%2==0)\n",
    "print(a[[False,True,False,True,False,True,]])           # Take only the even elements\n",
    "print(list(a[a%2==0]))           # Take only the even elements"
   ]
  },
  {
   "cell_type": "code",
   "execution_count": 41,
   "metadata": {},
   "outputs": [
    {
     "name": "stdout",
     "output_type": "stream",
     "text": [
      "[11. 22. 33. 44. 55. 66.]\n"
     ]
    }
   ],
   "source": [
    "a = np.array([11,22,33,44,55,66],dtype=np.float64)\n",
    "print(a)"
   ]
  },
  {
   "cell_type": "markdown",
   "metadata": {},
   "source": [
    "## Matrices"
   ]
  },
  {
   "cell_type": "code",
   "execution_count": 46,
   "metadata": {},
   "outputs": [
    {
     "name": "stdout",
     "output_type": "stream",
     "text": [
      "[[1, 2, 3], [4, 5, 6]]\n",
      "[[1 2 3]\n",
      " [4 5 6]]\n"
     ]
    }
   ],
   "source": [
    "lst = [[1,2,3],[4,5,6]]\n",
    "arr = np.array(lst)\n",
    "print(lst)\n",
    "print(arr)"
   ]
  },
  {
   "cell_type": "code",
   "execution_count": 33,
   "metadata": {},
   "outputs": [
    {
     "name": "stdout",
     "output_type": "stream",
     "text": [
      "2\n",
      "2\n"
     ]
    }
   ],
   "source": [
    "print(arr[0][1])   # Java style\n",
    "print(arr[0,1])    # C# style"
   ]
  },
  {
   "cell_type": "code",
   "execution_count": 49,
   "metadata": {},
   "outputs": [
    {
     "name": "stdout",
     "output_type": "stream",
     "text": [
      "First column:  [1 4]\n",
      "Second column:  [2 5]\n",
      "Last column:  [3 6]\n",
      "First row:  [1 2 3]\n",
      "Second row:  [4 5 6]\n"
     ]
    }
   ],
   "source": [
    "### : colon operator :\n",
    "\n",
    "print(\"First column: \", arr[:,0])\n",
    "print(\"Second column: \", arr[:,1])\n",
    "print(\"Last column: \", arr[:,-1])\n",
    "print(\"First row: \", arr[0,:])\n",
    "print(\"Second row: \", arr[1,:])"
   ]
  },
  {
   "cell_type": "code",
   "execution_count": 50,
   "metadata": {},
   "outputs": [
    {
     "name": "stdout",
     "output_type": "stream",
     "text": [
      "[[1 2 3]\n",
      " [4 5 6]]\n",
      "21\n",
      "[5 7 9]\n",
      "[ 6 15]\n",
      "[ 6 15]\n"
     ]
    },
    {
     "ename": "TypeError",
     "evalue": "'axis' is an invalid keyword argument for sum()",
     "output_type": "error",
     "traceback": [
      "\u001b[1;31m---------------------------------------------------------------------------\u001b[0m",
      "\u001b[1;31mTypeError\u001b[0m                                 Traceback (most recent call last)",
      "Cell \u001b[1;32mIn[50], line 9\u001b[0m\n\u001b[0;32m      7\u001b[0m \u001b[38;5;28mprint\u001b[39m(np\u001b[38;5;241m.\u001b[39msum(arr,axis\u001b[38;5;241m=\u001b[39m\u001b[38;5;241m1\u001b[39m))\n\u001b[0;32m      8\u001b[0m \u001b[38;5;28mprint\u001b[39m(np\u001b[38;5;241m.\u001b[39msum(arr,axis\u001b[38;5;241m=\u001b[39m\u001b[38;5;241m-\u001b[39m\u001b[38;5;241m1\u001b[39m))\n\u001b[1;32m----> 9\u001b[0m \u001b[38;5;28mprint\u001b[39m(\u001b[38;5;28;43msum\u001b[39;49m\u001b[43m(\u001b[49m\u001b[43marr\u001b[49m\u001b[43m,\u001b[49m\u001b[43maxis\u001b[49m\u001b[38;5;241;43m=\u001b[39;49m\u001b[38;5;241;43m0\u001b[39;49m\u001b[43m)\u001b[49m)   \u001b[38;5;66;03m# Wrong! you should use np.sum.\u001b[39;00m\n",
      "\u001b[1;31mTypeError\u001b[0m: 'axis' is an invalid keyword argument for sum()"
     ]
    }
   ],
   "source": [
    "# Operations along a specific axis:\n",
    "\n",
    "arr = np.array([[1,2,3],[4,5,6]])\n",
    "print(arr)\n",
    "print(np.sum(arr))\n",
    "print(np.sum(arr,axis=0))\n",
    "print(np.sum(arr,axis=1))\n",
    "print(np.sum(arr,axis=-1))\n",
    "print(sum(arr,axis=0))   # Wrong! you should use np.sum."
   ]
  },
  {
   "cell_type": "code",
   "execution_count": 53,
   "metadata": {},
   "outputs": [
    {
     "name": "stdout",
     "output_type": "stream",
     "text": [
      "[[1 2 3]\n",
      " [4 5 6]]\n",
      "\n",
      "3.5\n",
      "\n",
      "[2.5 3.5 4.5]\n",
      "\n",
      "[2. 5.]\n"
     ]
    }
   ],
   "source": [
    "arr = np.array([[1,2,3],[4,5,6]])\n",
    "print(arr)\n",
    "print()\n",
    "print(np.median(arr))\n",
    "print()\n",
    "print(np.median(arr,axis=0))\n",
    "print()\n",
    "print(np.median(arr,axis=1))"
   ]
  },
  {
   "cell_type": "code",
   "execution_count": 57,
   "metadata": {},
   "outputs": [
    {
     "name": "stdout",
     "output_type": "stream",
     "text": [
      "[[4 2 3]\n",
      " [1 6 5]]\n",
      "\n",
      "[[1 2 3]\n",
      " [4 6 5]]\n",
      "\n",
      "[[2 3 4]\n",
      " [1 5 6]]\n"
     ]
    },
    {
     "data": {
      "text/plain": [
       "array([1, 2, 3, 4, 5, 6])"
      ]
     },
     "execution_count": 57,
     "metadata": {},
     "output_type": "execute_result"
    }
   ],
   "source": [
    "arr = np.array([[4,2,3],[1,6,5]])\n",
    "print(arr)\n",
    "print()\n",
    "print(np.sort(arr,axis=0))\n",
    "print()\n",
    "print(np.sort(arr,axis=1))\n",
    "print()\n",
    "np.sort(np.concatenate(arr))"
   ]
  },
  {
   "cell_type": "code",
   "execution_count": 66,
   "metadata": {},
   "outputs": [
    {
     "name": "stdout",
     "output_type": "stream",
     "text": [
      "[[0.333 0.143 0.091]\n",
      " [0.077 0.059 0.053]]\n",
      "[[0.33 0.14 0.09]\n",
      " [0.08 0.06 0.05]]\n",
      "[[0.333 0.143 0.091]\n",
      " [0.077 0.059 0.053]]\n"
     ]
    }
   ],
   "source": [
    "# Rounding:\n",
    "\n",
    "a = np.array([[1./3, 1./7, 1./11],[1./13, 1./17, 1./19]])\n",
    "print(a)\n",
    "print(np.round(a,2))\n",
    "print(np.round(a,3))"
   ]
  },
  {
   "cell_type": "code",
   "execution_count": 68,
   "metadata": {},
   "outputs": [
    {
     "name": "stdout",
     "output_type": "stream",
     "text": [
      "[[0.333 0.143 0.091]\n",
      " [0.077 0.059 0.053]]\n",
      "[[0.33 0.14 0.09]\n",
      " [0.08 0.06 0.05]]\n"
     ]
    }
   ],
   "source": [
    "np.set_printoptions(precision=3)\n",
    "print(a)\n",
    "np.set_printoptions(precision=2)\n",
    "print(a)"
   ]
  },
  {
   "cell_type": "code",
   "execution_count": 38,
   "metadata": {},
   "outputs": [
    {
     "name": "stdout",
     "output_type": "stream",
     "text": [
      "arr Transpose:\n",
      "[[1 3]\n",
      " [2 4]]\n",
      "trace of a:\n",
      "5\n",
      "determinant of arr:\n",
      "-2.0000000000000004\n",
      "inverse of arr: \n",
      "[[-2.   1. ]\n",
      " [ 1.5 -0.5]]\n"
     ]
    }
   ],
   "source": [
    "# Linear algebra operations\n",
    "\n",
    "arr = np.array([[1,2],[3,4]])\n",
    "print(\"arr Transpose:\")\n",
    "print(arr.T)\n",
    "print(\"trace of a:\")\n",
    "print(np.trace(arr))\n",
    "print(\"determinant of arr:\")\n",
    "print(np.linalg.det(arr))\n",
    "print(f\"inverse of arr: \")\n",
    "print(np.linalg.inv(arr))"
   ]
  },
  {
   "cell_type": "code",
   "execution_count": 19,
   "metadata": {},
   "outputs": [
    {
     "name": "stdout",
     "output_type": "stream",
     "text": [
      "[[ 9 12 15]\n",
      " [19 26 33]]\n",
      "[[ 9 12 15]\n",
      " [19 26 33]]\n"
     ]
    }
   ],
   "source": [
    "#  Matrix multiplication\n",
    "\n",
    "arr2 = np.array([[1,2,3],[4,5,6]])\n",
    "print(arr.dot(arr2))\n",
    "print(arr @ arr2) # equivalent"
   ]
  },
  {
   "cell_type": "code",
   "execution_count": 58,
   "metadata": {},
   "outputs": [
    {
     "name": "stdout",
     "output_type": "stream",
     "text": [
      "[[-29.  15.]\n",
      " [  1.   5.]\n",
      " [-86. -33.]\n",
      " [-74. -15.]]\n",
      "[32.64965543  5.09901951 92.11405973 75.50496672]\n",
      "5.0990195135927845 1\n"
     ]
    },
    {
     "data": {
      "text/plain": [
       "1"
      ]
     },
     "execution_count": 58,
     "metadata": {},
     "output_type": "execute_result"
    }
   ],
   "source": [
    "# Broad-casting (https://numpy.org/doc/stable/user/basics.broadcasting.html)\n",
    "\n",
    "observation = np.array([131.0, 188.0])\n",
    "stations = np.array([[102.0, 203.0],\n",
    "                  [132.0, 193.0],\n",
    "                  [45.0, 155.0],\n",
    "                  [57.0, 173.0]])\n",
    "\n",
    "# Our goal: find the code that is nearest to observation.\n",
    "\n",
    "diff = stations - observation    # the broadcast happens here\n",
    "print(diff)\n",
    "dist = np.sqrt(np.sum(diff**2, axis=-1))\n",
    "print(dist)\n",
    "print(np.min(dist), np.argmin(dist))\n",
    "\n",
    "# In one line:\n",
    "np.argmin(np.sqrt(np.sum((stations - observation)**2, axis=-1)))"
   ]
  },
  {
   "cell_type": "markdown",
   "metadata": {},
   "source": [
    "## n-dimensional arrays"
   ]
  },
  {
   "cell_type": "code",
   "execution_count": 18,
   "metadata": {},
   "outputs": [
    {
     "data": {
      "text/plain": [
       "array([[[100., 100., 100.],\n",
       "        [100., 100., 100.],\n",
       "        [100., 100., 100.],\n",
       "        [100., 100., 100.]],\n",
       "\n",
       "       [[100., 100., 100.],\n",
       "        [100., 100., 100.],\n",
       "        [100., 100., 100.],\n",
       "        [100., 100., 100.]],\n",
       "\n",
       "       [[100., 100., 100.],\n",
       "        [100., 100., 100.],\n",
       "        [100., 100., 100.],\n",
       "        [100., 100., 100.]],\n",
       "\n",
       "       [[100., 100., 100.],\n",
       "        [100., 100., 100.],\n",
       "        [100., 100., 100.],\n",
       "        [100., 100., 100.]]])"
      ]
     },
     "execution_count": 18,
     "metadata": {},
     "output_type": "execute_result"
    }
   ],
   "source": [
    "picture = np.array([    # a 4-by-4 array of RGB values\n",
    "     [ [100.0,100,100] , [100,100,100] , [100,100,100] , [100,100,100] ]  ,\n",
    "     [ [100,100,100] , [100,100,100] , [100,100,100] , [100,100,100] ]  ,\n",
    "     [ [100,100,100] , [100,100,100] , [100,100,100] , [100,100,100] ]  ,\n",
    "     [ [100,100,100] , [100,100,100] , [100,100,100] , [100,100,100] ]  ,\n",
    "])\n",
    "\n",
    "picture"
   ]
  },
  {
   "cell_type": "code",
   "execution_count": 19,
   "metadata": {},
   "outputs": [
    {
     "data": {
      "text/plain": [
       "array([[[ 50., 100., 150.],\n",
       "        [ 50., 100., 150.],\n",
       "        [ 50., 100., 150.],\n",
       "        [ 50., 100., 150.]],\n",
       "\n",
       "       [[ 50., 100., 150.],\n",
       "        [ 50., 100., 150.],\n",
       "        [ 50., 100., 150.],\n",
       "        [ 50., 100., 150.]],\n",
       "\n",
       "       [[ 50., 100., 150.],\n",
       "        [ 50., 100., 150.],\n",
       "        [ 50., 100., 150.],\n",
       "        [ 50., 100., 150.]],\n",
       "\n",
       "       [[ 50., 100., 150.],\n",
       "        [ 50., 100., 150.],\n",
       "        [ 50., 100., 150.],\n",
       "        [ 50., 100., 150.]]])"
      ]
     },
     "execution_count": 19,
     "metadata": {},
     "output_type": "execute_result"
    }
   ],
   "source": [
    "picture * [0.5, 1, 1.5]  # Multiply each RGB point elementwise by [0.5, 1, 1.5]"
   ]
  },
  {
   "cell_type": "markdown",
   "metadata": {},
   "source": [
    "[Broadcasting algorithm](https://numpy.org/doc/stable/user/basics.broadcasting.html):\n",
    "\n",
    "Compare the dimensions, starting from the rightmost one. Two dimensions are compatible if one of the following holds: \n",
    "\n",
    "1. they are equal, or\n",
    "2. one of them is 1.\n"
   ]
  },
  {
   "cell_type": "code",
   "execution_count": 20,
   "metadata": {},
   "outputs": [
    {
     "ename": "ValueError",
     "evalue": "operands could not be broadcast together with shapes (4,4,3) (4,) ",
     "output_type": "error",
     "traceback": [
      "\u001b[1;31m---------------------------------------------------------------------------\u001b[0m",
      "\u001b[1;31mValueError\u001b[0m                                Traceback (most recent call last)",
      "Cell \u001b[1;32mIn[20], line 1\u001b[0m\n\u001b[1;32m----> 1\u001b[0m \u001b[43mpicture\u001b[49m\u001b[43m \u001b[49m\u001b[38;5;241;43m*\u001b[39;49m\u001b[43m \u001b[49m\u001b[43m[\u001b[49m\u001b[38;5;241;43m1\u001b[39;49m\u001b[43m,\u001b[49m\u001b[38;5;241;43m2\u001b[39;49m\u001b[43m,\u001b[49m\u001b[38;5;241;43m3\u001b[39;49m\u001b[43m,\u001b[49m\u001b[38;5;241;43m4\u001b[39;49m\u001b[43m]\u001b[49m\n",
      "\u001b[1;31mValueError\u001b[0m: operands could not be broadcast together with shapes (4,4,3) (4,) "
     ]
    }
   ],
   "source": [
    "picture * [1,2,3,4]"
   ]
  },
  {
   "cell_type": "markdown",
   "metadata": {},
   "source": [
    "## Comparison"
   ]
  },
  {
   "cell_type": "code",
   "execution_count": 61,
   "metadata": {},
   "outputs": [
    {
     "name": "stdout",
     "output_type": "stream",
     "text": [
      "[[False  True]\n",
      " [False  True]] \n",
      "\n",
      "False \n",
      "\n",
      "[[1.00000000e+00 0.00000000e+00]\n",
      " [1.11022302e-16 1.00000000e+00]]\n",
      "0.9999999999999998\n",
      "1.0\n"
     ]
    }
   ],
   "source": [
    "# A^(-1)*A == I ?\n",
    "arr = np.array([[1,2],[3,4]])\n",
    "arrdotinv = np.linalg.inv(arr).dot(arr)\n",
    "identity = np.array([[1,0],[0,1]])\n",
    "print(arrdotinv==identity, \"\\n\")\n",
    "print( (arrdotinv==identity).all(), \"\\n\" )\n",
    "print(arrdotinv)\n",
    "print(arrdotinv[0,0])\n",
    "print(arrdotinv[1,1])"
   ]
  },
  {
   "cell_type": "code",
   "execution_count": 31,
   "metadata": {},
   "outputs": [
    {
     "name": "stdout",
     "output_type": "stream",
     "text": [
      "True\n"
     ]
    }
   ],
   "source": [
    "print(np.allclose(arrdotinv, identity))"
   ]
  },
  {
   "cell_type": "code",
   "execution_count": 32,
   "metadata": {},
   "outputs": [
    {
     "name": "stdout",
     "output_type": "stream",
     "text": [
      "False\n",
      "True\n"
     ]
    }
   ],
   "source": [
    "print(np.allclose(np.array([[1,0],[0,1]]), np.array([[1.1,0.1],[0.1,1.1]]), rtol=0.01, atol=0.01))\n",
    "print(np.allclose(np.array([[1,0],[0,1]]), np.array([[1.1,0.1],[0.1,1.1]]), rtol=0.1,  atol=0.1))"
   ]
  },
  {
   "cell_type": "markdown",
   "metadata": {},
   "source": [
    "## Solving linear equations"
   ]
  },
  {
   "cell_type": "code",
   "execution_count": 42,
   "metadata": {
    "scrolled": true
   },
   "outputs": [
    {
     "name": "stdout",
     "output_type": "stream",
     "text": [
      "children = 1500.0, adults = 700.0\n"
     ]
    }
   ],
   "source": [
    "# A child buys ticket for 1.5 shekels. \n",
    "# An adult buys ticket for 4 shekels. \n",
    "# The total number of people is 2200.\n",
    "# The total amount collected is 5050 shekels.\n",
    "# How many children and adults entered the park?\n",
    "left_hand_side = np.array([\n",
    "    [1,  1],         #  1*children + 1*adults   = 2200\n",
    "    [1.5,4]]         #  1.5*children + 4*adults = 5050\n",
    ")\n",
    "right_hand_side = np.array(\n",
    "    [2200,   5050]\n",
    ")\n",
    "solution = np.linalg.solve(left_hand_side, right_hand_side)\n",
    "print(f'children = {solution[0]}, adults = {solution[1]}')"
   ]
  },
  {
   "cell_type": "markdown",
   "metadata": {},
   "source": [
    "## Special matrices"
   ]
  },
  {
   "cell_type": "code",
   "execution_count": 44,
   "metadata": {},
   "outputs": [
    {
     "name": "stdout",
     "output_type": "stream",
     "text": [
      "~~~ 3X4X2 3-dimensional matrix of zeros ~~~\n",
      "[[[0. 0.]\n",
      "  [0. 0.]\n",
      "  [0. 0.]\n",
      "  [0. 0.]]\n",
      "\n",
      " [[0. 0.]\n",
      "  [0. 0.]\n",
      "  [0. 0.]\n",
      "  [0. 0.]]\n",
      "\n",
      " [[0. 0.]\n",
      "  [0. 0.]\n",
      "  [0. 0.]\n",
      "  [0. 0.]]]\n",
      "~~~ 3X4 matrix of ones ~~~\n",
      "[[1. 1. 1. 1.]\n",
      " [1. 1. 1. 1.]\n",
      " [1. 1. 1. 1.]]\n",
      "~~~ 3X4 matrix of tens ~~~\n",
      "[[10. 10. 10. 10.]\n",
      " [10. 10. 10. 10.]\n",
      " [10. 10. 10. 10.]]\n",
      "~~~ 3X3 Identity matrix (I) ~~~\n",
      "[[1. 0. 0.]\n",
      " [0. 1. 0.]\n",
      " [0. 0. 1.]]\n"
     ]
    }
   ],
   "source": [
    "print('~~~ 3X4X2 3-dimensional matrix of zeros ~~~')\n",
    "arr_zeros = np.zeros(shape=(3,4,2))\n",
    "print(arr_zeros)\n",
    "print('~~~ 3X4 matrix of ones ~~~')\n",
    "arr_ones = np.ones((3,4))\n",
    "print(arr_ones)\n",
    "print('~~~ 3X4 matrix of tens ~~~')\n",
    "arr_tens = arr_ones * 10\n",
    "print(arr_tens)\n",
    "print('~~~ 3X3 Identity matrix (I) ~~~')\n",
    "arr_identity = np.eye(3)\n",
    "print(arr_identity)"
   ]
  },
  {
   "cell_type": "code",
   "execution_count": 45,
   "metadata": {},
   "outputs": [
    {
     "data": {
      "text/plain": [
       "array([ 0. ,  0.2,  0.4,  0.6,  0.8,  1. ,  1.2,  1.4,  1.6,  1.8,  2. ,\n",
       "        2.2,  2.4,  2.6,  2.8,  3. ,  3.2,  3.4,  3.6,  3.8,  4. ,  4.2,\n",
       "        4.4,  4.6,  4.8,  5. ,  5.2,  5.4,  5.6,  5.8,  6. ,  6.2,  6.4,\n",
       "        6.6,  6.8,  7. ,  7.2,  7.4,  7.6,  7.8,  8. ,  8.2,  8.4,  8.6,\n",
       "        8.8,  9. ,  9.2,  9.4,  9.6,  9.8, 10. , 10.2, 10.4, 10.6, 10.8,\n",
       "       11. , 11.2, 11.4, 11.6, 11.8, 12. , 12.2, 12.4, 12.6, 12.8, 13. ,\n",
       "       13.2, 13.4, 13.6, 13.8, 14. , 14.2, 14.4, 14.6, 14.8, 15. , 15.2,\n",
       "       15.4, 15.6, 15.8, 16. , 16.2, 16.4, 16.6, 16.8, 17. , 17.2, 17.4,\n",
       "       17.6, 17.8, 18. , 18.2, 18.4, 18.6, 18.8, 19. , 19.2, 19.4, 19.6,\n",
       "       19.8, 20. ])"
      ]
     },
     "execution_count": 45,
     "metadata": {},
     "output_type": "execute_result"
    }
   ],
   "source": [
    "np.linspace(0,20,101)  # returns an array with 101 linearly-spaced numbers between 0 and 20"
   ]
  },
  {
   "cell_type": "markdown",
   "metadata": {},
   "source": [
    "## Random"
   ]
  },
  {
   "cell_type": "markdown",
   "metadata": {},
   "source": [
    "**TODO: teach random.seed**"
   ]
  },
  {
   "cell_type": "code",
   "execution_count": 62,
   "metadata": {},
   "outputs": [
    {
     "name": "stdout",
     "output_type": "stream",
     "text": [
      "~~~ random: 0.2698644872464925 ~~~\n",
      "~~~ randint(1,100): 95 ~~~\n",
      "~~~ randint(1,100 size=(3,3)): ~~~ \n",
      "[[78 63 50]\n",
      " [68 52 14]\n",
      " [12 30 84]]\n",
      "~~~ choice([2,3,5,7,11,13],size=(3,3)): ~~~\n",
      "[[ 7  5 13]\n",
      " [ 2 13 11]\n",
      " [ 5 13 13]]\n"
     ]
    }
   ],
   "source": [
    "\n",
    "print(f'~~~ random: {np.random.random()} ~~~')\n",
    "print(f'~~~ randint(1,100): {np.random.randint(1,100)} ~~~')\n",
    "print(f'~~~ randint(1,100 size=(3,3)): ~~~ \\n{np.random.randint(1,100, size=(3,3))}')\n",
    "print(f'~~~ choice([2,3,5,7,11,13],size=(3,3)): ~~~\\n{np.random.choice([2,3,5,7,11,13], size=(3,3))}')"
   ]
  },
  {
   "cell_type": "code",
   "execution_count": 47,
   "metadata": {},
   "outputs": [
    {
     "name": "stdout",
     "output_type": "stream",
     "text": [
      "~~~ normal distribution: ~~~\n",
      "[[ 0.62683555 -1.60841942 -1.17772129]\n",
      " [ 0.8141438   0.00378353  0.22795082]\n",
      " [-0.48212608 -0.13272651  0.73517214]]\n",
      "loc=0.5, scale=2, size=(3, 3):\n",
      "[[ 1.77896524  0.83128624  1.11399872]\n",
      " [-0.5009413  -0.55108854 -0.35952066]\n",
      " [ 0.31875574 -0.20833663  0.45354905]]\n"
     ]
    }
   ],
   "source": [
    "# Normal Distribution:\n",
    "'''The Normal Distribution is one of the most important distributions.\n",
    "\n",
    "It is also called the Gaussian Distribution after the German mathematician Carl Friedrich Gauss.\n",
    "\n",
    "It fits the probability distribution of many events, eg. IQ Scores, Heartbeat etc.\n",
    "\n",
    "loc - (Mean) where the peak of the bell exists.\n",
    "\n",
    "scale - (Standard Deviation) how flat the graph distribution should be.\n",
    "\n",
    "size - The shape of the returned array: '''\n",
    "\n",
    "normal_dis = np.random.normal(size=(3, 3))\n",
    "print('~~~ normal distribution: ~~~')\n",
    "print(normal_dis)\n",
    "print(\"loc=0.5, scale=2, size=(3, 3):\")\n",
    "normal_dis = np.random.normal(loc=0.5, scale=2, size=(3, 3))\n",
    "print(normal_dis)"
   ]
  },
  {
   "cell_type": "code",
   "execution_count": 48,
   "metadata": {},
   "outputs": [
    {
     "name": "stdout",
     "output_type": "stream",
     "text": [
      "~~~ binomial distribution: ~~~\n",
      "n=10, p=0.5, size=(3,3):\n",
      "[[5 6 2]\n",
      " [5 5 7]\n",
      " [4 7 4]]\n"
     ]
    }
   ],
   "source": [
    "\n",
    "# Binomial Distribution\n",
    "'''\n",
    "Binomial Distribution is a Discrete Distribution.\n",
    "\n",
    "It describes the outcome of binary scenarios, e.g. toss of a coin, it will either be head or tails.\n",
    "\n",
    "It has three parameters:\n",
    "\n",
    "n - number of trials.\n",
    "\n",
    "p - probability of occurence of each trial (e.g. for toss of a coin 0.5 each).\n",
    "\n",
    "size - The shape of the returned array.\n",
    "'''\n",
    "binomial_dis = np.random.binomial(n=10, p=0.5, size=(3,3))\n",
    "print('~~~ binomial distribution: ~~~')\n",
    "print(\"n=10, p=0.5, size=(3,3):\")\n",
    "print(binomial_dis)"
   ]
  },
  {
   "cell_type": "code",
   "execution_count": 49,
   "metadata": {},
   "outputs": [
    {
     "name": "stdout",
     "output_type": "stream",
     "text": [
      "~~~ poisson distribution: ~~~\n",
      "lam=2, size=(3,3):\n",
      "[[4 2 1]\n",
      " [0 0 2]\n",
      " [3 0 1]]\n"
     ]
    }
   ],
   "source": [
    "# Poisson Distribution\n",
    "'''\n",
    "Poisson Distribution is a Discrete Distribution.\n",
    "\n",
    "It estimates how many times an event can happen in a specified time.\n",
    "e.g. If someone eats twice a day what is probability he will eat thrice?\n",
    "\n",
    "It has two parameters:\n",
    "\n",
    "lam - rate or known number of occurences e.g. 2 for above problem.\n",
    "\n",
    "size - The shape of the returned array.\n",
    "\n",
    "'''\n",
    "poisson_dis = np.random.poisson(lam=2, size=(3,3))\n",
    "print('~~~ poisson distribution: ~~~')\n",
    "print(\"lam=2, size=(3,3):\")\n",
    "print(poisson_dis)"
   ]
  },
  {
   "cell_type": "code",
   "execution_count": 22,
   "metadata": {},
   "outputs": [
    {
     "name": "stdout",
     "output_type": "stream",
     "text": [
      "~~~ uniform distribution: ~~~\n",
      "size=(3,3):\n",
      "[[0.15534627 0.79926918 0.38372047]\n",
      " [0.91058895 0.23816699 0.88687427]\n",
      " [0.99572881 0.0218146  0.12049657]]\n"
     ]
    }
   ],
   "source": [
    "\n",
    "# Uniform Distribution\n",
    "''' \n",
    "Used to describe probability where every event has equal chances of occuring.\n",
    "\n",
    "E.g. Generation of random numbers.\n",
    "\n",
    "It has three parameters:\n",
    "\n",
    "a - lower bound - default 0 .0.\n",
    "\n",
    "b - upper bound - default 1.0.\n",
    "\n",
    "size - The shape of the returned array.\n",
    "'''\n",
    "\n",
    "uniform_dis = np.random.uniform(size=(3, 3))\n",
    "print('~~~ uniform distribution: ~~~')\n",
    "print(\"size=(3,3):\")\n",
    "print(uniform_dis)\n"
   ]
  },
  {
   "cell_type": "markdown",
   "metadata": {},
   "source": [
    "## Performance test - which array multiplication method is faster?"
   ]
  },
  {
   "cell_type": "code",
   "execution_count": 2,
   "metadata": {},
   "outputs": [],
   "source": [
    "def list_mult(mat_a,mat_b):\n",
    "    mat_c = []\n",
    "    for i in range(len(mat_a)):\n",
    "        mat_c.append([])\n",
    "        for j in range(len(mat_b[0])):\n",
    "            mat_c[i].append(sum([mat_a[i][k]*mat_b[k][j] for k in range(len(mat_b))]))\n",
    "    return mat_c\n",
    "\n",
    "def array_mult(mat_a,mat_b):\n",
    "    return mat_a @ mat_b"
   ]
  },
  {
   "cell_type": "code",
   "execution_count": 3,
   "metadata": {},
   "outputs": [
    {
     "name": "stdout",
     "output_type": "stream",
     "text": [
      "[[108, -6770, -2118], [-2022, -6790, 1257], [298, 800, 4707]]\n",
      "[[  108 -6770 -2118]\n",
      " [-2022 -6790  1257]\n",
      " [  298   800  4707]]\n"
     ]
    }
   ],
   "source": [
    "mat_a = np.random.randint(-100,100,size=(3,3))\n",
    "mat_b = np.random.randint(-100,100,size=(3,3))\n",
    "\n",
    "lst_a = list(mat_a)\n",
    "lst_b = list(mat_b)\n",
    "\n",
    "print(list_mult(lst_a,lst_b))\n",
    "print(array_mult(mat_a,mat_b))"
   ]
  },
  {
   "cell_type": "code",
   "execution_count": 4,
   "metadata": {},
   "outputs": [],
   "source": [
    "\n",
    "from time import perf_counter   # Exact measurement of CPU time\n",
    "def measure_time(func, *args, **kwargs):\n",
    "    \"\"\" return the run-time of the given function, in fractional seconds. \"\"\"\n",
    "    start = perf_counter()\n",
    "    result = func(*args, **kwargs)\n",
    "    end = perf_counter()\n",
    "    return end-start"
   ]
  },
  {
   "cell_type": "code",
   "execution_count": 5,
   "metadata": {},
   "outputs": [
    {
     "name": "stdout",
     "output_type": "stream",
     "text": [
      "list_mult: 1.2419470000022557 seconds\n",
      "array_mult: 0.01227959999232553 seconds\n",
      "So what is faster?\n"
     ]
    }
   ],
   "source": [
    "mat_a = np.random.randint(-100,100,size=(200,200))\n",
    "mat_b = np.random.randint(-100,100,size=(200,200))\n",
    "\n",
    "lst_a = list(mat_a)\n",
    "lst_b = list(mat_b)\n",
    "\n",
    "print(f\"list_mult: {measure_time(list_mult, lst_a,lst_b)} seconds\")\n",
    "print(f\"array_mult: {measure_time(array_mult, mat_a,mat_b)} seconds\")\n",
    "print(\"So what is faster?\")"
   ]
  },
  {
   "cell_type": "code",
   "execution_count": 3,
   "metadata": {},
   "outputs": [
    {
     "data": {
      "text/plain": [
       "array([8.75470998e-01, 1.30891031e-01, 3.45639418e-01, 5.00598465e-01,\n",
       "       5.45949862e-01, 2.82407253e-02, 4.92534029e-01, 6.30947982e-01,\n",
       "       9.17492393e-01, 6.10469397e-01, 6.26643353e-01, 1.63610003e-02,\n",
       "       5.80477328e-01, 4.72237332e-01, 7.81428242e-01, 9.28050741e-01,\n",
       "       1.91243930e-01, 4.64828540e-01, 1.98978715e-01, 6.88724825e-01,\n",
       "       1.39163831e-01, 4.83976969e-02, 7.84510219e-01, 9.39751444e-01,\n",
       "       7.49476238e-01, 6.74156666e-01, 8.31491980e-01, 4.00553856e-01,\n",
       "       8.53866086e-02, 4.69248543e-01, 2.43723532e-01, 2.71557607e-01,\n",
       "       6.65477776e-01, 2.13796621e-01, 1.58411375e-01, 9.29200908e-01,\n",
       "       8.89319903e-01, 8.53286185e-02, 6.22059463e-01, 1.78743518e-01,\n",
       "       4.14687999e-01, 3.80282335e-01, 6.76807512e-01, 9.70421211e-01,\n",
       "       5.92119470e-01, 3.73897063e-01, 9.96245199e-01, 6.88609187e-01,\n",
       "       9.22984758e-01, 8.42193764e-02, 1.95070068e-01, 2.51210611e-01,\n",
       "       5.61816957e-01, 8.78961834e-01, 2.34197371e-01, 5.58451638e-01,\n",
       "       4.79043484e-01, 6.05084952e-01, 5.33139138e-01, 4.77629533e-02,\n",
       "       3.03691004e-01, 9.98354970e-01, 2.88063684e-01, 7.90248257e-01,\n",
       "       8.98080683e-01, 3.68782889e-01, 1.88815329e-01, 2.98248034e-01,\n",
       "       1.10269726e-01, 3.41520301e-01, 8.18936826e-01, 3.75646204e-01,\n",
       "       8.52143442e-01, 4.99623817e-01, 2.78435418e-01, 4.65595393e-01,\n",
       "       2.90202476e-01, 4.99457984e-01, 9.28780344e-01, 5.93914956e-02,\n",
       "       4.33280319e-01, 8.83127158e-01, 3.70822151e-01, 7.94273714e-02,\n",
       "       9.05183273e-01, 1.38346299e-01, 2.62283767e-01, 5.66626986e-01,\n",
       "       5.78704539e-01, 6.51811214e-01, 5.18166630e-03, 3.67504236e-01,\n",
       "       3.59670428e-01, 1.85149204e-01, 3.73837975e-01, 8.93234346e-01,\n",
       "       3.88457734e-01, 8.46522983e-01, 4.58629539e-01, 6.93831306e-01,\n",
       "       1.24432198e-01, 9.30550446e-02, 1.89747768e-01, 1.88497896e-01,\n",
       "       4.97157740e-01, 6.46170473e-03, 6.76967203e-01, 1.51510221e-01,\n",
       "       9.90673555e-01, 4.37769312e-01, 2.71013202e-01, 1.89010143e-01,\n",
       "       3.99114471e-01, 1.73801477e-01, 2.51547599e-01, 7.54187989e-01,\n",
       "       5.89722616e-01, 4.98461441e-01, 2.36208262e-01, 5.86566218e-01,\n",
       "       4.01510581e-01, 2.87995878e-02, 7.88115175e-01, 1.13811671e-01,\n",
       "       3.58185010e-01, 4.38720171e-01, 5.24349272e-01, 3.46396776e-01,\n",
       "       5.48230597e-01, 3.54281499e-01, 6.77054693e-01, 3.62551984e-01,\n",
       "       7.62289289e-01, 9.41969463e-02, 9.06602929e-01, 4.66920650e-01,\n",
       "       2.33197795e-01, 8.32815893e-02, 4.70456895e-01, 3.25291245e-01,\n",
       "       2.49729643e-01, 7.11896137e-01, 6.95413493e-01, 4.41812864e-01,\n",
       "       8.32065594e-01, 3.61571265e-01, 6.33085556e-01, 5.37708646e-01,\n",
       "       3.60960416e-01, 8.97211866e-01, 1.00118316e-01, 7.72324706e-01,\n",
       "       3.35867622e-01, 8.22441776e-01, 2.31567084e-02, 7.42928827e-01,\n",
       "       7.97671483e-01, 9.49640566e-01, 7.61353382e-01, 2.30094414e-01,\n",
       "       2.81575117e-01, 9.35207208e-02, 5.17912971e-01, 3.11466892e-01,\n",
       "       3.66876437e-02, 4.41909174e-01, 8.55680381e-01, 1.99170526e-01,\n",
       "       3.71375680e-01, 9.29171301e-01, 4.60306480e-01, 9.72586371e-01,\n",
       "       9.57478532e-01, 9.00626059e-01, 4.09664730e-01, 2.64035365e-01,\n",
       "       4.12416659e-01, 9.21339314e-01, 7.83301598e-01, 7.82519453e-01,\n",
       "       3.87962171e-01, 1.38083432e-01, 1.30428889e-01, 5.52774862e-01,\n",
       "       1.68797559e-01, 8.04540236e-01, 7.57724489e-01, 9.15141559e-02,\n",
       "       3.78386027e-01, 3.67012115e-01, 7.42898503e-01, 5.84562004e-01,\n",
       "       2.78068703e-01, 4.55013619e-01, 7.43615827e-01, 2.96874916e-01,\n",
       "       1.80596364e-01, 1.48819412e-01, 4.26248555e-01, 7.06734850e-02,\n",
       "       3.06855596e-01, 5.21953041e-01, 4.31086412e-01, 1.69033536e-01,\n",
       "       1.89035589e-01, 4.16161723e-01, 1.19029006e-01, 3.06202304e-01,\n",
       "       4.99946285e-01, 4.65217855e-01, 5.78552199e-01, 2.29159816e-01,\n",
       "       1.05064465e-01, 7.30940477e-01, 3.62203106e-01, 2.36571094e-01,\n",
       "       1.77264052e-01, 1.34826181e-01, 7.98561653e-01, 2.68913084e-01,\n",
       "       6.80571993e-01, 3.89933212e-02, 9.68198894e-01, 4.32997872e-02,\n",
       "       5.73841731e-01, 6.84264305e-02, 2.59500059e-01, 9.91598879e-01,\n",
       "       7.07816995e-01, 9.04371455e-01, 8.77153216e-01, 4.33224159e-01,\n",
       "       1.18509913e-01, 9.43962405e-01, 2.89480762e-01, 7.17452646e-01,\n",
       "       3.65523600e-01, 3.75052771e-01, 1.15797833e-02, 2.10238181e-01,\n",
       "       1.51988674e-01, 5.24033499e-01, 9.96790856e-02, 2.99311338e-01,\n",
       "       7.66552061e-01, 3.28249762e-01, 3.65261134e-01, 5.08932100e-01,\n",
       "       9.20198858e-01, 6.69434487e-03, 1.41179065e-03, 1.46051258e-01,\n",
       "       8.03446625e-01, 8.77496558e-01, 9.66662938e-01, 4.28673577e-01,\n",
       "       5.04014043e-01, 1.96068896e-01, 1.64989389e-01, 5.32205454e-02,\n",
       "       6.97498236e-01, 9.83247636e-01, 3.86635969e-01, 8.94413185e-01,\n",
       "       3.51464055e-01, 2.01701183e-01, 5.24213913e-01, 3.02199504e-01,\n",
       "       4.11773007e-01, 4.36920174e-01, 9.21521346e-01, 3.86334938e-02,\n",
       "       9.65764796e-01, 2.97847197e-01, 5.30048394e-01, 6.10897369e-01,\n",
       "       1.44551783e-01, 8.47419098e-01, 9.66733611e-01, 6.88971036e-02,\n",
       "       1.88432191e-02, 8.86007548e-01, 2.51613281e-01, 2.16175895e-01,\n",
       "       5.58792869e-01, 5.39369166e-01, 3.59533001e-01, 3.22219649e-01,\n",
       "       5.72974312e-01, 5.14315212e-01, 9.63384662e-01, 2.08230766e-01,\n",
       "       2.11598590e-01, 2.77404675e-01, 4.15182095e-01, 3.50959559e-01,\n",
       "       1.61051698e-01, 5.10285734e-01, 9.52951444e-01, 4.50717570e-01,\n",
       "       1.31098122e-01, 8.75497938e-01, 2.32254544e-01, 1.95249091e-02,\n",
       "       8.04653244e-01, 1.31827726e-01, 4.10629485e-01, 1.32263402e-02,\n",
       "       6.59511755e-01, 9.51651430e-01, 8.18951647e-01, 6.29676046e-01,\n",
       "       5.36745419e-01, 8.21517110e-01, 2.84345203e-01, 7.34204249e-01,\n",
       "       9.93903639e-01, 2.36910196e-01, 6.11213125e-01, 7.48789956e-01,\n",
       "       1.11613634e-01, 1.39640282e-01, 5.05790182e-01, 1.46502953e-01,\n",
       "       1.12524363e-01, 2.52095392e-01, 7.57496933e-01, 4.94997434e-01,\n",
       "       8.88195514e-01, 5.81340710e-01, 4.20087059e-01, 5.81817990e-01,\n",
       "       9.33287515e-01, 3.03703545e-01, 9.00762026e-01, 8.67365618e-01,\n",
       "       6.25653653e-01, 8.12107679e-01, 1.75993448e-01, 6.00323065e-01,\n",
       "       8.58023926e-01, 5.85237207e-01, 5.27599168e-01, 7.52237803e-01,\n",
       "       6.06862419e-01, 1.70786619e-01, 5.76727170e-01, 9.09905689e-01,\n",
       "       8.90039175e-01, 6.22709400e-01, 2.04794892e-01, 3.03587845e-01,\n",
       "       7.21430683e-01, 3.28273575e-01, 4.57123167e-01, 5.33478043e-01,\n",
       "       7.60072974e-01, 8.27277746e-01, 9.19760445e-01, 8.02082649e-01,\n",
       "       3.48298182e-01, 6.22847803e-01, 6.16805594e-01, 5.91997978e-01,\n",
       "       5.88504382e-01, 3.22980758e-01, 3.80921963e-01, 4.94673896e-01,\n",
       "       7.22439882e-01, 8.68005540e-01, 5.02321411e-01, 2.56031667e-01,\n",
       "       9.37359196e-01, 2.05502094e-01, 2.01127627e-01, 8.67947438e-01,\n",
       "       2.12083776e-01, 4.93642365e-01, 3.19501959e-02, 4.20244886e-01,\n",
       "       1.74611368e-01, 4.61632718e-01, 4.52862837e-01, 2.05711073e-01,\n",
       "       9.87827396e-02, 1.91384877e-01, 4.34018822e-01, 9.95213757e-01,\n",
       "       2.50156180e-01, 1.13272042e-01, 5.29481975e-01, 5.75633073e-01,\n",
       "       7.13737801e-01, 6.64364755e-01, 3.49221833e-01, 6.33981943e-02,\n",
       "       2.53374992e-01, 3.75405503e-01, 9.34416268e-01, 8.42507895e-01,\n",
       "       5.84097323e-01, 1.69595019e-01, 8.19094902e-01, 6.44626721e-02,\n",
       "       5.36178156e-01, 6.40451973e-01, 6.43847760e-01, 1.66813700e-01,\n",
       "       4.85979003e-01, 5.15112031e-01, 7.39861685e-01, 1.05875097e-01,\n",
       "       9.21029643e-01, 5.93089411e-01, 7.67578367e-01, 4.95815154e-01,\n",
       "       7.33915100e-01, 2.54398171e-01, 3.95014824e-01, 8.04713304e-01,\n",
       "       2.82704035e-01, 2.18271271e-01, 1.81314385e-01, 8.56869425e-01,\n",
       "       1.67362424e-01, 8.47761722e-01, 5.61036531e-01, 7.61792025e-01,\n",
       "       8.24644846e-01, 3.61304393e-01, 9.68798112e-01, 9.52221618e-01,\n",
       "       3.92242015e-01, 2.99261297e-01, 5.25013876e-02, 7.33408271e-01,\n",
       "       2.78775956e-01, 4.85263473e-01, 3.05812264e-01, 2.02654836e-01,\n",
       "       1.12439698e-01, 1.51615242e-01, 2.67990350e-01, 4.41226993e-01,\n",
       "       8.52107189e-01, 8.88955113e-01, 5.14249029e-01, 3.99212443e-01,\n",
       "       6.23134137e-01, 9.42698365e-01, 3.36637306e-01, 7.39655615e-01,\n",
       "       8.69945813e-01, 9.17108548e-01, 5.90749890e-01, 6.64834683e-01,\n",
       "       6.57576371e-01, 3.91249464e-01, 8.91767917e-01, 2.85484439e-01,\n",
       "       4.21374897e-01, 4.71629753e-02, 5.29885617e-01, 7.48424157e-01,\n",
       "       3.86285404e-01, 2.16370725e-01, 6.89993384e-01, 9.27952721e-01,\n",
       "       2.87367210e-01, 4.64816057e-01, 2.63278258e-01, 5.63482958e-01,\n",
       "       5.74741365e-01, 8.47113641e-02, 4.79509855e-01, 2.32712597e-01,\n",
       "       5.73341579e-01, 2.30614272e-01, 4.34437113e-01, 3.63700650e-01,\n",
       "       8.58668992e-01, 2.35848463e-01, 7.04968765e-01, 2.99276649e-01,\n",
       "       6.55140188e-01, 3.87575276e-01, 8.40485947e-01, 2.54979203e-02,\n",
       "       3.48835857e-01, 4.99313941e-01, 5.40116891e-02, 3.27452229e-01,\n",
       "       7.88788786e-02, 1.40961664e-01, 9.21540859e-02, 3.11974217e-01,\n",
       "       4.64524503e-01, 1.75354164e-01, 2.81158847e-01, 8.32423320e-02,\n",
       "       8.55905560e-01, 9.78317432e-01, 7.02874198e-01, 7.65054971e-01,\n",
       "       6.51844556e-01, 7.00995979e-01, 2.81991789e-01, 3.85140300e-01,\n",
       "       3.13956105e-01, 1.02766095e-02, 5.74378892e-02, 1.25372623e-01,\n",
       "       3.71111696e-01, 6.94120817e-01, 5.04993784e-01, 5.00650642e-01,\n",
       "       3.86541201e-01, 4.63826623e-01, 5.10940447e-01, 6.42107921e-01,\n",
       "       2.58037311e-01, 2.96125038e-01, 5.92199546e-01, 4.64414470e-01,\n",
       "       1.03494729e-02, 1.36572657e-01, 8.63253705e-01, 9.16310769e-01,\n",
       "       3.25100436e-01, 5.45494742e-01, 6.88930853e-01, 2.51860961e-01,\n",
       "       9.80722294e-01, 3.61611990e-02, 2.25982784e-01, 8.00314828e-01,\n",
       "       7.73014029e-01, 9.18036410e-01, 3.66056966e-01, 8.43398752e-01,\n",
       "       8.81014211e-01, 8.33537929e-01, 4.38288493e-01, 5.93069852e-01,\n",
       "       3.78503521e-01, 2.09808535e-01, 7.50232973e-02, 3.17827649e-01,\n",
       "       3.65318369e-01, 1.77004347e-01, 9.19779917e-01, 7.53199960e-01,\n",
       "       9.14544369e-01, 4.57029718e-01, 3.12341396e-01, 6.51703626e-01,\n",
       "       1.67543033e-01, 3.51735032e-01, 1.48758123e-02, 2.75942745e-01,\n",
       "       5.63694928e-01, 8.37356627e-01, 8.70090623e-01, 9.39519015e-01,\n",
       "       5.63018534e-01, 6.78855023e-01, 5.65859324e-01, 5.93119552e-01,\n",
       "       2.55276901e-01, 6.93216040e-01, 7.68453190e-01, 1.96535328e-01,\n",
       "       9.38911184e-01, 4.26229441e-02, 7.42347490e-01, 3.34978649e-01,\n",
       "       2.83154549e-02, 5.87422082e-01, 7.94383660e-01, 2.01589550e-01,\n",
       "       2.55098488e-01, 6.73820704e-01, 7.75200304e-01, 9.50209528e-01,\n",
       "       5.46449147e-01, 7.58601200e-01, 6.84315187e-01, 4.27082964e-01,\n",
       "       7.92874280e-01, 1.68944478e-01, 4.35275154e-01, 3.12628350e-01,\n",
       "       9.45175508e-01, 1.35041672e-01, 2.94691814e-01, 8.86668416e-01,\n",
       "       3.82524470e-01, 1.55977833e-01, 7.90496157e-01, 4.10205833e-01,\n",
       "       5.20924359e-01, 7.91402269e-01, 8.71067764e-01, 3.59923658e-01,\n",
       "       3.51660334e-01, 7.65925813e-01, 4.21959030e-01, 4.26767333e-01,\n",
       "       6.38810454e-01, 2.67555805e-01, 2.52120666e-01, 3.67268958e-01,\n",
       "       1.56045307e-01, 6.08982650e-01, 4.87130428e-01, 7.40078985e-01,\n",
       "       6.99502310e-01, 7.57555985e-01, 1.41342569e-01, 4.91781995e-01,\n",
       "       4.58663524e-01, 3.34726386e-01, 8.90209217e-01, 9.14367483e-01,\n",
       "       9.63083574e-01, 8.20549155e-01, 6.47622470e-01, 6.92575730e-01,\n",
       "       9.48635344e-01, 3.67187421e-01, 4.15317215e-02, 2.12549738e-01,\n",
       "       7.28554075e-01, 7.39731719e-01, 5.12824842e-01, 6.50179915e-01,\n",
       "       5.34177643e-01, 5.23425511e-01, 4.42192892e-01, 6.86486358e-01,\n",
       "       6.43180830e-01, 3.43119145e-01, 2.82031225e-01, 4.72328070e-02,\n",
       "       7.23899768e-01, 8.38137967e-01, 6.55987266e-01, 2.63603082e-01,\n",
       "       2.93518870e-01, 7.11861229e-01, 3.03803589e-01, 8.27667740e-01,\n",
       "       2.17344666e-01, 3.94174364e-01, 5.45676401e-01, 2.06663150e-01,\n",
       "       3.72653167e-01, 4.30468163e-01, 7.32639699e-01, 7.51407690e-01,\n",
       "       8.07493179e-01, 3.38911177e-01, 2.89368127e-01, 3.69475683e-01,\n",
       "       2.79596540e-01, 8.79589509e-01, 6.70954926e-01, 7.02037069e-01,\n",
       "       5.50805516e-01, 4.82320847e-01, 1.86420417e-01, 8.93743426e-01,\n",
       "       8.13507713e-02, 8.44799207e-01, 4.52520295e-01, 2.32563736e-01,\n",
       "       1.92924096e-01, 2.14272040e-01, 6.88136295e-01, 3.37837871e-01,\n",
       "       6.25382714e-01, 8.05360083e-01, 1.94518919e-01, 1.67891719e-01,\n",
       "       2.80192590e-01, 7.60769245e-01, 9.67900060e-01, 7.18595838e-01,\n",
       "       1.43703254e-01, 4.72864391e-01, 6.45699234e-01, 8.40333749e-01,\n",
       "       3.75993757e-01, 2.67153685e-01, 1.29142078e-01, 2.48301527e-01,\n",
       "       6.08769452e-01, 9.69202592e-01, 6.72378374e-01, 3.02608892e-01,\n",
       "       4.27966682e-01, 2.59323430e-01, 3.70870418e-01, 3.62036782e-01,\n",
       "       9.51874188e-01, 7.86467012e-01, 5.15270646e-01, 8.86229652e-01,\n",
       "       2.25021101e-01, 3.49848769e-01, 5.96565558e-01, 7.16597392e-01,\n",
       "       8.34674925e-01, 3.08406956e-01, 7.21616540e-01, 2.38476245e-01,\n",
       "       5.61195706e-01, 8.53346321e-01, 7.82158643e-01, 7.89519518e-01,\n",
       "       3.65256193e-01, 7.94772498e-01, 4.91244679e-01, 9.93905637e-01,\n",
       "       5.09746038e-01, 9.52681958e-01, 1.58745855e-01, 1.56866852e-01,\n",
       "       3.96559483e-01, 2.41734820e-01, 9.48482305e-01, 3.29149178e-01,\n",
       "       2.74961742e-01, 5.56113803e-01, 6.84547463e-01, 1.62454731e-01,\n",
       "       6.45909463e-01, 3.36020940e-01, 2.50826807e-01, 3.69700653e-01,\n",
       "       1.71360251e-01, 3.37494603e-03, 3.99621052e-01, 2.54899210e-02,\n",
       "       7.18668472e-01, 1.92123294e-01, 9.30497602e-01, 6.25992967e-01,\n",
       "       7.51058028e-01, 8.01426829e-01, 2.00363345e-01, 3.74342976e-01,\n",
       "       1.44930560e-01, 7.33088236e-01, 4.82715311e-01, 6.91859303e-01,\n",
       "       2.24193101e-01, 9.05946265e-01, 9.76396297e-01, 8.49833782e-01,\n",
       "       9.65814384e-01, 5.89681185e-01, 3.62516969e-02, 9.43644353e-01,\n",
       "       7.80884991e-01, 4.50508263e-01, 7.49139499e-01, 3.97042988e-01,\n",
       "       5.12829636e-01, 1.62076878e-01, 1.25417406e-01, 5.26338276e-02,\n",
       "       2.16384047e-01, 2.12664738e-01, 4.88963280e-01, 9.95738013e-01,\n",
       "       6.44064409e-01, 1.33388226e-02, 1.68803196e-01, 7.75029971e-01,\n",
       "       6.41273131e-01, 6.65106433e-02, 9.93012467e-01, 4.68628050e-01,\n",
       "       5.99652810e-01, 8.24259864e-01, 4.22540412e-02, 9.65057600e-01,\n",
       "       3.45459775e-01, 7.39238458e-01, 8.27510237e-01, 1.44704204e-01,\n",
       "       6.40860543e-01, 2.25352764e-01, 2.05213365e-01, 5.42426773e-01,\n",
       "       8.45993854e-01, 3.73857324e-02, 5.52442919e-01, 9.08256920e-02,\n",
       "       7.54959434e-01, 8.44260463e-01, 1.88666566e-01, 3.02074294e-01,\n",
       "       4.84062192e-01, 2.77515177e-02, 5.82375353e-01, 7.07962547e-01,\n",
       "       5.02483848e-01, 5.27153093e-01, 4.49079216e-02, 8.65538063e-01,\n",
       "       2.87321224e-01, 7.31772912e-01, 4.26745138e-01, 8.74499697e-01,\n",
       "       7.32035423e-01, 4.67916031e-01, 5.16338268e-02, 8.05147245e-01,\n",
       "       7.31352256e-01, 7.02143086e-01, 7.75871574e-01, 7.84967539e-01,\n",
       "       5.09402286e-01, 6.79902711e-01, 4.24561998e-01, 1.02582276e-02,\n",
       "       3.23116779e-01, 1.67389021e-01, 3.71747988e-01, 6.88019045e-01,\n",
       "       8.76411870e-02, 6.28410987e-01, 3.89179928e-01, 9.56602326e-01,\n",
       "       4.33040597e-01, 5.35607916e-01, 8.54755510e-01, 7.49430430e-01,\n",
       "       8.61758239e-01, 9.10447307e-01, 9.58024022e-01, 2.69631771e-02,\n",
       "       6.95387283e-01, 2.15697531e-01, 7.38959323e-01, 3.24733633e-01,\n",
       "       1.91309200e-01, 6.68860461e-01, 9.46215403e-01, 5.02200037e-01,\n",
       "       9.05139543e-01, 7.69403251e-01, 5.87691726e-02, 9.24480409e-01,\n",
       "       4.36207876e-01, 4.68782269e-01, 1.12424384e-01, 9.77069329e-01,\n",
       "       5.40081870e-01, 8.27663686e-01, 6.80128883e-01, 4.02231068e-01,\n",
       "       7.17704744e-02, 7.07406342e-01, 3.88337522e-01, 9.55243600e-01,\n",
       "       5.99183745e-01, 7.40633914e-01, 4.32387944e-01, 8.13808052e-01,\n",
       "       3.04827759e-01, 1.27030056e-01, 5.07448603e-01, 7.90596427e-01,\n",
       "       7.32751886e-01, 9.14508515e-01, 3.06194993e-01, 1.58193770e-01,\n",
       "       5.93239076e-01, 5.53276721e-01, 5.77697038e-01, 1.55966286e-01,\n",
       "       4.66270274e-01, 1.68450641e-01, 2.78827568e-01, 6.95518377e-01,\n",
       "       1.76877755e-01, 1.07226746e-01, 2.84959992e-02, 9.50214007e-01,\n",
       "       2.73311305e-02, 4.73460975e-01, 8.90476942e-01, 9.70170888e-01,\n",
       "       2.80781053e-01, 7.27960044e-01, 3.76957460e-01, 4.11109242e-01,\n",
       "       7.68975499e-01, 7.48895339e-01, 4.24817572e-01, 9.00908923e-01,\n",
       "       8.46968044e-01, 4.90054208e-01, 2.89402641e-01, 9.23844953e-01,\n",
       "       1.57793999e-01, 7.51636967e-01, 3.57843129e-01, 8.50312474e-01,\n",
       "       2.93406005e-01, 1.81292804e-01, 1.25235636e-01, 5.18025991e-01,\n",
       "       9.93242945e-01, 2.39798569e-01, 6.02956241e-01, 4.26011187e-01,\n",
       "       2.26885873e-01, 5.17527434e-01, 4.03262501e-01, 6.65160017e-01,\n",
       "       6.94597180e-01, 8.43436117e-01, 6.56047135e-02, 2.08420811e-01,\n",
       "       2.71052675e-02, 6.47844924e-01, 5.24344995e-01, 7.19419537e-01,\n",
       "       2.16176386e-01, 7.26908836e-01, 8.64676568e-01, 6.82037619e-01,\n",
       "       3.69676091e-01, 5.43898200e-01, 9.56631895e-01, 8.46256970e-01,\n",
       "       9.87069823e-02, 5.92457691e-01, 8.97702467e-01, 8.55987541e-01,\n",
       "       5.98265791e-01, 2.16490072e-01, 9.80993828e-01, 1.70077380e-01,\n",
       "       9.61207835e-02, 6.98975320e-01, 3.43916952e-01, 2.00813188e-01,\n",
       "       4.97505041e-01, 7.95671038e-01, 7.41780625e-01, 8.17760218e-01,\n",
       "       6.21621054e-01, 8.11544711e-01, 3.09507735e-01, 6.18666482e-01,\n",
       "       6.22870862e-01, 7.29586695e-01, 9.10993957e-01, 7.22851772e-01,\n",
       "       8.02556915e-01, 2.08218939e-02, 9.22372932e-01, 3.23907587e-01,\n",
       "       7.38604249e-01, 2.15773435e-02, 6.89861769e-01, 1.23005191e-02,\n",
       "       5.70453610e-01, 2.43862040e-01, 2.83967344e-01, 4.59789730e-02,\n",
       "       2.90665681e-01, 8.75423238e-01, 8.16071324e-01, 9.18458752e-01,\n",
       "       9.45243787e-01, 9.92688527e-01, 6.03651530e-01, 8.41220995e-01,\n",
       "       2.59811671e-01, 8.28688763e-01, 5.92131738e-01, 3.31863335e-01,\n",
       "       5.90605291e-01, 3.57399630e-01, 2.68721478e-01, 8.92012851e-01,\n",
       "       4.35969981e-02, 9.18827717e-04, 9.08591620e-01, 5.71768673e-01,\n",
       "       3.50776519e-01, 8.25365083e-01, 2.16027163e-01, 1.40924744e-01])"
      ]
     },
     "execution_count": 3,
     "metadata": {},
     "output_type": "execute_result"
    }
   ],
   "source": [
    "a = np.random.rand(1000)\n",
    "a"
   ]
  },
  {
   "cell_type": "code",
   "execution_count": 5,
   "metadata": {},
   "outputs": [
    {
     "data": {
      "text/plain": [
       "516"
      ]
     },
     "execution_count": 5,
     "metadata": {},
     "output_type": "execute_result"
    }
   ],
   "source": [
    "len(a[a < 0.5])"
   ]
  },
  {
   "cell_type": "code",
   "execution_count": null,
   "metadata": {},
   "outputs": [],
   "source": []
  }
 ],
 "metadata": {
  "kernelspec": {
   "display_name": "Python 3.10.2 64-bit",
   "language": "python",
   "name": "python3"
  },
  "language_info": {
   "codemirror_mode": {
    "name": "ipython",
    "version": 3
   },
   "file_extension": ".py",
   "mimetype": "text/x-python",
   "name": "python",
   "nbconvert_exporter": "python",
   "pygments_lexer": "ipython3",
   "version": "3.10.11"
  },
  "vscode": {
   "interpreter": {
    "hash": "fb4569285eef3a3450cb62085a5b1e0da4bce0af555edc33dcf29baf3acc1368"
   }
  }
 },
 "nbformat": 4,
 "nbformat_minor": 4
}
