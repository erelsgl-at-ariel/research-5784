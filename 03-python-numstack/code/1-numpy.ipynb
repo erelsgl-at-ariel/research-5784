{
 "cells": [
  {
   "cell_type": "markdown",
   "metadata": {},
   "source": [
    "# numpy\n",
    "\n",
    "`numpy` is a Python library for fast computations with vectors and matrices.\n",
    "\n",
    "It is the basis for many other, more advanced libraries."
   ]
  },
  {
   "cell_type": "code",
   "execution_count": 1,
   "metadata": {},
   "outputs": [],
   "source": [
    "import numpy as np"
   ]
  },
  {
   "cell_type": "markdown",
   "metadata": {},
   "source": [
    "## Vectors"
   ]
  },
  {
   "cell_type": "code",
   "execution_count": 2,
   "metadata": {},
   "outputs": [
    {
     "data": {
      "text/plain": [
       "(array([1, 2, 3, 4]), dtype('int32'))"
      ]
     },
     "execution_count": 2,
     "metadata": {},
     "output_type": "execute_result"
    }
   ],
   "source": [
    "arr = np.array((1,2,3,4))\n",
    "arr, arr.dtype               # Vector in numpy has a single data-type."
   ]
  },
  {
   "cell_type": "code",
   "execution_count": 3,
   "metadata": {},
   "outputs": [
    {
     "data": {
      "text/plain": [
       "(array([1., 2., 3., 4.]), dtype('float64'))"
      ]
     },
     "execution_count": 3,
     "metadata": {},
     "output_type": "execute_result"
    }
   ],
   "source": [
    "arr = np.array((1, 2, 3, 4.0))\n",
    "arr, arr.dtype"
   ]
  },
  {
   "cell_type": "code",
   "execution_count": 4,
   "metadata": {},
   "outputs": [
    {
     "data": {
      "text/plain": [
       "array(['1', '2', '3', 'a'], dtype='<U11')"
      ]
     },
     "execution_count": 4,
     "metadata": {},
     "output_type": "execute_result"
    }
   ],
   "source": [
    "arr = np.array((1,2,3,'a'))\n",
    "arr"
   ]
  },
  {
   "cell_type": "code",
   "execution_count": 6,
   "metadata": {},
   "outputs": [
    {
     "name": "stdout",
     "output_type": "stream",
     "text": [
      "list+list: [1, 2, 3, 4, 5, 6]\n",
      "type(list+list) = <class 'list'>\n",
      "arr+list: [5 7 9]\n",
      "type(arr+list) = <class 'numpy.ndarray'>\n"
     ]
    }
   ],
   "source": [
    "lst = [1,2,3]\n",
    "lst_lst = lst + [4,5,6]\n",
    "print(f\"list+list: {lst_lst}\")\n",
    "print(f\"type(list+list) = {type(lst_lst)}\")\n",
    "\n",
    "arr = np.array((1,2,3))\n",
    "lst_arr = arr + [4,5,6]\n",
    "print(f\"arr+list: {lst_arr}\")\n",
    "print(f\"type(arr+list) = {type(lst_arr)}\")"
   ]
  },
  {
   "cell_type": "code",
   "execution_count": 7,
   "metadata": {},
   "outputs": [
    {
     "name": "stdout",
     "output_type": "stream",
     "text": [
      "[0.5 1.  1.5]\n",
      "[1 4 9]\n",
      "[ 5 10 15]\n",
      "[6 7 8]\n",
      "operands could not be broadcast together with shapes (3,) (2,) \n"
     ]
    }
   ],
   "source": [
    "print(arr/2)\n",
    "print(arr**2)\n",
    "print(arr*5)\n",
    "print(arr + [5])   # the [5] is \"broad-cast\" to a vector [5,5,5]\n",
    "try:\n",
    "    arr + [1,2] #=> ValueError\n",
    "except ValueError as e:\n",
    "    print(e)  "
   ]
  },
  {
   "cell_type": "code",
   "execution_count": 13,
   "metadata": {},
   "outputs": [
    {
     "name": "stdout",
     "output_type": "stream",
     "text": [
      "[0.76159416 0.96402758 0.99505475]\n",
      "[ 0.54030231 -0.41614684 -0.9899925 ]\n",
      "[0.84147098 0.90929743 0.14112001]\n",
      "[ 2.71828183  7.3890561  20.08553692]\n",
      "[1.         1.41421356 1.73205081]\n",
      "[0.         0.69314718 1.09861229]\n"
     ]
    }
   ],
   "source": [
    "print(np.tanh(arr))\n",
    "print(np.cos(arr))\n",
    "print(np.sin(arr))\n",
    "print(np.exp(arr))\n",
    "print(np.sqrt(arr))\n",
    "print(np.log(arr))"
   ]
  },
  {
   "cell_type": "code",
   "execution_count": 8,
   "metadata": {},
   "outputs": [
    {
     "name": "stdout",
     "output_type": "stream",
     "text": [
      "32\n",
      "32\n",
      "32\n"
     ]
    }
   ],
   "source": [
    "arr =  np.array([1,2,3])\n",
    "arr2 = np.array([4,5,6])\n",
    "\n",
    "# Many ways to compute a scalar product:\n",
    "print(np.sum(arr2*arr))\n",
    "print(arr2.dot(arr))\n",
    "print(arr2 @ arr)"
   ]
  },
  {
   "cell_type": "code",
   "execution_count": 76,
   "metadata": {},
   "outputs": [
    {
     "data": {
      "text/plain": [
       "array([2, 4, 6])"
      ]
     },
     "execution_count": 76,
     "metadata": {},
     "output_type": "execute_result"
    }
   ],
   "source": [
    "# Indexing by condition\n",
    "\n",
    "a = np.array([1,2,3,4,5,6])\n",
    "a[a%2==0]           # Take only the even elements"
   ]
  },
  {
   "cell_type": "markdown",
   "metadata": {},
   "source": [
    "## Matrices"
   ]
  },
  {
   "cell_type": "code",
   "execution_count": 32,
   "metadata": {},
   "outputs": [
    {
     "name": "stdout",
     "output_type": "stream",
     "text": [
      "[[1 2 3]\n",
      " [4 5 6]]\n"
     ]
    }
   ],
   "source": [
    "arr = np.array([[1,2,3],[4,5,6]])\n",
    "print(arr)"
   ]
  },
  {
   "cell_type": "code",
   "execution_count": 33,
   "metadata": {},
   "outputs": [
    {
     "name": "stdout",
     "output_type": "stream",
     "text": [
      "2\n",
      "2\n"
     ]
    }
   ],
   "source": [
    "print(arr[0][1])   # Java style\n",
    "print(arr[0,1])    # C# style"
   ]
  },
  {
   "cell_type": "code",
   "execution_count": 34,
   "metadata": {},
   "outputs": [
    {
     "name": "stdout",
     "output_type": "stream",
     "text": [
      "First column:  [1 4]\n",
      "Second column:  [2 5]\n",
      "Last column:  [3 6]\n",
      "First row:  [1 2 3]\n",
      "Second row:  [4 5 6]\n"
     ]
    }
   ],
   "source": [
    "print(\"First column: \", arr[:,0])\n",
    "print(\"Second column: \", arr[:,1])\n",
    "print(\"Last column: \", arr[:,-1])\n",
    "print(\"First row: \", arr[0,:])\n",
    "print(\"Second row: \", arr[1,:])"
   ]
  },
  {
   "cell_type": "code",
   "execution_count": 36,
   "metadata": {},
   "outputs": [
    {
     "name": "stdout",
     "output_type": "stream",
     "text": [
      "21\n",
      "[5 7 9]\n",
      "[ 6 15]\n",
      "[ 6 15]\n",
      "[5 7 9]\n"
     ]
    }
   ],
   "source": [
    "# Operations along a specific axis:\n",
    "\n",
    "arr = np.array([[1,2,3],[4,5,6]])\n",
    "print(np.sum(arr))\n",
    "print(np.sum(arr,axis=0))\n",
    "print(np.sum(arr,axis=1))\n",
    "print(np.sum(arr,axis=-1))\n",
    "print(sum(arr))   # Wrong! you should use np.sum."
   ]
  },
  {
   "cell_type": "code",
   "execution_count": 70,
   "metadata": {},
   "outputs": [
    {
     "name": "stdout",
     "output_type": "stream",
     "text": [
      "3.5\n",
      "[2.5 3.5 4.5]\n",
      "[2. 5.]\n"
     ]
    }
   ],
   "source": [
    "arr = np.array([[1,2,3],[4,5,6]])\n",
    "print(np.median(arr))\n",
    "print(np.median(arr,axis=0))\n",
    "print(np.median(arr,axis=1))"
   ]
  },
  {
   "cell_type": "code",
   "execution_count": 74,
   "metadata": {},
   "outputs": [
    {
     "name": "stdout",
     "output_type": "stream",
     "text": [
      "[[1 2 3]\n",
      " [4 6 5]]\n",
      "[[2 3 4]\n",
      " [1 5 6]]\n"
     ]
    }
   ],
   "source": [
    "arr = np.array([[4,2,3],[1,6,5]])\n",
    "print(np.sort(arr,axis=0))\n",
    "print(np.sort(arr,axis=1))"
   ]
  },
  {
   "cell_type": "code",
   "execution_count": 66,
   "metadata": {},
   "outputs": [
    {
     "name": "stdout",
     "output_type": "stream",
     "text": [
      "[[0.333 0.143 0.091]\n",
      " [0.077 0.059 0.053]]\n",
      "[[0.33 0.14 0.09]\n",
      " [0.08 0.06 0.05]]\n",
      "[[0.333 0.143 0.091]\n",
      " [0.077 0.059 0.053]]\n"
     ]
    }
   ],
   "source": [
    "# Rounding:\n",
    "\n",
    "a = np.array([[1./3, 1./7, 1./11],[1./13, 1./17, 1./19]])\n",
    "print(a)\n",
    "print(np.round(a,2))\n",
    "print(np.round(a,3))"
   ]
  },
  {
   "cell_type": "code",
   "execution_count": 68,
   "metadata": {},
   "outputs": [
    {
     "name": "stdout",
     "output_type": "stream",
     "text": [
      "[[0.333 0.143 0.091]\n",
      " [0.077 0.059 0.053]]\n",
      "[[0.33 0.14 0.09]\n",
      " [0.08 0.06 0.05]]\n"
     ]
    }
   ],
   "source": [
    "np.set_printoptions(precision=3)\n",
    "print(a)\n",
    "np.set_printoptions(precision=2)\n",
    "print(a)"
   ]
  },
  {
   "cell_type": "code",
   "execution_count": 38,
   "metadata": {},
   "outputs": [
    {
     "name": "stdout",
     "output_type": "stream",
     "text": [
      "arr Transpose:\n",
      "[[1 3]\n",
      " [2 4]]\n",
      "trace of a:\n",
      "5\n",
      "determinant of arr:\n",
      "-2.0000000000000004\n",
      "inverse of arr: \n",
      "[[-2.   1. ]\n",
      " [ 1.5 -0.5]]\n"
     ]
    }
   ],
   "source": [
    "# Linear algebra operations\n",
    "\n",
    "arr = np.array([[1,2],[3,4]])\n",
    "print(\"arr Transpose:\")\n",
    "print(arr.T)\n",
    "print(\"trace of a:\")\n",
    "print(np.trace(arr))\n",
    "print(\"determinant of arr:\")\n",
    "print(np.linalg.det(arr))\n",
    "print(f\"inverse of arr: \")\n",
    "print(np.linalg.inv(arr))"
   ]
  },
  {
   "cell_type": "code",
   "execution_count": 19,
   "metadata": {},
   "outputs": [
    {
     "name": "stdout",
     "output_type": "stream",
     "text": [
      "[[ 9 12 15]\n",
      " [19 26 33]]\n",
      "[[ 9 12 15]\n",
      " [19 26 33]]\n"
     ]
    }
   ],
   "source": [
    "#  Matrix multiplication\n",
    "\n",
    "arr2 = np.array([[1,2,3],[4,5,6]])\n",
    "print(arr.dot(arr2))\n",
    "print(arr @ arr2) # equivalent"
   ]
  },
  {
   "cell_type": "code",
   "execution_count": 25,
   "metadata": {},
   "outputs": [
    {
     "name": "stdout",
     "output_type": "stream",
     "text": [
      "[[-29.  15.]\n",
      " [  1.   5.]\n",
      " [-86. -33.]\n",
      " [-74. -15.]]\n",
      "[32.64965543  5.09901951 92.11405973 75.50496672]\n"
     ]
    },
    {
     "data": {
      "text/plain": [
       "(5.0990195135927845, 1)"
      ]
     },
     "execution_count": 25,
     "metadata": {},
     "output_type": "execute_result"
    }
   ],
   "source": [
    "# Broadcasting (https://numpy.org/doc/stable/user/basics.broadcasting.html)\n",
    "\n",
    "observation = np.array([131.0, 188.0])\n",
    "codes = np.array([[102.0, 203.0],\n",
    "                  [132.0, 193.0],\n",
    "                  [45.0, 155.0],\n",
    "                  [57.0, 173.0]])\n",
    "\n",
    "# Our goal: find the code that is nearest to observation.\n",
    "\n",
    "diff = codes - observation    # the broadcast happens here\n",
    "print(diff)\n",
    "dist = np.sqrt(np.sum(diff**2, axis=-1))\n",
    "print(dist)\n",
    "np.min(dist), np.argmin(dist)"
   ]
  },
  {
   "cell_type": "markdown",
   "metadata": {},
   "source": [
    "## n-dimensional arrays"
   ]
  },
  {
   "cell_type": "code",
   "execution_count": 18,
   "metadata": {},
   "outputs": [
    {
     "data": {
      "text/plain": [
       "array([[[100., 100., 100.],\n",
       "        [100., 100., 100.],\n",
       "        [100., 100., 100.],\n",
       "        [100., 100., 100.]],\n",
       "\n",
       "       [[100., 100., 100.],\n",
       "        [100., 100., 100.],\n",
       "        [100., 100., 100.],\n",
       "        [100., 100., 100.]],\n",
       "\n",
       "       [[100., 100., 100.],\n",
       "        [100., 100., 100.],\n",
       "        [100., 100., 100.],\n",
       "        [100., 100., 100.]],\n",
       "\n",
       "       [[100., 100., 100.],\n",
       "        [100., 100., 100.],\n",
       "        [100., 100., 100.],\n",
       "        [100., 100., 100.]]])"
      ]
     },
     "execution_count": 18,
     "metadata": {},
     "output_type": "execute_result"
    }
   ],
   "source": [
    "picture = np.array([    # a 4-by-4 array of RGB values\n",
    "     [ [100.0,100,100] , [100,100,100] , [100,100,100] , [100,100,100] ]  ,\n",
    "     [ [100,100,100] , [100,100,100] , [100,100,100] , [100,100,100] ]  ,\n",
    "     [ [100,100,100] , [100,100,100] , [100,100,100] , [100,100,100] ]  ,\n",
    "     [ [100,100,100] , [100,100,100] , [100,100,100] , [100,100,100] ]  ,\n",
    "])\n",
    "\n",
    "picture"
   ]
  },
  {
   "cell_type": "code",
   "execution_count": 19,
   "metadata": {},
   "outputs": [
    {
     "data": {
      "text/plain": [
       "array([[[ 50., 100., 150.],\n",
       "        [ 50., 100., 150.],\n",
       "        [ 50., 100., 150.],\n",
       "        [ 50., 100., 150.]],\n",
       "\n",
       "       [[ 50., 100., 150.],\n",
       "        [ 50., 100., 150.],\n",
       "        [ 50., 100., 150.],\n",
       "        [ 50., 100., 150.]],\n",
       "\n",
       "       [[ 50., 100., 150.],\n",
       "        [ 50., 100., 150.],\n",
       "        [ 50., 100., 150.],\n",
       "        [ 50., 100., 150.]],\n",
       "\n",
       "       [[ 50., 100., 150.],\n",
       "        [ 50., 100., 150.],\n",
       "        [ 50., 100., 150.],\n",
       "        [ 50., 100., 150.]]])"
      ]
     },
     "execution_count": 19,
     "metadata": {},
     "output_type": "execute_result"
    }
   ],
   "source": [
    "picture * [0.5, 1, 1.5]  # Multiply each RGB point elementwise by [0.5, 1, 1.5]"
   ]
  },
  {
   "cell_type": "markdown",
   "metadata": {},
   "source": [
    "[Broadcasting algorithm](https://numpy.org/doc/stable/user/basics.broadcasting.html):\n",
    "\n",
    "Compare the dimensions, starting from the rightmost one. Two dimensions are compatible if one of the following holds: \n",
    "\n",
    "1. they are equal, or\n",
    "2. one of them is 1.\n"
   ]
  },
  {
   "cell_type": "code",
   "execution_count": 20,
   "metadata": {},
   "outputs": [
    {
     "ename": "ValueError",
     "evalue": "operands could not be broadcast together with shapes (4,4,3) (4,) ",
     "output_type": "error",
     "traceback": [
      "\u001b[1;31m---------------------------------------------------------------------------\u001b[0m",
      "\u001b[1;31mValueError\u001b[0m                                Traceback (most recent call last)",
      "Cell \u001b[1;32mIn[20], line 1\u001b[0m\n\u001b[1;32m----> 1\u001b[0m \u001b[43mpicture\u001b[49m\u001b[43m \u001b[49m\u001b[38;5;241;43m*\u001b[39;49m\u001b[43m \u001b[49m\u001b[43m[\u001b[49m\u001b[38;5;241;43m1\u001b[39;49m\u001b[43m,\u001b[49m\u001b[38;5;241;43m2\u001b[39;49m\u001b[43m,\u001b[49m\u001b[38;5;241;43m3\u001b[39;49m\u001b[43m,\u001b[49m\u001b[38;5;241;43m4\u001b[39;49m\u001b[43m]\u001b[49m\n",
      "\u001b[1;31mValueError\u001b[0m: operands could not be broadcast together with shapes (4,4,3) (4,) "
     ]
    }
   ],
   "source": [
    "picture * [1,2,3,4]"
   ]
  },
  {
   "cell_type": "markdown",
   "metadata": {},
   "source": [
    "## Comparison"
   ]
  },
  {
   "cell_type": "code",
   "execution_count": 39,
   "metadata": {},
   "outputs": [
    {
     "name": "stdout",
     "output_type": "stream",
     "text": [
      "[[False  True]\n",
      " [False  True]]\n",
      "[[1.00000000e+00 0.00000000e+00]\n",
      " [1.11022302e-16 1.00000000e+00]]\n"
     ]
    }
   ],
   "source": [
    "# A^(-1)*A == I ?\n",
    "arr = np.array([[1,2],[3,4]])\n",
    "print(np.linalg.inv(arr).dot(arr) == np.array([[1,0],[0,1]]))\n",
    "print(np.linalg.inv(arr).dot(arr))"
   ]
  },
  {
   "cell_type": "code",
   "execution_count": 40,
   "metadata": {},
   "outputs": [
    {
     "data": {
      "text/plain": [
       "True"
      ]
     },
     "execution_count": 40,
     "metadata": {},
     "output_type": "execute_result"
    }
   ],
   "source": [
    "np.allclose(np.linalg.inv(arr).dot(arr), np.array([[1,0],[0,1]]))"
   ]
  },
  {
   "cell_type": "code",
   "execution_count": 41,
   "metadata": {},
   "outputs": [
    {
     "name": "stdout",
     "output_type": "stream",
     "text": [
      "False\n",
      "True\n"
     ]
    }
   ],
   "source": [
    "print(np.allclose(np.array([[1,0],[0,1]]), np.array([[1.1,0.1],[0.1,1.1]]), rtol=0.01, atol=0.01))\n",
    "print(np.allclose(np.array([[1,0],[0,1]]), np.array([[1.1,0.1],[0.1,1.1]]), rtol=0.1, atol=0.1))"
   ]
  },
  {
   "cell_type": "markdown",
   "metadata": {},
   "source": [
    "## Solving linear equations"
   ]
  },
  {
   "cell_type": "code",
   "execution_count": 42,
   "metadata": {
    "scrolled": true
   },
   "outputs": [
    {
     "name": "stdout",
     "output_type": "stream",
     "text": [
      "children = 1500.0, adults = 700.0\n"
     ]
    }
   ],
   "source": [
    "# A child buys ticket for 1.5 shekels. \n",
    "# An adult buys ticket for 4 shekels. \n",
    "# The total number of people is 2200.\n",
    "# The total amount collected is 5050 shekels.\n",
    "# How many children and adults entered the park?\n",
    "left_hand_side = np.array([\n",
    "    [1,1],           #  1*children + 1*adults = 2200\n",
    "    [1.5,4]]         #  1.5*children + 4*adults = 5050\n",
    ")\n",
    "right_hand_side = np.array(\n",
    "    [2200,   5050]\n",
    ")\n",
    "solution = np.linalg.solve(left_hand_side, right_hand_side)\n",
    "print(f'children = {solution[0]}, adults = {solution[1]}')"
   ]
  },
  {
   "cell_type": "markdown",
   "metadata": {},
   "source": [
    "## Special matrices"
   ]
  },
  {
   "cell_type": "code",
   "execution_count": 44,
   "metadata": {},
   "outputs": [
    {
     "name": "stdout",
     "output_type": "stream",
     "text": [
      "~~~ 3X4X2 3-dimensional matrix of zeros ~~~\n",
      "[[[0. 0.]\n",
      "  [0. 0.]\n",
      "  [0. 0.]\n",
      "  [0. 0.]]\n",
      "\n",
      " [[0. 0.]\n",
      "  [0. 0.]\n",
      "  [0. 0.]\n",
      "  [0. 0.]]\n",
      "\n",
      " [[0. 0.]\n",
      "  [0. 0.]\n",
      "  [0. 0.]\n",
      "  [0. 0.]]]\n",
      "~~~ 3X4 matrix of ones ~~~\n",
      "[[1. 1. 1. 1.]\n",
      " [1. 1. 1. 1.]\n",
      " [1. 1. 1. 1.]]\n",
      "~~~ 3X4 matrix of tens ~~~\n",
      "[[10. 10. 10. 10.]\n",
      " [10. 10. 10. 10.]\n",
      " [10. 10. 10. 10.]]\n",
      "~~~ 3X3 Identity matrix (I) ~~~\n",
      "[[1. 0. 0.]\n",
      " [0. 1. 0.]\n",
      " [0. 0. 1.]]\n"
     ]
    }
   ],
   "source": [
    "print('~~~ 3X4X2 3-dimensional matrix of zeros ~~~')\n",
    "arr_zeros = np.zeros((3,4,2))\n",
    "print(arr_zeros)\n",
    "print('~~~ 3X4 matrix of ones ~~~')\n",
    "arr_ones = np.ones((3,4))\n",
    "print(arr_ones)\n",
    "print('~~~ 3X4 matrix of tens ~~~')\n",
    "arr_tens = arr_ones * 10\n",
    "print(arr_tens)\n",
    "print('~~~ 3X3 Identity matrix (I) ~~~')\n",
    "arr_identity = np.eye(3)\n",
    "print(arr_identity)"
   ]
  },
  {
   "cell_type": "code",
   "execution_count": 45,
   "metadata": {},
   "outputs": [
    {
     "data": {
      "text/plain": [
       "array([ 0. ,  0.2,  0.4,  0.6,  0.8,  1. ,  1.2,  1.4,  1.6,  1.8,  2. ,\n",
       "        2.2,  2.4,  2.6,  2.8,  3. ,  3.2,  3.4,  3.6,  3.8,  4. ,  4.2,\n",
       "        4.4,  4.6,  4.8,  5. ,  5.2,  5.4,  5.6,  5.8,  6. ,  6.2,  6.4,\n",
       "        6.6,  6.8,  7. ,  7.2,  7.4,  7.6,  7.8,  8. ,  8.2,  8.4,  8.6,\n",
       "        8.8,  9. ,  9.2,  9.4,  9.6,  9.8, 10. , 10.2, 10.4, 10.6, 10.8,\n",
       "       11. , 11.2, 11.4, 11.6, 11.8, 12. , 12.2, 12.4, 12.6, 12.8, 13. ,\n",
       "       13.2, 13.4, 13.6, 13.8, 14. , 14.2, 14.4, 14.6, 14.8, 15. , 15.2,\n",
       "       15.4, 15.6, 15.8, 16. , 16.2, 16.4, 16.6, 16.8, 17. , 17.2, 17.4,\n",
       "       17.6, 17.8, 18. , 18.2, 18.4, 18.6, 18.8, 19. , 19.2, 19.4, 19.6,\n",
       "       19.8, 20. ])"
      ]
     },
     "execution_count": 45,
     "metadata": {},
     "output_type": "execute_result"
    }
   ],
   "source": [
    "np.linspace(0,20,101)  # returns an array with 101 linearly-spaced numbers between 0 and 20"
   ]
  },
  {
   "cell_type": "markdown",
   "metadata": {},
   "source": [
    "## Random"
   ]
  },
  {
   "cell_type": "code",
   "execution_count": 46,
   "metadata": {},
   "outputs": [
    {
     "name": "stdout",
     "output_type": "stream",
     "text": [
      "~~~ random: 0.07548877539270504 ~~~\n",
      "~~~ randint(1,100): 72 ~~~\n",
      "~~~ randint(1,100 size=(3,3)): ~~~ \n",
      "[[[83 38 62]\n",
      "  [81 35 16]\n",
      "  [31 50 69]]\n",
      "\n",
      " [[62 48 25]\n",
      "  [72 22 39]\n",
      "  [56 72 37]]\n",
      "\n",
      " [[90  6 36]\n",
      "  [18 57 79]\n",
      "  [27 58  2]]]\n",
      "~~~ choice = [2,3,5,7,11,13],size=(3,3) ~~~\n",
      "[[ 5  3 13]\n",
      " [13 13  3]\n",
      " [13 13  7]]\n"
     ]
    }
   ],
   "source": [
    "\n",
    "print(f'~~~ random: {np.random.random()} ~~~')\n",
    "print(f'~~~ randint(1,100): {np.random.randint(1,100)} ~~~')\n",
    "print(f'~~~ randint(1,100 size=(3,3)): ~~~ \\n{np.random.randint(1,100, size=(3,3,3))}')\n",
    "print(f'~~~ choice = [2,3,5,7,11,13],size=(3,3) ~~~\\n{np.random.choice([2,3,5,7,11,13], size=(3,3))}')"
   ]
  },
  {
   "cell_type": "code",
   "execution_count": 47,
   "metadata": {},
   "outputs": [
    {
     "name": "stdout",
     "output_type": "stream",
     "text": [
      "~~~ normal distribution: ~~~\n",
      "[[ 0.62683555 -1.60841942 -1.17772129]\n",
      " [ 0.8141438   0.00378353  0.22795082]\n",
      " [-0.48212608 -0.13272651  0.73517214]]\n",
      "loc=0.5, scale=2, size=(3, 3):\n",
      "[[ 1.77896524  0.83128624  1.11399872]\n",
      " [-0.5009413  -0.55108854 -0.35952066]\n",
      " [ 0.31875574 -0.20833663  0.45354905]]\n"
     ]
    }
   ],
   "source": [
    "# Normal Distribution:\n",
    "'''The Normal Distribution is one of the most important distributions.\n",
    "\n",
    "It is also called the Gaussian Distribution after the German mathematician Carl Friedrich Gauss.\n",
    "\n",
    "It fits the probability distribution of many events, eg. IQ Scores, Heartbeat etc.\n",
    "\n",
    "loc - (Mean) where the peak of the bell exists.\n",
    "\n",
    "scale - (Standard Deviation) how flat the graph distribution should be.\n",
    "\n",
    "size - The shape of the returned array: '''\n",
    "\n",
    "normal_dis = np.random.normal(size=(3, 3))\n",
    "print('~~~ normal distribution: ~~~')\n",
    "print(normal_dis)\n",
    "print(\"loc=0.5, scale=2, size=(3, 3):\")\n",
    "normal_dis = np.random.normal(loc=0.5, scale=2, size=(3, 3))\n",
    "print(normal_dis)"
   ]
  },
  {
   "cell_type": "code",
   "execution_count": 48,
   "metadata": {},
   "outputs": [
    {
     "name": "stdout",
     "output_type": "stream",
     "text": [
      "~~~ binomial distribution: ~~~\n",
      "n=10, p=0.5, size=(3,3):\n",
      "[[5 6 2]\n",
      " [5 5 7]\n",
      " [4 7 4]]\n"
     ]
    }
   ],
   "source": [
    "\n",
    "# Binomial Distribution\n",
    "'''\n",
    "Binomial Distribution is a Discrete Distribution.\n",
    "\n",
    "It describes the outcome of binary scenarios, e.g. toss of a coin, it will either be head or tails.\n",
    "\n",
    "It has three parameters:\n",
    "\n",
    "n - number of trials.\n",
    "\n",
    "p - probability of occurence of each trial (e.g. for toss of a coin 0.5 each).\n",
    "\n",
    "size - The shape of the returned array.\n",
    "'''\n",
    "binomial_dis = np.random.binomial(n=10, p=0.5, size=(3,3))\n",
    "print('~~~ binomial distribution: ~~~')\n",
    "print(\"n=10, p=0.5, size=(3,3):\")\n",
    "print(binomial_dis)"
   ]
  },
  {
   "cell_type": "code",
   "execution_count": 49,
   "metadata": {},
   "outputs": [
    {
     "name": "stdout",
     "output_type": "stream",
     "text": [
      "~~~ poisson distribution: ~~~\n",
      "lam=2, size=(3,3):\n",
      "[[4 2 1]\n",
      " [0 0 2]\n",
      " [3 0 1]]\n"
     ]
    }
   ],
   "source": [
    "# Poisson Distribution\n",
    "'''\n",
    "Poisson Distribution is a Discrete Distribution.\n",
    "\n",
    "It estimates how many times an event can happen in a specified time.\n",
    "e.g. If someone eats twice a day what is probability he will eat thrice?\n",
    "\n",
    "It has two parameters:\n",
    "\n",
    "lam - rate or known number of occurences e.g. 2 for above problem.\n",
    "\n",
    "size - The shape of the returned array.\n",
    "\n",
    "'''\n",
    "poisson_dis = np.random.poisson(lam=2, size=(3,3))\n",
    "print('~~~ poisson distribution: ~~~')\n",
    "print(\"lam=2, size=(3,3):\")\n",
    "print(poisson_dis)"
   ]
  },
  {
   "cell_type": "code",
   "execution_count": 22,
   "metadata": {},
   "outputs": [
    {
     "name": "stdout",
     "output_type": "stream",
     "text": [
      "~~~ uniform distribution: ~~~\n",
      "size=(3,3):\n",
      "[[0.15534627 0.79926918 0.38372047]\n",
      " [0.91058895 0.23816699 0.88687427]\n",
      " [0.99572881 0.0218146  0.12049657]]\n"
     ]
    }
   ],
   "source": [
    "\n",
    "# Uniform Distribution\n",
    "''' \n",
    "Used to describe probability where every event has equal chances of occuring.\n",
    "\n",
    "E.g. Generation of random numbers.\n",
    "\n",
    "It has three parameters:\n",
    "\n",
    "a - lower bound - default 0 .0.\n",
    "\n",
    "b - upper bound - default 1.0.\n",
    "\n",
    "size - The shape of the returned array.\n",
    "'''\n",
    "\n",
    "uniform_dis = np.random.uniform(size=(3, 3))\n",
    "print('~~~ uniform distribution: ~~~')\n",
    "print(\"size=(3,3):\")\n",
    "print(uniform_dis)\n"
   ]
  },
  {
   "cell_type": "markdown",
   "metadata": {},
   "source": [
    "## Performance test - which array multiplication method is faster?"
   ]
  },
  {
   "cell_type": "code",
   "execution_count": 50,
   "metadata": {},
   "outputs": [],
   "source": [
    "def my_timer(orig_func):\n",
    "    import time\n",
    "    def wrapper(*args, **kwargs):\n",
    "        t1 = time.time()\n",
    "        result = orig_func(*args, **kwargs)\n",
    "        t2 = time.time() - t1\n",
    "        print(f'{ orig_func.__name__} ran in: {t2} sec')\n",
    "        return result\n",
    "    return wrapper"
   ]
  },
  {
   "cell_type": "code",
   "execution_count": 53,
   "metadata": {},
   "outputs": [],
   "source": [
    "@my_timer\n",
    "def list_mult(mat_a,mat_b):\n",
    "    mat_c = []\n",
    "    for i in range(len(mat_a)):\n",
    "        mat_c.append([])\n",
    "        for j in range(len(mat_b[0])):\n",
    "            mat_c[i].append(sum([mat_a[i][k]*mat_b[k][j] for k in range(len(mat_b))]))\n",
    "    return mat_c\n",
    "\n",
    "\n",
    "@my_timer           \n",
    "def array_mult(mat_a,mat_b):\n",
    "    return mat_a @ mat_b"
   ]
  },
  {
   "cell_type": "code",
   "execution_count": 54,
   "metadata": {},
   "outputs": [
    {
     "name": "stdout",
     "output_type": "stream",
     "text": [
      "list_mult ran in: 0.0 sec\n",
      "[[7018, -3398, -18981], [-2105, 1584, -3243], [-1257, -5586, 1216]]\n",
      "array_mult ran in: 0.0 sec\n",
      "[[  7018  -3398 -18981]\n",
      " [ -2105   1584  -3243]\n",
      " [ -1257  -5586   1216]]\n"
     ]
    }
   ],
   "source": [
    "mat_a = np.random.randint(-100,100,size=(3,3))\n",
    "mat_b = np.random.randint(-100,100,size=(3,3))\n",
    "\n",
    "lst_a = list(mat_a)\n",
    "lst_b = list(mat_b)\n",
    "\n",
    "print(list_mult(lst_a,lst_b))\n",
    "print(array_mult(mat_a,mat_b))"
   ]
  },
  {
   "cell_type": "code",
   "execution_count": 55,
   "metadata": {},
   "outputs": [
    {
     "name": "stdout",
     "output_type": "stream",
     "text": [
      "list_mult ran in: 0.9833998680114746 sec\n",
      "array_mult ran in: 0.017286062240600586 sec\n",
      "So what is faster?\n"
     ]
    }
   ],
   "source": [
    "mat_a = np.random.randint(-100,100,size=(200,200))\n",
    "mat_b = np.random.randint(-100,100,size=(200,200))\n",
    "\n",
    "lst_a = list(mat_a)\n",
    "lst_b = list(mat_b)\n",
    "list_mult(lst_a,lst_b)\n",
    "array_mult(mat_a,mat_b)\n",
    "print(\"So what is faster?\")"
   ]
  }
 ],
 "metadata": {
  "kernelspec": {
   "display_name": "Python 3.10.2 64-bit",
   "language": "python",
   "name": "python3"
  },
  "language_info": {
   "codemirror_mode": {
    "name": "ipython",
    "version": 3
   },
   "file_extension": ".py",
   "mimetype": "text/x-python",
   "name": "python",
   "nbconvert_exporter": "python",
   "pygments_lexer": "ipython3",
   "version": "3.10.11"
  },
  "vscode": {
   "interpreter": {
    "hash": "fb4569285eef3a3450cb62085a5b1e0da4bce0af555edc33dcf29baf3acc1368"
   }
  }
 },
 "nbformat": 4,
 "nbformat_minor": 4
}
