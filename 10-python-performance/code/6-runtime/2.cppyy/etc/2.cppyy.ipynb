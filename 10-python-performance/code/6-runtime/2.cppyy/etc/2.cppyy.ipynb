{
 "cells": [
  {
   "cell_type": "code",
   "execution_count": 1,
   "metadata": {},
   "outputs": [
    {
     "name": "stdout",
     "output_type": "stream",
     "text": [
      "(Re-)building pre-compiled headers (options: -O2); this may take a minute ...\n"
     ]
    },
    {
     "name": "stderr",
     "output_type": "stream",
     "text": [
      "c:\\Users\\user\\AppData\\Local\\Programs\\Python\\Python310\\lib\\site-packages\\cppyy_backend\\loader.py:130: UserWarning: No precompiled header available (failed to build); this may impact performance.\n",
      "  warnings.warn('No precompiled header available (%s); this may impact performance.' % msg)\n"
     ]
    },
    {
     "ename": "RuntimeError",
     "evalue": "could not load cppyy_backend library, details:\n  [WinError 1114] A dynamic link library (DLL) initialization routine failed\n  Could not find module 'c:\\Users\\user\\AppData\\Local\\Programs\\Python\\Python310\\lib\\site-packages\\cppyy_backend\\lib\\libcppyy_backend.cp310-win_amd64.pyd' (or one of its dependencies). Try using the full path with constructor syntax.\n  Could not find module 'libcppyy_backend.cp310-win_amd64.pyd' (or one of its dependencies). Try using the full path with constructor syntax.\n  Could not find module 'libcppyy_backend.dll' (or one of its dependencies). Try using the full path with constructor syntax.",
     "output_type": "error",
     "traceback": [
      "\u001b[1;31m---------------------------------------------------------------------------\u001b[0m",
      "\u001b[1;31mRuntimeError\u001b[0m                              Traceback (most recent call last)",
      "\u001b[1;32md:\\Dropbox\\ariel-research\\research-5782\\10-python-performance\\code\\6.runtime\\2.cppyy\\2.cppyy.ipynb Cell 1'\u001b[0m in \u001b[0;36m<module>\u001b[1;34m\u001b[0m\n\u001b[1;32m----> <a href='vscode-notebook-cell:/d%3A/Dropbox/ariel-research/research-5782/10-python-performance/code/6.runtime/2.cppyy/2.cppyy.ipynb#ch0000000?line=0'>1</a>\u001b[0m \u001b[39mimport\u001b[39;00m \u001b[39mcppyy\u001b[39;00m\n",
      "File \u001b[1;32mc:\\Users\\user\\AppData\\Local\\Programs\\Python\\Python310\\lib\\site-packages\\cppyy\\__init__.py:80\u001b[0m, in \u001b[0;36m<module>\u001b[1;34m\u001b[0m\n\u001b[0;32m     <a href='file:///c%3A/Users/user/AppData/Local/Programs/Python/Python310/lib/site-packages/cppyy/__init__.py?line=77'>78</a>\u001b[0m     \u001b[39mfrom\u001b[39;00m \u001b[39m.\u001b[39;00m\u001b[39m_pypy_cppyy\u001b[39;00m \u001b[39mimport\u001b[39;00m \u001b[39m*\u001b[39m\n\u001b[0;32m     <a href='file:///c%3A/Users/user/AppData/Local/Programs/Python/Python310/lib/site-packages/cppyy/__init__.py?line=78'>79</a>\u001b[0m \u001b[39melse\u001b[39;00m:\n\u001b[1;32m---> <a href='file:///c%3A/Users/user/AppData/Local/Programs/Python/Python310/lib/site-packages/cppyy/__init__.py?line=79'>80</a>\u001b[0m     \u001b[39mfrom\u001b[39;00m \u001b[39m.\u001b[39;00m\u001b[39m_cpython_cppyy\u001b[39;00m \u001b[39mimport\u001b[39;00m \u001b[39m*\u001b[39m\n\u001b[0;32m     <a href='file:///c%3A/Users/user/AppData/Local/Programs/Python/Python310/lib/site-packages/cppyy/__init__.py?line=82'>83</a>\u001b[0m \u001b[39m#- allow importing from gbl --------------------------------------------------\u001b[39;00m\n\u001b[0;32m     <a href='file:///c%3A/Users/user/AppData/Local/Programs/Python/Python310/lib/site-packages/cppyy/__init__.py?line=83'>84</a>\u001b[0m sys\u001b[39m.\u001b[39mmodules[\u001b[39m'\u001b[39m\u001b[39mcppyy.gbl\u001b[39m\u001b[39m'\u001b[39m] \u001b[39m=\u001b[39m gbl\n",
      "File \u001b[1;32mc:\\Users\\user\\AppData\\Local\\Programs\\Python\\Python310\\lib\\site-packages\\cppyy\\_cpython_cppyy.py:20\u001b[0m, in \u001b[0;36m<module>\u001b[1;34m\u001b[0m\n\u001b[0;32m      <a href='file:///c%3A/Users/user/AppData/Local/Programs/Python/Python310/lib/site-packages/cppyy/_cpython_cppyy.py?line=6'>7</a>\u001b[0m __all__ \u001b[39m=\u001b[39m [\n\u001b[0;32m      <a href='file:///c%3A/Users/user/AppData/Local/Programs/Python/Python310/lib/site-packages/cppyy/_cpython_cppyy.py?line=7'>8</a>\u001b[0m     \u001b[39m'\u001b[39m\u001b[39mgbl\u001b[39m\u001b[39m'\u001b[39m,\n\u001b[0;32m      <a href='file:///c%3A/Users/user/AppData/Local/Programs/Python/Python310/lib/site-packages/cppyy/_cpython_cppyy.py?line=8'>9</a>\u001b[0m     \u001b[39m'\u001b[39m\u001b[39mload_reflection_info\u001b[39m\u001b[39m'\u001b[39m,\n\u001b[1;32m   (...)\u001b[0m\n\u001b[0;32m     <a href='file:///c%3A/Users/user/AppData/Local/Programs/Python/Python310/lib/site-packages/cppyy/_cpython_cppyy.py?line=14'>15</a>\u001b[0m     \u001b[39m'\u001b[39m\u001b[39m_end_capture_stderr\u001b[39m\u001b[39m'\u001b[39m\n\u001b[0;32m     <a href='file:///c%3A/Users/user/AppData/Local/Programs/Python/Python310/lib/site-packages/cppyy/_cpython_cppyy.py?line=15'>16</a>\u001b[0m     ]\n\u001b[0;32m     <a href='file:///c%3A/Users/user/AppData/Local/Programs/Python/Python310/lib/site-packages/cppyy/_cpython_cppyy.py?line=17'>18</a>\u001b[0m \u001b[39m# first load the dependency libraries of the backend, then pull in the\u001b[39;00m\n\u001b[0;32m     <a href='file:///c%3A/Users/user/AppData/Local/Programs/Python/Python310/lib/site-packages/cppyy/_cpython_cppyy.py?line=18'>19</a>\u001b[0m \u001b[39m# libcppyy extension module\u001b[39;00m\n\u001b[1;32m---> <a href='file:///c%3A/Users/user/AppData/Local/Programs/Python/Python310/lib/site-packages/cppyy/_cpython_cppyy.py?line=19'>20</a>\u001b[0m c \u001b[39m=\u001b[39m loader\u001b[39m.\u001b[39;49mload_cpp_backend()\n\u001b[0;32m     <a href='file:///c%3A/Users/user/AppData/Local/Programs/Python/Python310/lib/site-packages/cppyy/_cpython_cppyy.py?line=20'>21</a>\u001b[0m \u001b[39mimport\u001b[39;00m \u001b[39mlibcppyy\u001b[39;00m \u001b[39mas\u001b[39;00m \u001b[39m_backend\u001b[39;00m\n\u001b[0;32m     <a href='file:///c%3A/Users/user/AppData/Local/Programs/Python/Python310/lib/site-packages/cppyy/_cpython_cppyy.py?line=21'>22</a>\u001b[0m _backend\u001b[39m.\u001b[39m_cpp_backend \u001b[39m=\u001b[39m c\n",
      "File \u001b[1;32mc:\\Users\\user\\AppData\\Local\\Programs\\Python\\Python310\\lib\\site-packages\\cppyy_backend\\loader.py:85\u001b[0m, in \u001b[0;36mload_cpp_backend\u001b[1;34m()\u001b[0m\n\u001b[0;32m     <a href='file:///c%3A/Users/user/AppData/Local/Programs/Python/Python310/lib/site-packages/cppyy_backend/loader.py?line=81'>82</a>\u001b[0m     err \u001b[39m=\u001b[39m err\u001b[39m.\u001b[39munion(err2)\n\u001b[0;32m     <a href='file:///c%3A/Users/user/AppData/Local/Programs/Python/Python310/lib/site-packages/cppyy_backend/loader.py?line=83'>84</a>\u001b[0m \u001b[39mif\u001b[39;00m \u001b[39mnot\u001b[39;00m c:\n\u001b[1;32m---> <a href='file:///c%3A/Users/user/AppData/Local/Programs/Python/Python310/lib/site-packages/cppyy_backend/loader.py?line=84'>85</a>\u001b[0m     \u001b[39mraise\u001b[39;00m \u001b[39mRuntimeError\u001b[39;00m(\u001b[39m\"\u001b[39m\u001b[39mcould not load cppyy_backend library, details:\u001b[39m\u001b[39m\\n\u001b[39;00m\u001b[39m%s\u001b[39;00m\u001b[39m\"\u001b[39m \u001b[39m%\u001b[39m\n\u001b[0;32m     <a href='file:///c%3A/Users/user/AppData/Local/Programs/Python/Python310/lib/site-packages/cppyy_backend/loader.py?line=85'>86</a>\u001b[0m         \u001b[39m'\u001b[39m\u001b[39m\\n\u001b[39;00m\u001b[39m'\u001b[39m\u001b[39m.\u001b[39mjoin([\u001b[39m'\u001b[39m\u001b[39m  \u001b[39m\u001b[39m'\u001b[39m\u001b[39m+\u001b[39mx \u001b[39mfor\u001b[39;00m x \u001b[39min\u001b[39;00m err]))\n\u001b[0;32m     <a href='file:///c%3A/Users/user/AppData/Local/Programs/Python/Python310/lib/site-packages/cppyy_backend/loader.py?line=87'>88</a>\u001b[0m \u001b[39mreturn\u001b[39;00m c\n",
      "\u001b[1;31mRuntimeError\u001b[0m: could not load cppyy_backend library, details:\n  [WinError 1114] A dynamic link library (DLL) initialization routine failed\n  Could not find module 'c:\\Users\\user\\AppData\\Local\\Programs\\Python\\Python310\\lib\\site-packages\\cppyy_backend\\lib\\libcppyy_backend.cp310-win_amd64.pyd' (or one of its dependencies). Try using the full path with constructor syntax.\n  Could not find module 'libcppyy_backend.cp310-win_amd64.pyd' (or one of its dependencies). Try using the full path with constructor syntax.\n  Could not find module 'libcppyy_backend.dll' (or one of its dependencies). Try using the full path with constructor syntax."
     ]
    }
   ],
   "source": [
    "import cppyy"
   ]
  },
  {
   "cell_type": "code",
   "execution_count": 3,
   "metadata": {},
   "outputs": [
    {
     "data": {
      "text/plain": [
       "True"
      ]
     },
     "execution_count": 3,
     "metadata": {},
     "output_type": "execute_result"
    }
   ],
   "source": [
    "cppyy.cppdef(\"\"\"\n",
    "class Integer1 {\n",
    "public:\n",
    "    Integer1(int i) : m_data(i) {}\n",
    "    int m_data;\n",
    "};\"\"\")"
   ]
  },
  {
   "cell_type": "code",
   "execution_count": 4,
   "metadata": {},
   "outputs": [
    {
     "name": "stdout",
     "output_type": "stream",
     "text": [
      "<class cppyy.gbl.Integer1 at 0x000000000C5A05A0>\n"
     ]
    }
   ],
   "source": [
    "print(cppyy.gbl.Integer1)"
   ]
  },
  {
   "cell_type": "code",
   "execution_count": 5,
   "metadata": {},
   "outputs": [
    {
     "name": "stdout",
     "output_type": "stream",
     "text": [
      "Variable has an 'm_data' data member? Yes!\n",
      "Variable is an instance of int? No!\n",
      "Variable is an instance of Integer1? Yes!\n"
     ]
    }
   ],
   "source": [
    "# for convenience, bring Integer1 into __main__\n",
    "from cppyy.gbl import Integer1\n",
    "\n",
    "# create a C++ Integer1 object\n",
    "cpp_int = Integer1(42)\n",
    "\n",
    "# use Python inspection\n",
    "print(\"Variable has an 'm_data' data member?\", hasattr(cpp_int, 'm_data') and 'Yes!' or 'No!')\n",
    "print(\"Variable is an instance of int?\", isinstance(cpp_int, int) and 'Yes!' or 'No!')\n",
    "print(\"Variable is an instance of Integer1?\", isinstance(cpp_int, Integer1) and 'Yes!' or 'No!')"
   ]
  },
  {
   "cell_type": "code",
   "execution_count": 6,
   "metadata": {},
   "outputs": [
    {
     "data": {
      "text/plain": [
       "<class cppyy.gbl.Integer1 at 0x000000000C5A05A0>"
      ]
     },
     "execution_count": 6,
     "metadata": {},
     "output_type": "execute_result"
    }
   ],
   "source": [
    "type(cpp_int)"
   ]
  },
  {
   "cell_type": "code",
   "execution_count": 7,
   "metadata": {},
   "outputs": [
    {
     "name": "stdout",
     "output_type": "stream",
     "text": [
      "<cppyy.gbl.std.vector<Integer1> object at 0x000000000C6F19F0>\n",
      "0 1 2 3 4 5 6 7 8 9 "
     ]
    }
   ],
   "source": [
    "# pull in the STL vector class\n",
    "from cppyy.gbl.std import vector\n",
    "\n",
    "# create a vector of Integer1 objects; note how [] instantiates the template and () instantiates the class\n",
    "v = vector[Integer1]()\n",
    "\n",
    "# populate it\n",
    "v += [Integer1(j) for j in range(10)]\n",
    "\n",
    "# display our vector\n",
    "print(v)\n",
    "\n",
    "# display elements\n",
    "for v_i in v:\n",
    "    print(v_i.m_data ,end = ' ')"
   ]
  },
  {
   "cell_type": "code",
   "execution_count": 1,
   "metadata": {},
   "outputs": [
    {
     "name": "stdout",
     "output_type": "stream",
     "text": [
      "Hello Python!\n",
      "Hello C++!\n"
     ]
    }
   ],
   "source": [
    "import cppyy\n",
    "\n",
    "cppyy.cppdef(\"\"\"\n",
    "using namespace std;\n",
    "string say_hello() {\n",
    "     return \"Hello Python!\";\n",
    "}\n",
    "\"\"\")\n",
    "\n",
    "print(cppyy.gbl.say_hello())\n",
    "\n",
    "print(\"Hello C++!\")"
   ]
  },
  {
   "cell_type": "code",
   "execution_count": null,
   "metadata": {},
   "outputs": [],
   "source": []
  },
  {
   "cell_type": "code",
   "execution_count": null,
   "metadata": {},
   "outputs": [],
   "source": []
  }
 ],
 "metadata": {
  "interpreter": {
   "hash": "fb4569285eef3a3450cb62085a5b1e0da4bce0af555edc33dcf29baf3acc1368"
  },
  "kernelspec": {
   "display_name": "Python 3.10.2 64-bit",
   "language": "python",
   "name": "python3"
  },
  "language_info": {
   "codemirror_mode": {
    "name": "ipython",
    "version": 3
   },
   "file_extension": ".py",
   "mimetype": "text/x-python",
   "name": "python",
   "nbconvert_exporter": "python",
   "pygments_lexer": "ipython3",
   "version": "3.10.2"
  }
 },
 "nbformat": 4,
 "nbformat_minor": 4
}
