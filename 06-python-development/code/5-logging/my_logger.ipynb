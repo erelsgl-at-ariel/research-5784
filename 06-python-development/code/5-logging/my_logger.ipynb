{
 "cells": [
  {
   "cell_type": "code",
   "execution_count": 1,
   "metadata": {},
   "outputs": [],
   "source": [
    "import logging"
   ]
  },
  {
   "cell_type": "code",
   "execution_count": 2,
   "metadata": {},
   "outputs": [
    {
     "name": "stderr",
     "output_type": "stream",
     "text": [
      "Discriminant is negative!\n"
     ]
    },
    {
     "name": "stdout",
     "output_type": "stream",
     "text": [
      "(2.0, -2.0)\n",
      "(0, 0)\n"
     ]
    }
   ],
   "source": [
    "logger = logging.getLogger(\"quadratic\")\n",
    "\n",
    "# Example function\n",
    "def quadratic_formula(a:float, b:float ,c:float) -> float:\n",
    "    \"\"\" Returns the real solutions to the equation ax^2 + bx + c = 0  \"\"\"\n",
    "    import math\n",
    "    # logger.info(f'quadratic_formula({a},{b},{c})')  # NOTE: We deliberately use the old-style C format below, and NOT the f-string.\n",
    "    logger.info('quadratic_formula(%g,%g,%g)', a, b, c)\n",
    "    discri = b**2 - 4*a*c\n",
    "    logger.debug('Compute the discriminant: %g', discri)\n",
    "    if discri<0:\n",
    "        logger.warning('Discriminant is negative!')\n",
    "        return (0,0)\n",
    "    root_a = (-b + math.sqrt(discri))/(2*a)\n",
    "    logger.debug('Compute the positive root: %g', root_a)\n",
    "    root_b = (-b - math.sqrt(discri))/(2*a)\n",
    "    logger.debug('Compute the negative root: %g', root_b)\n",
    "    return root_a , root_b\n",
    "\n",
    "print(quadratic_formula(1, 0, -4))\n",
    "print(quadratic_formula(1, 0, 4))"
   ]
  },
  {
   "cell_type": "code",
   "execution_count": 3,
   "metadata": {},
   "outputs": [
    {
     "name": "stderr",
     "output_type": "stream",
     "text": [
      "Discriminant is negative!\n"
     ]
    },
    {
     "name": "stdout",
     "output_type": "stream",
     "text": [
      "(2.0, -2.0)\n",
      "(0, 0)\n"
     ]
    }
   ],
   "source": [
    "console = logging.StreamHandler()  # writes to stderr (= cerr)\n",
    "logger.handlers = [console]\n",
    "print(quadratic_formula(1, 0, -4))\n",
    "print(quadratic_formula(1, 0, 4))"
   ]
  },
  {
   "cell_type": "code",
   "execution_count": 4,
   "metadata": {},
   "outputs": [
    {
     "name": "stderr",
     "output_type": "stream",
     "text": [
      "quadratic_formula(1,0,-4)\n",
      "quadratic_formula(1,0,4)\n",
      "Discriminant is negative!\n"
     ]
    },
    {
     "name": "stdout",
     "output_type": "stream",
     "text": [
      "(2.0, -2.0)\n",
      "(0, 0)\n"
     ]
    }
   ],
   "source": [
    "logger = logging.getLogger(\"quadratic\")\n",
    "\n",
    "# Change logging level\n",
    "logger.setLevel(logging.INFO)\n",
    "print(quadratic_formula(1, 0, -4))\n",
    "print(quadratic_formula(1, 0, 4))"
   ]
  },
  {
   "cell_type": "code",
   "execution_count": null,
   "metadata": {},
   "outputs": [],
   "source": [
    "# Change logging level\n",
    "logger.setLevel(logging.DEBUG)\n",
    "print(quadratic_formula(1, 0, -4))\n",
    "print(quadratic_formula(1, 0, 4))"
   ]
  },
  {
   "cell_type": "code",
   "execution_count": null,
   "metadata": {},
   "outputs": [],
   "source": [
    "# Change logging format\n",
    "formatter = logging.Formatter('%(asctime)s: %(levelname)s: %(name)s: Line %(lineno)d: %(message)s')\n",
    "console.setFormatter(formatter)\n",
    "\n",
    "print(quadratic_formula(1, 0, -4))\n",
    "print(quadratic_formula(1, 0, 4))"
   ]
  },
  {
   "cell_type": "code",
   "execution_count": null,
   "metadata": {},
   "outputs": [],
   "source": [
    "logfile = logging.FileHandler(\"my_logger.log\", mode=\"w\")  # w = replace; r+ = append\n",
    "logger.handlers = [console, logfile] \n",
    "logfile.setFormatter(logging.Formatter('%(asctime)s: %(levelname)s: %(name)s: Line %(lineno)d: %(message)s'))\n",
    "console.setFormatter(logging.Formatter('Line %(lineno)d: %(message)s'))\n",
    "logfile.setLevel(logging.DEBUG)\n",
    "console.setLevel(logging.WARNING)  # log all messages to file, but only warnings and errors to the console\n",
    "\n",
    "print(quadratic_formula(1, 0, -4))\n",
    "print(quadratic_formula(1, 0, 4))"
   ]
  },
  {
   "cell_type": "code",
   "execution_count": null,
   "metadata": {},
   "outputs": [],
   "source": []
  }
 ],
 "metadata": {
  "kernelspec": {
   "display_name": "Python 3.10.2 64-bit",
   "language": "python",
   "name": "python3"
  },
  "language_info": {
   "codemirror_mode": {
    "name": "ipython",
    "version": 3
   },
   "file_extension": ".py",
   "mimetype": "text/x-python",
   "name": "python",
   "nbconvert_exporter": "python",
   "pygments_lexer": "ipython3",
   "version": "3.10.2"
  },
  "vscode": {
   "interpreter": {
    "hash": "fb4569285eef3a3450cb62085a5b1e0da4bce0af555edc33dcf29baf3acc1368"
   }
  }
 },
 "nbformat": 4,
 "nbformat_minor": 2
}
