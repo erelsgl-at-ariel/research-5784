{
 "cells": [
  {
   "cell_type": "markdown",
   "metadata": {},
   "source": [
    "# Magic methods (\"dunders\")\n",
    "\n",
    "## Operators"
   ]
  },
  {
   "cell_type": "code",
   "execution_count": 1,
   "metadata": {},
   "outputs": [],
   "source": [
    "class Gymatria:\n",
    "\n",
    "    _aleph_beth = None\n",
    "    \n",
    "    def __init__(self, expression:str) -> None:\n",
    "        self._expr = expression\n",
    "        self._expr_value = Gymatria.get_value(expression)\n",
    "    \n",
    "    @property\n",
    "    def expr(self) -> str:\n",
    "        return self._expr\n",
    "\n",
    "    @property\n",
    "    def expr_value(self)->int:\n",
    "        return self._expr_value\n",
    "\n",
    "    def __add__(self , other) -> int:  # operator+\n",
    "        return self.expr_value + other.expr_value\n",
    "\n",
    "    def __sub__(self , other) -> int:  # operator-\n",
    "        return abs(self.expr_value - other.expr_value)\n",
    "    \n",
    "    def __mul__(self , other) -> int:  # operator*\n",
    "        return self.expr_value * other.expr_value\n",
    "    \n",
    "    def __str__(self) -> str:\n",
    "        return f\"{self.expr} בגימטריה זה: {self.expr_value}\"\n",
    "\n",
    "\n",
    "    @classmethod\n",
    "    def get_value(cls,expression:str) -> int:\n",
    "        aleph_beth = cls.get_aleph_beth()\n",
    "        expr_value = 0\n",
    "        for ot in expression:\n",
    "            if ord('א') <= ord(ot) <= ord('ת'):\n",
    "                expr_value += aleph_beth[ot]\n",
    "        return expr_value\n",
    "\n",
    "    @classmethod\n",
    "    def get_aleph_beth(cls):\n",
    "        if cls._aleph_beth == None:\n",
    "            cls._set_aleph_beth()\n",
    "        return cls.aleph_beth\n",
    "\n",
    "    @classmethod\n",
    "    def ot_sofit(cls, ot: str)-> bool:\n",
    "        cls.otiot_sofiot = ['ץ','ך','ף','ן','ם']\n",
    "        if ot in cls.otiot_sofiot:\n",
    "            return True\n",
    "        return False\n",
    "\n",
    "    @classmethod\n",
    "    def _set_aleph_beth(cls) -> None:\n",
    "        ot_num = ord('א')\n",
    "        cls.aleph_beth={}\n",
    "        val = 1\n",
    "        for i in range(27):\n",
    "            cls.aleph_beth[chr(ot_num+i)] = val\n",
    "            if not cls.ot_sofit(chr(ot_num+i)):\n",
    "                if 90 >= val >= 10:\n",
    "                    val+=10\n",
    "                elif val >= 100:\n",
    "                    val+= 100 \n",
    "                else: val+=1"
   ]
  },
  {
   "cell_type": "code",
   "execution_count": 2,
   "metadata": {},
   "outputs": [
    {
     "name": "stdout",
     "output_type": "stream",
     "text": [
      "אבא בגימטריה זה: 4\n",
      "אמא בגימטריה זה: 42\n",
      "אבא+אמא בגימטריה = 46\n",
      "אבא-אמא בגימטריה = 38\n",
      "אבא*אמא בגימטריה = 168\n"
     ]
    }
   ],
   "source": [
    "\n",
    "aba = Gymatria('אבא')\n",
    "ima = Gymatria('אמא')\n",
    "\n",
    "print(aba)  #  calls __str__ method\n",
    "print(ima)\n",
    "print(f'אבא+אמא בגימטריה = {ima+aba}')  # calls __add__\n",
    "print(f'אבא-אמא בגימטריה = {aba-ima}')\n",
    "print(f'אבא*אמא בגימטריה = {ima*aba}')"
   ]
  },
  {
   "cell_type": "markdown",
   "metadata": {},
   "source": [
    "## Construction: the 'new' dunder"
   ]
  },
  {
   "cell_type": "code",
   "execution_count": 3,
   "metadata": {},
   "outputs": [
    {
     "name": "stdout",
     "output_type": "stream",
     "text": [
      "<class '__main__.Addition'>\n",
      "10\n",
      "<class '__main__.Subtraction'>\n",
      "6\n"
     ]
    }
   ],
   "source": [
    "# Example based on sympy\n",
    "from abc import abstractmethod\n",
    "\n",
    "class Expression:\n",
    "    @abstractmethod\n",
    "    def evaluate(self, variable_value):\n",
    "        pass\n",
    "\n",
    "class Variable(Expression):\n",
    "    def evaluate(self, variable_value):\n",
    "        return variable_value\n",
    "\n",
    "class Addition(Expression):\n",
    "    def __init__(self, lhs, rhs):\n",
    "        self.lhs = lhs\n",
    "        self.rhs = rhs\n",
    "    def evaluate(self, variable_value):\n",
    "        return self.lhs.evaluate(variable_value) + self.rhs.evaluate(variable_value)\n",
    "\n",
    "class Subtraction(Expression):\n",
    "    def __init__(self, lhs, rhs):\n",
    "        self.lhs = lhs\n",
    "        self.rhs = rhs\n",
    "    def evaluate(self, variable_value):\n",
    "        return self.lhs.evaluate(variable_value) - self.rhs.evaluate(variable_value)\n",
    "\n",
    "\n",
    "v = Variable()\n",
    "\n",
    "e1 = Addition(v,v)\n",
    "print(type(e1))\n",
    "print(e1.evaluate(5))\n",
    "\n",
    "e2 = Subtraction(e1,v)\n",
    "print(type(e2))\n",
    "print(e2.evaluate(6))"
   ]
  },
  {
   "cell_type": "code",
   "execution_count": 24,
   "metadata": {},
   "outputs": [
    {
     "name": "stdout",
     "output_type": "stream",
     "text": [
      "<class '__main__.Addition'>\n",
      "10\n",
      "<class '__main__.Subtraction'>\n",
      "6\n"
     ]
    }
   ],
   "source": [
    "# Example based on sympy\n",
    "from abc import abstractmethod\n",
    "\n",
    "\n",
    "class Expression:\n",
    "    \"\"\"\n",
    "    Defines an expression in a single variable.\n",
    "    \"\"\"\n",
    "    def __new__(cls, *args, **kwargs):\n",
    "        if len(args)>=3:\n",
    "            lhs, operator, rhs = args\n",
    "            if operator=='+':\n",
    "                cls=Addition\n",
    "            elif operator=='-':\n",
    "                cls=Subtraction\n",
    "            else:\n",
    "                raise ValueError(f\"Unknown operator {operator}\")\n",
    "        return super().__new__(cls)\n",
    "\n",
    "    @abstractmethod\n",
    "    def evaluate(self, variable_value):\n",
    "        pass\n",
    "\n",
    "class Variable(Expression):\n",
    "    def evaluate(self, variable_value):\n",
    "        return variable_value\n",
    "\n",
    "class Addition(Expression):\n",
    "    def __init__(self, lhs, _, rhs):\n",
    "        self.lhs = lhs\n",
    "        self.rhs = rhs\n",
    "\n",
    "    def evaluate(self, variable_value):\n",
    "        return self.lhs.evaluate(variable_value) + self.rhs.evaluate(variable_value)\n",
    "\n",
    "class Subtraction(Expression):\n",
    "    def __init__(self, lhs, _, rhs):\n",
    "        self.lhs = lhs\n",
    "        self.rhs = rhs\n",
    "\n",
    "    def evaluate(self, variable_value):\n",
    "        return self.lhs.evaluate(variable_value) - self.rhs.evaluate(variable_value)\n",
    "\n",
    "\n",
    "v = Variable()\n",
    "\n",
    "e1 = Expression(v, '+', v)\n",
    "print(type(e1))\n",
    "print(e1.evaluate(5))\n",
    "\n",
    "e2 = Expression(e1, '-', v)\n",
    "print(type(e2))\n",
    "print(e2.evaluate(6))"
   ]
  },
  {
   "cell_type": "markdown",
   "metadata": {},
   "source": [
    "## Adding and deleting fields and methods"
   ]
  },
  {
   "cell_type": "code",
   "execution_count": 4,
   "metadata": {},
   "outputs": [
    {
     "name": "stdout",
     "output_type": "stream",
     "text": [
      "something\n"
     ]
    }
   ],
   "source": [
    "# It is possible to add new fields \"on the fly\":\n",
    "\n",
    "class Empty:\n",
    "    pass\n",
    "empty = Empty()\n",
    "empty.something = \"something\"\n",
    "print(empty.something)"
   ]
  },
  {
   "cell_type": "code",
   "execution_count": 5,
   "metadata": {},
   "outputs": [
    {
     "name": "stdout",
     "output_type": "stream",
     "text": [
      "אבאאמא בגימטריה זה: 46\n"
     ]
    }
   ],
   "source": [
    "# It is possible to add new methods \"on the fly\":\n",
    "def iadd(self, other):\n",
    "    self._expr += other._expr\n",
    "    self._expr_value += other._expr_value\n",
    "    return self\n",
    "Gymatria.__iadd__ = iadd   # operator+=\n",
    "\n",
    "aba += ima\n",
    "print(aba)"
   ]
  },
  {
   "cell_type": "code",
   "execution_count": 6,
   "metadata": {},
   "outputs": [
    {
     "name": "stdout",
     "output_type": "stream",
     "text": [
      "[1, 2]\n"
     ]
    },
    {
     "ename": "NameError",
     "evalue": "name 'x' is not defined",
     "output_type": "error",
     "traceback": [
      "\u001b[1;31m---------------------------------------------------------------------------\u001b[0m",
      "\u001b[1;31mNameError\u001b[0m                                 Traceback (most recent call last)",
      "\u001b[1;32md:\\Dropbox\\ariel-research\\research-5783\\03-python-oop\\code\\3.magic methods.ipynb Cell 10\u001b[0m in \u001b[0;36m<module>\u001b[1;34m\u001b[0m\n\u001b[0;32m      <a href='vscode-notebook-cell:/d%3A/Dropbox/ariel-research/research-5783/03-python-oop/code/3.magic%20methods.ipynb#X12sZmlsZQ%3D%3D?line=3'>4</a>\u001b[0m \u001b[39mprint\u001b[39m(x)\n\u001b[0;32m      <a href='vscode-notebook-cell:/d%3A/Dropbox/ariel-research/research-5783/03-python-oop/code/3.magic%20methods.ipynb#X12sZmlsZQ%3D%3D?line=4'>5</a>\u001b[0m \u001b[39mdel\u001b[39;00m x\n\u001b[1;32m----> <a href='vscode-notebook-cell:/d%3A/Dropbox/ariel-research/research-5783/03-python-oop/code/3.magic%20methods.ipynb#X12sZmlsZQ%3D%3D?line=5'>6</a>\u001b[0m \u001b[39mprint\u001b[39m(x)\n",
      "\u001b[1;31mNameError\u001b[0m: name 'x' is not defined"
     ]
    }
   ],
   "source": [
    "# Deleting variables:\n",
    "\n",
    "x = [1,2]\n",
    "print(x)\n",
    "del x\n",
    "print(x) #=> NameError"
   ]
  },
  {
   "cell_type": "code",
   "execution_count": 7,
   "metadata": {},
   "outputs": [
    {
     "name": "stdout",
     "output_type": "stream",
     "text": [
      "אבאאמא בגימטריה זה: 46\n",
      "<__main__.Gymatria object at 0x0000020F229CE1A0>\n"
     ]
    }
   ],
   "source": [
    "# Deleting methods:\n",
    "\n",
    "print(aba)\n",
    "del Gymatria.__str__\n",
    "print(aba)"
   ]
  },
  {
   "cell_type": "markdown",
   "metadata": {},
   "source": [
    "## Casting"
   ]
  },
  {
   "cell_type": "code",
   "execution_count": 29,
   "metadata": {},
   "outputs": [],
   "source": [
    "Gymatria.__int__ = lambda self: self.expr_value\n",
    "Gymatria.__str__ = lambda self: f\"{self.expr} בגימטריה זה: {self.expr_value}\"  # __str__ is for end-users.\n",
    "Gymatria.__float__ = lambda self: float(self.expr_value)"
   ]
  },
  {
   "cell_type": "code",
   "execution_count": 30,
   "metadata": {},
   "outputs": [
    {
     "name": "stdout",
     "output_type": "stream",
     "text": [
      "46\n",
      "אבאאמא בגימטריה זה: 46\n",
      "46.0\n"
     ]
    }
   ],
   "source": [
    "print(int(aba))\n",
    "print(str(aba))\n",
    "print(float(aba))"
   ]
  },
  {
   "cell_type": "code",
   "execution_count": 9,
   "metadata": {},
   "outputs": [
    {
     "name": "stdout",
     "output_type": "stream",
     "text": [
      "Gymatria('שלום')\n",
      "Gymatria('שלום')\n",
      "Gymatria('שלום')\n",
      "List of reprs:  [Gymatria('שלום'), Gymatria('עולם')]\n",
      "List of strs :  [\"Gymatria('שלום')\", \"Gymatria('עולם')\"]\n",
      "List of strs :  [\"Gymatria('שלום')\", \"Gymatria('עולם')\"]\n"
     ]
    }
   ],
   "source": [
    "Gymatria.__repr__ = lambda self: f\"Gymatria({self.expr!r})\"  # __repr__ is for unique system representation.\n",
    "shalom = Gymatria(\"שלום\")\n",
    "print(shalom)\n",
    "print(repr(shalom))\n",
    "shalom2 = eval(repr(shalom))\n",
    "print(shalom2)\n",
    "gymatria_list = [shalom,Gymatria(\"עולם\")]\n",
    "print(\"List of reprs: \", gymatria_list)\n",
    "print(\"List of strs : \", [str(x) for x in gymatria_list])\n",
    "print(\"List of strs : \", list(map(str, gymatria_list)))"
   ]
  },
  {
   "cell_type": "code",
   "execution_count": 10,
   "metadata": {},
   "outputs": [
    {
     "name": "stdout",
     "output_type": "stream",
     "text": [
      "[Gymatria('שלום'), Gymatria('עולם'), Gymatria('צה\"ל'), Gymatria(\"וכו'\")]\n"
     ]
    }
   ],
   "source": [
    "gymatria_list.append(Gymatria('צה\"ל'))\n",
    "gymatria_list.append(Gymatria(\"וכו'\"))\n",
    "print(gymatria_list)"
   ]
  },
  {
   "cell_type": "markdown",
   "metadata": {},
   "source": [
    "## Context manager - enter and exit"
   ]
  },
  {
   "cell_type": "code",
   "execution_count": 11,
   "metadata": {},
   "outputs": [
    {
     "name": "stdout",
     "output_type": "stream",
     "text": [
      "init method called\n",
      "enter method called\n",
      "with statement block\n",
      "exit method called\n"
     ]
    }
   ],
   "source": [
    "class ContextManager(): \n",
    "    def __init__(self): \n",
    "        print('init method called') \n",
    "    def __enter__(self): \n",
    "        print('enter method called') \n",
    "        return self\n",
    "    def __exit__(self, exc_type, exc_value, exc_traceback): \n",
    "        print('exit method called') \n",
    "\n",
    "with ContextManager() as manager:\n",
    "    print('with statement block') "
   ]
  },
  {
   "cell_type": "code",
   "execution_count": 12,
   "metadata": {},
   "outputs": [
    {
     "name": "stdout",
     "output_type": "stream",
     "text": [
      "In with:  False\n",
      "After with:  True\n",
      "In with:  False\n",
      "After with:  True\n"
     ]
    }
   ],
   "source": [
    "# This example illustrates how \"with\" works with files:\n",
    "\n",
    "class FileManager():\n",
    "    def __init__(self, filename, mode, encoding=\"utf-8\"): \n",
    "        self.filename = filename \n",
    "        self.mode = mode \n",
    "        self.file = None\n",
    "        self.encoding = encoding\n",
    "\n",
    "    def __enter__(self):  \n",
    "        self.file = open(self.filename, self.mode ,encoding=self.encoding)\n",
    "        return self.file\n",
    "      \n",
    "    def __exit__(self, exc_type, exc_value, exc_traceback): \n",
    "        self.file.close() \n",
    "  \n",
    "# Using file manager:\n",
    "with FileManager('test.txt', 'w') as f: \n",
    "    for word in [\"a\",\"b\",\"c\"]:\n",
    "        f.write(str(word)+'\\n')\n",
    "    print(\"In with: \", f.closed)        \n",
    "print(\"After with: \", f.closed)\n",
    "\n",
    "# Using Python's file:\n",
    "with open('test.txt', 'w') as f:\n",
    "    for word in [\"a\",\"b\",\"c\"]:\n",
    "        f.write(str(word)+'\\n')\n",
    "    print(\"In with: \", f.closed)\n",
    "print(\"After with: \", f.closed)"
   ]
  },
  {
   "cell_type": "markdown",
   "metadata": {},
   "source": [
    "## Operators on lists and sets"
   ]
  },
  {
   "cell_type": "code",
   "execution_count": 13,
   "metadata": {},
   "outputs": [],
   "source": [
    "class Node:\n",
    "    def __init__(self,data:object = None, next = None ,prev = None)->None:\n",
    "        self.data = data\n",
    "        self.next = next\n",
    "        self.prev = prev\n",
    "    def __repr__(self) ->str:\n",
    "        return f\"Node({self.data!r})\"\n",
    "\n",
    "class LinkedList:\n",
    "    def __init__(self) ->None:\n",
    "        self._head = None\n",
    "        self._tail = Node(None)\n",
    "        self._size = 0\n",
    "\n",
    "    def __len__(self) ->int:  # operator len(...)\n",
    "        return self._size\n",
    "\n",
    "    def _getnode(self, index:int):  \n",
    "        if index >= self._size or index < 0: raise IndexError(\"invalid input, index out of range\")\n",
    "        temp = self._head\n",
    "        for i in range(index):\n",
    "            temp = temp.next\n",
    "        return temp\n",
    "    \n",
    "    def __getitem__(self, index:int):  # operator[] for reading\n",
    "        return self._getnode(index).data\n",
    "\n",
    "    def __setitem__(self , index:int, value:object) ->None:   # operator[] for writing\n",
    "        self._getnode(index).data = value\n",
    "    \n",
    "    def __contains__(self , value:object) ->None:   # operator \"in\"\n",
    "        temp = self._head\n",
    "        while temp is not None:\n",
    "            if temp.data==value:\n",
    "                return True\n",
    "            temp = temp.next\n",
    "        return False\n",
    "    \n",
    "    def __delitem__(self , index:int) ->None:   # operator \"del\"\n",
    "        if index==0:\n",
    "            self._head = self._getnode(index+1)\n",
    "            self._head.prev = None\n",
    "        else:\n",
    "            prev_node = self._getnode(index-1)\n",
    "            next_node = self._getnode(index+1)\n",
    "            prev_node.next , next_node.prev = next_node ,prev_node\n",
    "        self._size-=1\n",
    "    \n",
    "    def insert(self, new_value , index :int = None):\n",
    "        new_node = Node(new_value)\n",
    "        if index == None:\n",
    "            if self._head == None:\n",
    "                self._head = new_node\n",
    "                self._head.next = self._tail\n",
    "                self._tail.prev = self._head\n",
    "                self._head.prev = None\n",
    "            else:\n",
    "                (self._tail.prev).next, new_node.prev = new_node , self._tail.prev\n",
    "                self._tail.prev , new_node.next =  new_node , self._tail\n",
    "            self._size += 1\n",
    "            return self\n",
    "\n",
    "    def __str__(self) -> str:\n",
    "        s = \" \"\n",
    "        temp = self._head\n",
    "        while temp != self._tail:\n",
    "            if temp != self._tail.prev:\n",
    "               s += f\"{temp} -> \"\n",
    "            else: s += f\"{temp}\"\n",
    "            temp = temp.next\n",
    "        return s\n",
    "\n",
    "    def __repr__(self) ->str:\n",
    "        temp = self._head\n",
    "        s = \"LinkedList()\"\n",
    "        while temp != self._tail:\n",
    "            s += f\".insert({temp.data})\"\n",
    "\n",
    "            temp = temp.next\n",
    "        return s"
   ]
  },
  {
   "cell_type": "code",
   "execution_count": 14,
   "metadata": {},
   "outputs": [
    {
     "name": "stdout",
     "output_type": "stream",
     "text": [
      "linked_list =  Node(1) -> Node(3) -> Node(5) -> Node(7) -> Node(9) -> Node(11) -> Node(13)\n",
      "linked_list[3] = 7\n",
      "len(linked_list) = 7\n",
      "3 in linked_list: True. 4 in linked_list: False. \n",
      "LinkedList().insert(1).insert(3).insert(5).insert(7).insert(9).insert(11).insert(13)\n",
      " Node(1) -> Node(3) -> Node(5) -> Node('Tom Pythonovitz') -> Node(9) -> Node(11) -> Node(13)\n",
      " Node(3) -> Node(5) -> Node('Tom Pythonovitz') -> Node(9) -> Node(11) -> Node(13)\n"
     ]
    }
   ],
   "source": [
    "linked_list = LinkedList()\n",
    "# linked_list[0] = 3  => IndexError\n",
    "# linked_list[len(linked_list)] => IndexError\n",
    "for i in range(1,15,2):\n",
    "    linked_list.insert(i)\n",
    "print(f\"linked_list = {linked_list}\")  # calls __str__ method\n",
    "print(f\"linked_list[3] = {linked_list[3]}\")   # calls __getitem__ method\n",
    "print(f\"len(linked_list) = {len(linked_list)}\")   # calls __len__ method\n",
    "print(f\"3 in linked_list: {3 in linked_list}. 4 in linked_list: {4 in linked_list}. \")\n",
    "r = repr(linked_list)   # calls __repr__ method\n",
    "print(r)\n",
    "linl = eval(r)   # calls __repr__ method\n",
    "linl[3] = \"Tom Pythonovitz\"  # calls __setitem__ method\n",
    "print(linl)\n",
    "del(linl[0])   # calls __delitem__ method\n",
    "print(linl)"
   ]
  }
 ],
 "metadata": {
  "kernelspec": {
   "display_name": "Python 3.10.2 64-bit",
   "language": "python",
   "name": "python3"
  },
  "language_info": {
   "codemirror_mode": {
    "name": "ipython",
    "version": 3
   },
   "file_extension": ".py",
   "mimetype": "text/x-python",
   "name": "python",
   "nbconvert_exporter": "python",
   "pygments_lexer": "ipython3",
   "version": "3.10.2"
  },
  "orig_nbformat": 2,
  "vscode": {
   "interpreter": {
    "hash": "fb4569285eef3a3450cb62085a5b1e0da4bce0af555edc33dcf29baf3acc1368"
   }
  }
 },
 "nbformat": 4,
 "nbformat_minor": 2
}
