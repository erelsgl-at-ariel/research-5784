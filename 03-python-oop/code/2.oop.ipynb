{
 "cells": [
  {
   "cell_type": "markdown",
   "metadata": {},
   "source": [
    "## Classes in Python"
   ]
  },
  {
   "cell_type": "code",
   "execution_count": 1,
   "metadata": {},
   "outputs": [],
   "source": [
    "class EmptyClass:\n",
    "    pass"
   ]
  },
  {
   "cell_type": "markdown",
   "metadata": {},
   "source": [
    "In Python, you do not have to declare \"member fields\". You can define them in the constructor, or anywhere else."
   ]
  },
  {
   "cell_type": "code",
   "execution_count": 12,
   "metadata": {},
   "outputs": [
    {
     "name": "stdout",
     "output_type": "stream",
     "text": [
      "Kookoo species: Gallus gallus\n",
      "Dog species: Canis familiaris\n",
      "Rexi species: Canis familiaris\n",
      "xyz\n",
      "my species is:  Canis familiaris\n",
      "my species is:  Gallus gallus\n"
     ]
    },
    {
     "ename": "TypeError",
     "evalue": "Dog.method_written_by_cpp_expert() takes 0 positional arguments but 1 was given",
     "output_type": "error",
     "traceback": [
      "\u001b[1;31m---------------------------------------------------------------------------\u001b[0m",
      "\u001b[1;31mTypeError\u001b[0m                                 Traceback (most recent call last)",
      "\u001b[1;32md:\\Dropbox\\ariel-research\\research-5783\\03-python-oop\\code\\2.oop.ipynb Cell 4\u001b[0m in \u001b[0;36m<module>\u001b[1;34m\u001b[0m\n\u001b[0;32m     <a href='vscode-notebook-cell:/d%3A/Dropbox/ariel-research/research-5783/03-python-oop/code/2.oop.ipynb#W3sZmlsZQ%3D%3D?line=32'>33</a>\u001b[0m rexi\u001b[39m.\u001b[39mprint_my_species()\n\u001b[0;32m     <a href='vscode-notebook-cell:/d%3A/Dropbox/ariel-research/research-5783/03-python-oop/code/2.oop.ipynb#W3sZmlsZQ%3D%3D?line=33'>34</a>\u001b[0m kookoo\u001b[39m.\u001b[39mprint_my_species()\n\u001b[1;32m---> <a href='vscode-notebook-cell:/d%3A/Dropbox/ariel-research/research-5783/03-python-oop/code/2.oop.ipynb#W3sZmlsZQ%3D%3D?line=35'>36</a>\u001b[0m kookoo\u001b[39m.\u001b[39;49mmethod_written_by_cpp_expert()\n\u001b[0;32m     <a href='vscode-notebook-cell:/d%3A/Dropbox/ariel-research/research-5783/03-python-oop/code/2.oop.ipynb#W3sZmlsZQ%3D%3D?line=37'>38</a>\u001b[0m Dog\u001b[39m.\u001b[39mmethod_written_by_cpp_expert()\n",
      "\u001b[1;31mTypeError\u001b[0m: Dog.method_written_by_cpp_expert() takes 0 positional arguments but 1 was given"
     ]
    }
   ],
   "source": [
    "class Dog:\n",
    "    # CONSTRUCTOR: object (non-static) attributes are defined here:\n",
    "    def __init__(self, name:str, age:int, gender:str = 'male'):\n",
    "        # Why 'self'? Because \"explicit is better than implicit\".\n",
    "        self.name = name\n",
    "        self.age = age\n",
    "        self.gender = gender\n",
    "\n",
    "    # class (\"static\") attribute is defined outside the functions:\n",
    "    species = \"Canis familiaris\"\n",
    "\n",
    "    def print_my_species(self):\n",
    "        print(\"my species is: \", self.species)\n",
    "\n",
    "    def method_written_by_cpp_expert():\n",
    "        print(\"I am a C++ expert\")\n",
    "\n",
    "\n",
    "rexi = Dog(\"Rexi\", 3)\n",
    "kookoo = Dog(\"Kookoo\", 0.5)\n",
    "kookoo.species = \"Gallus gallus\"\n",
    "print(f\"Kookoo species: {kookoo.species}\")\n",
    "print(f\"Dog species: {Dog.species}\")\n",
    "print(f\"Rexi species: {rexi.species}\")\n",
    "\n",
    "rexi.xyz = \"xyz\" # create a custom field\n",
    "print(rexi.xyz)\n",
    "# print(kookoo.xyz) # Error\n",
    "\n",
    "# del kookoo.species\n",
    "# print(f\"Kookoo species: {kookoo.species}\")\n",
    "\n",
    "rexi.print_my_species()\n",
    "kookoo.print_my_species()\n",
    "\n",
    "kookoo.method_written_by_cpp_expert()"
   ]
  },
  {
   "cell_type": "code",
   "execution_count": 7,
   "metadata": {},
   "outputs": [],
   "source": [
    "class Dog:\n",
    "    species = \"Canis familiaris\"\n",
    "\n",
    "    def __init__(self, name, age , gender='male'):\n",
    "        self.name = name\n",
    "        self.age = age\n",
    "        self.gender= gender\n",
    "\n",
    "    # Instance method\n",
    "    def description(self):\n",
    "        return f\"{self.name} is {self.age} years old\"\n",
    "\n",
    "    # Another instance method\n",
    "    def speak(self, sound):\n",
    "        return f\"{self.name} says: {sound}\""
   ]
  },
  {
   "cell_type": "code",
   "execution_count": 8,
   "metadata": {},
   "outputs": [
    {
     "name": "stdout",
     "output_type": "stream",
     "text": [
      "Rexi is 3 years old\n",
      "Rexi is 3 years old\n",
      "Rexi says: I'm a dog, I can't speak!\n"
     ]
    }
   ],
   "source": [
    "rexi = Dog(\"Rexi\", 3)\n",
    "print(rexi.description())\n",
    "print(Dog.description(rexi)) # equivalent\n",
    "print(rexi.speak(\"I'm a dog, I can't speak!\"))"
   ]
  },
  {
   "cell_type": "code",
   "execution_count": 9,
   "metadata": {},
   "outputs": [
    {
     "name": "stdout",
     "output_type": "stream",
     "text": [
      "\n",
      " >:-) whahaha! You have infected all the dogs in the world!\n",
      "Experiment X species: Felis silvestris\n",
      "Guffy species: Felis silvestris\n",
      "\n",
      " >:-) whahaha! You have infected all the dogs in the world!\n",
      "Experiment X species: Felix 2\n",
      "Guffy species: Felix 2\n",
      "Experiment X species: Felix 2\n",
      "Guffy species: TestMut\n"
     ]
    }
   ],
   "source": [
    "# classmethod gets the class as parameter ('cls') instead of the object ('self')\n",
    "\n",
    "# Dog: {species = \"Canis\"}\n",
    "# rexi: {species = None}\n",
    "# kookoo: {species = \"kookoo\"}\n",
    "\n",
    "# rexi.species:\n",
    "\n",
    "class Dog:\n",
    "    species = \"Canis familiaris\"\n",
    "\n",
    "    def __init__(self, name, age , gender='male'):\n",
    "        self.name = name\n",
    "        self.age = age\n",
    "        self.gender= gender\n",
    "\n",
    "    def mutation(self, new_species):\n",
    "        self.species = new_species\n",
    "\n",
    "    @classmethod\n",
    "    def contagious_mutation(cls, new_species):\n",
    "        cls.species = new_species\n",
    "        print('\\n >:-) whahaha! You have infected all the dogs in the world!') \n",
    "\n",
    "guffy= Dog('Guffy',2)\n",
    "catdog_mutation = Dog(\"Experiment X\",0.2,gender='unknown')\n",
    "\n",
    "catdog_mutation.contagious_mutation('Felis silvestris')\n",
    "print(f\"Experiment X species: {catdog_mutation.species}\")\n",
    "print(f\"Guffy species: {guffy.species}\")\n",
    "\n",
    "Dog.contagious_mutation('Felix 2') # We can call classmethod from the class itself, without an object\n",
    "print(f\"Experiment X species: {catdog_mutation.species}\")\n",
    "print(f\"Guffy species: {guffy.species}\")\n",
    "\n",
    "guffy.mutation(\"TestMut\")\n",
    "print(f\"Experiment X species: {catdog_mutation.species}\")\n",
    "print(f\"Guffy species: {guffy.species}\")"
   ]
  },
  {
   "cell_type": "code",
   "execution_count": 10,
   "metadata": {},
   "outputs": [],
   "source": [
    "# staticmethod does gets neither the class nor the object.\n",
    "\n",
    "class Maze:\n",
    "    @staticmethod\n",
    "    def get_predetermined_maze():\n",
    "        return  f\"\"\"\n",
    "            # # # # # # # # # # # # # # #\n",
    "            # S                     #   #\n",
    "            #         #             #   #\n",
    "            # # # #             #   #   #\n",
    "            #                   #   #   #\n",
    "            #               # # # # #   #\n",
    "            #                           #\n",
    "            #                           #\n",
    "            # # # # # #       # # # #   #\n",
    "            #                         E #\n",
    "            # # # # # # # # # # # # # # #\n",
    "        \"\"\"\n",
    "    @staticmethod\n",
    "    def maze_solver(maze:str)-> str:       \n",
    "        #TODO: implement maze solver using BFS\n",
    "        pass\n",
    "    \n",
    "    @staticmethod \n",
    "    def maze_generator()->str:\n",
    "        #TODO: implement the maze generator using prim \n",
    "        pass\n",
    "\n"
   ]
  },
  {
   "cell_type": "code",
   "execution_count": 17,
   "metadata": {},
   "outputs": [
    {
     "name": "stdout",
     "output_type": "stream",
     "text": [
      "\n",
      "            # # # # # # # # # # # # # # #\n",
      "            # S                     #   #\n",
      "            #         #             #   #\n",
      "            # # # #             #   #   #\n",
      "            #                   #   #   #\n",
      "            #               # # # # #   #\n",
      "            #                           #\n",
      "            #                           #\n",
      "            # # # # # #       # # # #   #\n",
      "            #                         E #\n",
      "            # # # # # # # # # # # # # # #\n",
      "        \n"
     ]
    }
   ],
   "source": [
    "print(Maze.get_predetermined_maze())"
   ]
  },
  {
   "cell_type": "markdown",
   "metadata": {},
   "source": [
    "## Inheritance"
   ]
  },
  {
   "cell_type": "code",
   "execution_count": 13,
   "metadata": {},
   "outputs": [
    {
     "name": "stdout",
     "output_type": "stream",
     "text": [
      "is volvo an instance of Car? True\n",
      "is volvo an instance of Vehicle? True\n",
      "is volvo an instance of object? True\n",
      "is v1 an instance of Car? False\n",
      "is v1 an instance of Vehicle? True\n",
      "is v1 an instance of object? True\n"
     ]
    }
   ],
   "source": [
    "class Vehicle: \n",
    "    pass\n",
    " \n",
    "class Car(Vehicle):\n",
    "    pass\n",
    "\n",
    "volvo = Car()\n",
    "v1 = Vehicle()\n",
    "#isinstance\n",
    "print(f\"is volvo an instance of Car? {isinstance(volvo, Car)}\")\n",
    "print(f\"is volvo an instance of Vehicle? {isinstance(volvo, Vehicle)}\")\n",
    "print(f\"is volvo an instance of object? {isinstance(volvo, object)}\")\n",
    "print(f\"is v1 an instance of Car? {isinstance(v1, Car)}\")\n",
    "print(f\"is v1 an instance of Vehicle? {isinstance(v1, Vehicle)}\")\n",
    "print(f\"is v1 an instance of object? {isinstance(v1, object)}\")\n"
   ]
  },
  {
   "cell_type": "markdown",
   "metadata": {},
   "source": [
    "### Calling parent methods"
   ]
  },
  {
   "cell_type": "code",
   "execution_count": 14,
   "metadata": {},
   "outputs": [],
   "source": [
    "class Country():\n",
    "    def capital(self): \n",
    "        return \"{} is the the capital of {}\"\n",
    "   \n",
    "    def language(self): \n",
    "        return \"{} is the the language of {}\"\n",
    "   \n",
    "    def population(self): \n",
    "        pass\n",
    "\n",
    "class Usa(Country):  \n",
    "    def capital(self): \n",
    "        # Method 1 - use super():\n",
    "        return super().capital().format(\"Washington, D.C.\",\"USA\") \n",
    "\n",
    "    def language(self): \n",
    "        # Method 2 - use parent class name, and pass 'self' as argument:\n",
    "        return Country.language(self).format(\"English\",\"USA\") \n",
    "   \n",
    "    def population(self): \n",
    "        return '~328,239,523'"
   ]
  },
  {
   "cell_type": "code",
   "execution_count": 15,
   "metadata": {},
   "outputs": [
    {
     "name": "stdout",
     "output_type": "stream",
     "text": [
      "USA:\n",
      "Capital: Washington, D.C. is the the capital of USA\n",
      "language: English is the the language of USA\n",
      "population: ~328,239,523\n"
     ]
    }
   ],
   "source": [
    "usa= Usa()\n",
    "print(\"USA:\")\n",
    "print(f\"Capital: {usa.capital()}\")\n",
    "print(f\"language: {usa.language()}\")\n",
    "print(f\"population: {usa.population()}\")"
   ]
  },
  {
   "cell_type": "markdown",
   "metadata": {},
   "source": [
    "## \"Private\" fields\n",
    "\n",
    "In a Python class, all fields are public. "
   ]
  },
  {
   "cell_type": "code",
   "execution_count": 16,
   "metadata": {},
   "outputs": [],
   "source": [
    "class BallotBox:\n",
    "    def __init__(self, parties):\n",
    "        # Single underscore tells the reader to treat this field as private:\n",
    "        self._candidates = {party: 0 for party in parties}\n",
    "        self._voters = {}\n",
    "\n",
    "    def add_a_vote(self, voter_id, candidate):\n",
    "        \"\"\"Adds new vote to the ballot box \"\"\"\n",
    "        if voter_id in self._voters:\n",
    "            print(f\"Voter {voter_id} has already voted >:-(\")\n",
    "            return\n",
    "        if candidate not in self._candidates:\n",
    "            raise ValueError(f\"Candidate {candidate} not found >:-(\")\n",
    "        self._candidates[candidate] +=1\n",
    "        self._voters[voter_id] = True\n",
    "        print(f\"Voter {voter_id}, thank you for voting :-)\")\n",
    "\n",
    "    def mina_zemach(self):\n",
    "        \"\"\"Shows the Election poll\"\"\"\n",
    "        print('\\nMina Zemach election poll:')\n",
    "        for key,value in self._candidates.items():\n",
    "            print(f\"The party '{key}' has {value:,} votes\")\n"
   ]
  },
  {
   "cell_type": "code",
   "execution_count": 30,
   "metadata": {},
   "outputs": [
    {
     "name": "stdout",
     "output_type": "stream",
     "text": [
      "Voter 1234, thank you for voting :-)\n",
      "Voter 1235, thank you for voting :-)\n",
      "Voter 22222, thank you for voting :-)\n",
      "Voter 22222 has already voted >:-(\n",
      "Voter 22222 has already voted >:-(\n",
      "\n",
      "Mina Zemach election poll:\n",
      "The party 'Bibi something' has 1,000,001 votes\n",
      "The party 'Lapid something' has 0 votes\n",
      "The party 'Gantz something' has 0 votes\n",
      "The party 'BenGvir something' has 0 votes\n",
      "The party 'To right' has 0 votes\n",
      "The party 'The work' has 2 votes\n",
      "The party 'Vigor' has 0 votes\n"
     ]
    }
   ],
   "source": [
    "parties= [\n",
    "    'Bibi something',\n",
    "    'Lapid something',\n",
    "    'Gantz something',\n",
    "    'BenGvir something',\n",
    "    'To right',\n",
    "    'The work',\n",
    "    'Vigor',\n",
    "]\n",
    "ballot_box = BallotBox(parties)\n",
    "ballot_box.add_a_vote(voter_id=\"1234\",candidate='The work')\n",
    "ballot_box.add_a_vote(voter_id=\"1235\",candidate='The work')\n",
    "ballot_box.add_a_vote(voter_id='22222',candidate='Bibi something')\n",
    "ballot_box.add_a_vote(voter_id='22222',candidate='Bibi something')\n",
    "ballot_box.add_a_vote(voter_id='22222',candidate='Bibi something')\n",
    "ballot_box._candidates['Bibi something'] += 1000000    # The field is not private!!\n",
    "ballot_box.mina_zemach()"
   ]
  },
  {
   "cell_type": "code",
   "execution_count": 17,
   "metadata": {},
   "outputs": [],
   "source": [
    "class BallotBox:\n",
    "    def __init__(self, parties, name):\n",
    "        # Double underscore hides the field:\n",
    "        self.__candidates = {party: 0 for party in parties}  \n",
    "        self.__voters = {}\n",
    "        self.name = name\n",
    "    \n",
    "    def add_a_vote(self, voter_id,candidate):\n",
    "        \"\"\"Adds new vote to the ballot box \"\"\"\n",
    "        if(not voter_id in self.__voters) and candidate in self.__candidates:\n",
    "            self.__candidates[candidate] +=1\n",
    "            self.__voters[voter_id] = True\n",
    "            print(\"Thank you for voting :-)\")\n",
    "        else: \n",
    "            print(\"Voter has already voted >:-(\")\n",
    "    \n",
    "    def __the_greatest_party(self):\n",
    "        \"\"\"returns the greatest party in the ballot box \"\"\"\n",
    "        import operator\n",
    "        greatest_party= max(self.__candidates.items(), key=operator.itemgetter(1))[0]\n",
    "        return greatest_party    \n",
    "\n",
    "    def mina_zemach(self):\n",
    "        \"\"\"Shows the Election poll\"\"\"\n",
    "        greatest_party = self.__the_greatest_party()\n",
    "        print('\\nMina Zemach election poll:')\n",
    "        for key,value in self.__candidates.items():\n",
    "            # print the greatest party with yellow\n",
    "            # the colors where taken form: \n",
    "            # https://svn.blender.org/svnroot/bf-blender/trunk/blender/build_files/scons/tools/bcolors.py\n",
    "            if key == greatest_party:\n",
    "                print(f\"The party '\\033[93m{key}\\033[0m' has {value:,} votes\")\n",
    "            else: print(f\"The party '{key}' has {value:,} votes\")\n",
    "    \n",
    "    def add_a_candidate(self,name):\n",
    "        \"\"\"Adds new party to the ballot box \"\"\"\n",
    "        if not name in self.__candidates:\n",
    "            self.__candidates[name] = 0\n",
    "        else: raise ValueError(\"The party is already running\")"
   ]
  },
  {
   "cell_type": "code",
   "execution_count": 18,
   "metadata": {},
   "outputs": [
    {
     "name": "stdout",
     "output_type": "stream",
     "text": [
      "Thank you for voting :-)\n",
      "Thank you for voting :-)\n",
      "Thank you for voting :-)\n",
      "Voter has already voted >:-(\n",
      "Voter has already voted >:-(\n"
     ]
    },
    {
     "ename": "AttributeError",
     "evalue": "'BallotBox' object has no attribute '__candidates'",
     "output_type": "error",
     "traceback": [
      "\u001b[1;31m---------------------------------------------------------------------------\u001b[0m",
      "\u001b[1;31mAttributeError\u001b[0m                            Traceback (most recent call last)",
      "\u001b[1;32md:\\Dropbox\\ariel-research\\research-5783\\03-python-oop\\code\\2.oop.ipynb Cell 19\u001b[0m in \u001b[0;36m<module>\u001b[1;34m\u001b[0m\n\u001b[0;32m     <a href='vscode-notebook-cell:/d%3A/Dropbox/ariel-research/research-5783/03-python-oop/code/2.oop.ipynb#X30sZmlsZQ%3D%3D?line=15'>16</a>\u001b[0m ballot_box\u001b[39m.\u001b[39madd_a_vote(voter_id\u001b[39m=\u001b[39m\u001b[39m'\u001b[39m\u001b[39m22222\u001b[39m\u001b[39m'\u001b[39m,candidate\u001b[39m=\u001b[39m\u001b[39m'\u001b[39m\u001b[39mBibi something\u001b[39m\u001b[39m'\u001b[39m)\n\u001b[0;32m     <a href='vscode-notebook-cell:/d%3A/Dropbox/ariel-research/research-5783/03-python-oop/code/2.oop.ipynb#X30sZmlsZQ%3D%3D?line=16'>17</a>\u001b[0m ballot_box\u001b[39m.\u001b[39madd_a_vote(voter_id\u001b[39m=\u001b[39m\u001b[39m'\u001b[39m\u001b[39m22222\u001b[39m\u001b[39m'\u001b[39m,candidate\u001b[39m=\u001b[39m\u001b[39m'\u001b[39m\u001b[39mBibi something\u001b[39m\u001b[39m'\u001b[39m)\n\u001b[1;32m---> <a href='vscode-notebook-cell:/d%3A/Dropbox/ariel-research/research-5783/03-python-oop/code/2.oop.ipynb#X30sZmlsZQ%3D%3D?line=17'>18</a>\u001b[0m ballot_box\u001b[39m.\u001b[39;49m__candidates[\u001b[39m'\u001b[39m\u001b[39mBibi something\u001b[39m\u001b[39m'\u001b[39m] \u001b[39m+\u001b[39m\u001b[39m=\u001b[39m\u001b[39m1000000\u001b[39m   \u001b[39m# AttributeError\u001b[39;00m\n\u001b[0;32m     <a href='vscode-notebook-cell:/d%3A/Dropbox/ariel-research/research-5783/03-python-oop/code/2.oop.ipynb#X30sZmlsZQ%3D%3D?line=18'>19</a>\u001b[0m ballot_box\u001b[39m.\u001b[39mmina_zemach()\n",
      "\u001b[1;31mAttributeError\u001b[0m: 'BallotBox' object has no attribute '__candidates'"
     ]
    }
   ],
   "source": [
    "parties= [\n",
    "    'Bibi something',\n",
    "    'Lapid something',\n",
    "    'Gantz something',\n",
    "    'BenGvir something',\n",
    "    'To right',\n",
    "    'The work',\n",
    "    'Vigor',\n",
    "]\n",
    "ballot_box = BallotBox(parties,name='TLV')\n",
    "ballot_box.add_a_candidate(\"Halad balad\")\n",
    "ballot_box.add_a_candidate(\"Haredim la athid\")\n",
    "ballot_box.add_a_vote(voter_id=\"1234\",candidate='The work')\n",
    "ballot_box.add_a_vote(voter_id=\"1235\",candidate='The work')\n",
    "ballot_box.add_a_vote(voter_id='22222',candidate='Bibi something')\n",
    "ballot_box.add_a_vote(voter_id='22222',candidate='Bibi something')\n",
    "ballot_box.add_a_vote(voter_id='22222',candidate='Bibi something')\n",
    "ballot_box.__candidates['Bibi something'] +=1000000   # AttributeError\n",
    "ballot_box.mina_zemach()"
   ]
  },
  {
   "cell_type": "code",
   "execution_count": 23,
   "metadata": {},
   "outputs": [
    {
     "data": {
      "text/plain": [
       "['_BallotBox__candidates',\n",
       " '_BallotBox__the_greatest_party',\n",
       " '_BallotBox__voters',\n",
       " '__class__',\n",
       " '__delattr__',\n",
       " '__dict__',\n",
       " '__dir__',\n",
       " '__doc__',\n",
       " '__eq__',\n",
       " '__format__',\n",
       " '__ge__',\n",
       " '__getattribute__',\n",
       " '__gt__',\n",
       " '__hash__',\n",
       " '__init__',\n",
       " '__init_subclass__',\n",
       " '__le__',\n",
       " '__lt__',\n",
       " '__module__',\n",
       " '__ne__',\n",
       " '__new__',\n",
       " '__reduce__',\n",
       " '__reduce_ex__',\n",
       " '__repr__',\n",
       " '__setattr__',\n",
       " '__sizeof__',\n",
       " '__str__',\n",
       " '__subclasshook__',\n",
       " '__weakref__',\n",
       " 'add_a_candidate',\n",
       " 'add_a_vote',\n",
       " 'mina_zemach',\n",
       " 'name']"
      ]
     },
     "execution_count": 23,
     "metadata": {},
     "output_type": "execute_result"
    }
   ],
   "source": [
    "dir(ballot_box)"
   ]
  },
  {
   "cell_type": "code",
   "execution_count": 19,
   "metadata": {},
   "outputs": [
    {
     "name": "stdout",
     "output_type": "stream",
     "text": [
      ">:-) whahaha: \n",
      "\n",
      "Mina Zemach election poll:\n",
      "The party '\u001b[93mBibi something\u001b[0m' has 1,000,000,001 votes\n",
      "The party 'Lapid something' has 0 votes\n",
      "The party 'Gantz something' has 0 votes\n",
      "The party 'BenGvir something' has 0 votes\n",
      "The party 'To right' has 0 votes\n",
      "The party 'The work' has 2 votes\n",
      "The party 'Vigor' has 0 votes\n",
      "The party 'Halad balad' has 0 votes\n",
      "The party 'Haredim la athid' has 0 votes\n"
     ]
    }
   ],
   "source": [
    "print(\">:-) whahaha: \")\n",
    "ballot_box._BallotBox__candidates[\"Bibi something\"] += 1000000000\n",
    "ballot_box.mina_zemach()"
   ]
  },
  {
   "cell_type": "code",
   "execution_count": 34,
   "metadata": {},
   "outputs": [
    {
     "name": "stdout",
     "output_type": "stream",
     "text": [
      "what are you doing in A private function?!\n",
      "*What are you doing in B private function?!\n"
     ]
    },
    {
     "data": {
      "text/plain": [
       "['_A__private_function',\n",
       " '_B__private_function',\n",
       " '__class__',\n",
       " '__delattr__',\n",
       " '__dict__',\n",
       " '__dir__',\n",
       " '__doc__',\n",
       " '__eq__',\n",
       " '__format__',\n",
       " '__ge__',\n",
       " '__getattribute__',\n",
       " '__gt__',\n",
       " '__hash__',\n",
       " '__init__',\n",
       " '__init_subclass__',\n",
       " '__le__',\n",
       " '__lt__',\n",
       " '__module__',\n",
       " '__ne__',\n",
       " '__new__',\n",
       " '__reduce__',\n",
       " '__reduce_ex__',\n",
       " '__repr__',\n",
       " '__setattr__',\n",
       " '__sizeof__',\n",
       " '__str__',\n",
       " '__subclasshook__',\n",
       " '__weakref__',\n",
       " 'public_function']"
      ]
     },
     "execution_count": 34,
     "metadata": {},
     "output_type": "execute_result"
    }
   ],
   "source": [
    "class A:\n",
    "    def __private_function(self):\n",
    "        print(\"what are you doing in A private function?!\")\n",
    "    def public_function(self):\n",
    "        print(\"welcome\")\n",
    "class B(A):\n",
    "    def __private_function(self):\n",
    "        print(\"*What are you doing in B private function?!\")\n",
    "    def public_function(self):\n",
    "        print(\"*Welcome\")\n",
    "b= B()\n",
    "b._A__private_function()\n",
    "b._B__private_function()\n",
    "dir(B)"
   ]
  },
  {
   "cell_type": "markdown",
   "metadata": {},
   "source": [
    "## Getters and setters"
   ]
  },
  {
   "cell_type": "code",
   "execution_count": 28,
   "metadata": {},
   "outputs": [
    {
     "name": "stdout",
     "output_type": "stream",
     "text": [
      "Rec1: height=<bound method Rectangle.height of <__main__.Rectangle object at 0x0000024BEC4C9C90>> , width = 7[m] \n",
      " *  *  *  *  *  *  *  *  * \n",
      "\n",
      " *                       * \n",
      "\n",
      " *                       * \n",
      "\n",
      " *                       * \n",
      "\n",
      " *  *  *  *  *  *  *  *  * \n",
      "\n",
      "Rec2: height=<bound method Rectangle.height of <__main__.Rectangle object at 0x0000024BEC4C9C90>> , width = 4[m] \n",
      " *  *  *  *  *  * \n",
      "\n",
      " *              * \n",
      "\n",
      " *              * \n",
      "\n",
      " *              * \n",
      "\n",
      " *  *  *  *  *  * \n",
      "\n"
     ]
    }
   ],
   "source": [
    "class Rectangle:\n",
    "    def __init__(self , new_height , new_width):\n",
    "        self._height = new_height   # _height with one underscore - tells the reader to treat it as \"private\".\n",
    "        self._width = new_width\n",
    "\n",
    "    @property  # getter\n",
    "    def height(self):\n",
    "        return self._height\n",
    "\n",
    "    @property\n",
    "    def width(self):\n",
    "        return f\"{self._width}[m]\"\n",
    "\n",
    "    # @height.setter\n",
    "    def height(self, other):\n",
    "        if other > 0:\n",
    "            self._height = other\n",
    "        else: \n",
    "            raise ValueError(\"Invalid input- negative value for height\")\n",
    "\n",
    "    @width.setter\n",
    "    def width(self, other):\n",
    "        if other > 0 :\n",
    "            self._width = other\n",
    "        else: \n",
    "            raise ValueError(\"Invalid input- negative value for width\")\n",
    "    \n",
    "    def draw_rectangle(self):\n",
    "        \"\"\" drawing the rectangle acording to its height and width\"\"\"\n",
    "        for h in range(self._height):\n",
    "            square = ' * '\n",
    "            for w in range(self._width):\n",
    "                if h == 0 or h == self._height -1 :\n",
    "                    square = square + ' * '\n",
    "                else: square += '   '\n",
    "            square = square +  ' * '\n",
    "            square  = square + '\\n'\n",
    "            print(square)\n",
    "\n",
    "rectangle = Rectangle(5, 7)\n",
    "print(f\"Rec1: height={rectangle.height} , width = {rectangle.width} \")\n",
    "rectangle.draw_rectangle()\n",
    "rectangle.width = 4\n",
    "print(f\"Rec2: height={rectangle.height} , width = {rectangle.width} \")\n",
    "rectangle.draw_rectangle()"
   ]
  },
  {
   "cell_type": "code",
   "execution_count": 29,
   "metadata": {},
   "outputs": [
    {
     "name": "stdout",
     "output_type": "stream",
     "text": [
      "<bound method Rectangle.height of <__main__.Rectangle object at 0x0000024BEC4C9C90>>\n",
      "1\n",
      "5\n"
     ]
    }
   ],
   "source": [
    "print(rectangle.height)\n",
    "rectangle.height = 1\n",
    "print(rectangle.height)\n",
    "print(rectangle._height)"
   ]
  },
  {
   "cell_type": "code",
   "execution_count": 28,
   "metadata": {},
   "outputs": [
    {
     "ename": "ValueError",
     "evalue": "Invalid input- negative value for height",
     "output_type": "error",
     "traceback": [
      "\u001b[1;31m---------------------------------------------------------------------------\u001b[0m",
      "\u001b[1;31mValueError\u001b[0m                                Traceback (most recent call last)",
      "\u001b[1;32md:\\Dropbox\\ariel-research\\research-5782\\02-PythonOOP\\0.code\\2.oop.ipynb Cell 31'\u001b[0m in \u001b[0;36m<module>\u001b[1;34m\u001b[0m\n\u001b[1;32m----> <a href='vscode-notebook-cell:/d%3A/Dropbox/ariel-research/research-5782/02-PythonOOP/0.code/2.oop.ipynb#ch0000030?line=0'>1</a>\u001b[0m rectangle\u001b[39m.\u001b[39mheight \u001b[39m=\u001b[39m \u001b[39m-\u001b[39m\u001b[39m1\u001b[39m\n",
      "\u001b[1;32md:\\Dropbox\\ariel-research\\research-5782\\02-PythonOOP\\0.code\\2.oop.ipynb Cell 30'\u001b[0m in \u001b[0;36mRectangle.height\u001b[1;34m(self, other)\u001b[0m\n\u001b[0;32m     <a href='vscode-notebook-cell:/d%3A/Dropbox/ariel-research/research-5782/02-PythonOOP/0.code/2.oop.ipynb#ch0000029?line=16'>17</a>\u001b[0m     \u001b[39mself\u001b[39m\u001b[39m.\u001b[39m_height \u001b[39m=\u001b[39m other\n\u001b[0;32m     <a href='vscode-notebook-cell:/d%3A/Dropbox/ariel-research/research-5782/02-PythonOOP/0.code/2.oop.ipynb#ch0000029?line=17'>18</a>\u001b[0m \u001b[39melse\u001b[39;00m: \n\u001b[1;32m---> <a href='vscode-notebook-cell:/d%3A/Dropbox/ariel-research/research-5782/02-PythonOOP/0.code/2.oop.ipynb#ch0000029?line=18'>19</a>\u001b[0m     \u001b[39mraise\u001b[39;00m \u001b[39mValueError\u001b[39;00m(\u001b[39m\"\u001b[39m\u001b[39mInvalid input- negative value for height\u001b[39m\u001b[39m\"\u001b[39m)\n",
      "\u001b[1;31mValueError\u001b[0m: Invalid input- negative value for height"
     ]
    }
   ],
   "source": [
    "rectangle.height = -1 # ==> Error"
   ]
  },
  {
   "cell_type": "code",
   "execution_count": 30,
   "metadata": {},
   "outputs": [],
   "source": [
    "# Another example of a property:\n",
    "\n",
    "class Person:\n",
    "    def __init__(self, first_name , last_name):\n",
    "        self.first_name= first_name\n",
    "        self.last_name = last_name\n",
    "        self.full_name = f\"{self.first_name} {self.last_name}\" "
   ]
  },
  {
   "cell_type": "code",
   "execution_count": 31,
   "metadata": {},
   "outputs": [
    {
     "name": "stdout",
     "output_type": "stream",
     "text": [
      "Tammi Javansky\n",
      "Tammi Javansky\n"
     ]
    }
   ],
   "source": [
    "tammi = Person(\"Tammi\", \"Javansky\")\n",
    "print(tammi.full_name)\n",
    "tammi.last_name = \"Pythonovitch\"\n",
    "print(tammi.full_name) # => should be Tammi Pythonovitch"
   ]
  },
  {
   "cell_type": "code",
   "execution_count": 32,
   "metadata": {},
   "outputs": [],
   "source": [
    "class Person:\n",
    "    def __init__(self, first_name , last_name):\n",
    "        self.first_name= first_name\n",
    "        self.last_name = last_name\n",
    "        \n",
    "    @property\n",
    "    def full_name(self):\n",
    "        return f\"{self.first_name} {self.last_name}\" "
   ]
  },
  {
   "cell_type": "code",
   "execution_count": 33,
   "metadata": {},
   "outputs": [
    {
     "name": "stdout",
     "output_type": "stream",
     "text": [
      "Tammi Javansky\n",
      "Tammi Pythonovitch\n"
     ]
    }
   ],
   "source": [
    "tammi = Person(\"Tammi\", \"Javansky\")\n",
    "print(tammi.full_name)\n",
    "tammi.last_name = \"Pythonovitch\"\n",
    "print(tammi.full_name) # => should be Tammi Pythonovitch\n",
    "# tammi.full_name = \"abc\" # Error - no setter"
   ]
  },
  {
   "cell_type": "markdown",
   "metadata": {},
   "source": [
    "## Abstract method"
   ]
  },
  {
   "cell_type": "code",
   "execution_count": 35,
   "metadata": {},
   "outputs": [],
   "source": [
    "import abc \n",
    "class Shape(abc.ABC):   # define the class as abstract\n",
    "   @abc.abstractmethod\n",
    "   def area(self):\n",
    "      pass\n",
    "\n",
    "shape = Shape()\n",
    "# shape.area()              #==> TypeError"
   ]
  },
  {
   "cell_type": "code",
   "execution_count": 36,
   "metadata": {},
   "outputs": [
    {
     "data": {
      "text/plain": [
       "1"
      ]
     },
     "execution_count": 36,
     "metadata": {},
     "output_type": "execute_result"
    }
   ],
   "source": [
    "class Circle(Shape):\n",
    "   def area(self):\n",
    "      return 1\n",
    "\n",
    "shape = Circle()\n",
    "shape.area()"
   ]
  }
 ],
 "metadata": {
  "kernelspec": {
   "display_name": "Python 3.10.2 64-bit",
   "language": "python",
   "name": "python3"
  },
  "language_info": {
   "codemirror_mode": {
    "name": "ipython",
    "version": 3
   },
   "file_extension": ".py",
   "mimetype": "text/x-python",
   "name": "python",
   "nbconvert_exporter": "python",
   "pygments_lexer": "ipython3",
   "version": "3.10.2"
  },
  "orig_nbformat": 2,
  "vscode": {
   "interpreter": {
    "hash": "fb4569285eef3a3450cb62085a5b1e0da4bce0af555edc33dcf29baf3acc1368"
   }
  }
 },
 "nbformat": 4,
 "nbformat_minor": 2
}
