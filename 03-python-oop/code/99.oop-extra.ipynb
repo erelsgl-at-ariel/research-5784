{
 "cells": [
  {
   "cell_type": "markdown",
   "metadata": {},
   "source": [
    "## Multiple inheritance"
   ]
  },
  {
   "cell_type": "code",
   "execution_count": 1,
   "metadata": {},
   "outputs": [
    {
     "name": "stdout",
     "output_type": "stream",
     "text": [
      "My name is class A\n"
     ]
    },
    {
     "data": {
      "text/plain": [
       "(__main__.C, __main__.A, __main__.B, object)"
      ]
     },
     "execution_count": 1,
     "metadata": {},
     "output_type": "execute_result"
    }
   ],
   "source": [
    "class A:\n",
    "    def my_name(self):\n",
    "        print(\"My name is class A\")\n",
    "\n",
    "class B:\n",
    "    def my_name(self):\n",
    "        print(\"My name is class B\")\n",
    "\n",
    "class C(A,B):\n",
    "    pass\n",
    "\n",
    "c= C()\n",
    "c.my_name()\n",
    "C.__mro__  # Method Resolution Order"
   ]
  },
  {
   "cell_type": "code",
   "execution_count": 2,
   "metadata": {},
   "outputs": [
    {
     "name": "stdout",
     "output_type": "stream",
     "text": [
      "My name is class B\n",
      "My name is class A\n"
     ]
    }
   ],
   "source": [
    "class C(A,B):\n",
    "    def my_name(self):\n",
    "        B.my_name(self)\n",
    "        A.my_name(self)\n",
    "\n",
    "C().my_name()"
   ]
  },
  {
   "cell_type": "code",
   "execution_count": 3,
   "metadata": {},
   "outputs": [
    {
     "name": "stdout",
     "output_type": "stream",
     "text": [
      "Horse:\n",
      "the Horse is used for riding\n",
      "\n",
      "Donkey:\n",
      "the Donkey is used for carrying, did I tell that I'm a donkey?\n",
      "\n",
      "Mule:\n",
      "the Mule is used for riding, did I tell that I'm a donkey?\n"
     ]
    }
   ],
   "source": [
    "class DomesticatedAnimal(object):\n",
    "    def use(self):\n",
    "        return \"the {} is used for {}\"\n",
    "\n",
    "class Horse(DomesticatedAnimal):    \n",
    "    def use(self):\n",
    "        return super().use().format(self.__class__.__name__, \"riding\")\n",
    "\n",
    "class Donkey(DomesticatedAnimal):\n",
    "    def use(self):\n",
    "        use_str= super().use().format(self.__class__.__name__, \"carrying\")\n",
    "        use_str+=\", did I tell that I'm a donkey?\"\n",
    "        return use_str \n",
    "\n",
    "class Mule(Donkey,Horse):\n",
    "    pass\n",
    "\n",
    "print(\"Horse:\")\n",
    "print(Horse().use(),end='\\n\\n')\n",
    "print(\"Donkey:\")\n",
    "print(Donkey().use(),end='\\n\\n')\n",
    "print(\"Mule:\")\n",
    "muly= Mule()\n",
    "print(muly.use())"
   ]
  },
  {
   "cell_type": "code",
   "execution_count": 6,
   "metadata": {},
   "outputs": [
    {
     "name": "stdout",
     "output_type": "stream",
     "text": [
      "Mule:\n",
      "in Donkey\n",
      "in Horse\n",
      "in DomesticatedAnimal1\n",
      "bye bye domesticated animal \n",
      "bye bye horse\n",
      "bye bye donkey\n",
      "\n",
      " the Mule is used for riding, did I tell that I'm a donkey?\n"
     ]
    }
   ],
   "source": [
    "class DomesticatedAnimal1(object):\n",
    "    def use(self):\n",
    "        print(\"in DomesticatedAnimal1\")\n",
    "        use_str = \"the {} is used for {}\"\n",
    "        print(\"bye bye domesticated animal \")\n",
    "        return use_str\n",
    "\n",
    "class Horse(DomesticatedAnimal1):\n",
    "    def use(self):\n",
    "        print(\"in Horse\")\n",
    "        use_str= super().use().format(self.__class__.__name__,\"riding\")\n",
    "        print(\"bye bye horse\")\n",
    "        return use_str\n",
    "\n",
    "class Donkey(DomesticatedAnimal1):\n",
    "    def use(self):\n",
    "        print(\"in Donkey\")\n",
    "        use_str= super().use().format(self.__class__.__name__, \"carrying\")\n",
    "        use_str+=\", did I tell that I'm a donkey?\"\n",
    "        print(\"bye bye donkey\")\n",
    "        return use_str \n",
    "\n",
    "class Mule(Donkey,Horse):\n",
    "    pass\n",
    "    \n",
    "\n",
    "print(\"Mule:\")\n",
    "muly= Mule()\n",
    "print('\\n',muly.use())"
   ]
  },
  {
   "cell_type": "code",
   "execution_count": 5,
   "metadata": {},
   "outputs": [
    {
     "data": {
      "text/plain": [
       "(__main__.Mule,\n",
       " __main__.Donkey,\n",
       " __main__.Horse,\n",
       " __main__.DomesticatedAnimal1,\n",
       " object)"
      ]
     },
     "execution_count": 5,
     "metadata": {},
     "output_type": "execute_result"
    }
   ],
   "source": [
    "Mule.__mro__"
   ]
  },
  {
   "cell_type": "markdown",
   "metadata": {},
   "source": [
    "## getattr, setattr"
   ]
  },
  {
   "cell_type": "code",
   "execution_count": 1,
   "metadata": {},
   "outputs": [
    {
     "name": "stdout",
     "output_type": "stream",
     "text": [
      "stam.attr1= default1\n",
      "stam.attr2= {'d': 1}\n",
      "stam.all= None\n"
     ]
    },
    {
     "ename": "Exception",
     "evalue": "Cannot change self.attr1",
     "output_type": "error",
     "traceback": [
      "\u001b[1;31m---------------------------------------------------------------------------\u001b[0m",
      "\u001b[1;31mException\u001b[0m                                 Traceback (most recent call last)",
      "\u001b[1;32md:\\Dropbox\\ariel-research\\research-5782\\02-PythonOOP\\0.code\\99.oop-extra.ipynb Cell 8'\u001b[0m in \u001b[0;36m<module>\u001b[1;34m\u001b[0m\n\u001b[0;32m     <a href='vscode-notebook-cell:/d%3A/Dropbox/ariel-research/research-5782/02-PythonOOP/0.code/99.oop-extra.ipynb#ch0000009?line=28'>29</a>\u001b[0m \u001b[39mprint\u001b[39m(\u001b[39m\"\u001b[39m\u001b[39mstam.all=\u001b[39m\u001b[39m\"\u001b[39m,stam\u001b[39m.\u001b[39mall)\n\u001b[0;32m     <a href='vscode-notebook-cell:/d%3A/Dropbox/ariel-research/research-5782/02-PythonOOP/0.code/99.oop-extra.ipynb#ch0000009?line=29'>30</a>\u001b[0m \u001b[39m# stam.all = lambda self:print(f\"{self.attr1} , {self.attr2}\") # => Exception\u001b[39;00m\n\u001b[1;32m---> <a href='vscode-notebook-cell:/d%3A/Dropbox/ariel-research/research-5782/02-PythonOOP/0.code/99.oop-extra.ipynb#ch0000009?line=30'>31</a>\u001b[0m stam\u001b[39m.\u001b[39mattr1 \u001b[39m=\u001b[39m (\u001b[39m1\u001b[39m,\u001b[39m2\u001b[39m,\u001b[39m3\u001b[39m)\n",
      "\u001b[1;32md:\\Dropbox\\ariel-research\\research-5782\\02-PythonOOP\\0.code\\99.oop-extra.ipynb Cell 8'\u001b[0m in \u001b[0;36mMutableDefault.__setattr__\u001b[1;34m(self, name, value)\u001b[0m\n\u001b[0;32m     <a href='vscode-notebook-cell:/d%3A/Dropbox/ariel-research/research-5782/02-PythonOOP/0.code/99.oop-extra.ipynb#ch0000009?line=21'>22</a>\u001b[0m     \u001b[39mself\u001b[39m\u001b[39m.\u001b[39m\u001b[39m__dict__\u001b[39m[name] \u001b[39m=\u001b[39m value\n\u001b[0;32m     <a href='vscode-notebook-cell:/d%3A/Dropbox/ariel-research/research-5782/02-PythonOOP/0.code/99.oop-extra.ipynb#ch0000009?line=22'>23</a>\u001b[0m \u001b[39melse\u001b[39;00m: \n\u001b[1;32m---> <a href='vscode-notebook-cell:/d%3A/Dropbox/ariel-research/research-5782/02-PythonOOP/0.code/99.oop-extra.ipynb#ch0000009?line=23'>24</a>\u001b[0m     \u001b[39mraise\u001b[39;00m \u001b[39mException\u001b[39;00m(\u001b[39mf\u001b[39m\u001b[39m\"\u001b[39m\u001b[39mCannot change self.\u001b[39m\u001b[39m{\u001b[39;00mname\u001b[39m}\u001b[39;00m\u001b[39m\"\u001b[39m)\n",
      "\u001b[1;31mException\u001b[0m: Cannot change self.attr1"
     ]
    }
   ],
   "source": [
    "class MutableDefault:\n",
    "    ''' Saves any value is provided \n",
    "        or initiates to \"default\" '''\n",
    "    def __init__(self , *args , **kwargs):\n",
    "        if args: \n",
    "            self.attr1 = args \n",
    "        else:\n",
    "            self.attr1 = 'default1'\n",
    "        if kwargs: \n",
    "            self.attr2 = kwargs \n",
    "        else: \n",
    "            self.attr2 = 'default2'\n",
    "    def __getattr__(self,name:str):\n",
    "        try: \n",
    "            return self.__dict__[name]\n",
    "        except: \n",
    "            return None\n",
    "    def __setattr__(self,name,value):\n",
    "        if name == 'attr1' and self.attr1 == None:\n",
    "            self.__dict__[name] = value\n",
    "        elif name == 'attr2' and self.attr2 == None:\n",
    "            self.__dict__[name] = value\n",
    "        else: \n",
    "            raise Exception(f\"Cannot change self.{name}\")\n",
    "\n",
    "stam = MutableDefault(d = 1)\n",
    "print(\"stam.attr1=\",stam.attr1)\n",
    "print(\"stam.attr2=\",stam.attr2)\n",
    "print(\"stam.all=\",stam.all)\n",
    "# stam.all = lambda self:print(f\"{self.attr1} , {self.attr2}\") # => Exception\n",
    "stam.attr1 = (1,2,3) #=> Exception"
   ]
  }
 ],
 "metadata": {
  "kernelspec": {
   "display_name": "Python 3.10.2 64-bit",
   "language": "python",
   "name": "python3"
  },
  "language_info": {
   "codemirror_mode": {
    "name": "ipython",
    "version": 3
   },
   "file_extension": ".py",
   "mimetype": "text/x-python",
   "name": "python",
   "nbconvert_exporter": "python",
   "pygments_lexer": "ipython3",
   "version": "3.10.2"
  },
  "orig_nbformat": 2,
  "vscode": {
   "interpreter": {
    "hash": "fb4569285eef3a3450cb62085a5b1e0da4bce0af555edc33dcf29baf3acc1368"
   }
  }
 },
 "nbformat": 4,
 "nbformat_minor": 2
}
