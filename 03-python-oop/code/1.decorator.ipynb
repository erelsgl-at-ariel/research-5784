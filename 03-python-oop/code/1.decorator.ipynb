{
 "cells": [
  {
   "cell_type": "code",
   "execution_count": 1,
   "metadata": {},
   "outputs": [
    {
     "name": "stdout",
     "output_type": "stream",
     "text": [
      "<class 'function'>\n",
      "6\n"
     ]
    }
   ],
   "source": [
    "# Reminder: a function can get a function as parameter:\n",
    "\n",
    "def high_order_func(func: callable, x: int) -> int:\n",
    "    return func(x)+x\n",
    "\n",
    "func = lambda a : a**2\n",
    "print(type(func))\n",
    "print(high_order_func(func, 2))"
   ]
  },
  {
   "cell_type": "code",
   "execution_count": 1,
   "metadata": {},
   "outputs": [
    {
     "name": "stdout",
     "output_type": "stream",
     "text": [
      "<function out_f at 0x000001DE42E8EB00>\n",
      "<function glob_f at 0x000001DE42E8C040>\n",
      "<class 'function'>\n",
      "I'm in the glob function\n",
      "I'm in the glob function\n"
     ]
    }
   ],
   "source": [
    "# Reminder: a function can return a function:\n",
    "def glob_f():\n",
    "    print(\"I'm in the glob function\")\n",
    "def out_f():\n",
    "    return glob_f\n",
    "print(out_f)\n",
    "print(out_f())\n",
    "f = out_f()\n",
    "print(type(f))\n",
    "f()\n",
    "out_f()()"
   ]
  },
  {
   "cell_type": "code",
   "execution_count": null,
   "metadata": {},
   "outputs": [
    {
     "name": "stdout",
     "output_type": "stream",
     "text": [
      "<function out_f at 0x000001BDE36C8AF0>\n",
      "<function out_f.<locals>.in_f at 0x000001BDE384ADD0>\n",
      "<class 'function'>\n",
      "I'm in the inner function\n",
      "I'm in the inner function\n"
     ]
    }
   ],
   "source": [
    "# Reminder: a function can return a function:\n",
    "\n",
    "def out_f():\n",
    "    def in_f():\n",
    "        print(\"I'm in the inner function\")\n",
    "    return in_f\n",
    "print(out_f)\n",
    "print(out_f())\n",
    "f = out_f()\n",
    "print(type(f))\n",
    "f()\n",
    "out_f()()"
   ]
  },
  {
   "cell_type": "code",
   "execution_count": 2,
   "metadata": {},
   "outputs": [],
   "source": [
    "# A function both accept a function parameter, and return a function:\n",
    "\n",
    "def wrap(func):\n",
    "    def wrapper():\n",
    "        print(f\"starting {func.__name__}\")\n",
    "        func()\n",
    "        print(f\"ending {func.__name__}\")\n",
    "    return wrapper"
   ]
  },
  {
   "cell_type": "code",
   "execution_count": 3,
   "metadata": {},
   "outputs": [
    {
     "name": "stdout",
     "output_type": "stream",
     "text": [
      "I'm a function\n",
      "\n",
      "First way: variable \n",
      "starting a_function\n",
      "I'm a function\n",
      "ending a_function\n",
      "\n",
      "Second way: outer_function(a_function)() \n",
      "starting a_function\n",
      "I'm a function\n",
      "ending a_function\n"
     ]
    }
   ],
   "source": [
    "def a_function():\n",
    "    print(\"I'm a function\")\n",
    "\n",
    "a_function()\n",
    "\n",
    "print(\"\\nFirst way: variable \")\n",
    "a_wrapped_function = wrap(a_function)\n",
    "a_wrapped_function()\n",
    "\n",
    "print(\"\\nSecond way: outer_function(a_function)() \")\n",
    "wrap(a_function)()"
   ]
  },
  {
   "cell_type": "markdown",
   "metadata": {},
   "source": [
    "### A function that accepts a function argument and returns a function is called a \"decorator\"."
   ]
  },
  {
   "cell_type": "code",
   "execution_count": 5,
   "metadata": {},
   "outputs": [
    {
     "name": "stdout",
     "output_type": "stream",
     "text": [
      "starting a_function\n",
      "I'm a new function\n",
      "ending a_function\n",
      "\n",
      "starting another_function\n",
      "I'm another function\n",
      "ending another_function\n"
     ]
    }
   ],
   "source": [
    "@wrap\n",
    "def a_function():\n",
    "    print(\"I'm a new function\")\n",
    "\n",
    "# Equivalent to:\n",
    "#    def a_function():\n",
    "#       print(\"I'm a new function\")\n",
    "#    a_function = wrap(a_function)\n",
    "\n",
    "a_function()\n",
    "\n",
    "@wrap\n",
    "def another_function():\n",
    "    print(\"I'm another function\")\n",
    "\n",
    "print()\n",
    "another_function()\n"
   ]
  },
  {
   "cell_type": "code",
   "execution_count": 4,
   "metadata": {},
   "outputs": [
    {
     "ename": "TypeError",
     "evalue": "wrap.<locals>.wrapper() takes 0 positional arguments but 1 was given",
     "output_type": "error",
     "traceback": [
      "\u001b[1;31m---------------------------------------------------------------------------\u001b[0m",
      "\u001b[1;31mTypeError\u001b[0m                                 Traceback (most recent call last)",
      "\u001b[1;32md:\\Dropbox\\ariel-research\\research-5783\\03-python-oop\\code\\1.decorator.ipynb Cell 8\u001b[0m in \u001b[0;36m<module>\u001b[1;34m\u001b[0m\n\u001b[0;32m      <a href='vscode-notebook-cell:/d%3A/Dropbox/ariel-research/research-5783/03-python-oop/code/1.decorator.ipynb#W6sZmlsZQ%3D%3D?line=0'>1</a>\u001b[0m \u001b[39m@wrap\u001b[39m\n\u001b[0;32m      <a href='vscode-notebook-cell:/d%3A/Dropbox/ariel-research/research-5783/03-python-oop/code/1.decorator.ipynb#W6sZmlsZQ%3D%3D?line=1'>2</a>\u001b[0m \u001b[39mdef\u001b[39;00m \u001b[39mparam_function\u001b[39m(num: \u001b[39mint\u001b[39m):\n\u001b[0;32m      <a href='vscode-notebook-cell:/d%3A/Dropbox/ariel-research/research-5783/03-python-oop/code/1.decorator.ipynb#W6sZmlsZQ%3D%3D?line=2'>3</a>\u001b[0m     \u001b[39mprint\u001b[39m(\u001b[39mf\u001b[39m\u001b[39m\"\u001b[39m\u001b[39m{\u001b[39;00mnum\u001b[39m}\u001b[39;00m\u001b[39m is a number\u001b[39m\u001b[39m\"\u001b[39m)\n\u001b[1;32m----> <a href='vscode-notebook-cell:/d%3A/Dropbox/ariel-research/research-5783/03-python-oop/code/1.decorator.ipynb#W6sZmlsZQ%3D%3D?line=3'>4</a>\u001b[0m param_function(\u001b[39m3\u001b[39;49m)\n",
      "\u001b[1;31mTypeError\u001b[0m: wrap.<locals>.wrapper() takes 0 positional arguments but 1 was given"
     ]
    }
   ],
   "source": [
    "@wrap\n",
    "def param_function(num: int):\n",
    "    print(f\"{num} is a number\")\n",
    "param_function(3) #We should get a TypeError\n",
    "# param_function() #We should get another TypeError"
   ]
  },
  {
   "cell_type": "code",
   "execution_count": 7,
   "metadata": {},
   "outputs": [
    {
     "name": "stdout",
     "output_type": "stream",
     "text": [
      "(1, 2, 3, 4, 5)\n",
      "<class 'tuple'>\n",
      "15\n"
     ]
    }
   ],
   "source": [
    "# Reminder: *args\n",
    "\n",
    "def my_sum(*args):\n",
    "    print(args)\n",
    "    print(type(args))\n",
    "    result = 0\n",
    "    for x in args:\n",
    "        result += x\n",
    "    return result\n",
    "\n",
    "print(my_sum(1,2,3,4,5))"
   ]
  },
  {
   "cell_type": "code",
   "execution_count": 8,
   "metadata": {},
   "outputs": [
    {
     "name": "stdout",
     "output_type": "stream",
     "text": [
      "{'e': 1, 'r': 2, 'j': 3}\n",
      "<class 'dict'>\n",
      "e -> 1\n",
      "r -> 2\n",
      "j -> 3\n"
     ]
    }
   ],
   "source": [
    "# Reminder: **kwargs\n",
    "\n",
    "def f(**kwargs):\n",
    "    print(kwargs)\n",
    "    print(type(kwargs))\n",
    "    for key, val in kwargs.items():\n",
    "        print(key, '->', val)\n",
    "\n",
    "f(e=1, r=2, j=3)"
   ]
  },
  {
   "cell_type": "code",
   "execution_count": 9,
   "metadata": {},
   "outputs": [
    {
     "name": "stdout",
     "output_type": "stream",
     "text": [
      "starting param_function\n",
      "3 is a number\n",
      "ending param_function\n",
      "\n",
      "starting param_function\n",
      "3 is a number\n",
      "ending param_function\n"
     ]
    }
   ],
   "source": [
    "def wrap_with_params(func):\n",
    "    def wrapper(*args , **kwargs):\n",
    "        print(f\"starting {func.__name__}\")\n",
    "        func(*args, **kwargs)\n",
    "        print(f\"ending {func.__name__}\")\n",
    "    return wrapper\n",
    "\n",
    "@wrap_with_params\n",
    "def param_function(num: int):\n",
    "    print(f\"{num} is a number\")\n",
    "param_function(3)\n",
    "print()\n",
    "param_function(num=3)"
   ]
  },
  {
   "cell_type": "code",
   "execution_count": 6,
   "metadata": {},
   "outputs": [
    {
     "name": "stdout",
     "output_type": "stream",
     "text": [
      "starting change_name_to_upper\n"
     ]
    },
    {
     "ename": "IndexError",
     "evalue": "list index out of range",
     "output_type": "error",
     "traceback": [
      "\u001b[1;31m---------------------------------------------------------------------------\u001b[0m",
      "\u001b[1;31mIndexError\u001b[0m                                Traceback (most recent call last)",
      "\u001b[1;32md:\\Dropbox\\ariel-research\\research-5783\\03-python-oop\\code\\1.decorator.ipynb Cell 12\u001b[0m in \u001b[0;36m<module>\u001b[1;34m\u001b[0m\n\u001b[0;32m     <a href='vscode-notebook-cell:/d%3A/Dropbox/ariel-research/research-5783/03-python-oop/code/1.decorator.ipynb#X13sZmlsZQ%3D%3D?line=16'>17</a>\u001b[0m     lname_list[\u001b[39m0\u001b[39m]\u001b[39m=\u001b[39m lname_list[\u001b[39m0\u001b[39m]\u001b[39m.\u001b[39mupper()\n\u001b[0;32m     <a href='vscode-notebook-cell:/d%3A/Dropbox/ariel-research/research-5783/03-python-oop/code/1.decorator.ipynb#X13sZmlsZQ%3D%3D?line=17'>18</a>\u001b[0m     \u001b[39mreturn\u001b[39;00m \u001b[39m\"\u001b[39m\u001b[39m\"\u001b[39m\u001b[39m.\u001b[39mjoin(fname_list)\u001b[39m+\u001b[39m\u001b[39m\"\u001b[39m\u001b[39m \u001b[39m\u001b[39m\"\u001b[39m\u001b[39m+\u001b[39m\u001b[39m\"\u001b[39m\u001b[39m\"\u001b[39m\u001b[39m.\u001b[39mjoin(lname_list)\n\u001b[1;32m---> <a href='vscode-notebook-cell:/d%3A/Dropbox/ariel-research/research-5783/03-python-oop/code/1.decorator.ipynb#X13sZmlsZQ%3D%3D?line=18'>19</a>\u001b[0m \u001b[39mprint\u001b[39m(change_name_to_upper())\n\u001b[0;32m     <a href='vscode-notebook-cell:/d%3A/Dropbox/ariel-research/research-5783/03-python-oop/code/1.decorator.ipynb#X13sZmlsZQ%3D%3D?line=20'>21</a>\u001b[0m \u001b[39m@wrap_with_return\u001b[39m\n\u001b[0;32m     <a href='vscode-notebook-cell:/d%3A/Dropbox/ariel-research/research-5783/03-python-oop/code/1.decorator.ipynb#X13sZmlsZQ%3D%3D?line=21'>22</a>\u001b[0m \u001b[39mdef\u001b[39;00m \u001b[39mparam_function\u001b[39m(num: \u001b[39mint\u001b[39m):\n\u001b[0;32m     <a href='vscode-notebook-cell:/d%3A/Dropbox/ariel-research/research-5783/03-python-oop/code/1.decorator.ipynb#X13sZmlsZQ%3D%3D?line=22'>23</a>\u001b[0m     \u001b[39mprint\u001b[39m(\u001b[39mf\u001b[39m\u001b[39m\"\u001b[39m\u001b[39m{\u001b[39;00mnum\u001b[39m}\u001b[39;00m\u001b[39m is a number\u001b[39m\u001b[39m\"\u001b[39m)\n",
      "\u001b[1;32md:\\Dropbox\\ariel-research\\research-5783\\03-python-oop\\code\\1.decorator.ipynb Cell 12\u001b[0m in \u001b[0;36mwrap_with_return.<locals>.wrapper\u001b[1;34m(*args, **kwargs)\u001b[0m\n\u001b[0;32m      <a href='vscode-notebook-cell:/d%3A/Dropbox/ariel-research/research-5783/03-python-oop/code/1.decorator.ipynb#X13sZmlsZQ%3D%3D?line=1'>2</a>\u001b[0m \u001b[39mdef\u001b[39;00m \u001b[39mwrapper\u001b[39m(\u001b[39m*\u001b[39margs , \u001b[39m*\u001b[39m\u001b[39m*\u001b[39mkwargs):\n\u001b[0;32m      <a href='vscode-notebook-cell:/d%3A/Dropbox/ariel-research/research-5783/03-python-oop/code/1.decorator.ipynb#X13sZmlsZQ%3D%3D?line=2'>3</a>\u001b[0m     \u001b[39mprint\u001b[39m(\u001b[39mf\u001b[39m\u001b[39m\"\u001b[39m\u001b[39mstarting \u001b[39m\u001b[39m{\u001b[39;00mfunc\u001b[39m.\u001b[39m\u001b[39m__name__\u001b[39m\u001b[39m}\u001b[39;00m\u001b[39m\"\u001b[39m)\n\u001b[1;32m----> <a href='vscode-notebook-cell:/d%3A/Dropbox/ariel-research/research-5783/03-python-oop/code/1.decorator.ipynb#X13sZmlsZQ%3D%3D?line=3'>4</a>\u001b[0m     return_val \u001b[39m=\u001b[39m func(\u001b[39m*\u001b[39margs, \u001b[39m*\u001b[39m\u001b[39m*\u001b[39mkwargs)\n\u001b[0;32m      <a href='vscode-notebook-cell:/d%3A/Dropbox/ariel-research/research-5783/03-python-oop/code/1.decorator.ipynb#X13sZmlsZQ%3D%3D?line=4'>5</a>\u001b[0m     \u001b[39mprint\u001b[39m(\u001b[39mf\u001b[39m\u001b[39m\"\u001b[39m\u001b[39mending \u001b[39m\u001b[39m{\u001b[39;00mfunc\u001b[39m.\u001b[39m\u001b[39m__name__\u001b[39m\u001b[39m}\u001b[39;00m\u001b[39m\"\u001b[39m)\n\u001b[0;32m      <a href='vscode-notebook-cell:/d%3A/Dropbox/ariel-research/research-5783/03-python-oop/code/1.decorator.ipynb#X13sZmlsZQ%3D%3D?line=5'>6</a>\u001b[0m     \u001b[39mreturn\u001b[39;00m return_val\n",
      "\u001b[1;32md:\\Dropbox\\ariel-research\\research-5783\\03-python-oop\\code\\1.decorator.ipynb Cell 12\u001b[0m in \u001b[0;36mchange_name_to_upper\u001b[1;34m()\u001b[0m\n\u001b[0;32m     <a href='vscode-notebook-cell:/d%3A/Dropbox/ariel-research/research-5783/03-python-oop/code/1.decorator.ipynb#X13sZmlsZQ%3D%3D?line=13'>14</a>\u001b[0m fname_list\u001b[39m=\u001b[39m\u001b[39mlist\u001b[39m(first_name)\n\u001b[0;32m     <a href='vscode-notebook-cell:/d%3A/Dropbox/ariel-research/research-5783/03-python-oop/code/1.decorator.ipynb#X13sZmlsZQ%3D%3D?line=14'>15</a>\u001b[0m lname_list\u001b[39m=\u001b[39m\u001b[39mlist\u001b[39m(last_name)\n\u001b[1;32m---> <a href='vscode-notebook-cell:/d%3A/Dropbox/ariel-research/research-5783/03-python-oop/code/1.decorator.ipynb#X13sZmlsZQ%3D%3D?line=15'>16</a>\u001b[0m fname_list[\u001b[39m0\u001b[39m]\u001b[39m=\u001b[39m fname_list[\u001b[39m0\u001b[39;49m]\u001b[39m.\u001b[39mupper()\n\u001b[0;32m     <a href='vscode-notebook-cell:/d%3A/Dropbox/ariel-research/research-5783/03-python-oop/code/1.decorator.ipynb#X13sZmlsZQ%3D%3D?line=16'>17</a>\u001b[0m lname_list[\u001b[39m0\u001b[39m]\u001b[39m=\u001b[39m lname_list[\u001b[39m0\u001b[39m]\u001b[39m.\u001b[39mupper()\n\u001b[0;32m     <a href='vscode-notebook-cell:/d%3A/Dropbox/ariel-research/research-5783/03-python-oop/code/1.decorator.ipynb#X13sZmlsZQ%3D%3D?line=17'>18</a>\u001b[0m \u001b[39mreturn\u001b[39;00m \u001b[39m\"\u001b[39m\u001b[39m\"\u001b[39m\u001b[39m.\u001b[39mjoin(fname_list)\u001b[39m+\u001b[39m\u001b[39m\"\u001b[39m\u001b[39m \u001b[39m\u001b[39m\"\u001b[39m\u001b[39m+\u001b[39m\u001b[39m\"\u001b[39m\u001b[39m\"\u001b[39m\u001b[39m.\u001b[39mjoin(lname_list)\n",
      "\u001b[1;31mIndexError\u001b[0m: list index out of range"
     ]
    }
   ],
   "source": [
    "def wrap_with_return(func):\n",
    "    def wrapper(*args , **kwargs):\n",
    "        print(f\"starting {func.__name__}\")\n",
    "        return_val = func(*args, **kwargs)\n",
    "        print(f\"ending {func.__name__}\")\n",
    "        return return_val\n",
    "    return wrapper\n",
    "\n",
    "@wrap_with_return\n",
    "def change_name_to_upper():\n",
    "    \"\"\"Changes the first character of the name to upper case \"\"\"\n",
    "    first_name= input(\"Your first name is: \")\n",
    "    last_name= input(\"Your last name is: \")\n",
    "    fname_list=list(first_name)\n",
    "    lname_list=list(last_name)\n",
    "    fname_list[0]= fname_list[0].upper()\n",
    "    lname_list[0]= lname_list[0].upper()\n",
    "    return \"\".join(fname_list)+\" \"+\"\".join(lname_list)\n",
    "print(change_name_to_upper())"
   ]
  },
  {
   "cell_type": "code",
   "execution_count": 7,
   "metadata": {},
   "outputs": [
    {
     "name": "stdout",
     "output_type": "stream",
     "text": [
      "starting param_function\n",
      "2 is a number\n",
      "ending param_function\n"
     ]
    }
   ],
   "source": [
    "@wrap_with_return\n",
    "def param_function(num: int):\n",
    "    print(f\"{num} is a number\")\n",
    "\n",
    "param_function(2)"
   ]
  },
  {
   "cell_type": "markdown",
   "metadata": {},
   "source": [
    "## Putting two wrappers on the same function"
   ]
  },
  {
   "cell_type": "code",
   "execution_count": 8,
   "metadata": {},
   "outputs": [],
   "source": [
    "\n",
    "def my_timer(orig_func):\n",
    "    import time\n",
    "    def wrapper(*args, **kwargs):\n",
    "        time_before = time.time()\n",
    "        result = orig_func(*args, **kwargs)\n",
    "        time_after = time.time()\n",
    "        print(f'my_timer: {orig_func.__name__} ran in: {time_after-time_before} sec')\n",
    "        return result\n",
    "\n",
    "    return wrapper"
   ]
  },
  {
   "cell_type": "code",
   "execution_count": 9,
   "metadata": {},
   "outputs": [
    {
     "name": "stdout",
     "output_type": "stream",
     "text": [
      "5+7=12\n",
      "my_timer: test2 ran in: 5.524379730224609 sec\n"
     ]
    }
   ],
   "source": [
    "@my_timer\n",
    "def test2(a, b):\n",
    "    print(f'{a}+{b}={a+b}')\n",
    "    for i in range(100000000): j=i*i # 5 sec\n",
    "\n",
    "test2(5, 7)"
   ]
  },
  {
   "cell_type": "code",
   "execution_count": 12,
   "metadata": {},
   "outputs": [
    {
     "name": "stdout",
     "output_type": "stream",
     "text": [
      "starting wrapper\n",
      "5+7=12\n",
      "my_timer: test3 ran in: 0.0 sec\n",
      "ending wrapper\n"
     ]
    }
   ],
   "source": [
    "@wrap_with_return\n",
    "@my_timer\n",
    "def test3(a, b):\n",
    "    print(f'{a}+{b}={a+b}')\n",
    "\n",
    "test3(5, 7)  # Wrong result: \"starting wrapper... ending wrapper\""
   ]
  },
  {
   "cell_type": "code",
   "execution_count": 13,
   "metadata": {},
   "outputs": [
    {
     "name": "stdout",
     "output_type": "stream",
     "text": [
      "starting test4\n",
      "5+7=12\n",
      "test4 ran in: 0.0 sec\n",
      "ending test4\n"
     ]
    }
   ],
   "source": [
    "from functools import wraps\n",
    "\n",
    "def my_logger(orig_func):\n",
    "    @wraps(orig_func)\n",
    "    def wrapper(*args , **kwargs):\n",
    "        print(f\"starting {orig_func.__name__}\")\n",
    "        return_val = orig_func(*args, **kwargs)\n",
    "        print(f\"ending {orig_func.__name__}\")\n",
    "        return return_val\n",
    "    return wrapper\n",
    "\n",
    "def my_timer(orig_func):\n",
    "    import time\n",
    "    @wraps(orig_func)\n",
    "    def wrapper(*args, **kwargs):\n",
    "        t1 = time.time()\n",
    "        result = orig_func(*args, **kwargs)\n",
    "        t2 = time.time() - t1\n",
    "        print(f'{orig_func.__name__} ran in: {t2} sec')\n",
    "        return result\n",
    "    return wrapper\n",
    "\n",
    "\n",
    "@my_logger\n",
    "@my_timer\n",
    "def test4(a, b):\n",
    "    print(f'{a}+{b}={a+b}')\n",
    "\n",
    "test4(5, 7)"
   ]
  }
 ],
 "metadata": {
  "kernelspec": {
   "display_name": "Python 3.10.2 64-bit",
   "language": "python",
   "name": "python3"
  },
  "language_info": {
   "codemirror_mode": {
    "name": "ipython",
    "version": 3
   },
   "file_extension": ".py",
   "mimetype": "text/x-python",
   "name": "python",
   "nbconvert_exporter": "python",
   "pygments_lexer": "ipython3",
   "version": "3.10.2"
  },
  "orig_nbformat": 2,
  "vscode": {
   "interpreter": {
    "hash": "fb4569285eef3a3450cb62085a5b1e0da4bce0af555edc33dcf29baf3acc1368"
   }
  }
 },
 "nbformat": 4,
 "nbformat_minor": 2
}
