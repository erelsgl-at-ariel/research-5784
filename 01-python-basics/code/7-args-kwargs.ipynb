{
 "cells": [
  {
   "cell_type": "markdown",
   "metadata": {},
   "source": [
    "## *args"
   ]
  },
  {
   "cell_type": "markdown",
   "metadata": {},
   "source": [
    "Q: How can we find an average of an unlimited number of variables? "
   ]
  },
  {
   "cell_type": "code",
   "execution_count": 1,
   "metadata": {},
   "outputs": [
    {
     "name": "stdout",
     "output_type": "stream",
     "text": [
      "55.0\n",
      "55.0\n"
     ]
    }
   ],
   "source": [
    "# option 1: tuple or list: \n",
    "def avg_of_tup(my_tup:tuple):\n",
    "    return sum(my_tup)/len(my_tup)\n",
    "\n",
    "my_tup = (32,54,82,52)\n",
    "print(avg_of_tup(my_tup))\n",
    "print(avg_of_tup((32,54,82,52)))"
   ]
  },
  {
   "cell_type": "code",
   "execution_count": 2,
   "metadata": {},
   "outputs": [
    {
     "name": "stdout",
     "output_type": "stream",
     "text": [
      "55.0\n",
      "55.0\n"
     ]
    }
   ],
   "source": [
    "\n",
    "# option 2 : *args\n",
    "def avg_unlimited(*args):\n",
    "    return sum(args)/len(args)\n",
    "\n",
    "print(avg_unlimited(32,54,82,52))\n",
    "\n",
    "# you can  use '*' to unpack tuple or list:\n",
    "my_tup = (32,54,82,52)\n",
    "print(avg_unlimited(*my_tup))"
   ]
  },
  {
   "cell_type": "code",
   "execution_count": 12,
   "metadata": {},
   "outputs": [
    {
     "name": "stdout",
     "output_type": "stream",
     "text": [
      "Average of integers: 3.5\n"
     ]
    }
   ],
   "source": [
    "# It is easy to send 'args' to another function:\n",
    "\n",
    "def print_avg(title:str, *args):\n",
    "    print(f\"{title}: {avg_unlimited(*args)}\")\n",
    "\n",
    "print_avg(\"Average of integers\", 1,2,3,4,5,6)"
   ]
  },
  {
   "cell_type": "markdown",
   "metadata": {},
   "source": []
  },
  {
   "cell_type": "markdown",
   "metadata": {},
   "source": [
    "## **kwargs\n",
    "\n",
    "*args    converts __unnamed arguments__ to a __tuple__.\n",
    "\n",
    "**kwargs converts __named arguments__ to a __dict__."
   ]
  },
  {
   "cell_type": "code",
   "execution_count": 7,
   "metadata": {},
   "outputs": [
    {
     "name": "stdout",
     "output_type": "stream",
     "text": [
      "{'e': 1, 'r': 2, 'j': 3, 'xyz': 6}\n",
      "<class 'dict'>\n",
      "e -> 1\n",
      "r -> 2\n",
      "j -> 3\n",
      "xyz -> 6\n"
     ]
    }
   ],
   "source": [
    "# \n",
    "def print_key_val(**kwargs):\n",
    "    print(kwargs)\n",
    "    print(type(kwargs))\n",
    "    for key, val in kwargs.items():\n",
    "        print(key, '->', val)\n",
    "\n",
    "print_key_val(e=1, r=2, j=3, xyz=6)"
   ]
  },
  {
   "cell_type": "code",
   "execution_count": 8,
   "metadata": {},
   "outputs": [
    {
     "name": "stdout",
     "output_type": "stream",
     "text": [
      "a = foo\n",
      "b = 25\n",
      "c = qux\n"
     ]
    }
   ],
   "source": [
    "# you can also unpack dict with **kwargs\n",
    "def f(a, b, c):\n",
    "    print(f'a = {a}')\n",
    "    print(f'b = {b}')\n",
    "    print(f'c = {c}')\n",
    "\n",
    "d = {'a': 'foo', 'b': 25, 'c': 'qux'}\n",
    "# using the values\n",
    "f(**d)"
   ]
  },
  {
   "cell_type": "code",
   "execution_count": 14,
   "metadata": {},
   "outputs": [
    {
     "name": "stdout",
     "output_type": "stream",
     "text": [
      "{'A': 1, 'B': 2, 'C': 4, 'D': 5, 'E': 6}\n"
     ]
    }
   ],
   "source": [
    "# unpack several dictionaries into one dictionary\n",
    "my_first_dict = {\"A\": 1, \"B\": 2, \"C\":3}\n",
    "my_second_dict = {\"C\":4, \"D\": 5, \"E\":6}\n",
    "# for key,val in my_second_dict.items(): my_first_dict[key]=val\n",
    "my_merged_dict = {**my_first_dict, **my_second_dict}\n",
    "print(my_merged_dict)"
   ]
  },
  {
   "cell_type": "code",
   "execution_count": 17,
   "metadata": {},
   "outputs": [
    {
     "name": "stdout",
     "output_type": "stream",
     "text": [
      "Hello:\n",
      "args=<class 'tuple'>=(1, 2, 3),\n",
      "kwargs=<class 'dict'>={'d': 4, 'e': 5, 'f': 6}\n",
      "~~~~~~~~~~~~~~~~~~\n"
     ]
    }
   ],
   "source": [
    "def args_kwargs(title, *args, **kwargs):\n",
    "    print(f'{title}:\\nargs={type(args)}={args},\\nkwargs={type(kwargs)}={kwargs}')\n",
    "    print('~~~~~~~~~~~~~~~~~~')\n",
    "\n",
    "tup = (1,2,3)\n",
    "dic = {'a':1,'b':2}\n",
    "\n",
    "args_kwargs(\"Hello\", 1, 2, 3, d=4, e=5, f=6)"
   ]
  }
 ],
 "metadata": {
  "kernelspec": {
   "display_name": "Python 3.10.2 64-bit",
   "language": "python",
   "name": "python3"
  },
  "language_info": {
   "codemirror_mode": {
    "name": "ipython",
    "version": 3
   },
   "file_extension": ".py",
   "mimetype": "text/x-python",
   "name": "python",
   "nbconvert_exporter": "python",
   "pygments_lexer": "ipython3",
   "version": "3.10.11"
  },
  "orig_nbformat": 2,
  "vscode": {
   "interpreter": {
    "hash": "fb4569285eef3a3450cb62085a5b1e0da4bce0af555edc33dcf29baf3acc1368"
   }
  }
 },
 "nbformat": 4,
 "nbformat_minor": 2
}
