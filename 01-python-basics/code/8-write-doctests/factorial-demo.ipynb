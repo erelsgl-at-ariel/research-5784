{
 "cells": [
  {
   "cell_type": "code",
   "execution_count": 1,
   "metadata": {},
   "outputs": [
    {
     "name": "stdout",
     "output_type": "stream",
     "text": [
      "Help on module factorial:\n",
      "\n",
      "NAME\n",
      "    factorial - This is the \"example\" module.\n",
      "\n",
      "DESCRIPTION\n",
      "    The example module supplies one function, factorial().  For example,\n",
      "    \n",
      "    >>> factorial(5)\n",
      "    120\n",
      "    \n",
      "    Programmer: Erel Segal-Halevi\n",
      "    Date: 2022\n",
      "\n",
      "FUNCTIONS\n",
      "    factorial(n)\n",
      "        Return the factorial of n, an exact integer >= 0.\n",
      "        \n",
      "        >>> [factorial(n) for n in range(6)]\n",
      "        [1, 1, 2, 6, 24, 120]\n",
      "        \n",
      "        >>> factorial(30)\n",
      "        265252859812191058636308480000000\n",
      "        \n",
      "        >>> factorial(-1)\n",
      "        Traceback (most recent call last):\n",
      "            ...\n",
      "        ValueError: n must be >= 0\n",
      "        \n",
      "        Factorials of floats are OK, but the float must be an exact integer:\n",
      "        >>> factorial(30.1)\n",
      "        Traceback (most recent call last):\n",
      "            ...\n",
      "        ValueError: n must be exact integer\n",
      "        >>> factorial(30.0)q\n",
      "        265252859812191058636308480000000\n",
      "        \n",
      "        It must also not be ridiculously large:\n",
      "        >>> factorial(1e100)\n",
      "        Traceback (most recent call last):\n",
      "            ...\n",
      "        OverflowError: n too large\n",
      "\n",
      "FILE\n",
      "    d:\\dropbox\\ariel-research\\research-5784\\01-python-basics\\code\\8-doctest\\factorial.py\n",
      "\n",
      "\n"
     ]
    }
   ],
   "source": [
    "import factorial\n",
    "help(factorial)"
   ]
  },
  {
   "cell_type": "code",
   "execution_count": 2,
   "metadata": {},
   "outputs": [
    {
     "name": "stdout",
     "output_type": "stream",
     "text": [
      "Help on function factorial in module factorial:\n",
      "\n",
      "factorial(n)\n",
      "    Return the factorial of n, an exact integer >= 0.\n",
      "    \n",
      "    >>> [factorial(n) for n in range(6)]\n",
      "    [1, 1, 2, 6, 24, 120]\n",
      "    \n",
      "    >>> factorial(30)\n",
      "    265252859812191058636308480000000\n",
      "    \n",
      "    >>> factorial(-1)\n",
      "    Traceback (most recent call last):\n",
      "        ...\n",
      "    ValueError: n must be >= 0\n",
      "    \n",
      "    Factorials of floats are OK, but the float must be an exact integer:\n",
      "    >>> factorial(30.1)\n",
      "    Traceback (most recent call last):\n",
      "        ...\n",
      "    ValueError: n must be exact integer\n",
      "    >>> factorial(30.0)q\n",
      "    265252859812191058636308480000000\n",
      "    \n",
      "    It must also not be ridiculously large:\n",
      "    >>> factorial(1e100)\n",
      "    Traceback (most recent call last):\n",
      "        ...\n",
      "    OverflowError: n too large\n",
      "\n"
     ]
    }
   ],
   "source": [
    "help(factorial.factorial)"
   ]
  }
 ],
 "metadata": {
  "kernelspec": {
   "display_name": "Python 3.10.2 64-bit",
   "language": "python",
   "name": "python3"
  },
  "language_info": {
   "codemirror_mode": {
    "name": "ipython",
    "version": 3
   },
   "file_extension": ".py",
   "mimetype": "text/x-python",
   "name": "python",
   "nbconvert_exporter": "python",
   "pygments_lexer": "ipython3",
   "version": "3.10.2"
  },
  "orig_nbformat": 2,
  "vscode": {
   "interpreter": {
    "hash": "fb4569285eef3a3450cb62085a5b1e0da4bce0af555edc33dcf29baf3acc1368"
   }
  }
 },
 "nbformat": 4,
 "nbformat_minor": 2
}
