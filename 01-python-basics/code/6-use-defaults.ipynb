{
 "cells": [
  {
   "cell_type": "markdown",
   "metadata": {},
   "source": [
    "## 1. Default parameter values\n",
    "\n",
    "Write a function that finds an approximate root of a given function.\n",
    "\n",
    "```Java\n",
    "/* Java code by Microsoft Copilot */\n",
    "\n",
    "    public static double findRoot(Function<Double, Double> f, Function<Double, Double> fPrime, double initialGuess, double tolerance) {\n",
    "        double x = initialGuess;\n",
    "        while (Math.abs(f.apply(x)) > tolerance) {\n",
    "            x = x - f.apply(x) / fPrime.apply(x);\n",
    "        }\n",
    "        return x;\n",
    "    }\n",
    "    public static double findRoot(Function<Double, Double> f, Function<Double, Double> fPrime) {\n",
    "        findRoot(f, fPrime, 0, 0.001);\n",
    "    } \n",
    "```"
   ]
  },
  {
   "cell_type": "code",
   "execution_count": 9,
   "metadata": {},
   "outputs": [
    {
     "name": "stdout",
     "output_type": "stream",
     "text": [
      "0.6180344478216819\n",
      "0.6666666666666667\n",
      "0.6180339887499892\n"
     ]
    }
   ],
   "source": [
    "import math\n",
    "def findRoot(f:callable, fPrime:callable, initialGuess:float=0, tolerance:float=0.001):\n",
    "    x = initialGuess;\n",
    "    while abs(f(x))>tolerance:\n",
    "        x = x-f(x)/fPrime(x)\n",
    "    return x\n",
    "\n",
    "print(findRoot(f=lambda x:x**2+x-1, fPrime=lambda x:2*x+1))\n",
    "print(findRoot(f=lambda x:x**2+x-1, fPrime=lambda x:2*x+1, tolerance=0.5))\n",
    "print(findRoot(f=lambda x:x**2+x-1, fPrime=lambda x:2*x+1, tolerance=0.00000000001))"
   ]
  },
  {
   "cell_type": "markdown",
   "metadata": {},
   "source": [
    "## 2. mutable default parameters: \n",
    "The problem:"
   ]
  },
  {
   "cell_type": "code",
   "execution_count": 5,
   "metadata": {},
   "outputs": [
    {
     "name": "stdout",
     "output_type": "stream",
     "text": [
      "['###']\n",
      "['###', '###']\n",
      "['###', '###', '###']\n"
     ]
    }
   ],
   "source": [
    "def stam_list(my_list=[]):\n",
    "    my_list.append('###')\n",
    "    return my_list\n",
    "\n",
    "for i in range(3):\n",
    "    print(stam_list())"
   ]
  },
  {
   "cell_type": "markdown",
   "metadata": {},
   "source": [
    "fix 1:"
   ]
  },
  {
   "cell_type": "code",
   "execution_count": 6,
   "metadata": {},
   "outputs": [
    {
     "name": "stdout",
     "output_type": "stream",
     "text": [
      "['###']\n",
      "['###']\n",
      "['###']\n"
     ]
    }
   ],
   "source": [
    "def stam_list(my_list=None):\n",
    "    if my_list is None:\n",
    "        my_list=[]\n",
    "    my_list.append('###')\n",
    "    return my_list\n",
    "\n",
    "for i in range(3):\n",
    "    print(stam_list())"
   ]
  },
  {
   "cell_type": "markdown",
   "metadata": {},
   "source": [
    "fix 2:"
   ]
  },
  {
   "cell_type": "code",
   "execution_count": 7,
   "metadata": {},
   "outputs": [
    {
     "name": "stdout",
     "output_type": "stream",
     "text": [
      "['###']\n",
      "['###']\n",
      "['###']\n"
     ]
    }
   ],
   "source": [
    "def stam_list(my_list=[]):\n",
    "    my_list = list(my_list)\n",
    "    my_list.append('###')\n",
    "    return my_list\n",
    "\n",
    "for i in range(3):\n",
    "    print(stam_list())"
   ]
  }
 ],
 "metadata": {
  "kernelspec": {
   "display_name": "Python 3.10.2 64-bit",
   "language": "python",
   "name": "python3"
  },
  "language_info": {
   "codemirror_mode": {
    "name": "ipython",
    "version": 3
   },
   "file_extension": ".py",
   "mimetype": "text/x-python",
   "name": "python",
   "nbconvert_exporter": "python",
   "pygments_lexer": "ipython3",
   "version": "3.10.11"
  },
  "orig_nbformat": 2,
  "vscode": {
   "interpreter": {
    "hash": "fb4569285eef3a3450cb62085a5b1e0da4bce0af555edc33dcf29baf3acc1368"
   }
  }
 },
 "nbformat": 4,
 "nbformat_minor": 2
}
