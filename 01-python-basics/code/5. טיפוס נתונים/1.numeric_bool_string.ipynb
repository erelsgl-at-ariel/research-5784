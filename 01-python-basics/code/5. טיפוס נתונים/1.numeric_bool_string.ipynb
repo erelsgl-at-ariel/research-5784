{
 "cells": [
  {
   "cell_type": "markdown",
   "metadata": {},
   "source": [
    "________________\n",
    "# Numeric types:"
   ]
  },
  {
   "cell_type": "code",
   "execution_count": null,
   "metadata": {},
   "outputs": [],
   "source": [
    "x=32222222222222222222222222222222222222222222222222222222222222222222222222222222222222222222222222222222222222222222423\n",
    "print(type(x))\n",
    "print(x+x)\n"
   ]
  },
  {
   "cell_type": "code",
   "execution_count": null,
   "metadata": {},
   "outputs": [],
   "source": [
    "x=2.0\n",
    "print(type(x))"
   ]
  },
  {
   "cell_type": "code",
   "execution_count": null,
   "metadata": {},
   "outputs": [],
   "source": [
    "x=2j\n",
    "print(type(x))\n",
    "x**2"
   ]
  },
  {
   "cell_type": "markdown",
   "metadata": {},
   "source": [
    "# Boolean:"
   ]
  },
  {
   "cell_type": "code",
   "execution_count": null,
   "metadata": {},
   "outputs": [],
   "source": [
    "print(type(True))\n",
    "print(type(2 > 3))"
   ]
  },
  {
   "cell_type": "code",
   "execution_count": null,
   "metadata": {},
   "outputs": [],
   "source": [
    "print(bool(\"Hello\"))\n",
    "print(bool(15))\n",
    "print(bool(0))\n",
    "print(bool(0.0))"
   ]
  },
  {
   "cell_type": "markdown",
   "metadata": {},
   "source": [
    "\n",
    "# Strings:"
   ]
  },
  {
   "cell_type": "code",
   "execution_count": null,
   "metadata": {},
   "outputs": [],
   "source": [
    "print(type('String'))"
   ]
  },
  {
   "cell_type": "markdown",
   "metadata": {},
   "source": [
    "### string operators:"
   ]
  },
  {
   "cell_type": "code",
   "execution_count": null,
   "metadata": {},
   "outputs": [],
   "source": [
    "# string operators:\n",
    "# Concatenation:\n",
    "print('Hellow'+'World')\n",
    "print('Hellow'+ ' ' + 'World') \n",
    "# Self Concatenation:\n",
    "print('a' * 4)"
   ]
  },
  {
   "cell_type": "code",
   "execution_count": null,
   "metadata": {},
   "outputs": [],
   "source": [
    "\n",
    "# Slicing strings:\n",
    "my_str = 'This is my string'\n",
    "print(my_str[5:7])\n",
    "print(my_str[8:])\n",
    "print(my_str[:7])\n",
    "print(my_str[-9:-1])\n",
    "print(my_str[0:15:2])"
   ]
  },
  {
   "cell_type": "code",
   "execution_count": null,
   "metadata": {},
   "outputs": [],
   "source": [
    "# modifying strings: \n",
    "print('upper & lower functions:')\n",
    "print(my_str.upper())\n",
    "print(my_str.lower())\n"
   ]
  },
  {
   "cell_type": "code",
   "execution_count": null,
   "metadata": {},
   "outputs": [],
   "source": [
    "\n",
    "#The strip() method removes any whitespace from the beginning or the end:\n",
    "print('\\nstrip function: ')\n",
    "my_str = ' '+my_str+' '\n",
    "print(my_str)\n",
    "my_str = my_str.strip()\n",
    "print(my_str)"
   ]
  },
  {
   "cell_type": "code",
   "execution_count": null,
   "metadata": {},
   "outputs": [],
   "source": [
    "\n",
    "#The replace() method replaces a string with another string:\n",
    "print('\\nreplace function:')\n",
    "print(my_str.replace(' is ', \" is 'not' \"))\n"
   ]
  },
  {
   "cell_type": "markdown",
   "metadata": {},
   "source": [
    "[More about string methods you can find here](https://www.w3schools.com/python/python_ref_string.asp)"
   ]
  },
  {
   "cell_type": "markdown",
   "metadata": {},
   "source": [
    "### String formatting: "
   ]
  },
  {
   "cell_type": "code",
   "execution_count": null,
   "metadata": {},
   "outputs": [],
   "source": [
    "# String formating: \n",
    "first_name = \"Eric\"\n",
    "last_name = \"Idle\"\n",
    "age = 74\n",
    "profession = \"comedian\"\n",
    "affiliation = \"Monty Python\"\n",
    "\n",
    "print('\\nfstring: ')\n",
    "print(f\"Hello, {first_name} {last_name}. You are {age+1}. You are a {profession}. You were a member of {affiliation}.\")\n",
    "\n",
    "print('format function: ')\n",
    "template=\"Hello, {first_name} {last_name}. You are {age}. You are a {profession}. You were a member of {affiliation}.\"\n",
    "print(template.format(first_name=first_name, last_name=last_name, age=age+1, profession=profession, affiliation=affiliation))"
   ]
  },
  {
   "cell_type": "code",
   "execution_count": null,
   "metadata": {},
   "outputs": [],
   "source": [
    "#fstring: \n",
    "val = 12.3\n",
    "print(f'{val:.2f}')\n",
    "print(f'{val:.5f}')"
   ]
  },
  {
   "cell_type": "code",
   "execution_count": null,
   "metadata": {},
   "outputs": [],
   "source": [
    "\n",
    "a = 300\n",
    "# hexadecimal\n",
    "print(f\"{a:x}\")\n",
    "# octal\n",
    "print(f\"{a:o}\")\n",
    "# scientific\n",
    "print(f\"{a:e}\")\n"
   ]
  },
  {
   "cell_type": "code",
   "execution_count": null,
   "metadata": {},
   "outputs": [],
   "source": []
  }
 ],
 "metadata": {
  "kernelspec": {
   "display_name": "Python 3.10.2 64-bit",
   "language": "python",
   "name": "python3"
  },
  "language_info": {
   "codemirror_mode": {
    "name": "ipython",
    "version": 3
   },
   "file_extension": ".py",
   "mimetype": "text/x-python",
   "name": "python",
   "nbconvert_exporter": "python",
   "pygments_lexer": "ipython3",
   "version": "3.10.2"
  },
  "orig_nbformat": 2,
  "vscode": {
   "interpreter": {
    "hash": "fb4569285eef3a3450cb62085a5b1e0da4bce0af555edc33dcf29baf3acc1368"
   }
  }
 },
 "nbformat": 4,
 "nbformat_minor": 2
}
