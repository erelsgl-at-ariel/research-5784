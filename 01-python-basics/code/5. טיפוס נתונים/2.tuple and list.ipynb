{
 "cells": [
  {
   "cell_type": "markdown",
   "metadata": {},
   "source": [
    "# Lists and tuples"
   ]
  },
  {
   "cell_type": "code",
   "execution_count": 9,
   "metadata": {},
   "outputs": [
    {
     "name": "stdout",
     "output_type": "stream",
     "text": [
      "<class 'list'>\n",
      "<class 'tuple'>\n"
     ]
    }
   ],
   "source": [
    "lst = [1 ,'2' ,3.0]\n",
    "tup = (1 ,'2' ,3.0)\n",
    "print(type(lst))\n",
    "print(type(tup))"
   ]
  },
  {
   "cell_type": "code",
   "execution_count": 12,
   "metadata": {},
   "outputs": [
    {
     "name": "stdout",
     "output_type": "stream",
     "text": [
      "1\n",
      "2\n",
      "3.0\n"
     ]
    }
   ],
   "source": [
    "x,y,z=tup\n",
    "print(x)\n",
    "print(y)\n",
    "print(z)"
   ]
  },
  {
   "cell_type": "code",
   "execution_count": 13,
   "metadata": {},
   "outputs": [
    {
     "name": "stdout",
     "output_type": "stream",
     "text": [
      "list before:  ['one', 'two', 'three']\n",
      "list after:  ['one', 2, 'three']\n",
      "tuple before:  ('one', 'two', 'three')\n"
     ]
    },
    {
     "ename": "TypeError",
     "evalue": "'tuple' object does not support item assignment",
     "output_type": "error",
     "traceback": [
      "\u001b[1;31m---------------------------------------------------------------------------\u001b[0m",
      "\u001b[1;31mTypeError\u001b[0m                                 Traceback (most recent call last)",
      "\u001b[1;32md:\\Dropbox\\ariel-research\\research-5783\\01-python-basics\\code\\5. טיפוס נתונים\\2.tuple and list.ipynb Cell 4\u001b[0m in \u001b[0;36m<module>\u001b[1;34m\u001b[0m\n\u001b[0;32m      <a href='vscode-notebook-cell:/d%3A/Dropbox/ariel-research/research-5783/01-python-basics/code/5.%20%D7%98%D7%99%D7%A4%D7%95%D7%A1%20%D7%A0%D7%AA%D7%95%D7%A0%D7%99%D7%9D/2.tuple%20and%20list.ipynb#W2sZmlsZQ%3D%3D?line=6'>7</a>\u001b[0m my_tuple \u001b[39m=\u001b[39m (\u001b[39m\"\u001b[39m\u001b[39mone\u001b[39m\u001b[39m\"\u001b[39m, \u001b[39m\"\u001b[39m\u001b[39mtwo\u001b[39m\u001b[39m\"\u001b[39m, \u001b[39m\"\u001b[39m\u001b[39mthree\u001b[39m\u001b[39m\"\u001b[39m)\n\u001b[0;32m      <a href='vscode-notebook-cell:/d%3A/Dropbox/ariel-research/research-5783/01-python-basics/code/5.%20%D7%98%D7%99%D7%A4%D7%95%D7%A1%20%D7%A0%D7%AA%D7%95%D7%A0%D7%99%D7%9D/2.tuple%20and%20list.ipynb#W2sZmlsZQ%3D%3D?line=7'>8</a>\u001b[0m \u001b[39mprint\u001b[39m(\u001b[39m\"\u001b[39m\u001b[39mtuple before: \u001b[39m\u001b[39m\"\u001b[39m,my_tuple)\n\u001b[1;32m----> <a href='vscode-notebook-cell:/d%3A/Dropbox/ariel-research/research-5783/01-python-basics/code/5.%20%D7%98%D7%99%D7%A4%D7%95%D7%A1%20%D7%A0%D7%AA%D7%95%D7%A0%D7%99%D7%9D/2.tuple%20and%20list.ipynb#W2sZmlsZQ%3D%3D?line=8'>9</a>\u001b[0m my_tuple[\u001b[39m1\u001b[39m] \u001b[39m=\u001b[39m \u001b[39m2\u001b[39m\n\u001b[0;32m     <a href='vscode-notebook-cell:/d%3A/Dropbox/ariel-research/research-5783/01-python-basics/code/5.%20%D7%98%D7%99%D7%A4%D7%95%D7%A1%20%D7%A0%D7%AA%D7%95%D7%A0%D7%99%D7%9D/2.tuple%20and%20list.ipynb#W2sZmlsZQ%3D%3D?line=9'>10</a>\u001b[0m \u001b[39mprint\u001b[39m(\u001b[39m\"\u001b[39m\u001b[39mtuple after: \u001b[39m\u001b[39m\"\u001b[39m,my_tuple)\n",
      "\u001b[1;31mTypeError\u001b[0m: 'tuple' object does not support item assignment"
     ]
    }
   ],
   "source": [
    "#changing the value of a specific item:\n",
    "my_list = [\"one\", \"two\", \"three\"]\n",
    "print(\"list before: \",my_list)\n",
    "my_list[1] = 2\n",
    "print(\"list after: \",my_list)\n",
    "\n",
    "my_tuple = (\"one\", \"two\", \"three\")\n",
    "print(\"tuple before: \",my_tuple)\n",
    "my_tuple[1] = 2\n",
    "print(\"tuple after: \",my_tuple)"
   ]
  },
  {
   "cell_type": "code",
   "execution_count": null,
   "metadata": {},
   "outputs": [],
   "source": [
    "print('belonging operators: ')\n",
    "primes_num_under_ten = [2 ,3 ,5 ,7]\n",
    "print('is 8 a prime number?')\n",
    "# in \n",
    "print(8 in primes_num_under_ten)\n",
    "print('is 9 not a prime? ')\n",
    "print(9 not in primes_num_under_ten)"
   ]
  },
  {
   "cell_type": "markdown",
   "metadata": {},
   "source": [
    "## Slicing:"
   ]
  },
  {
   "cell_type": "code",
   "execution_count": null,
   "metadata": {},
   "outputs": [],
   "source": [
    "lst=[1,2,3,4,5]\n",
    "tup =(1 ,'2' ,3.0, 4, 5)\n",
    "print(lst[0])\n",
    "print(lst[-1])  #the last cell of the list\n",
    "print(lst[0:2]) #from lst[0] to lst[2]\n",
    "print(lst[0::2]) #from lst[0] to lst[end], in jumps of 2\n",
    "print(tup[0::2]) "
   ]
  },
  {
   "cell_type": "code",
   "execution_count": null,
   "metadata": {},
   "outputs": [],
   "source": [
    "# Changing the value of items within a specific range:\n",
    "list_of_primes = [2,4,6,8,10]\n",
    "list_of_primes[1:3] = [5,7,9]\n",
    "print(list_of_primes)"
   ]
  },
  {
   "cell_type": "markdown",
   "metadata": {},
   "source": [
    "### Shallow and deep copy:"
   ]
  },
  {
   "cell_type": "code",
   "execution_count": null,
   "metadata": {},
   "outputs": [],
   "source": [
    "origin_list = [1, [2,3], (4,5), 6]\n",
    "very_shallow_copy = origin_list\n",
    "very_shallow_copy[0]=111\n",
    "print(\"origin_list\",origin_list)\n",
    "print(\"very_shallow_copy\",very_shallow_copy)"
   ]
  },
  {
   "cell_type": "code",
   "execution_count": null,
   "metadata": {},
   "outputs": [],
   "source": [
    "origin_list = [1, [2,3], (4,5), 6]\n",
    "shallow_copy = list(origin_list) # equivalent: shallow_copy = origin_list.copy()    \n",
    "shallow_copy[0]=111\n",
    "shallow_copy[1][0]=222\n",
    "print(\"origin_list\",origin_list)\n",
    "print(\"shallow_copy\",shallow_copy)"
   ]
  },
  {
   "cell_type": "code",
   "execution_count": null,
   "metadata": {},
   "outputs": [],
   "source": [
    "from copy import deepcopy\n",
    "origin_list = [1, [ [2,3], [22,33] ], (4,5), 6]\n",
    "deep_copy = deepcopy(origin_list) # equivalent: shallow_copy = origin_list.copy()    \n",
    "deep_copy[0]=111\n",
    "deep_copy[1][0][0]=222\n",
    "print(\"origin_list\",origin_list)\n",
    "print(\"deep_copy\",deep_copy)\n",
    "print(id(origin_list[1]), id(deep_copy[1]))\n",
    "print(id(origin_list[2]), id(deep_copy[2]))"
   ]
  },
  {
   "cell_type": "markdown",
   "metadata": {},
   "source": [
    "### List comprehension:"
   ]
  },
  {
   "cell_type": "code",
   "execution_count": null,
   "metadata": {},
   "outputs": [],
   "source": [
    "#List Comprehension- List comprehension offers a shorter syntax when you want to create a new list based on the values of an existing list.\n",
    "#newlist = [expression for item in iterable if condition == True]\n",
    "fruits = [\"apple\", \"banana\", \"cherry\", \"kiwi\", \"mango\"]\n",
    "fruits_capital = [x.upper() for x in fruits]\n",
    "print(fruits_capital)\n",
    "fruits_with_a = [x for x in fruits if \"a\" in x]\n",
    "print(fruits_with_a)\n",
    "fruits_with_a_capital = [x.upper() for x in fruits if \"a\" in x]\n",
    "print(fruits_with_a_capital)"
   ]
  },
  {
   "cell_type": "markdown",
   "metadata": {},
   "source": [
    "### Add list items:"
   ]
  },
  {
   "cell_type": "code",
   "execution_count": null,
   "metadata": {},
   "outputs": [],
   "source": [
    "#adding an item to the end of the list:\n",
    "list_of_colors = ['red','blue','yellow']\n",
    "list_of_colors.append('green')\n",
    "print(list_of_colors)\n",
    "\n",
    "#inserting a list item at a specified index:\n",
    "list_of_colors.insert(1,'orange')\n",
    "print(list_of_colors)\n",
    "\n",
    "#appending elements from another list or tuple to the current list:\n",
    "bluish_colors_tuple = ('purple','navy','gray')\n",
    "list_of_colors += bluish_colors_tuple\n",
    "# Equivalent to: list_of_colors.extend(bluish_colors_tuple)\n",
    "print(list_of_colors)"
   ]
  },
  {
   "cell_type": "markdown",
   "metadata": {},
   "source": [
    "### Remove Specified Item"
   ]
  },
  {
   "cell_type": "code",
   "execution_count": null,
   "metadata": {},
   "outputs": [],
   "source": [
    "# remove() method\n",
    "animals_list = ['Dog','Cat','Chicken','virus']\n",
    "animals_list.remove('virus')\n",
    "print(animals_list)\n",
    "\n",
    "# pop() methods\n",
    "mammals_list = animals_list.copy()\n",
    "mammals_list.pop(2)\n",
    "print(mammals_list)\n",
    "\n",
    "# clear() methods\n",
    "empty_list = animals_list.copy()\n",
    "empty_list.clear()\n",
    "print(empty_list)"
   ]
  },
  {
   "cell_type": "markdown",
   "metadata": {},
   "source": [
    "### Sort lists:"
   ]
  },
  {
   "cell_type": "code",
   "execution_count": null,
   "metadata": {},
   "outputs": [],
   "source": [
    "char_list = ['c','w','a','y']\n",
    "char_list.sort()\n",
    "print(char_list)\n",
    "\n",
    "# Sort Descending:\n",
    "num_list = [1,2,32,454,5,0.1,3245]\n",
    "num_list.sort(reverse=True)\n",
    "print(num_list)\n",
    "\n",
    "# You can customize your sorting with the 'key' parameter:\n",
    "# key =  a function:\n",
    "fruits_list = [\"banana\", \"Orange\", \"Kiwi\", \"cherry\"]\n",
    "fruits_list.sort()\n",
    "print(fruits_list)\n",
    "fruits_list.sort(key = str.lower)\n",
    "print(fruits_list)"
   ]
  },
  {
   "cell_type": "code",
   "execution_count": null,
   "metadata": {},
   "outputs": [],
   "source": [
    "# The split() method splits the string into substrings if it finds instances of the separator:\n",
    "s = \"1,2,3,4\"\n",
    "print(s.split(\",\"))"
   ]
  },
  {
   "cell_type": "code",
   "execution_count": 6,
   "metadata": {},
   "outputs": [
    {
     "data": {
      "text/plain": [
       "[1, 4, 9, 16]"
      ]
     },
     "execution_count": 6,
     "metadata": {},
     "output_type": "execute_result"
    }
   ],
   "source": [
    "s = \"1,2,3,4\"\n",
    "[int(x)**2 for x in s.split(\",\")]"
   ]
  },
  {
   "cell_type": "code",
   "execution_count": 7,
   "metadata": {},
   "outputs": [
    {
     "ename": "TypeError",
     "evalue": "sequence item 0: expected str instance, int found",
     "output_type": "error",
     "traceback": [
      "\u001b[1;31m---------------------------------------------------------------------------\u001b[0m",
      "\u001b[1;31mTypeError\u001b[0m                                 Traceback (most recent call last)",
      "\u001b[1;32md:\\Dropbox\\ariel-research\\research-5783\\01-python-basics\\code\\5. טיפוס נתונים\\2.tuple and list.ipynb Cell 22\u001b[0m in \u001b[0;36m<module>\u001b[1;34m\u001b[0m\n\u001b[1;32m----> <a href='vscode-notebook-cell:/d%3A/Dropbox/ariel-research/research-5783/01-python-basics/code/5.%20%D7%98%D7%99%D7%A4%D7%95%D7%A1%20%D7%A0%D7%AA%D7%95%D7%A0%D7%99%D7%9D/2.tuple%20and%20list.ipynb#X30sZmlsZQ%3D%3D?line=0'>1</a>\u001b[0m \u001b[39m\"\u001b[39;49m\u001b[39m,\u001b[39;49m\u001b[39m\"\u001b[39;49m\u001b[39m.\u001b[39;49mjoin([\u001b[39mint\u001b[39;49m(x)\u001b[39m*\u001b[39;49m\u001b[39m*\u001b[39;49m\u001b[39m2\u001b[39;49m \u001b[39mfor\u001b[39;49;00m x \u001b[39min\u001b[39;49;00m s\u001b[39m.\u001b[39;49msplit(\u001b[39m\"\u001b[39;49m\u001b[39m,\u001b[39;49m\u001b[39m\"\u001b[39;49m)])\n",
      "\u001b[1;31mTypeError\u001b[0m: sequence item 0: expected str instance, int found"
     ]
    }
   ],
   "source": [
    "\",\".join([int(x)**2 for x in s.split(\",\")])  # Error"
   ]
  },
  {
   "cell_type": "code",
   "execution_count": 8,
   "metadata": {},
   "outputs": [
    {
     "data": {
      "text/plain": [
       "'1,4,9,16'"
      ]
     },
     "execution_count": 8,
     "metadata": {},
     "output_type": "execute_result"
    }
   ],
   "source": [
    "\",\".join([str(int(x)**2) for x in s.split(\",\")]) "
   ]
  },
  {
   "cell_type": "markdown",
   "metadata": {},
   "source": [
    "[You can find more about list methods here](https://www.w3schools.com/python/python_lists_methods.asp)"
   ]
  }
 ],
 "metadata": {
  "kernelspec": {
   "display_name": "Python 3.10.2 64-bit",
   "language": "python",
   "name": "python3"
  },
  "language_info": {
   "codemirror_mode": {
    "name": "ipython",
    "version": 3
   },
   "file_extension": ".py",
   "mimetype": "text/x-python",
   "name": "python",
   "nbconvert_exporter": "python",
   "pygments_lexer": "ipython3",
   "version": "3.10.2"
  },
  "orig_nbformat": 2,
  "vscode": {
   "interpreter": {
    "hash": "fb4569285eef3a3450cb62085a5b1e0da4bce0af555edc33dcf29baf3acc1368"
   }
  }
 },
 "nbformat": 4,
 "nbformat_minor": 2
}
