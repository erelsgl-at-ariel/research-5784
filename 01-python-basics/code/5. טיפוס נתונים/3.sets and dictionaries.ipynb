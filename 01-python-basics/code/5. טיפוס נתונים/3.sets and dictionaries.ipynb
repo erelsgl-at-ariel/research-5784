{
 "cells": [
  {
   "cell_type": "markdown",
   "metadata": {},
   "source": [
    "________________________________\n",
    "## Data Structure:"
   ]
  },
  {
   "cell_type": "markdown",
   "metadata": {},
   "source": [
    "## Sets:"
   ]
  },
  {
   "cell_type": "code",
   "execution_count": 21,
   "metadata": {},
   "outputs": [
    {
     "name": "stdout",
     "output_type": "stream",
     "text": [
      "{(2, 3), 1, '4'}\n"
     ]
    }
   ],
   "source": [
    "my_set = {1 ,(2 ,3), '4'} #=> OK\n",
    "print(my_set)"
   ]
  },
  {
   "cell_type": "code",
   "execution_count": 22,
   "metadata": {},
   "outputs": [
    {
     "ename": "TypeError",
     "evalue": "unhashable type: 'list'",
     "output_type": "error",
     "traceback": [
      "\u001b[1;31m---------------------------------------------------------------------------\u001b[0m",
      "\u001b[1;31mTypeError\u001b[0m                                 Traceback (most recent call last)",
      "\u001b[1;32md:\\Dropbox\\ariel-research\\research-5783\\01-python-basics\\code\\5. טיפוס נתונים\\3.sets and dictionaries.ipynb Cell 4\u001b[0m in \u001b[0;36m<module>\u001b[1;34m\u001b[0m\n\u001b[1;32m----> <a href='vscode-notebook-cell:/d%3A/Dropbox/ariel-research/research-5783/01-python-basics/code/5.%20%D7%98%D7%99%D7%A4%D7%95%D7%A1%20%D7%A0%D7%AA%D7%95%D7%A0%D7%99%D7%9D/3.sets%20and%20dictionaries.ipynb#W3sZmlsZQ%3D%3D?line=0'>1</a>\u001b[0m my_set \u001b[39m=\u001b[39m {\u001b[39m1\u001b[39m, [\u001b[39m2\u001b[39m,\u001b[39m3\u001b[39m], \u001b[39m'\u001b[39m\u001b[39m4\u001b[39m\u001b[39m'\u001b[39m}\n",
      "\u001b[1;31mTypeError\u001b[0m: unhashable type: 'list'"
     ]
    }
   ],
   "source": [
    "my_set = {1, [2,3], '4'} #=> Exception - sets get only hashable items"
   ]
  },
  {
   "cell_type": "code",
   "execution_count": null,
   "metadata": {},
   "outputs": [
    {
     "name": "stdout",
     "output_type": "stream",
     "text": [
      "type(a) = <class 'set'>\n",
      "type(b) = <class 'dict'>\n"
     ]
    }
   ],
   "source": [
    "# Creating an empty set only with set():\n",
    "# a set\n",
    "a = set()\n",
    "# a dictionary\n",
    "b = {}\n",
    "print(f'type(a) = {type(a)}')\n",
    "print(f'type(b) = {type(b)}')"
   ]
  },
  {
   "cell_type": "markdown",
   "metadata": {},
   "source": [
    "### Access Items"
   ]
  },
  {
   "cell_type": "code",
   "execution_count": null,
   "metadata": {},
   "outputs": [
    {
     "name": "stdout",
     "output_type": "stream",
     "text": [
      "True\n",
      "apple\n",
      "cherry\n",
      "banana\n"
     ]
    }
   ],
   "source": [
    "fruit_set = {\"apple\", \"banana\", \"cherry\"}\n",
    "# fruit_set[0] => Exception- items aren't continuous in memory\n",
    "print(\"banana\" in fruit_set)\n",
    "for fruit in fruit_set: #foreach \n",
    "    print(fruit)"
   ]
  },
  {
   "cell_type": "markdown",
   "metadata": {},
   "source": [
    "### Add Items:"
   ]
  },
  {
   "cell_type": "code",
   "execution_count": null,
   "metadata": {},
   "outputs": [],
   "source": [
    "#add()\n",
    "set_of_colors = {'red','blue'}\n",
    "set_of_colors.add('yellow')\n",
    "print(set_of_colors)"
   ]
  },
  {
   "cell_type": "markdown",
   "metadata": {},
   "source": [
    "### Remove Item:"
   ]
  },
  {
   "cell_type": "code",
   "execution_count": null,
   "metadata": {},
   "outputs": [
    {
     "name": "stdout",
     "output_type": "stream",
     "text": [
      "{'Chicken', 'Cat', 'Dog'}\n"
     ]
    }
   ],
   "source": [
    "# remove()\n",
    "set_of_animals = {'Dog','Cat','Chicken','virus'}\n",
    "set_of_animals.remove('virus')\n",
    "print(set_of_animals)"
   ]
  },
  {
   "cell_type": "code",
   "execution_count": null,
   "metadata": {},
   "outputs": [
    {
     "ename": "KeyError",
     "evalue": "'virus'",
     "output_type": "error",
     "traceback": [
      "\u001b[1;31m---------------------------------------------------------------------------\u001b[0m",
      "\u001b[1;31mKeyError\u001b[0m                                  Traceback (most recent call last)",
      "\u001b[1;32md:\\Dropbox\\ariel-research\\research-5783\\01-python-basics\\code\\5. טיפוס נתונים\\3.sets and dictionaries.ipynb Cell 12\u001b[0m in \u001b[0;36m<module>\u001b[1;34m\u001b[0m\n\u001b[0;32m      <a href='vscode-notebook-cell:/d%3A/Dropbox/ariel-research/research-5783/01-python-basics/code/5.%20%D7%98%D7%99%D7%A4%D7%95%D7%A1%20%D7%A0%D7%AA%D7%95%D7%A0%D7%99%D7%9D/3.sets%20and%20dictionaries.ipynb#X14sZmlsZQ%3D%3D?line=0'>1</a>\u001b[0m \u001b[39m# If the item to remove does not exist, remove() will raise an error:\u001b[39;00m\n\u001b[0;32m      <a href='vscode-notebook-cell:/d%3A/Dropbox/ariel-research/research-5783/01-python-basics/code/5.%20%D7%98%D7%99%D7%A4%D7%95%D7%A1%20%D7%A0%D7%AA%D7%95%D7%A0%D7%99%D7%9D/3.sets%20and%20dictionaries.ipynb#X14sZmlsZQ%3D%3D?line=1'>2</a>\u001b[0m \u001b[39m# try:\u001b[39;00m\n\u001b[1;32m----> <a href='vscode-notebook-cell:/d%3A/Dropbox/ariel-research/research-5783/01-python-basics/code/5.%20%D7%98%D7%99%D7%A4%D7%95%D7%A1%20%D7%A0%D7%AA%D7%95%D7%A0%D7%99%D7%9D/3.sets%20and%20dictionaries.ipynb#X14sZmlsZQ%3D%3D?line=2'>3</a>\u001b[0m set_of_animals\u001b[39m.\u001b[39;49mremove(\u001b[39m'\u001b[39;49m\u001b[39mvirus\u001b[39;49m\u001b[39m'\u001b[39;49m)\n",
      "\u001b[1;31mKeyError\u001b[0m: 'virus'"
     ]
    }
   ],
   "source": [
    "# If the item to remove does not exist, remove() will raise an error:\n",
    "# try:\n",
    "set_of_animals.remove('virus')\n",
    "# except KeyError:\n",
    "    # print('KeyError!!!')"
   ]
  },
  {
   "cell_type": "code",
   "execution_count": null,
   "metadata": {},
   "outputs": [
    {
     "name": "stdout",
     "output_type": "stream",
     "text": [
      "No Errors?!\n"
     ]
    }
   ],
   "source": [
    "set_of_animals.discard('virus')\n",
    "print('No Errors?!')"
   ]
  },
  {
   "cell_type": "code",
   "execution_count": null,
   "metadata": {},
   "outputs": [],
   "source": [
    "#clear()\n",
    "# The clear() method empties the set:\n",
    "empty_set = {'empty1','empty2','empty3'}\n",
    "empty_set.clear()\n",
    "print(empty_set) #=> Note that empty set is set() and not {}"
   ]
  },
  {
   "cell_type": "markdown",
   "metadata": {},
   "source": [
    "### Join Sets:"
   ]
  },
  {
   "cell_type": "code",
   "execution_count": null,
   "metadata": {},
   "outputs": [
    {
     "name": "stdout",
     "output_type": "stream",
     "text": [
      "{'orange', 'red', 'blue', 'banana', 'apple'}\n"
     ]
    }
   ],
   "source": [
    "# union()\n",
    "# The union() method returns a new set with all items from both sets:\n",
    "set_1 = {\"blue\", \"orange\", \"red\"}\n",
    "set_2 = {\"apple\", \"banana\", \"orange\"}\n",
    "set_3 = set_1.union(set_2)\n",
    "print(set_3)"
   ]
  },
  {
   "cell_type": "code",
   "execution_count": null,
   "metadata": {},
   "outputs": [
    {
     "name": "stdout",
     "output_type": "stream",
     "text": [
      "{'orange'}\n"
     ]
    }
   ],
   "source": [
    "# intersection()\n",
    "# Return a set that contains the items that exist in both set 1, and set 2:\n",
    "set_1 = {\"blue\", \"orange\", \"red\"}\n",
    "set_2 = {\"apple\", \"banana\", \"orange\"}\n",
    "set_3 = set_1.intersection(set_2)\n",
    "print(set_3)"
   ]
  },
  {
   "cell_type": "code",
   "execution_count": null,
   "metadata": {},
   "outputs": [
    {
     "name": "stdout",
     "output_type": "stream",
     "text": [
      "{'red', 'blue', 'apple', 'banana'}\n"
     ]
    }
   ],
   "source": [
    "# symmetric_difference()\n",
    "# Returning a set that contains all items from both sets, except items that are present in both:\n",
    "set_1 = {\"blue\", \"orange\", \"red\"}\n",
    "set_2 = {\"apple\", \"banana\", \"orange\"}\n",
    "set_3 = set_1.symmetric_difference(set_2)\n",
    "print(set_3)"
   ]
  },
  {
   "cell_type": "markdown",
   "metadata": {},
   "source": [
    "[more about sets methods you can find here](https://www.w3schools.com/python/python_sets_methods.asp)"
   ]
  },
  {
   "cell_type": "markdown",
   "metadata": {},
   "source": [
    "________________________________\n",
    "## Data Structure:"
   ]
  },
  {
   "cell_type": "markdown",
   "metadata": {},
   "source": [
    "## dictionary:"
   ]
  },
  {
   "cell_type": "code",
   "execution_count": null,
   "metadata": {},
   "outputs": [],
   "source": [
    "my_dict= {\n",
    "    \"some key\": \"some value\", \n",
    "    'other key': 1, \n",
    "    (1,2): \"tuple key\"\n",
    "}\n"
   ]
  },
  {
   "cell_type": "code",
   "execution_count": null,
   "metadata": {},
   "outputs": [
    {
     "ename": "TypeError",
     "evalue": "unhashable type: 'list'",
     "output_type": "error",
     "traceback": [
      "\u001b[1;31m---------------------------------------------------------------------------\u001b[0m",
      "\u001b[1;31mTypeError\u001b[0m                                 Traceback (most recent call last)",
      "\u001b[1;32md:\\Dropbox\\ariel-research\\research-5783\\01-python-basics\\code\\5. טיפוס נתונים\\3.sets and dictionaries.ipynb Cell 23\u001b[0m in \u001b[0;36m<module>\u001b[1;34m\u001b[0m\n\u001b[0;32m      <a href='vscode-notebook-cell:/d%3A/Dropbox/ariel-research/research-5783/01-python-basics/code/5.%20%D7%98%D7%99%D7%A4%D7%95%D7%A1%20%D7%A0%D7%AA%D7%95%D7%A0%D7%99%D7%9D/3.sets%20and%20dictionaries.ipynb#X31sZmlsZQ%3D%3D?line=0'>1</a>\u001b[0m \u001b[39m# Exception - keys must be immutables:\u001b[39;00m\n\u001b[1;32m----> <a href='vscode-notebook-cell:/d%3A/Dropbox/ariel-research/research-5783/01-python-basics/code/5.%20%D7%98%D7%99%D7%A4%D7%95%D7%A1%20%D7%A0%D7%AA%D7%95%D7%A0%D7%99%D7%9D/3.sets%20and%20dictionaries.ipynb#X31sZmlsZQ%3D%3D?line=1'>2</a>\u001b[0m my_dict\u001b[39m=\u001b[39m {\n\u001b[0;32m      <a href='vscode-notebook-cell:/d%3A/Dropbox/ariel-research/research-5783/01-python-basics/code/5.%20%D7%98%D7%99%D7%A4%D7%95%D7%A1%20%D7%A0%D7%AA%D7%95%D7%A0%D7%99%D7%9D/3.sets%20and%20dictionaries.ipynb#X31sZmlsZQ%3D%3D?line=2'>3</a>\u001b[0m     \u001b[39m\"\u001b[39m\u001b[39msome key\u001b[39m\u001b[39m\"\u001b[39m: \u001b[39m\"\u001b[39m\u001b[39msome value\u001b[39m\u001b[39m\"\u001b[39m, \n\u001b[0;32m      <a href='vscode-notebook-cell:/d%3A/Dropbox/ariel-research/research-5783/01-python-basics/code/5.%20%D7%98%D7%99%D7%A4%D7%95%D7%A1%20%D7%A0%D7%AA%D7%95%D7%A0%D7%99%D7%9D/3.sets%20and%20dictionaries.ipynb#X31sZmlsZQ%3D%3D?line=3'>4</a>\u001b[0m     \u001b[39m'\u001b[39m\u001b[39mother key\u001b[39m\u001b[39m'\u001b[39m: \u001b[39m1\u001b[39m, \n\u001b[0;32m      <a href='vscode-notebook-cell:/d%3A/Dropbox/ariel-research/research-5783/01-python-basics/code/5.%20%D7%98%D7%99%D7%A4%D7%95%D7%A1%20%D7%A0%D7%AA%D7%95%D7%A0%D7%99%D7%9D/3.sets%20and%20dictionaries.ipynb#X31sZmlsZQ%3D%3D?line=4'>5</a>\u001b[0m     [\u001b[39m1\u001b[39m,\u001b[39m2\u001b[39m]: \u001b[39m\"\u001b[39m\u001b[39mlist key?\u001b[39m\u001b[39m\"\u001b[39m\n\u001b[0;32m      <a href='vscode-notebook-cell:/d%3A/Dropbox/ariel-research/research-5783/01-python-basics/code/5.%20%D7%98%D7%99%D7%A4%D7%95%D7%A1%20%D7%A0%D7%AA%D7%95%D7%A0%D7%99%D7%9D/3.sets%20and%20dictionaries.ipynb#X31sZmlsZQ%3D%3D?line=5'>6</a>\u001b[0m }\n",
      "\u001b[1;31mTypeError\u001b[0m: unhashable type: 'list'"
     ]
    }
   ],
   "source": [
    "# Exception - keys must be immutables:\n",
    "my_dict= {\n",
    "    \"some key\": \"some value\", \n",
    "    'other key': 1, \n",
    "    [1,2]: \"list key?\"\n",
    "}"
   ]
  },
  {
   "cell_type": "code",
   "execution_count": null,
   "metadata": {},
   "outputs": [],
   "source": [
    "# But values can be mutables:\n",
    "my_dict= {\n",
    "    \"some key\": \"some value\", \n",
    "    'other key': 1, \n",
    "    (1,2): [\"tuple key\",'list value']\n",
    "}"
   ]
  },
  {
   "cell_type": "markdown",
   "metadata": {},
   "source": [
    "### Accessing Items"
   ]
  },
  {
   "cell_type": "code",
   "execution_count": null,
   "metadata": {},
   "outputs": [],
   "source": [
    "# operator [] \n",
    "my_dict= {\"some key\": \"some value\", 'other key': 'other value'}\n",
    "print(my_dict['some key'])\n",
    "# If key doesn't exist the function will throw an exception:\n",
    "try:\n",
    "    my_dict['unknown key']\n",
    "except KeyError:\n",
    "    print('KeyError- unkown key!!!')\n",
    "\n",
    "# get()\n",
    "print(my_dict.get('other key'))\n",
    "# If key doesn't exist the function will return a None:\n",
    "print(my_dict.get('unknown key'))\n",
    "print(my_dict.get('unknown key', 'default value'))"
   ]
  },
  {
   "cell_type": "code",
   "execution_count": null,
   "metadata": {},
   "outputs": [
    {
     "name": "stdout",
     "output_type": "stream",
     "text": [
      "dict_keys(['some key', 'other key'])\n",
      "key= some key\n",
      "key= other key\n"
     ]
    }
   ],
   "source": [
    "# to get all the keys: keys()\n",
    "my_dict= {\"some key\": \"some value\", 'other key': 'other value'}\n",
    "print(my_dict.keys())\n",
    "\n",
    "\n",
    "for k in my_dict.keys():\n",
    "    print(\"key=\",k)"
   ]
  },
  {
   "cell_type": "code",
   "execution_count": null,
   "metadata": {},
   "outputs": [
    {
     "name": "stdout",
     "output_type": "stream",
     "text": [
      "dict_values(['some value', 'other value'])\n",
      "dict_values(['some value', 'new value'])\n",
      "value= some value\n",
      "value= new value\n"
     ]
    }
   ],
   "source": [
    "# to get all values: values()\n",
    "values = my_dict.values()\n",
    "print(values)\n",
    "\n",
    "# If you change a certain value, the change will also be seen in the object  \n",
    "my_dict['other key'] = 'new value'\n",
    "print(values)\n",
    "\n",
    "for v in my_dict.values():\n",
    "    print(\"value=\",v)"
   ]
  },
  {
   "cell_type": "code",
   "execution_count": null,
   "metadata": {},
   "outputs": [
    {
     "name": "stdout",
     "output_type": "stream",
     "text": [
      "dict_items([('some key', 'some value'), ('other key', 'new value')])\n",
      "tuple= ('some key', 'some value')\n",
      "tuple= ('other key', 'new value')\n",
      "key= some key ;  value= some value\n",
      "key= other key ;  value= new value\n",
      "key= some key ;  value= some value\n",
      "key= other key ;  value= new value\n"
     ]
    }
   ],
   "source": [
    "# The items() method will return each item in a dictionary, as tuples in a list.\n",
    "my_dict_items = my_dict.items()\n",
    "print(my_dict_items)\n",
    "\n",
    "for t in my_dict.items():\n",
    "    print(\"tuple=\",t)\n",
    "\n",
    "for t in my_dict.items():\n",
    "    k,v = t\n",
    "    print(\"key=\",k,\";  value=\",v)\n",
    "\n",
    "for k,v in my_dict.items():\n",
    "    print(\"key=\",k,\";  value=\",v)"
   ]
  },
  {
   "cell_type": "markdown",
   "metadata": {},
   "source": [
    "### Dict comprehension:"
   ]
  },
  {
   "cell_type": "code",
   "execution_count": null,
   "metadata": {},
   "outputs": [
    {
     "name": "stdout",
     "output_type": "stream",
     "text": [
      "square_dict: {1: 1, 2: 4, 3: 9, 4: 16, 5: 25, 6: 36, 7: 49, 8: 64, 9: 81, 10: 100}\n",
      "square_dict_plus_1: {1: 2, 2: 5, 3: 10, 4: 17, 5: 26, 6: 37, 7: 50, 8: 65, 9: 82, 10: 101}\n"
     ]
    }
   ],
   "source": [
    "# Construct a dict from a list:\n",
    "square_dict = {i: i**2 for i in [1,2,3,4,5,6,7,8,9,10]}\n",
    "print(\"square_dict:\", square_dict)\n",
    "\n",
    "# Construct a dict from a dict:\n",
    "square_dict_plus_1 = {k: v+1 for k,v in square_dict.items()}\n",
    "print(\"square_dict_plus_1:\", square_dict_plus_1)"
   ]
  },
  {
   "cell_type": "markdown",
   "metadata": {},
   "source": [
    "### Change and adding items:"
   ]
  },
  {
   "cell_type": "code",
   "execution_count": null,
   "metadata": {},
   "outputs": [],
   "source": [
    "#You can change and add the value of a specific item by referring to its key name:\n",
    "my_dict= {\"some key\": \"some value\", 'other key': 'other value'}\n",
    "my_dict['some key'] = 'value was changed'\n",
    "my_dict['new key'] =  'new value'\n",
    "print(my_dict.values())"
   ]
  },
  {
   "cell_type": "markdown",
   "metadata": {},
   "source": [
    "### Removing items:"
   ]
  },
  {
   "cell_type": "code",
   "execution_count": null,
   "metadata": {},
   "outputs": [
    {
     "name": "stdout",
     "output_type": "stream",
     "text": [
      "{'some key': 'some value', 'other key': 'other value', 'new key': 'new value', 'ultimate key': 'ultimate value'}\n",
      "   popping ultimate value\n",
      "{'some key': 'some value', 'other key': 'other value', 'new key': 'new value'}\n",
      "{'other key': 'other value', 'new key': 'new value'}\n"
     ]
    }
   ],
   "source": [
    "my_dict= {\"some key\": \"some value\", 'other key': 'other value'}\n",
    "my_dict['new key'] =  'new value'\n",
    "my_dict['ultimate key'] =  'ultimate value'\n",
    "print(my_dict)\n",
    "\n",
    "#pop()\n",
    "# The pop() method removes the item with the specified key name:\n",
    "print(\"   popping\",my_dict.pop('ultimate key'))\n",
    "print(my_dict)\n",
    "\n",
    "del my_dict['some key']\n",
    "print(my_dict)"
   ]
  },
  {
   "cell_type": "markdown",
   "metadata": {},
   "source": [
    "### Len function():"
   ]
  },
  {
   "cell_type": "code",
   "execution_count": 23,
   "metadata": {},
   "outputs": [
    {
     "name": "stdout",
     "output_type": "stream",
     "text": [
      "2,2,3,2,2 \n"
     ]
    }
   ],
   "source": [
    "my_dict = {\"some key\":1, 'other key': 2}\n",
    "my_lst = [1,2]\n",
    "my_str = \"1,2\"\n",
    "my_tup = (1,2)\n",
    "my_set = {1 ,2}\n",
    "# __len__\n",
    "print( f\"{len(my_dict)},{len(my_lst)},{len(my_str)},{len(my_tup)},{len(my_set)} \") "
   ]
  },
  {
   "cell_type": "markdown",
   "metadata": {},
   "source": [
    "[more about dict methods you can find here](https://www.w3schools.com/python/python_dictionaries_methods.asp)"
   ]
  }
 ],
 "metadata": {
  "kernelspec": {
   "display_name": "Python 3.10.2 64-bit",
   "language": "python",
   "name": "python3"
  },
  "language_info": {
   "codemirror_mode": {
    "name": "ipython",
    "version": 3
   },
   "file_extension": ".py",
   "mimetype": "text/x-python",
   "name": "python",
   "nbconvert_exporter": "python",
   "pygments_lexer": "ipython3",
   "version": "3.10.2"
  },
  "orig_nbformat": 2,
  "vscode": {
   "interpreter": {
    "hash": "fb4569285eef3a3450cb62085a5b1e0da4bce0af555edc33dcf29baf3acc1368"
   }
  }
 },
 "nbformat": 4,
 "nbformat_minor": 2
}
