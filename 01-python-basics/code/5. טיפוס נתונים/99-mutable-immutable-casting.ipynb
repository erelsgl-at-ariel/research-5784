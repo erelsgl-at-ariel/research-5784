{
 "cells": [
  {
   "cell_type": "markdown",
   "metadata": {},
   "source": [
    "__________\n",
    "## mutable and immutable:"
   ]
  },
  {
   "cell_type": "markdown",
   "metadata": {},
   "source": [
    "### immutable: "
   ]
  },
  {
   "cell_type": "code",
   "execution_count": 1,
   "metadata": {},
   "outputs": [
    {
     "name": "stdout",
     "output_type": "stream",
     "text": [
      "1864463155440\n",
      "1864463155472\n"
     ]
    }
   ],
   "source": [
    "x = 1\n",
    "print(id(x))\n",
    "x += 1\n",
    "print(id(x))\n"
   ]
  },
  {
   "cell_type": "code",
   "execution_count": 2,
   "metadata": {},
   "outputs": [
    {
     "name": "stdout",
     "output_type": "stream",
     "text": [
      "True\n",
      "1864474234928\n",
      "1864474234928\n"
     ]
    }
   ],
   "source": [
    "str1 = \"String\"\n",
    "str2 = 'String'\n",
    "# str1[0]='x'  # Exception\n",
    "print(str1 is str2)\n",
    "print(id(str1))\n",
    "print(id(str2))"
   ]
  },
  {
   "cell_type": "markdown",
   "metadata": {},
   "source": [
    "### mutable:"
   ]
  },
  {
   "cell_type": "code",
   "execution_count": 6,
   "metadata": {},
   "outputs": [
    {
     "name": "stdout",
     "output_type": "stream",
     "text": [
      "1871662271168\n",
      "1871662271168\n"
     ]
    }
   ],
   "source": [
    "lst = [1,2]\n",
    "print(id(lst))\n",
    "lst.append(3)\n",
    "print(id(lst))"
   ]
  },
  {
   "cell_type": "markdown",
   "metadata": {},
   "source": [
    "_______\n",
    "## Casting"
   ]
  },
  {
   "cell_type": "code",
   "execution_count": 7,
   "metadata": {},
   "outputs": [
    {
     "name": "stdout",
     "output_type": "stream",
     "text": [
      "x= 3 type(y)= <class 'str'> z= 3.0 type(z)= <class 'float'>\n",
      "(3+0j)\n"
     ]
    }
   ],
   "source": [
    "x = 3\n",
    "y = str(x)\n",
    "z = float(y)\n",
    "print('x=',x,'type(y)=',type(y),'z=',z, 'type(z)=',type(z))\n",
    "print(complex(z))"
   ]
  },
  {
   "cell_type": "markdown",
   "metadata": {},
   "source": [
    "### Casting to bool"
   ]
  },
  {
   "cell_type": "code",
   "execution_count": 4,
   "metadata": {},
   "outputs": [
    {
     "name": "stdout",
     "output_type": "stream",
     "text": [
      "\n",
      "False,\n",
      "True,\n",
      "False,\n",
      "False,\n",
      "False,\n",
      "False,\n",
      "False\n",
      "\n"
     ]
    }
   ],
   "source": [
    "my_dict={}\n",
    "my_list=[1]\n",
    "my_str=\"\"\n",
    "my_tup=()\n",
    "my_set=set()\n",
    "print(f\"\"\"\n",
    "{bool(my_dict)},\n",
    "{bool(my_list)},\n",
    "{bool(my_str)},\n",
    "{bool(my_tup)},\n",
    "{bool(my_set)},\n",
    "{bool(None)},\n",
    "{bool(0)}\n",
    "\"\"\")\n"
   ]
  },
  {
   "cell_type": "code",
   "execution_count": null,
   "metadata": {},
   "outputs": [],
   "source": []
  }
 ],
 "metadata": {
  "kernelspec": {
   "display_name": "Python 3.10.2 64-bit",
   "language": "python",
   "name": "python3"
  },
  "language_info": {
   "codemirror_mode": {
    "name": "ipython",
    "version": 3
   },
   "file_extension": ".py",
   "mimetype": "text/x-python",
   "name": "python",
   "nbconvert_exporter": "python",
   "pygments_lexer": "ipython3",
   "version": "3.10.2"
  },
  "orig_nbformat": 2,
  "vscode": {
   "interpreter": {
    "hash": "fb4569285eef3a3450cb62085a5b1e0da4bce0af555edc33dcf29baf3acc1368"
   }
  }
 },
 "nbformat": 4,
 "nbformat_minor": 2
}
