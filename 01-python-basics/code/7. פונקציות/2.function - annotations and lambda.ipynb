{
 "cells": [
  {
   "cell_type": "markdown",
   "metadata": {},
   "source": [
    "## FUNCTION part2:\n",
    "### annotations:"
   ]
  },
  {
   "cell_type": "code",
   "execution_count": 1,
   "metadata": {},
   "outputs": [
    {
     "data": {
      "text/plain": [
       "'abc'"
      ]
     },
     "execution_count": 1,
     "metadata": {},
     "output_type": "execute_result"
    }
   ],
   "source": [
    "# a little problem- how to know what type of variables to send as argument? \n",
    "def add_num(x, y, z):\n",
    "    return x + y + z\n",
    "\n",
    "# solution - annotations:\n",
    "def add_num_annot(x: float, y: float, z) -> float:\n",
    "    return x + y + z\n",
    "\n",
    "add_num_annot(\"a\",\"b\",\"c\")"
   ]
  },
  {
   "cell_type": "code",
   "execution_count": 2,
   "metadata": {},
   "outputs": [
    {
     "name": "stdout",
     "output_type": "stream",
     "text": [
      "{'x': <class 'float'>, 'y': <class 'float'>, 'return': <class 'float'>}\n"
     ]
    }
   ],
   "source": [
    "# checking the annotaions of function: \n",
    "print(add_num_annot.__annotations__)"
   ]
  },
  {
   "cell_type": "code",
   "execution_count": 2,
   "metadata": {},
   "outputs": [
    {
     "name": "stdout",
     "output_type": "stream",
     "text": [
      "<class 'float'>\n",
      "<class 'float'>\n",
      "<class 'float'>\n"
     ]
    }
   ],
   "source": [
    "# the annotations are dictionaries\n",
    "print(add_num_annot.__annotations__['x'])\n",
    "print(add_num_annot.__annotations__['y'])\n",
    "print(add_num_annot.__annotations__['return'])"
   ]
  },
  {
   "cell_type": "code",
   "execution_count": 4,
   "metadata": {},
   "outputs": [
    {
     "name": "stdout",
     "output_type": "stream",
     "text": [
      "19.63495375\n",
      "{'r': {'desc': 'radius of circle', 'type': <class 'float'>}, 'return': {'desc': 'area of circle', 'type': <class 'float'>}}\n",
      "radius of circle\n",
      "area of circle\n"
     ]
    }
   ],
   "source": [
    "# complex annotations: \n",
    "def area(\n",
    "    r: {\n",
    "            'desc': 'radius of circle',\n",
    "            'type': float\n",
    "        }) -> \\\n",
    "        {\n",
    "            'desc': 'area of circle',\n",
    "            'type': float\n",
    "        }:\n",
    "    return 3.1415926 * (r ** 2)\n",
    "\n",
    "print(area(r=2.5))\n",
    "print(area.__annotations__)\n",
    "print(area.__annotations__['r']['desc'])\n",
    "print(area.__annotations__['return']['desc'])"
   ]
  },
  {
   "cell_type": "code",
   "execution_count": 5,
   "metadata": {},
   "outputs": [
    {
     "name": "stdout",
     "output_type": "stream",
     "text": [
      "8\n",
      "{'x': <class 'float'>, 'y': <class 'float'>, 'return': <class 'float'>}\n"
     ]
    }
   ],
   "source": [
    "# annotation  with default value: \n",
    "def annot_pow(x: float = 2 , y: float = 3 ) ->float:\n",
    "    return x**y\n",
    "\n",
    "print(annot_pow())\n",
    "print(annot_pow.__annotations__)"
   ]
  },
  {
   "cell_type": "code",
   "execution_count": 8,
   "metadata": {},
   "outputs": [
    {
     "name": "stdout",
     "output_type": "stream",
     "text": [
      "{'names': typing.List[str], 'return': None}\n",
      "{'grades': typing.Dict[str, float], 'return': None}\n"
     ]
    }
   ],
   "source": [
    "# annotations with containers: \n",
    "from typing import List, Dict\n",
    "\n",
    "def print_names(names: List[str]) -> None:\n",
    "    for student in names:\n",
    "        print(student)\n",
    "\n",
    "def print_name_and_grade(grades: Dict[str, float]) -> None:\n",
    "    for student, grade in grades.items():\n",
    "        print(student, grade)\n",
    "\n",
    "print(print_names.__annotations__)\n",
    "print(print_name_and_grade.__annotations__)"
   ]
  },
  {
   "cell_type": "code",
   "execution_count": 9,
   "metadata": {},
   "outputs": [
    {
     "name": "stdout",
     "output_type": "stream",
     "text": [
      "{'points': typing.List[typing.Tuple[int, int]]}\n"
     ]
    }
   ],
   "source": [
    "# customized annotations:\n",
    "from typing import List, Tuple\n",
    "\n",
    "Point = Tuple[int, int]\n",
    "\n",
    "def print_points(points: List[Point]):\n",
    "    for point in points:\n",
    "        print(\"X:\", point[0], \"  Y:\", point[1])\n",
    "    \n",
    "\n",
    "print(print_points.__annotations__)\n"
   ]
  },
  {
   "cell_type": "code",
   "execution_count": 10,
   "metadata": {},
   "outputs": [
    {
     "name": "stdout",
     "output_type": "stream",
     "text": [
      "{'grade': typing.Union[int, str]}\n"
     ]
    }
   ],
   "source": [
    "# union - The parameters can come in several types\n",
    "from typing import Union\n",
    "\n",
    "def print_grade(grade: Union[int, str]):\n",
    "    if isinstance(grade, str):\n",
    "        print(grade + ' percent')\n",
    "    else:\n",
    "        print(str(grade) + '%')\n",
    "\n",
    "print(print_grade.__annotations__)"
   ]
  },
  {
   "cell_type": "code",
   "execution_count": 14,
   "metadata": {},
   "outputs": [
    {
     "name": "stdout",
     "output_type": "stream",
     "text": [
      "{'func': typing.Callable[[float], float], 'x0': <class 'float'>, 'x1': <class 'float'>, 'step': <class 'float'>, 'return': None}\n"
     ]
    }
   ],
   "source": [
    "# annotations of functions:\n",
    "from typing import Callable\n",
    "# Callable[[param types], return vale type]\n",
    "\n",
    "def plot(func: Callable[[float],float], x0:float, x1:float, step:float)->None:\n",
    "    pass # add here code to plot the given function\n",
    "\n",
    "print(plot.__annotations__)"
   ]
  },
  {
   "cell_type": "markdown",
   "metadata": {},
   "source": [
    "Q: Can we use the annotaions to force the use of of specific types?  "
   ]
  },
  {
   "cell_type": "code",
   "execution_count": 6,
   "metadata": {},
   "outputs": [
    {
     "name": "stdout",
     "output_type": "stream",
     "text": [
      "a -> annotation is <class 'int'> argument is <class 'int'> , / True\n",
      "b -> annotation is <class 'str'> argument is <class 'str'> , / True\n",
      "c -> annotation is <class 'float'> argument is <class 'float'> , / True\n",
      "~~~~~~~~~~~\n",
      "a -> annotation is <class 'int'> argument is <class 'str'> , / False\n",
      "b -> annotation is <class 'str'> argument is <class 'float'> , / False\n",
      "c -> annotation is <class 'float'> argument is <class 'int'> , / False\n",
      "~~~~~~~~~~~\n",
      "a -> annotation is <class 'int'> argument is <class 'int'> , / True\n",
      "b -> annotation is <class 'str'> argument is <class 'str'> , / True\n",
      "c -> annotation is <class 'float'> argument is <class 'str'> , / False\n",
      "~~~~~~~~~~~\n"
     ]
    }
   ],
   "source": [
    "# checks whether the parameters are the same as the annotaions:\n",
    "\n",
    "def f(a: int, b: str, c: float):\n",
    "    annotations = f.__annotations__\n",
    "    localvars = locals()\n",
    "    for x in annotations.keys():\n",
    "        print(x, '->',\n",
    "            'annotation is', annotations[x],\n",
    "            'argument is', type(localvars[x]), ',',\n",
    "             '/', (type(localvars[x])) is annotations[x])\n",
    "    print('~~~~~~~~~~~')\n",
    "\n",
    "f(1, 'foo', 3.3)\n",
    "f('foo', 4.3, 9)\n",
    "f(1, 'foo', 'bar')\n"
   ]
  },
  {
   "cell_type": "markdown",
   "metadata": {},
   "source": [
    "_________________\n",
    "### lambda functions:"
   ]
  },
  {
   "cell_type": "code",
   "execution_count": 7,
   "metadata": {},
   "outputs": [
    {
     "name": "stdout",
     "output_type": "stream",
     "text": [
      "20\n",
      "<class 'function'>\n"
     ]
    }
   ],
   "source": [
    "f_lmd = lambda a: a + 10   # a function that accepts a parameter 'a' and does 'return a+10'\n",
    "print(f_lmd(10)) # => 20\n",
    "print(type(f_lmd))"
   ]
  },
  {
   "cell_type": "code",
   "execution_count": 8,
   "metadata": {},
   "outputs": [
    {
     "data": {
      "text/plain": [
       "9"
      ]
     },
     "execution_count": 8,
     "metadata": {},
     "output_type": "execute_result"
    }
   ],
   "source": [
    "# lambda function with default parameters:\n",
    "z = lambda a,b=2,c=3: a + b + c\n",
    "z(2,4) #=> 2 + 4 + 3"
   ]
  },
  {
   "cell_type": "code",
   "execution_count": 28,
   "metadata": {},
   "outputs": [
    {
     "name": "stdout",
     "output_type": "stream",
     "text": [
      "<class 'function'>\n",
      "1024\n"
     ]
    }
   ],
   "source": [
    "# lambda function as template for other functions: \n",
    "def n_base_pow(n:int)->Callable[[int],int]:\n",
    "    return lambda a : n ** a\n",
    "\n",
    "two_base_pow = n_base_pow(2)\n",
    "print(type(two_base_pow))\n",
    "print(two_base_pow(10)) #=> 2^10"
   ]
  }
 ],
 "metadata": {
  "kernelspec": {
   "display_name": "Python 3.10.2 64-bit",
   "language": "python",
   "name": "python3"
  },
  "language_info": {
   "codemirror_mode": {
    "name": "ipython",
    "version": 3
   },
   "file_extension": ".py",
   "mimetype": "text/x-python",
   "name": "python",
   "nbconvert_exporter": "python",
   "pygments_lexer": "ipython3",
   "version": "3.10.2"
  },
  "orig_nbformat": 2,
  "vscode": {
   "interpreter": {
    "hash": "fb4569285eef3a3450cb62085a5b1e0da4bce0af555edc33dcf29baf3acc1368"
   }
  }
 },
 "nbformat": 4,
 "nbformat_minor": 2
}
