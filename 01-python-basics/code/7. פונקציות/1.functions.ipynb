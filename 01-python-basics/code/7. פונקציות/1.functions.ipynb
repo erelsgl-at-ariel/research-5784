{
 "cells": [
  {
   "cell_type": "markdown",
   "metadata": {},
   "source": [
    "## FUNCTIONS:\n",
    "functions in java:\n",
    "<br><br>\n",
    "The function doesn't return value:\n",
    "```java\n",
    "public static void print_upper(String str) \n",
    "{\n",
    " System.out.print(str.toUpperCase());\n",
    "}\n",
    "```\n",
    "The function returns value:\n",
    "```java\n",
    "public static String return_upper(String str) \n",
    "{\n",
    " upper_str= str.toUpperCase();\n",
    "return upper_str;\n",
    "}\n",
    "```\n",
    "\n",
    "Any function in python retrns value:"
   ]
  },
  {
   "cell_type": "code",
   "execution_count": 1,
   "metadata": {},
   "outputs": [
    {
     "name": "stdout",
     "output_type": "stream",
     "text": [
      "WHAT THE FUNCTION RETURNS?\n",
      "WHAT THE FUNCTION RETURNS?\n",
      "None\n"
     ]
    }
   ],
   "source": [
    "# The function returns None\n",
    "def print_upper_str(s):\n",
    "    print(s.upper())\n",
    "\n",
    "# The function returns str\n",
    "def return_upper_str(s):\n",
    "    return s.upper()\n",
    "\n",
    "my_str = 'what the function returns?'\n",
    "\n",
    "print(return_upper_str(my_str))\n",
    "print(print_upper_str(my_str))"
   ]
  },
  {
   "cell_type": "markdown",
   "metadata": {},
   "source": [
    "### Arguments and Parameters:"
   ]
  },
  {
   "cell_type": "code",
   "execution_count": 1,
   "metadata": {},
   "outputs": [
    {
     "name": "stdout",
     "output_type": "stream",
     "text": [
      "A is 12, B is 13, C is 14\n",
      "A is 12, B is 13, C is 14\n"
     ]
    }
   ],
   "source": [
    "# A,B and C are parameters\n",
    "def func(A ,B, C):\n",
    "    print(f'A is {A}, B is {B}, C is {C}')\n",
    "# 12,13 and 14 are arguments\n",
    "func(12 , 13, 14)\n",
    "func(C=14, A=12, B=13) # Readability counts"
   ]
  },
  {
   "cell_type": "code",
   "execution_count": 4,
   "metadata": {},
   "outputs": [
    {
     "name": "stdout",
     "output_type": "stream",
     "text": [
      "A is 13, B is 3, C is 22\n",
      "A is 13, B is 22, C is 14\n"
     ]
    }
   ],
   "source": [
    "# default parameters:\n",
    "# 3 is default for B and 14 for C\n",
    "def func2(A, B = 3, C = 14):\n",
    "    print(f'A is {A}, B is {B}, C is {C}')\n",
    "func2(13,C=22)\n",
    "func2(13,22)"
   ]
  },
  {
   "cell_type": "markdown",
   "metadata": {},
   "source": [
    "#### mutable default parameters: \n",
    "The problem:"
   ]
  },
  {
   "cell_type": "code",
   "execution_count": 5,
   "metadata": {},
   "outputs": [
    {
     "name": "stdout",
     "output_type": "stream",
     "text": [
      "['###']\n",
      "['###', '###']\n",
      "['###', '###', '###']\n"
     ]
    }
   ],
   "source": [
    "def stam_list(my_list=[]):\n",
    "    my_list.append('###')\n",
    "    return my_list\n",
    "\n",
    "for i in range(3):\n",
    "    print(stam_list())"
   ]
  },
  {
   "cell_type": "markdown",
   "metadata": {},
   "source": [
    "fix 1:"
   ]
  },
  {
   "cell_type": "code",
   "execution_count": 6,
   "metadata": {},
   "outputs": [
    {
     "name": "stdout",
     "output_type": "stream",
     "text": [
      "['###']\n",
      "['###']\n",
      "['###']\n"
     ]
    }
   ],
   "source": [
    "def stam_list(my_list=None):\n",
    "    if my_list is None:\n",
    "        my_list=[]\n",
    "    my_list.append('###')\n",
    "    return my_list\n",
    "\n",
    "for i in range(3):\n",
    "    print(stam_list())"
   ]
  },
  {
   "cell_type": "markdown",
   "metadata": {},
   "source": [
    "fix 2:"
   ]
  },
  {
   "cell_type": "code",
   "execution_count": 7,
   "metadata": {},
   "outputs": [
    {
     "name": "stdout",
     "output_type": "stream",
     "text": [
      "['###']\n",
      "['###']\n",
      "['###']\n"
     ]
    }
   ],
   "source": [
    "def stam_list(my_list=[]):\n",
    "    my_list = list(my_list)\n",
    "    my_list.append('###')\n",
    "    return my_list\n",
    "\n",
    "for i in range(3):\n",
    "    print(stam_list())"
   ]
  },
  {
   "cell_type": "code",
   "execution_count": 8,
   "metadata": {},
   "outputs": [
    {
     "name": "stdout",
     "output_type": "stream",
     "text": [
      "x = 1\n",
      "y = 2\n",
      "z = [3, 4]\n"
     ]
    }
   ],
   "source": [
    "# you can return more than one value: \n",
    "def return_many_values():\n",
    "    return 1, '2', [3,4]\n",
    "\n",
    "# and you can unpack the return values with many variables:\n",
    "x, y, z = return_many_values()\n",
    "print(f'x = {x}')\n",
    "print(f'y = {y}')\n",
    "print(f'z = {z}')\n",
    "\n",
    "#x, y, z, w = return_many_values() # Error\n",
    "#x, y = return_many_values() # Error"
   ]
  },
  {
   "cell_type": "code",
   "execution_count": 9,
   "metadata": {},
   "outputs": [
    {
     "name": "stdout",
     "output_type": "stream",
     "text": [
      "[1, 2, 3]\n",
      "[]\n",
      "[1]\n",
      "[1, 1]\n",
      "[0, 1]\n"
     ]
    }
   ],
   "source": [
    "def null_lst(lst):\n",
    "    lst.clear()\n",
    "\n",
    "def add_one_to_lst(lst):\n",
    "    lst.append(1)\n",
    "\n",
    "def change_first_cell(lst, val):\n",
    "    lst[0]=val\n",
    "\n",
    "my_lst =[1,2,3]\n",
    "print(my_lst)\n",
    "null_lst(my_lst)\n",
    "print(my_lst)\n",
    "add_one_to_lst(my_lst)\n",
    "print(my_lst)\n",
    "add_one_to_lst(my_lst)\n",
    "print(my_lst)\n",
    "change_first_cell(my_lst,0)\n",
    "print(my_lst)"
   ]
  },
  {
   "cell_type": "markdown",
   "metadata": {},
   "source": [
    "### *args and **kwargs:"
   ]
  },
  {
   "cell_type": "code",
   "execution_count": 2,
   "metadata": {},
   "outputs": [
    {
     "name": "stdout",
     "output_type": "stream",
     "text": [
      "56.0\n"
     ]
    }
   ],
   "source": [
    "def avg_3(x,y,z):\n",
    "    return (x+y+z)/3\n",
    "print(avg_3(32,54,82))"
   ]
  },
  {
   "cell_type": "markdown",
   "metadata": {},
   "source": [
    "Q: How can we find an average of an unlimited number of variables? "
   ]
  },
  {
   "cell_type": "code",
   "execution_count": 4,
   "metadata": {},
   "outputs": [
    {
     "name": "stdout",
     "output_type": "stream",
     "text": [
      "55.0\n",
      "55.0\n"
     ]
    }
   ],
   "source": [
    "# option 1: tuple or list: \n",
    "def avg_of_tup(my_tup):\n",
    "    return sum(my_tup)/len(my_tup)\n",
    "\n",
    "my_tup = (32,54,82,52)\n",
    "print(avg_of_tup(my_tup))\n",
    "print(avg_of_tup((32,54,82,52)))"
   ]
  },
  {
   "cell_type": "code",
   "execution_count": 5,
   "metadata": {},
   "outputs": [
    {
     "name": "stdout",
     "output_type": "stream",
     "text": [
      "55.0\n",
      "55.0\n"
     ]
    }
   ],
   "source": [
    "\n",
    "# option 2 : *args\n",
    "def avg_unlimited(*args):\n",
    "    return sum(args)/len(args)\n",
    "\n",
    "print(avg_unlimited(32,54,82,52))\n",
    "\n",
    "# you can  use '*' to unpack tuple or list:\n",
    "my_tup = (32,54,82,52)\n",
    "print(avg_unlimited(*my_tup))"
   ]
  },
  {
   "cell_type": "markdown",
   "metadata": {},
   "source": [
    "#### **kwargs:"
   ]
  },
  {
   "cell_type": "code",
   "execution_count": 12,
   "metadata": {},
   "outputs": [
    {
     "name": "stdout",
     "output_type": "stream",
     "text": [
      "{'e': 1, 'r': 2, 'j': 3}\n",
      "<class 'dict'>\n",
      "e -> 1\n",
      "r -> 2\n",
      "j -> 3\n"
     ]
    }
   ],
   "source": [
    "# **kwargs is like *args for dictionary\n",
    "def print_key_val(**kwargs):\n",
    "    print(kwargs)\n",
    "    print(type(kwargs))\n",
    "    for key, val in kwargs.items():\n",
    "        print(key, '->', val)\n",
    "\n",
    "print_key_val(e=1, r=2, j=3)"
   ]
  },
  {
   "cell_type": "code",
   "execution_count": 8,
   "metadata": {},
   "outputs": [
    {
     "ename": "TypeError",
     "evalue": "f() missing 1 required positional argument: 'b'",
     "output_type": "error",
     "traceback": [
      "\u001b[1;31m---------------------------------------------------------------------------\u001b[0m",
      "\u001b[1;31mTypeError\u001b[0m                                 Traceback (most recent call last)",
      "\u001b[1;32md:\\Dropbox\\ariel-research\\research-5783\\01-python-basics\\code\\7. פונקציות\\1.functions.ipynb Cell 21\u001b[0m in \u001b[0;36m<module>\u001b[1;34m\u001b[0m\n\u001b[0;32m      <a href='vscode-notebook-cell:/d%3A/Dropbox/ariel-research/research-5783/01-python-basics/code/7.%20%D7%A4%D7%95%D7%A0%D7%A7%D7%A6%D7%99%D7%95%D7%AA/1.functions.ipynb#X26sZmlsZQ%3D%3D?line=6'>7</a>\u001b[0m d \u001b[39m=\u001b[39m {\u001b[39m'\u001b[39m\u001b[39ma\u001b[39m\u001b[39m'\u001b[39m: \u001b[39m'\u001b[39m\u001b[39mfoo\u001b[39m\u001b[39m'\u001b[39m, \u001b[39m'\u001b[39m\u001b[39mc\u001b[39m\u001b[39m'\u001b[39m: \u001b[39m'\u001b[39m\u001b[39mqux\u001b[39m\u001b[39m'\u001b[39m}\n\u001b[0;32m      <a href='vscode-notebook-cell:/d%3A/Dropbox/ariel-research/research-5783/01-python-basics/code/7.%20%D7%A4%D7%95%D7%A0%D7%A7%D7%A6%D7%99%D7%95%D7%AA/1.functions.ipynb#X26sZmlsZQ%3D%3D?line=7'>8</a>\u001b[0m \u001b[39m# using the values\u001b[39;00m\n\u001b[1;32m----> <a href='vscode-notebook-cell:/d%3A/Dropbox/ariel-research/research-5783/01-python-basics/code/7.%20%D7%A4%D7%95%D7%A0%D7%A7%D7%A6%D7%99%D7%95%D7%AA/1.functions.ipynb#X26sZmlsZQ%3D%3D?line=8'>9</a>\u001b[0m f(\u001b[39m*\u001b[39m\u001b[39m*\u001b[39md)\n",
      "\u001b[1;31mTypeError\u001b[0m: f() missing 1 required positional argument: 'b'"
     ]
    }
   ],
   "source": [
    "# you can also unpack dict with **kwargs\n",
    "def f(a, b, c):\n",
    "    print(f'a = {a}')\n",
    "    print(f'b = {b}')\n",
    "    print(f'c = {c}')\n",
    "\n",
    "d = {'a': 'foo', 'b': 25, 'c': 'qux'}\n",
    "# using the values\n",
    "f(**d)"
   ]
  },
  {
   "cell_type": "code",
   "execution_count": 9,
   "metadata": {},
   "outputs": [
    {
     "name": "stdout",
     "output_type": "stream",
     "text": [
      "{'A': 1, 'B': 2, 'C': 4, 'D': 5, 'E': 6}\n"
     ]
    }
   ],
   "source": [
    "# unpack several dictionaries into one dictionary\n",
    "my_first_dict = {\"A\": 1, \"B\": 2, \"C\":3}\n",
    "my_second_dict = {\"C\":4, \"D\": 5, \"E\":6}\n",
    "my_merged_dict = {**my_first_dict, **my_second_dict}\n",
    "print(my_merged_dict)"
   ]
  },
  {
   "cell_type": "code",
   "execution_count": null,
   "metadata": {},
   "outputs": [],
   "source": [
    "# def tup_dict(*tup,**dict):\n",
    "#     print(f'{type(tup)}, {type(dict)}')\n",
    "#     print(tup)\n",
    "#     print(dict)\n",
    "#     print('~~~~~~~~~~~~~~~~~~')\n",
    "\n",
    "\n",
    "# tup = (1,2,3)\n",
    "# dic = {'a':1,'b':2}\n",
    "\n",
    "# tup_dict(tup, dic)\n",
    "# tup_dict(*tup, dic)\n",
    "# tup_dict(*tup, **dic)\n",
    "# tup_dict(*tup, *dic)"
   ]
  }
 ],
 "metadata": {
  "kernelspec": {
   "display_name": "Python 3.10.2 64-bit",
   "language": "python",
   "name": "python3"
  },
  "language_info": {
   "codemirror_mode": {
    "name": "ipython",
    "version": 3
   },
   "file_extension": ".py",
   "mimetype": "text/x-python",
   "name": "python",
   "nbconvert_exporter": "python",
   "pygments_lexer": "ipython3",
   "version": "3.10.2"
  },
  "orig_nbformat": 2,
  "vscode": {
   "interpreter": {
    "hash": "fb4569285eef3a3450cb62085a5b1e0da4bce0af555edc33dcf29baf3acc1368"
   }
  }
 },
 "nbformat": 4,
 "nbformat_minor": 2
}
