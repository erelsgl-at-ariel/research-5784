{
 "cells": [
  {
   "cell_type": "markdown",
   "metadata": {},
   "source": [
    "## Collection functions:"
   ]
  },
  {
   "cell_type": "code",
   "execution_count": 29,
   "metadata": {},
   "outputs": [
    {
     "name": "stdout",
     "output_type": "stream",
     "text": [
      "range(0, 12)\n",
      "[0, 1, 2, 3, 4, 5, 6, 7, 8, 9, 10, 11]\n",
      "4 3 2 1 "
     ]
    }
   ],
   "source": [
    "# range returns an object that produces a sequence of integers from start (inclusive)\n",
    "# range(i, j) produces i, i+1, i+2, ..., j-1.\n",
    "# range(i) produces 0, 1, 2, ... , i-1.\n",
    "\n",
    "print(range(12))\n",
    "print(list(range(12)))\n",
    "for i in range(4,0,-1):\n",
    "    print(i , end=' ')"
   ]
  },
  {
   "cell_type": "code",
   "execution_count": 30,
   "metadata": {},
   "outputs": [
    {
     "name": "stdout",
     "output_type": "stream",
     "text": [
      "[0.147, 0.697, 0.764, 0.434, 0.053]\n",
      "0.764\n",
      "0.053\n",
      "2.095\n"
     ]
    }
   ],
   "source": [
    "from random import random\n",
    "num_lst = [float(format(random(),'.3f')) for _ in range(5)]\n",
    "\n",
    "print(num_lst)\n",
    "print(max(num_lst))\n",
    "print(min(num_lst))\n",
    "print(sum(num_lst))"
   ]
  },
  {
   "cell_type": "code",
   "execution_count": 31,
   "metadata": {},
   "outputs": [
    {
     "name": "stdout",
     "output_type": "stream",
     "text": [
      "False\n",
      "True\n"
     ]
    }
   ],
   "source": [
    "num_lst = [0, 1, True, 0.0, False, \"abc\"]\n",
    "\n",
    "# all() returns if all the values of the collection are True\n",
    "print(all(num_lst))\n",
    "\n",
    "# any() - returns if at least one of the elemnt is True\n",
    "print(any(num_lst))"
   ]
  },
  {
   "cell_type": "markdown",
   "metadata": {},
   "source": [
    "## zip"
   ]
  },
  {
   "cell_type": "code",
   "execution_count": 32,
   "metadata": {},
   "outputs": [
    {
     "name": "stdout",
     "output_type": "stream",
     "text": [
      "[('Joey', 'Rachel'), ('Chandler', 'Monica'), ('David', 'Phoebe')]\n"
     ]
    }
   ],
   "source": [
    "# zip function:\n",
    "friends_boys = [\"Joey\", \"Chandler\", \"David\"]\n",
    "friends_girls = [\"Rachel\", \"Monica\", \"Phoebe\"]\n",
    "friends_zone = zip(friends_boys,friends_girls)\n",
    "print(list(friends_zone))"
   ]
  },
  {
   "cell_type": "markdown",
   "metadata": {},
   "source": [
    "#### map() : "
   ]
  },
  {
   "cell_type": "code",
   "execution_count": 25,
   "metadata": {},
   "outputs": [
    {
     "name": "stdout",
     "output_type": "stream",
     "text": [
      "upper_fruits is <map object at 0x000001E06AA9D660>\n",
      "['APPLE', 'BANANA', 'PEAR', 'APRICOT', 'ORANGE']\n",
      "[0, 1, 4, 9, 16]\n"
     ]
    }
   ],
   "source": [
    "fruits = [\"Apple\", \"Banana\", \"Pear\", \"Apricot\", \"Orange\"]\n",
    "upper_fruits = map(str.upper, fruits) # returns the upper str for each str in fruits:\n",
    "\n",
    "print(f'upper_fruits is {upper_fruits}')\n",
    "print(list(upper_fruits))\n",
    "\n",
    "print(list(map(lambda x:x**2, range(5))))"
   ]
  },
  {
   "cell_type": "markdown",
   "metadata": {},
   "source": [
    "### reduce():"
   ]
  },
  {
   "cell_type": "code",
   "execution_count": 34,
   "metadata": {},
   "outputs": [
    {
     "name": "stdout",
     "output_type": "stream",
     "text": [
      "product_of_data is 120\n",
      "362880\n"
     ]
    }
   ],
   "source": [
    "from functools import reduce\n",
    "data = [1,2,3,4,5]\n",
    "product_of_data = reduce(lambda x,y:x*y, data)\n",
    "print(f'product_of_data is {product_of_data}')\n",
    "factorial = reduce(lambda x,y:x*y, range(1,10))\n",
    "print(factorial)"
   ]
  },
  {
   "cell_type": "markdown",
   "metadata": {},
   "source": [
    "#### filter() : "
   ]
  },
  {
   "cell_type": "code",
   "execution_count": 35,
   "metadata": {},
   "outputs": [
    {
     "name": "stdout",
     "output_type": "stream",
     "text": [
      "a_fruits is: <filter object at 0x000001E06AE50FA0>\n",
      "Apple Apricot "
     ]
    }
   ],
   "source": [
    "# filter function:\n",
    "# Return an iterator yielding those items of iterable for which function(item) is true. \n",
    "# If function is None, return the items that are true.\n",
    "\n",
    "fruits = [\"Apple\", \"Banana\", \"Pear\", \"Apricot\", \"Orange\"]\n",
    "a_fruits = filter(lambda string: string[0] == 'A', fruits)\n",
    "print(f'a_fruits is: {a_fruits}')\n",
    "for fruit in a_fruits:\n",
    "    print(fruit , end= ' ')"
   ]
  }
 ],
 "metadata": {
  "kernelspec": {
   "display_name": "Python 3.6.6 64-bit",
   "metadata": {
    "interpreter": {
     "hash": "2e5c6628eef985e7fd2fa2aad22c988c5b8aa1d2648cf9c51c543a2a2637c546"
    }
   },
   "name": "python3"
  },
  "language_info": {
   "codemirror_mode": {
    "name": "ipython",
    "version": 3
   },
   "file_extension": ".py",
   "mimetype": "text/x-python",
   "name": "python",
   "nbconvert_exporter": "python",
   "pygments_lexer": "ipython3",
   "version": "3.10.2"
  },
  "orig_nbformat": 2
 },
 "nbformat": 4,
 "nbformat_minor": 2
}
