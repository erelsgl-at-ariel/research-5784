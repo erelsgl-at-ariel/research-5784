{
 "cells": [
  {
   "cell_type": "markdown",
   "metadata": {},
   "source": [
    "## Strategy design pattern"
   ]
  },
  {
   "cell_type": "code",
   "execution_count": 1,
   "metadata": {},
   "outputs": [
    {
     "name": "stdout",
     "output_type": "stream",
     "text": [
      "Rexi the Dog is walking\n",
      "Tweety the Bird is flying\n",
      "nesher the Eagle is flying\n",
      "Kripto the Dog is flying\n",
      "ani the Animal is moving\n"
     ]
    }
   ],
   "source": [
    "# Problem: there are thousands of animals, but only 2-3 movement options. \n",
    "# What is an efficient way to define an animal class?\n",
    "\n",
    "# Pythonic solution:\n",
    "\n",
    "import types\n",
    "class Animal:\n",
    "    def __init__(self, name ,movement = None):\n",
    "        self.name = name\n",
    "        if movement is not None:\n",
    "            self.set_movement(movement)\n",
    "    def set_movement(self, movement): # Change the \"movement\" method of this object\n",
    "        self.movement = types.MethodType(movement, self)\n",
    "    def movement(self):\n",
    "        print(f\"{self.name} the {type(self).__name__} is moving\")\n",
    "\n",
    "\n",
    "def flying(self):\n",
    "    print(f\"{self.name} the {type(self).__name__} is flying\")\n",
    "def walking(self):\n",
    "    print(f\"{self.name} the {type(self).__name__} is walking\")\n",
    "\n",
    "\n",
    "class Dog(Animal):\n",
    "    def __init__(self,name):\n",
    "        super().__init__(name, walking)\n",
    "\n",
    "class Lion(Animal):\n",
    "    def __init__(self,name):\n",
    "        super().__init__(name, walking)\n",
    "\n",
    "class Bird(Animal):\n",
    "    def __init__(self,name):\n",
    "        super().__init__(name, flying)\n",
    "\n",
    "class Eagle(Animal):\n",
    "    def __init__(self,name):\n",
    "        super().__init__(name, flying)\n",
    "\n",
    "rexi = Dog(\"Rexi\")\n",
    "tweety = Bird(\"Tweety\")\n",
    "nesher = Eagle(\"nesher\")\n",
    "kripto = Dog(\"Kripto\")\n",
    "ani = Animal(\"ani\")\n",
    "kripto.set_movement(flying)\n",
    "rexi.movement()\n",
    "tweety.movement()\n",
    "nesher.movement()\n",
    "kripto.movement()\n",
    "ani.movement()"
   ]
  },
  {
   "cell_type": "code",
   "execution_count": 2,
   "metadata": {},
   "outputs": [
    {
     "name": "stdout",
     "output_type": "stream",
     "text": [
      "24\n",
      "10\n"
     ]
    }
   ],
   "source": [
    "def calculate(name_of_operartion, *nums):\n",
    "    def multiplication(*nums):\n",
    "        mult= 1\n",
    "        for num in nums:\n",
    "            mult*=num\n",
    "        return mult\n",
    "    \n",
    "    def addition(*nums):\n",
    "        addi = 0\n",
    "        for num in nums:\n",
    "            addi+=num\n",
    "        return addi\n",
    "    operations = {\n",
    "        'mul':multiplication,\n",
    "        'sum':addition }\n",
    "    return operations[name_of_operartion](*nums)\n",
    "\n",
    "\n",
    "print(calculate('mul', 1,2,3,4))\n",
    "print(calculate('sum', 1,2,3,4))"
   ]
  },
  {
   "cell_type": "code",
   "execution_count": null,
   "metadata": {},
   "outputs": [],
   "source": []
  }
 ],
 "metadata": {
  "kernelspec": {
   "display_name": "Python 3",
   "language": "python",
   "name": "python3"
  },
  "language_info": {
   "codemirror_mode": {
    "name": "ipython",
    "version": 3
   },
   "file_extension": ".py",
   "mimetype": "text/x-python",
   "name": "python",
   "nbconvert_exporter": "python",
   "pygments_lexer": "ipython3",
   "version": "3.10.2"
  },
  "orig_nbformat": 2
 },
 "nbformat": 4,
 "nbformat_minor": 2
}
