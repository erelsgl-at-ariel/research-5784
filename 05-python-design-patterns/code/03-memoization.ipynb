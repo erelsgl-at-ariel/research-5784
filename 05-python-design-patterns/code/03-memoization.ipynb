{
 "cells": [
  {
   "cell_type": "code",
   "execution_count": 1,
   "metadata": {},
   "outputs": [],
   "source": [
    "def fibonacci_recursive(n):\n",
    "    if n == 1 :\n",
    "        return 1\n",
    "    elif n == 2 :\n",
    "        return 1\n",
    "    else:\n",
    "        return fibonacci_recursive(n-1) + fibonacci_recursive(n-2) "
   ]
  },
  {
   "cell_type": "code",
   "execution_count": 2,
   "metadata": {},
   "outputs": [
    {
     "name": "stdout",
     "output_type": "stream",
     "text": [
      "1) 1\n",
      "2) 1\n",
      "3) 2\n",
      "4) 3\n",
      "5) 5\n",
      "6) 8\n",
      "7) 13\n",
      "8) 21\n",
      "9) 34\n",
      "10) 55\n"
     ]
    },
    {
     "ename": "KeyboardInterrupt",
     "evalue": "",
     "output_type": "error",
     "traceback": [
      "\u001b[1;31m---------------------------------------------------------------------------\u001b[0m",
      "\u001b[1;31mKeyboardInterrupt\u001b[0m                         Traceback (most recent call last)",
      "\u001b[1;32md:\\Dropbox\\ariel-research\\research-5783\\05-python-design-patterns\\code\\0.memoization.ipynb Cell 2\u001b[0m in \u001b[0;36m<module>\u001b[1;34m\u001b[0m\n\u001b[0;32m      <a href='vscode-notebook-cell:/d%3A/Dropbox/ariel-research/research-5783/05-python-design-patterns/code/0.memoization.ipynb#W1sZmlsZQ%3D%3D?line=0'>1</a>\u001b[0m \u001b[39mfor\u001b[39;00m n \u001b[39min\u001b[39;00m \u001b[39mrange\u001b[39m(\u001b[39m1\u001b[39m,\u001b[39m11\u001b[39m):\n\u001b[0;32m      <a href='vscode-notebook-cell:/d%3A/Dropbox/ariel-research/research-5783/05-python-design-patterns/code/0.memoization.ipynb#W1sZmlsZQ%3D%3D?line=1'>2</a>\u001b[0m     \u001b[39mprint\u001b[39m(\u001b[39mf\u001b[39m\u001b[39m'\u001b[39m\u001b[39m{\u001b[39;00mn\u001b[39m}\u001b[39;00m\u001b[39m) \u001b[39m\u001b[39m{\u001b[39;00mfibonacci_recursive(n)\u001b[39m}\u001b[39;00m\u001b[39m'\u001b[39m)\n\u001b[1;32m----> <a href='vscode-notebook-cell:/d%3A/Dropbox/ariel-research/research-5783/05-python-design-patterns/code/0.memoization.ipynb#W1sZmlsZQ%3D%3D?line=2'>3</a>\u001b[0m fibonacci_recursive(\u001b[39m100\u001b[39;49m)\n",
      "\u001b[1;32md:\\Dropbox\\ariel-research\\research-5783\\05-python-design-patterns\\code\\0.memoization.ipynb Cell 2\u001b[0m in \u001b[0;36mfibonacci_recursive\u001b[1;34m(n)\u001b[0m\n\u001b[0;32m      <a href='vscode-notebook-cell:/d%3A/Dropbox/ariel-research/research-5783/05-python-design-patterns/code/0.memoization.ipynb#W1sZmlsZQ%3D%3D?line=4'>5</a>\u001b[0m     \u001b[39mreturn\u001b[39;00m \u001b[39m1\u001b[39m\n\u001b[0;32m      <a href='vscode-notebook-cell:/d%3A/Dropbox/ariel-research/research-5783/05-python-design-patterns/code/0.memoization.ipynb#W1sZmlsZQ%3D%3D?line=5'>6</a>\u001b[0m \u001b[39melse\u001b[39;00m:\n\u001b[1;32m----> <a href='vscode-notebook-cell:/d%3A/Dropbox/ariel-research/research-5783/05-python-design-patterns/code/0.memoization.ipynb#W1sZmlsZQ%3D%3D?line=6'>7</a>\u001b[0m     \u001b[39mreturn\u001b[39;00m fibonacci_recursive(n\u001b[39m-\u001b[39;49m\u001b[39m1\u001b[39;49m) \u001b[39m+\u001b[39m fibonacci_recursive(n\u001b[39m-\u001b[39m\u001b[39m2\u001b[39m)\n",
      "\u001b[1;32md:\\Dropbox\\ariel-research\\research-5783\\05-python-design-patterns\\code\\0.memoization.ipynb Cell 2\u001b[0m in \u001b[0;36mfibonacci_recursive\u001b[1;34m(n)\u001b[0m\n\u001b[0;32m      <a href='vscode-notebook-cell:/d%3A/Dropbox/ariel-research/research-5783/05-python-design-patterns/code/0.memoization.ipynb#W1sZmlsZQ%3D%3D?line=4'>5</a>\u001b[0m     \u001b[39mreturn\u001b[39;00m \u001b[39m1\u001b[39m\n\u001b[0;32m      <a href='vscode-notebook-cell:/d%3A/Dropbox/ariel-research/research-5783/05-python-design-patterns/code/0.memoization.ipynb#W1sZmlsZQ%3D%3D?line=5'>6</a>\u001b[0m \u001b[39melse\u001b[39;00m:\n\u001b[1;32m----> <a href='vscode-notebook-cell:/d%3A/Dropbox/ariel-research/research-5783/05-python-design-patterns/code/0.memoization.ipynb#W1sZmlsZQ%3D%3D?line=6'>7</a>\u001b[0m     \u001b[39mreturn\u001b[39;00m fibonacci_recursive(n\u001b[39m-\u001b[39;49m\u001b[39m1\u001b[39;49m) \u001b[39m+\u001b[39m fibonacci_recursive(n\u001b[39m-\u001b[39m\u001b[39m2\u001b[39m)\n",
      "    \u001b[1;31m[... skipping similar frames: fibonacci_recursive at line 7 (88 times)]\u001b[0m\n",
      "\u001b[1;32md:\\Dropbox\\ariel-research\\research-5783\\05-python-design-patterns\\code\\0.memoization.ipynb Cell 2\u001b[0m in \u001b[0;36mfibonacci_recursive\u001b[1;34m(n)\u001b[0m\n\u001b[0;32m      <a href='vscode-notebook-cell:/d%3A/Dropbox/ariel-research/research-5783/05-python-design-patterns/code/0.memoization.ipynb#W1sZmlsZQ%3D%3D?line=4'>5</a>\u001b[0m     \u001b[39mreturn\u001b[39;00m \u001b[39m1\u001b[39m\n\u001b[0;32m      <a href='vscode-notebook-cell:/d%3A/Dropbox/ariel-research/research-5783/05-python-design-patterns/code/0.memoization.ipynb#W1sZmlsZQ%3D%3D?line=5'>6</a>\u001b[0m \u001b[39melse\u001b[39;00m:\n\u001b[1;32m----> <a href='vscode-notebook-cell:/d%3A/Dropbox/ariel-research/research-5783/05-python-design-patterns/code/0.memoization.ipynb#W1sZmlsZQ%3D%3D?line=6'>7</a>\u001b[0m     \u001b[39mreturn\u001b[39;00m fibonacci_recursive(n\u001b[39m-\u001b[39m\u001b[39m1\u001b[39m) \u001b[39m+\u001b[39m fibonacci_recursive(n\u001b[39m-\u001b[39;49m\u001b[39m2\u001b[39;49m)\n",
      "\u001b[1;32md:\\Dropbox\\ariel-research\\research-5783\\05-python-design-patterns\\code\\0.memoization.ipynb Cell 2\u001b[0m in \u001b[0;36mfibonacci_recursive\u001b[1;34m(n)\u001b[0m\n\u001b[1;32m----> <a href='vscode-notebook-cell:/d%3A/Dropbox/ariel-research/research-5783/05-python-design-patterns/code/0.memoization.ipynb#W1sZmlsZQ%3D%3D?line=0'>1</a>\u001b[0m \u001b[39mdef\u001b[39;00m \u001b[39mfibonacci_recursive\u001b[39m(n):\n\u001b[0;32m      <a href='vscode-notebook-cell:/d%3A/Dropbox/ariel-research/research-5783/05-python-design-patterns/code/0.memoization.ipynb#W1sZmlsZQ%3D%3D?line=1'>2</a>\u001b[0m     \u001b[39mif\u001b[39;00m n \u001b[39m==\u001b[39m \u001b[39m1\u001b[39m :\n\u001b[0;32m      <a href='vscode-notebook-cell:/d%3A/Dropbox/ariel-research/research-5783/05-python-design-patterns/code/0.memoization.ipynb#W1sZmlsZQ%3D%3D?line=2'>3</a>\u001b[0m         \u001b[39mreturn\u001b[39;00m \u001b[39m1\u001b[39m\n",
      "\u001b[1;31mKeyboardInterrupt\u001b[0m: "
     ]
    }
   ],
   "source": [
    "for n in range(1,11):\n",
    "    print(f'{n}) {fibonacci_recursive(n)}')\n",
    "fibonacci_recursive(100)"
   ]
  },
  {
   "cell_type": "code",
   "execution_count": 3,
   "metadata": {},
   "outputs": [],
   "source": [
    "fibonacci_cache = {}\n",
    "def fibonacci_recursive_with_cache(n):\n",
    "    if n in fibonacci_cache:\n",
    "        return fibonacci_cache[n]\n",
    "    if n == 1:\n",
    "        return 1\n",
    "    elif n == 2:\n",
    "        return 1\n",
    "    else: \n",
    "        value = fibonacci_recursive_with_cache(n-1) + fibonacci_recursive_with_cache(n-2)\n",
    "    fibonacci_cache[n] = value \n",
    "    return value"
   ]
  },
  {
   "cell_type": "code",
   "execution_count": 4,
   "metadata": {},
   "outputs": [
    {
     "name": "stdout",
     "output_type": "stream",
     "text": [
      "1) 1\n",
      "2) 1\n",
      "3) 2\n",
      "4) 3\n",
      "5) 5\n",
      "6) 8\n",
      "7) 13\n",
      "8) 21\n",
      "9) 34\n",
      "10) 55\n",
      "11) 89\n",
      "12) 144\n",
      "13) 233\n",
      "14) 377\n",
      "15) 610\n",
      "16) 987\n",
      "17) 1597\n",
      "18) 2584\n",
      "19) 4181\n",
      "20) 6765\n",
      "21) 10946\n",
      "22) 17711\n",
      "23) 28657\n",
      "24) 46368\n",
      "25) 75025\n",
      "26) 121393\n",
      "27) 196418\n",
      "28) 317811\n",
      "29) 514229\n",
      "30) 832040\n",
      "31) 1346269\n",
      "32) 2178309\n",
      "33) 3524578\n",
      "34) 5702887\n",
      "35) 9227465\n",
      "36) 14930352\n",
      "37) 24157817\n",
      "38) 39088169\n",
      "39) 63245986\n",
      "40) 102334155\n",
      "41) 165580141\n",
      "42) 267914296\n",
      "43) 433494437\n",
      "44) 701408733\n",
      "45) 1134903170\n",
      "46) 1836311903\n",
      "47) 2971215073\n",
      "48) 4807526976\n",
      "49) 7778742049\n",
      "50) 12586269025\n",
      "51) 20365011074\n",
      "52) 32951280099\n",
      "53) 53316291173\n",
      "54) 86267571272\n",
      "55) 139583862445\n",
      "56) 225851433717\n",
      "57) 365435296162\n",
      "58) 591286729879\n",
      "59) 956722026041\n",
      "60) 1548008755920\n",
      "61) 2504730781961\n",
      "62) 4052739537881\n",
      "63) 6557470319842\n",
      "64) 10610209857723\n",
      "65) 17167680177565\n",
      "66) 27777890035288\n",
      "67) 44945570212853\n",
      "68) 72723460248141\n",
      "69) 117669030460994\n",
      "70) 190392490709135\n",
      "71) 308061521170129\n",
      "72) 498454011879264\n",
      "73) 806515533049393\n",
      "74) 1304969544928657\n",
      "75) 2111485077978050\n",
      "76) 3416454622906707\n",
      "77) 5527939700884757\n",
      "78) 8944394323791464\n",
      "79) 14472334024676221\n",
      "80) 23416728348467685\n",
      "81) 37889062373143906\n",
      "82) 61305790721611591\n",
      "83) 99194853094755497\n",
      "84) 160500643816367088\n",
      "85) 259695496911122585\n",
      "86) 420196140727489673\n",
      "87) 679891637638612258\n",
      "88) 1100087778366101931\n",
      "89) 1779979416004714189\n",
      "90) 2880067194370816120\n",
      "91) 4660046610375530309\n",
      "92) 7540113804746346429\n",
      "93) 12200160415121876738\n",
      "94) 19740274219868223167\n",
      "95) 31940434634990099905\n",
      "96) 51680708854858323072\n",
      "97) 83621143489848422977\n",
      "98) 135301852344706746049\n",
      "99) 218922995834555169026\n",
      "100) 354224848179261915075\n"
     ]
    }
   ],
   "source": [
    "for n in range(1,101):\n",
    "    print(f'{n}) {fibonacci_recursive_with_cache(n)}')"
   ]
  },
  {
   "cell_type": "code",
   "execution_count": 5,
   "metadata": {},
   "outputs": [],
   "source": [
    "from functools import lru_cache\n",
    "@lru_cache(maxsize =3)\n",
    "def fibonacci_recursive(n):\n",
    "    if n == 1 :\n",
    "        return 1\n",
    "    elif n == 2 :\n",
    "        return 1\n",
    "    else:\n",
    "        return fibonacci_recursive(n-1) + fibonacci_recursive(n-2) "
   ]
  },
  {
   "cell_type": "code",
   "execution_count": 6,
   "metadata": {},
   "outputs": [
    {
     "name": "stdout",
     "output_type": "stream",
     "text": [
      "1) 1\n",
      "2) 1\n",
      "3) 2\n",
      "4) 3\n",
      "5) 5\n",
      "6) 8\n",
      "7) 13\n",
      "8) 21\n",
      "9) 34\n",
      "10) 55\n",
      "11) 89\n",
      "12) 144\n",
      "13) 233\n",
      "14) 377\n",
      "15) 610\n",
      "16) 987\n",
      "17) 1597\n",
      "18) 2584\n",
      "19) 4181\n",
      "20) 6765\n",
      "21) 10946\n",
      "22) 17711\n",
      "23) 28657\n",
      "24) 46368\n",
      "25) 75025\n",
      "26) 121393\n",
      "27) 196418\n",
      "28) 317811\n",
      "29) 514229\n",
      "30) 832040\n",
      "31) 1346269\n",
      "32) 2178309\n",
      "33) 3524578\n",
      "34) 5702887\n",
      "35) 9227465\n",
      "36) 14930352\n",
      "37) 24157817\n",
      "38) 39088169\n",
      "39) 63245986\n",
      "40) 102334155\n",
      "41) 165580141\n",
      "42) 267914296\n",
      "43) 433494437\n",
      "44) 701408733\n",
      "45) 1134903170\n",
      "46) 1836311903\n",
      "47) 2971215073\n",
      "48) 4807526976\n",
      "49) 7778742049\n",
      "50) 12586269025\n",
      "51) 20365011074\n",
      "52) 32951280099\n",
      "53) 53316291173\n",
      "54) 86267571272\n",
      "55) 139583862445\n",
      "56) 225851433717\n",
      "57) 365435296162\n",
      "58) 591286729879\n",
      "59) 956722026041\n",
      "60) 1548008755920\n",
      "61) 2504730781961\n",
      "62) 4052739537881\n",
      "63) 6557470319842\n",
      "64) 10610209857723\n",
      "65) 17167680177565\n",
      "66) 27777890035288\n",
      "67) 44945570212853\n",
      "68) 72723460248141\n",
      "69) 117669030460994\n",
      "70) 190392490709135\n",
      "71) 308061521170129\n",
      "72) 498454011879264\n",
      "73) 806515533049393\n",
      "74) 1304969544928657\n",
      "75) 2111485077978050\n",
      "76) 3416454622906707\n",
      "77) 5527939700884757\n",
      "78) 8944394323791464\n",
      "79) 14472334024676221\n",
      "80) 23416728348467685\n",
      "81) 37889062373143906\n",
      "82) 61305790721611591\n",
      "83) 99194853094755497\n",
      "84) 160500643816367088\n",
      "85) 259695496911122585\n",
      "86) 420196140727489673\n",
      "87) 679891637638612258\n",
      "88) 1100087778366101931\n",
      "89) 1779979416004714189\n",
      "90) 2880067194370816120\n",
      "91) 4660046610375530309\n",
      "92) 7540113804746346429\n",
      "93) 12200160415121876738\n",
      "94) 19740274219868223167\n",
      "95) 31940434634990099905\n",
      "96) 51680708854858323072\n",
      "97) 83621143489848422977\n",
      "98) 135301852344706746049\n",
      "99) 218922995834555169026\n",
      "100) 354224848179261915075\n"
     ]
    }
   ],
   "source": [
    "for n in range(1,101):\n",
    "    print(f'{n}) {fibonacci_recursive(n)}')"
   ]
  },
  {
   "cell_type": "code",
   "execution_count": 7,
   "metadata": {},
   "outputs": [
    {
     "name": "stdout",
     "output_type": "stream",
     "text": [
      "1\n",
      "2\n"
     ]
    }
   ],
   "source": [
    "@lru_cache(maxsize =None)\n",
    "def func(x):\n",
    "    print(x)\n",
    "\n",
    "func(1)\n",
    "func(1)\n",
    "func(2)\n",
    "func(1)\n",
    "func(2)"
   ]
  },
  {
   "cell_type": "code",
   "execution_count": 8,
   "metadata": {},
   "outputs": [
    {
     "name": "stdout",
     "output_type": "stream",
     "text": [
      "abc\n"
     ]
    }
   ],
   "source": [
    "func(\"abc\")"
   ]
  },
  {
   "cell_type": "code",
   "execution_count": 9,
   "metadata": {},
   "outputs": [
    {
     "ename": "TypeError",
     "evalue": "unhashable type: 'list'",
     "output_type": "error",
     "traceback": [
      "\u001b[1;31m---------------------------------------------------------------------------\u001b[0m",
      "\u001b[1;31mTypeError\u001b[0m                                 Traceback (most recent call last)",
      "\u001b[1;32md:\\Dropbox\\ariel-research\\research-5783\\05-python-design-patterns\\code\\0.memoization.ipynb Cell 9\u001b[0m in \u001b[0;36m<module>\u001b[1;34m\u001b[0m\n\u001b[1;32m----> <a href='vscode-notebook-cell:/d%3A/Dropbox/ariel-research/research-5783/05-python-design-patterns/code/0.memoization.ipynb#X11sZmlsZQ%3D%3D?line=0'>1</a>\u001b[0m func([\u001b[39m1\u001b[39;49m,\u001b[39m2\u001b[39;49m,\u001b[39m3\u001b[39;49m])\n",
      "\u001b[1;31mTypeError\u001b[0m: unhashable type: 'list'"
     ]
    }
   ],
   "source": [
    "func([1,2,3]) # Error"
   ]
  },
  {
   "cell_type": "code",
   "execution_count": 10,
   "metadata": {},
   "outputs": [
    {
     "name": "stdout",
     "output_type": "stream",
     "text": [
      "(1, 2, 3)\n"
     ]
    }
   ],
   "source": [
    "func((1,2,3)) "
   ]
  },
  {
   "cell_type": "code",
   "execution_count": 11,
   "metadata": {},
   "outputs": [
    {
     "ename": "TypeError",
     "evalue": "unhashable type: 'dict'",
     "output_type": "error",
     "traceback": [
      "\u001b[1;31m---------------------------------------------------------------------------\u001b[0m",
      "\u001b[1;31mTypeError\u001b[0m                                 Traceback (most recent call last)",
      "\u001b[1;32md:\\Dropbox\\ariel-research\\research-5783\\05-python-design-patterns\\code\\0.memoization.ipynb Cell 11\u001b[0m in \u001b[0;36m<module>\u001b[1;34m\u001b[0m\n\u001b[1;32m----> <a href='vscode-notebook-cell:/d%3A/Dropbox/ariel-research/research-5783/05-python-design-patterns/code/0.memoization.ipynb#X13sZmlsZQ%3D%3D?line=0'>1</a>\u001b[0m func({\u001b[39m\"\u001b[39;49m\u001b[39ma\u001b[39;49m\u001b[39m\"\u001b[39;49m:\u001b[39m1\u001b[39;49m, \u001b[39m\"\u001b[39;49m\u001b[39mb\u001b[39;49m\u001b[39m\"\u001b[39;49m:\u001b[39m2\u001b[39;49m})\n",
      "\u001b[1;31mTypeError\u001b[0m: unhashable type: 'dict'"
     ]
    }
   ],
   "source": [
    "func({\"a\":1, \"b\":2}) # Error"
   ]
  },
  {
   "cell_type": "code",
   "execution_count": null,
   "metadata": {},
   "outputs": [],
   "source": []
  }
 ],
 "metadata": {
  "interpreter": {
   "hash": "fb4569285eef3a3450cb62085a5b1e0da4bce0af555edc33dcf29baf3acc1368"
  },
  "kernelspec": {
   "display_name": "Python 3.10.2 64-bit",
   "language": "python",
   "name": "python3"
  },
  "language_info": {
   "codemirror_mode": {
    "name": "ipython",
    "version": 3
   },
   "file_extension": ".py",
   "mimetype": "text/x-python",
   "name": "python",
   "nbconvert_exporter": "python",
   "pygments_lexer": "ipython3",
   "version": "3.10.2"
  },
  "orig_nbformat": 2
 },
 "nbformat": 4,
 "nbformat_minor": 2
}
