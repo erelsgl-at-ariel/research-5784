{
 "cells": [
  {
   "cell_type": "code",
   "execution_count": 1,
   "metadata": {},
   "outputs": [],
   "source": [
    "import sqlite3   # An SQL database in a single file\n",
    "\n",
    "# Connect to database. If the file does not exist, it will be created.\n",
    "db = sqlite3.connect('my_database.db')"
   ]
  },
  {
   "cell_type": "markdown",
   "metadata": {},
   "source": [
    "## CREATE"
   ]
  },
  {
   "cell_type": "code",
   "execution_count": 2,
   "metadata": {},
   "outputs": [
    {
     "data": {
      "text/plain": [
       "<sqlite3.Cursor at 0x16c97f0bbc0>"
      ]
     },
     "execution_count": 2,
     "metadata": {},
     "output_type": "execute_result"
    }
   ],
   "source": [
    "# Get a cursor:\n",
    "cursor = db.cursor()\n",
    "# Execute a \"create table\" command:\n",
    "cursor.execute('''\n",
    "    CREATE TABLE IF NOT EXISTS user(\n",
    "        id     INTEGER   PRIMARY KEY, \n",
    "        name   TEXT,\n",
    "        phone  TEXT, \n",
    "        profession TEXT,\n",
    "        email  TEXT      UNIQUE, \n",
    "        password TEXT)\n",
    "''')"
   ]
  },
  {
   "cell_type": "markdown",
   "metadata": {},
   "source": [
    "## INSERT"
   ]
  },
  {
   "cell_type": "code",
   "execution_count": 3,
   "metadata": {},
   "outputs": [],
   "source": [
    "name1 = 'Tom Pythonovitz'\n",
    "phone1 = '3366858'\n",
    "profession1 = \"Programmer\"\n",
    "email1 = 'Tom.Pythonovitz@example.com'\n",
    "# A very secure password\n",
    "password1 = '12345'\n",
    "\n",
    "name2 = 'Tammi Pythonovitz'\n",
    "phone2 = '5557241'\n",
    "profession2 = \"Programmer\"\n",
    "email2 = 'Tammi@example.com'\n",
    "password2 = 'Javansky'\n",
    "\n",
    "name3 = 'George Rustinovsky'\n",
    "phone3 = '33333'\n",
    "profession3 = \"Manager\"\n",
    "email3 = 'GRust@example.com'\n",
    "password3 = 'Rust for ever'"
   ]
  },
  {
   "cell_type": "code",
   "execution_count": 6,
   "metadata": {},
   "outputs": [
    {
     "name": "stdout",
     "output_type": "stream",
     "text": [
      "First user inserted\n",
      "Second user inserted\n"
     ]
    }
   ],
   "source": [
    "# Insert user 1 (why question marks? see https://xkcd.com/327/ )\n",
    "cursor.execute('''\n",
    "    INSERT INTO user(name, phone, profession, email, password)\n",
    "    VALUES(?,?,?,?,?)\n",
    "    ''', (name1, phone1, profession1, email1, password1))\n",
    "# Equivalent but unsafe:\n",
    "# cursor.execute(f'''\n",
    "#     INSERT INTO user(name, phone, profession, email, password)\n",
    "#     VALUES({name1},{phone1},{profession1},{email1},{password1})\n",
    "#     ''')\n",
    "print('First user inserted')\n",
    "# NOTE: The id is set automatically (incrementally)\n",
    "\n",
    "# Insert user 2\n",
    "cursor.execute('''\n",
    "    INSERT INTO user(name, phone, profession, email, password)\n",
    "    VALUES(?,?,?,?,?)\n",
    "    ''', (name2,phone2, profession2, email2, password2))\n",
    "print('Second user inserted')\n",
    "# db.rollback()\n",
    "db.commit()"
   ]
  },
  {
   "cell_type": "code",
   "execution_count": 7,
   "metadata": {},
   "outputs": [
    {
     "name": "stdout",
     "output_type": "stream",
     "text": [
      "Third user inserted\n"
     ]
    }
   ],
   "source": [
    "# Insert user 3\n",
    "cursor.execute('''\n",
    "    INSERT INTO user(name, phone, profession, email, password)\n",
    "    VALUES(:name, :phone, :profession, :email, :password)''',\n",
    "    {'name':name3, 'phone':phone3, 'profession':profession3, 'email':email3, 'password':password3})\n",
    "print('Third user inserted')\n",
    "db.commit()"
   ]
  },
  {
   "cell_type": "code",
   "execution_count": 8,
   "metadata": {},
   "outputs": [
    {
     "name": "stdout",
     "output_type": "stream",
     "text": [
      "Many users inserted\n"
     ]
    }
   ],
   "source": [
    "users = [('Joee Javany', '2222', 'Manager', 'joo@example.mail','password'),\n",
    "        ('Shirel Cplustik', '3333', 'Secretary', 'cpp@example.mail','cppass'),\n",
    "        ('Adam Kotlinberg', '4444', 'Secretary', 'Adam_Kotlin@example.mail','JustPassword')\n",
    "        ]\n",
    "# Insert many\n",
    "cursor.executemany('''\n",
    "    INSERT INTO user(name, phone, profession, email, password)\n",
    "    VALUES(?,?,?,?,?)\n",
    "''', users)\n",
    "print('Many users inserted')\n",
    "db.commit()"
   ]
  },
  {
   "cell_type": "markdown",
   "metadata": {},
   "source": [
    "## SELECT"
   ]
  },
  {
   "cell_type": "code",
   "execution_count": 9,
   "metadata": {},
   "outputs": [
    {
     "name": "stdout",
     "output_type": "stream",
     "text": [
      "(1, 'Tom Pythonovitz', '3366858', 'Programmer', 'Tom.Pythonovitz@example.com', '12345')\n",
      "(2, 'Tammi Pythonovitz', '5557241', 'Programmer', 'Tammi@example.com', 'Javansky')\n",
      "(3, 'George Rustinovsky', '33333', 'Manager', 'GRust@example.com', 'Rust for ever')\n",
      "(4, 'Joee Javany', '2222', 'Manager', 'joo@example.mail', 'password')\n",
      "(5, 'Shirel Cplustik', '3333', 'Secretary', 'cpp@example.mail', 'cppass')\n",
      "(6, 'Adam Kotlinberg', '4444', 'Secretary', 'Adam_Kotlin@example.mail', 'JustPassword')\n"
     ]
    }
   ],
   "source": [
    "# Selecting all columns (*)\n",
    "cursor.execute('''\n",
    "    SELECT * FROM user\n",
    "''')\n",
    "for row in cursor:\n",
    "    print(row)"
   ]
  },
  {
   "cell_type": "code",
   "execution_count": 10,
   "metadata": {},
   "outputs": [
    {
     "name": "stdout",
     "output_type": "stream",
     "text": [
      "Tom Pythonovitz : 12345\n",
      "Tammi Pythonovitz : Javansky\n",
      "George Rustinovsky : Rust for ever\n",
      "Joee Javany : password\n",
      "Shirel Cplustik : cppass\n",
      "Adam Kotlinberg : JustPassword\n"
     ]
    }
   ],
   "source": [
    "# Selecting some columns:\n",
    "cursor.execute('''\n",
    "    SELECT name, password \n",
    "    FROM user\n",
    "''')\n",
    "for row in cursor:\n",
    "    print(f'{row[0]} : {row[1]}')"
   ]
  },
  {
   "cell_type": "code",
   "execution_count": 11,
   "metadata": {},
   "outputs": [
    {
     "name": "stdout",
     "output_type": "stream",
     "text": [
      "[('Tom Pythonovitz', 'Tom.Pythonovitz@example.com', '3366858'), ('Tammi Pythonovitz', 'Tammi@example.com', '5557241')]\n"
     ]
    }
   ],
   "source": [
    "# Query with parameters:\n",
    "cursor.execute('''\n",
    "    SELECT name, email, phone \n",
    "    FROM user \n",
    "    WHERE profession=\"Programmer\"\n",
    "''')\n",
    "print(cursor.fetchall())"
   ]
  },
  {
   "cell_type": "markdown",
   "metadata": {},
   "source": [
    "## UPDATE, DELETE"
   ]
  },
  {
   "cell_type": "code",
   "execution_count": 12,
   "metadata": {},
   "outputs": [],
   "source": [
    "# Update the phone of user with id 1:\n",
    "userid = 1\n",
    "newphone = '4477969'\n",
    "cursor.execute('''\n",
    "    UPDATE user \n",
    "    SET phone = ? \n",
    "    WHERE id = ?\n",
    "''', (newphone, userid))\n",
    "\n",
    "# Delete user with id 3:\n",
    "delete_userid = 3\n",
    "cursor.execute('''\n",
    "    DELETE FROM user \n",
    "    WHERE id = ?\n",
    "''', (delete_userid,))\n",
    "\n",
    "db.commit()"
   ]
  },
  {
   "cell_type": "code",
   "execution_count": 13,
   "metadata": {},
   "outputs": [
    {
     "name": "stdout",
     "output_type": "stream",
     "text": [
      "1 ) Tom Pythonovitz : 4477969\n",
      "2 ) Tammi Pythonovitz : 5557241\n",
      "4 ) Joee Javany : 2222\n",
      "5 ) Shirel Cplustik : 3333\n",
      "6 ) Adam Kotlinberg : 4444\n"
     ]
    }
   ],
   "source": [
    "cursor.execute('''\n",
    "    SELECT id, name,phone  FROM user\n",
    "''')\n",
    "for row in cursor:\n",
    "    print(f'{row[0]} ) {row[1]} : {row[2]}')"
   ]
  },
  {
   "cell_type": "markdown",
   "metadata": {},
   "source": [
    "## ROLLBACK"
   ]
  },
  {
   "cell_type": "code",
   "execution_count": 14,
   "metadata": {},
   "outputs": [
    {
     "name": "stdout",
     "output_type": "stream",
     "text": [
      "1 ) Tom Pythonovitz : 4477969\n",
      "2 ) Tammi Pythonovitz : 5557241\n",
      "4 ) Joee Javany : 2222\n",
      "5 ) Shirel Cplustik : 3333\n",
      "6 ) Adam Kotlinberg : 4444\n"
     ]
    }
   ],
   "source": [
    "cursor.execute('''\n",
    "    UPDATE user \n",
    "    SET phone = ? \n",
    "    WHERE id = ? \n",
    "''', (\"121212\", userid))\n",
    "\n",
    "# The user's phone is not updated\n",
    "db.rollback()\n",
    "\n",
    "cursor.execute('''SELECT id, name,phone  FROM user''')\n",
    "for row in cursor:\n",
    "    print(f'{row[0]} ) {row[1]} : {row[2]}')"
   ]
  },
  {
   "cell_type": "markdown",
   "metadata": {},
   "source": [
    "## JOIN"
   ]
  },
  {
   "cell_type": "code",
   "execution_count": 4,
   "metadata": {},
   "outputs": [
    {
     "name": "stdout",
     "output_type": "stream",
     "text": [
      "(1, 2)\n",
      "(5, 6)\n"
     ]
    }
   ],
   "source": [
    "cursor.execute('''\n",
    "    DROP TABLE IF EXISTS user_pairs\n",
    "''')\n",
    "cursor.execute('''\n",
    "    CREATE  TABLE user_pairs(\n",
    "        id1    INTEGER,\n",
    "        id2    INTEGER\n",
    "    )\n",
    "''')\n",
    "\n",
    "cursor.executemany('''\n",
    "    INSERT INTO user_pairs(id1, id2)\n",
    "    VALUES(?,?)\n",
    "''', [(1,2), (5,6)])\n",
    "\n",
    "cursor.execute('''SELECT * FROM user_pairs''')\n",
    "for row in cursor: print(row)"
   ]
  },
  {
   "cell_type": "code",
   "execution_count": 16,
   "metadata": {},
   "outputs": [
    {
     "name": "stdout",
     "output_type": "stream",
     "text": [
      "('Tom Pythonovitz', 1, 2)\n",
      "('Shirel Cplustik', 5, 6)\n"
     ]
    }
   ],
   "source": [
    "\n",
    "cursor.execute('''\n",
    "    SELECT user.name, user_pairs.id1, user_pairs.id2\n",
    "    FROM user JOIN user_pairs ON(user.id==user_pairs.id1)\n",
    "''')\n",
    "for row in cursor: print(row)"
   ]
  },
  {
   "cell_type": "code",
   "execution_count": 17,
   "metadata": {},
   "outputs": [
    {
     "name": "stdout",
     "output_type": "stream",
     "text": [
      "('Tammi Pythonovitz', 1, 2)\n",
      "('Adam Kotlinberg', 5, 6)\n"
     ]
    }
   ],
   "source": [
    "\n",
    "cursor.execute('''\n",
    "    SELECT user.name, user_pairs.id1, user_pairs.id2\n",
    "    FROM user JOIN user_pairs ON(user.id==user_pairs.id2)\n",
    "''')\n",
    "for row in cursor: print(row)"
   ]
  },
  {
   "cell_type": "code",
   "execution_count": 18,
   "metadata": {},
   "outputs": [
    {
     "name": "stdout",
     "output_type": "stream",
     "text": [
      "('Tom Pythonovitz', 1, 'Tammi Pythonovitz', 2)\n",
      "('Shirel Cplustik', 5, 'Adam Kotlinberg', 6)\n"
     ]
    }
   ],
   "source": [
    "\n",
    "cursor.execute('''\n",
    "    SELECT user1.name, user_pairs.id1, user2.name, user_pairs.id2\n",
    "    FROM user AS user1\n",
    "    JOIN user_pairs    ON(user1.id==user_pairs.id1)\n",
    "    JOIN user AS user2 ON(user2.id==user_pairs.id2)\n",
    "''')\n",
    "for row in cursor: print(row)"
   ]
  },
  {
   "cell_type": "markdown",
   "metadata": {},
   "source": [
    "## GROUP BY"
   ]
  },
  {
   "cell_type": "code",
   "execution_count": 19,
   "metadata": {},
   "outputs": [
    {
     "name": "stdout",
     "output_type": "stream",
     "text": [
      "('Manager', 1)\n",
      "('Programmer', 2)\n",
      "('Secretary', 2)\n"
     ]
    }
   ],
   "source": [
    "cursor.execute('''\n",
    "    SELECT profession, COUNT(*)\n",
    "    FROM user \n",
    "    GROUP BY profession\n",
    "''')\n",
    "for row in cursor: print(row)"
   ]
  },
  {
   "cell_type": "code",
   "execution_count": 20,
   "metadata": {},
   "outputs": [
    {
     "name": "stdout",
     "output_type": "stream",
     "text": [
      "('Manager', 4.0)\n",
      "('Programmer', 1.5)\n",
      "('Secretary', 5.5)\n"
     ]
    }
   ],
   "source": [
    "cursor.execute('''\n",
    "    SELECT profession, AVG(ID)\n",
    "    FROM user \n",
    "    GROUP BY profession\n",
    "''')\n",
    "for row in cursor: print(row)"
   ]
  },
  {
   "cell_type": "markdown",
   "metadata": {},
   "source": [
    "## close"
   ]
  },
  {
   "cell_type": "code",
   "execution_count": 21,
   "metadata": {},
   "outputs": [],
   "source": [
    "db.close()"
   ]
  },
  {
   "cell_type": "markdown",
   "metadata": {},
   "source": [
    "## Converting Python types to SQL types:\n",
    "\n",
    "•\tNone type is converted to NULL<br>\n",
    "•\tint type is converted to INTEGER<br>\n",
    "•\tfloat type is converted to REAL<br>\n",
    "•\tstr type is converted to TEXT<br>\n",
    "•\tbytes type is converted to BLOB\n"
   ]
  },
  {
   "cell_type": "markdown",
   "metadata": {},
   "source": [
    "## Reading CSV into SQLITE  "
   ]
  },
  {
   "cell_type": "code",
   "execution_count": 4,
   "metadata": {},
   "outputs": [
    {
     "data": {
      "text/plain": [
       "156"
      ]
     },
     "execution_count": 4,
     "metadata": {},
     "output_type": "execute_result"
    }
   ],
   "source": [
    "# We first read the CSV file into a PANDAS dataframe, and then convert it to SQLITE.\n",
    "\n",
    "import pandas\n",
    "df = pandas.read_csv(\"2019.csv\")\n",
    "df.to_sql(\"happiness\", db, if_exists='replace', index=False)"
   ]
  },
  {
   "cell_type": "code",
   "execution_count": 5,
   "metadata": {},
   "outputs": [
    {
     "name": "stdout",
     "output_type": "stream",
     "text": [
      "(1, 'Finland', 7.769, 1.34, 1.587, 0.986, 0.596, 0.153, 0.393)\n",
      "(2, 'Denmark', 7.6, 1.383, 1.573, 0.996, 0.592, 0.252, 0.41)\n",
      "(3, 'Norway', 7.554, 1.488, 1.582, 1.028, 0.603, 0.271, 0.341)\n",
      "(4, 'Iceland', 7.494, 1.38, 1.624, 1.026, 0.591, 0.354, 0.118)\n",
      "(5, 'Netherlands', 7.488, 1.396, 1.522, 0.999, 0.557, 0.322, 0.298)\n",
      "(6, 'Switzerland', 7.48, 1.452, 1.526, 1.052, 0.572, 0.263, 0.343)\n",
      "(7, 'Sweden', 7.343, 1.387, 1.487, 1.009, 0.574, 0.267, 0.373)\n",
      "(8, 'New Zealand', 7.307, 1.303, 1.557, 1.026, 0.585, 0.33, 0.38)\n",
      "(9, 'Canada', 7.278, 1.365, 1.505, 1.039, 0.584, 0.285, 0.308)\n",
      "(10, 'Austria', 7.246, 1.376, 1.475, 1.016, 0.532, 0.244, 0.226)\n",
      "(11, 'Australia', 7.228, 1.372, 1.548, 1.036, 0.557, 0.332, 0.29)\n",
      "(12, 'Costa Rica', 7.167, 1.034, 1.441, 0.963, 0.558, 0.144, 0.093)\n",
      "(13, 'Israel', 7.139, 1.276, 1.455, 1.029, 0.371, 0.261, 0.082)\n",
      "(14, 'Luxembourg', 7.09, 1.609, 1.479, 1.012, 0.526, 0.194, 0.316)\n",
      "(15, 'United Kingdom', 7.054, 1.333, 1.538, 0.996, 0.45, 0.348, 0.278)\n",
      "(16, 'Ireland', 7.021, 1.499, 1.553, 0.999, 0.516, 0.298, 0.31)\n",
      "(17, 'Germany', 6.985, 1.373, 1.454, 0.987, 0.495, 0.261, 0.265)\n",
      "(18, 'Belgium', 6.923, 1.356, 1.504, 0.986, 0.473, 0.16, 0.21)\n",
      "(19, 'United States', 6.892, 1.433, 1.457, 0.874, 0.454, 0.28, 0.128)\n",
      "(20, 'Czech Republic', 6.852, 1.269, 1.487, 0.92, 0.457, 0.046, 0.036)\n",
      "(21, 'United Arab Emirates', 6.825, 1.503, 1.31, 0.825, 0.598, 0.262, 0.182)\n",
      "(22, 'Malta', 6.726, 1.3, 1.52, 0.999, 0.564, 0.375, 0.151)\n",
      "(23, 'Mexico', 6.595, 1.07, 1.323, 0.861, 0.433, 0.074, 0.073)\n",
      "(24, 'France', 6.592, 1.324, 1.472, 1.045, 0.436, 0.111, 0.183)\n",
      "(25, 'Taiwan', 6.446, 1.368, 1.43, 0.914, 0.351, 0.242, 0.097)\n",
      "(26, 'Chile', 6.444, 1.159, 1.369, 0.92, 0.357, 0.187, 0.056)\n",
      "(27, 'Guatemala', 6.436, 0.8, 1.269, 0.746, 0.535, 0.175, 0.078)\n",
      "(28, 'Saudi Arabia', 6.375, 1.403, 1.357, 0.795, 0.439, 0.08, 0.132)\n",
      "(29, 'Qatar', 6.374, 1.684, 1.313, 0.871, 0.555, 0.22, 0.167)\n",
      "(30, 'Spain', 6.354, 1.286, 1.484, 1.062, 0.362, 0.153, 0.079)\n",
      "(31, 'Panama', 6.321, 1.149, 1.442, 0.91, 0.516, 0.109, 0.054)\n",
      "(32, 'Brazil', 6.3, 1.004, 1.439, 0.802, 0.39, 0.099, 0.086)\n",
      "(33, 'Uruguay', 6.293, 1.124, 1.465, 0.891, 0.523, 0.127, 0.15)\n",
      "(34, 'Singapore', 6.262, 1.572, 1.463, 1.141, 0.556, 0.271, 0.453)\n",
      "(35, 'El Salvador', 6.253, 0.794, 1.242, 0.789, 0.43, 0.093, 0.074)\n",
      "(36, 'Italy', 6.223, 1.294, 1.488, 1.039, 0.231, 0.158, 0.03)\n",
      "(37, 'Bahrain', 6.199, 1.362, 1.368, 0.871, 0.536, 0.255, 0.11)\n",
      "(38, 'Slovakia', 6.198, 1.246, 1.504, 0.881, 0.334, 0.121, 0.014)\n",
      "(39, 'Trinidad & Tobago', 6.192, 1.231, 1.477, 0.713, 0.489, 0.185, 0.016)\n",
      "(40, 'Poland', 6.182, 1.206, 1.438, 0.884, 0.483, 0.117, 0.05)\n",
      "(41, 'Uzbekistan', 6.174, 0.745, 1.529, 0.756, 0.631, 0.322, 0.24)\n",
      "(42, 'Lithuania', 6.149, 1.238, 1.515, 0.818, 0.291, 0.043, 0.042)\n",
      "(43, 'Colombia', 6.125, 0.985, 1.41, 0.841, 0.47, 0.099, 0.034)\n",
      "(44, 'Slovenia', 6.118, 1.258, 1.523, 0.953, 0.564, 0.144, 0.057)\n",
      "(45, 'Nicaragua', 6.105, 0.694, 1.325, 0.835, 0.435, 0.2, 0.127)\n",
      "(46, 'Kosovo', 6.1, 0.882, 1.232, 0.758, 0.489, 0.262, 0.006)\n",
      "(47, 'Argentina', 6.086, 1.092, 1.432, 0.881, 0.471, 0.066, 0.05)\n",
      "(48, 'Romania', 6.07, 1.162, 1.232, 0.825, 0.462, 0.083, 0.005)\n",
      "(49, 'Cyprus', 6.046, 1.263, 1.223, 1.042, 0.406, 0.19, 0.041)\n",
      "(50, 'Ecuador', 6.028, 0.912, 1.312, 0.868, 0.498, 0.126, 0.087)\n",
      "(51, 'Kuwait', 6.021, 1.5, 1.319, 0.808, 0.493, 0.142, 0.097)\n",
      "(52, 'Thailand', 6.008, 1.05, 1.409, 0.828, 0.557, 0.359, 0.028)\n",
      "(53, 'Latvia', 5.94, 1.187, 1.465, 0.812, 0.264, 0.075, 0.064)\n",
      "(54, 'South Korea', 5.895, 1.301, 1.219, 1.036, 0.159, 0.175, 0.056)\n",
      "(55, 'Estonia', 5.893, 1.237, 1.528, 0.874, 0.495, 0.103, 0.161)\n",
      "(56, 'Jamaica', 5.89, 0.831, 1.478, 0.831, 0.49, 0.107, 0.028)\n",
      "(57, 'Mauritius', 5.888, 1.12, 1.402, 0.798, 0.498, 0.215, 0.06)\n",
      "(58, 'Japan', 5.886, 1.327, 1.419, 1.088, 0.445, 0.069, 0.14)\n",
      "(59, 'Honduras', 5.86, 0.642, 1.236, 0.828, 0.507, 0.246, 0.078)\n",
      "(60, 'Kazakhstan', 5.809, 1.173, 1.508, 0.729, 0.41, 0.146, 0.096)\n",
      "(61, 'Bolivia', 5.779, 0.776, 1.209, 0.706, 0.511, 0.137, 0.064)\n",
      "(62, 'Hungary', 5.758, 1.201, 1.41, 0.828, 0.199, 0.081, 0.02)\n",
      "(63, 'Paraguay', 5.743, 0.855, 1.475, 0.777, 0.514, 0.184, 0.08)\n",
      "(64, 'Northern Cyprus', 5.718, 1.263, 1.252, 1.042, 0.417, 0.191, 0.162)\n",
      "(65, 'Peru', 5.697, 0.96, 1.274, 0.854, 0.455, 0.083, 0.027)\n",
      "(66, 'Portugal', 5.693, 1.221, 1.431, 0.999, 0.508, 0.047, 0.025)\n",
      "(67, 'Pakistan', 5.653, 0.677, 0.886, 0.535, 0.313, 0.22, 0.098)\n",
      "(68, 'Russia', 5.648, 1.183, 1.452, 0.726, 0.334, 0.082, 0.031)\n",
      "(69, 'Philippines', 5.631, 0.807, 1.293, 0.657, 0.558, 0.117, 0.107)\n",
      "(70, 'Serbia', 5.603, 1.004, 1.383, 0.854, 0.282, 0.137, 0.039)\n",
      "(71, 'Moldova', 5.529, 0.685, 1.328, 0.739, 0.245, 0.181, 0.0)\n",
      "(72, 'Libya', 5.525, 1.044, 1.303, 0.673, 0.416, 0.133, 0.152)\n",
      "(73, 'Montenegro', 5.523, 1.051, 1.361, 0.871, 0.197, 0.142, 0.08)\n",
      "(74, 'Tajikistan', 5.467, 0.493, 1.098, 0.718, 0.389, 0.23, 0.144)\n",
      "(75, 'Croatia', 5.432, 1.155, 1.266, 0.914, 0.296, 0.119, 0.022)\n",
      "(76, 'Hong Kong', 5.43, 1.438, 1.277, 1.122, 0.44, 0.258, 0.287)\n",
      "(77, 'Dominican Republic', 5.425, 1.015, 1.401, 0.779, 0.497, 0.113, 0.101)\n",
      "(78, 'Bosnia and Herzegovina', 5.386, 0.945, 1.212, 0.845, 0.212, 0.263, 0.006)\n",
      "(79, 'Turkey', 5.373, 1.183, 1.36, 0.808, 0.195, 0.083, 0.106)\n",
      "(80, 'Malaysia', 5.339, 1.221, 1.171, 0.828, 0.508, 0.26, 0.024)\n",
      "(81, 'Belarus', 5.323, 1.067, 1.465, 0.789, 0.235, 0.094, 0.142)\n",
      "(82, 'Greece', 5.287, 1.181, 1.156, 0.999, 0.067, 0.0, 0.034)\n",
      "(83, 'Mongolia', 5.285, 0.948, 1.531, 0.667, 0.317, 0.235, 0.038)\n",
      "(84, 'North Macedonia', 5.274, 0.983, 1.294, 0.838, 0.345, 0.185, 0.034)\n",
      "(85, 'Nigeria', 5.265, 0.696, 1.111, 0.245, 0.426, 0.215, 0.041)\n",
      "(86, 'Kyrgyzstan', 5.261, 0.551, 1.438, 0.723, 0.508, 0.3, 0.023)\n",
      "(87, 'Turkmenistan', 5.247, 1.052, 1.538, 0.657, 0.394, 0.244, 0.028)\n",
      "(88, 'Algeria', 5.211, 1.002, 1.16, 0.785, 0.086, 0.073, 0.114)\n",
      "(89, 'Morocco', 5.208, 0.801, 0.782, 0.782, 0.418, 0.036, 0.076)\n",
      "(90, 'Azerbaijan', 5.208, 1.043, 1.147, 0.769, 0.351, 0.035, 0.182)\n",
      "(91, 'Lebanon', 5.197, 0.987, 1.224, 0.815, 0.216, 0.166, 0.027)\n",
      "(92, 'Indonesia', 5.192, 0.931, 1.203, 0.66, 0.491, 0.498, 0.028)\n",
      "(93, 'China', 5.191, 1.029, 1.125, 0.893, 0.521, 0.058, 0.1)\n",
      "(94, 'Vietnam', 5.175, 0.741, 1.346, 0.851, 0.543, 0.147, 0.073)\n",
      "(95, 'Bhutan', 5.082, 0.813, 1.321, 0.604, 0.457, 0.37, 0.167)\n",
      "(96, 'Cameroon', 5.044, 0.549, 0.91, 0.331, 0.381, 0.187, 0.037)\n",
      "(97, 'Bulgaria', 5.011, 1.092, 1.513, 0.815, 0.311, 0.081, 0.004)\n",
      "(98, 'Ghana', 4.996, 0.611, 0.868, 0.486, 0.381, 0.245, 0.04)\n",
      "(99, 'Ivory Coast', 4.944, 0.569, 0.808, 0.232, 0.352, 0.154, 0.09)\n",
      "(100, 'Nepal', 4.913, 0.446, 1.226, 0.677, 0.439, 0.285, 0.089)\n",
      "(101, 'Jordan', 4.906, 0.837, 1.225, 0.815, 0.383, 0.11, 0.13)\n",
      "(102, 'Benin', 4.883, 0.393, 0.437, 0.397, 0.349, 0.175, 0.082)\n",
      "(103, 'Congo (Brazzaville)', 4.812, 0.673, 0.799, 0.508, 0.372, 0.105, 0.093)\n",
      "(104, 'Gabon', 4.799, 1.057, 1.183, 0.571, 0.295, 0.043, 0.055)\n",
      "(105, 'Laos', 4.796, 0.764, 1.03, 0.551, 0.547, 0.266, 0.164)\n",
      "(106, 'South Africa', 4.722, 0.96, 1.351, 0.469, 0.389, 0.13, 0.055)\n",
      "(107, 'Albania', 4.719, 0.947, 0.848, 0.874, 0.383, 0.178, 0.027)\n",
      "(108, 'Venezuela', 4.707, 0.96, 1.427, 0.805, 0.154, 0.064, 0.047)\n",
      "(109, 'Cambodia', 4.7, 0.574, 1.122, 0.637, 0.609, 0.232, 0.062)\n",
      "(110, 'Palestinian Territories', 4.696, 0.657, 1.247, 0.672, 0.225, 0.103, 0.066)\n",
      "(111, 'Senegal', 4.681, 0.45, 1.134, 0.571, 0.292, 0.153, 0.072)\n",
      "(112, 'Somalia', 4.668, 0.0, 0.698, 0.268, 0.559, 0.243, 0.27)\n",
      "(113, 'Namibia', 4.639, 0.879, 1.313, 0.477, 0.401, 0.07, 0.056)\n",
      "(114, 'Niger', 4.628, 0.138, 0.774, 0.366, 0.318, 0.188, 0.102)\n",
      "(115, 'Burkina Faso', 4.587, 0.331, 1.056, 0.38, 0.255, 0.177, 0.113)\n",
      "(116, 'Armenia', 4.559, 0.85, 1.055, 0.815, 0.283, 0.095, 0.064)\n",
      "(117, 'Iran', 4.548, 1.1, 0.842, 0.785, 0.305, 0.27, 0.125)\n",
      "(118, 'Guinea', 4.534, 0.38, 0.829, 0.375, 0.332, 0.207, 0.086)\n",
      "(119, 'Georgia', 4.519, 0.886, 0.666, 0.752, 0.346, 0.043, 0.164)\n",
      "(120, 'Gambia', 4.516, 0.308, 0.939, 0.428, 0.382, 0.269, 0.167)\n",
      "(121, 'Kenya', 4.509, 0.512, 0.983, 0.581, 0.431, 0.372, 0.053)\n",
      "(122, 'Mauritania', 4.49, 0.57, 1.167, 0.489, 0.066, 0.106, 0.088)\n",
      "(123, 'Mozambique', 4.466, 0.204, 0.986, 0.39, 0.494, 0.197, 0.138)\n",
      "(124, 'Tunisia', 4.461, 0.921, 1.0, 0.815, 0.167, 0.059, 0.055)\n",
      "(125, 'Bangladesh', 4.456, 0.562, 0.928, 0.723, 0.527, 0.166, 0.143)\n",
      "(126, 'Iraq', 4.437, 1.043, 0.98, 0.574, 0.241, 0.148, 0.089)\n",
      "(127, 'Congo (Kinshasa)', 4.418, 0.094, 1.125, 0.357, 0.269, 0.212, 0.053)\n",
      "(128, 'Mali', 4.39, 0.385, 1.105, 0.308, 0.327, 0.153, 0.052)\n",
      "(129, 'Sierra Leone', 4.374, 0.268, 0.841, 0.242, 0.309, 0.252, 0.045)\n",
      "(130, 'Sri Lanka', 4.366, 0.949, 1.265, 0.831, 0.47, 0.244, 0.047)\n",
      "(131, 'Myanmar', 4.36, 0.71, 1.181, 0.555, 0.525, 0.566, 0.172)\n",
      "(132, 'Chad', 4.35, 0.35, 0.766, 0.192, 0.174, 0.198, 0.078)\n",
      "(133, 'Ukraine', 4.332, 0.82, 1.39, 0.739, 0.178, 0.187, 0.01)\n",
      "(134, 'Ethiopia', 4.286, 0.336, 1.033, 0.532, 0.344, 0.209, 0.1)\n",
      "(135, 'Swaziland', 4.212, 0.811, 1.149, 0.0, 0.313, 0.074, 0.135)\n",
      "(136, 'Uganda', 4.189, 0.332, 1.069, 0.443, 0.356, 0.252, 0.06)\n",
      "(137, 'Egypt', 4.166, 0.913, 1.039, 0.644, 0.241, 0.076, 0.067)\n",
      "(138, 'Zambia', 4.107, 0.578, 1.058, 0.426, 0.431, 0.247, 0.087)\n",
      "(139, 'Togo', 4.085, 0.275, 0.572, 0.41, 0.293, 0.177, 0.085)\n",
      "(140, 'India', 4.015, 0.755, 0.765, 0.588, 0.498, 0.2, 0.085)\n",
      "(141, 'Liberia', 3.975, 0.073, 0.922, 0.443, 0.37, 0.233, 0.033)\n",
      "(142, 'Comoros', 3.973, 0.274, 0.757, 0.505, 0.142, 0.275, 0.078)\n",
      "(143, 'Madagascar', 3.933, 0.274, 0.916, 0.555, 0.148, 0.169, 0.041)\n",
      "(144, 'Lesotho', 3.802, 0.489, 1.169, 0.168, 0.359, 0.107, 0.093)\n",
      "(145, 'Burundi', 3.775, 0.046, 0.447, 0.38, 0.22, 0.176, 0.18)\n",
      "(146, 'Zimbabwe', 3.663, 0.366, 1.114, 0.433, 0.361, 0.151, 0.089)\n",
      "(147, 'Haiti', 3.597, 0.323, 0.688, 0.449, 0.026, 0.419, 0.11)\n",
      "(148, 'Botswana', 3.488, 1.041, 1.145, 0.538, 0.455, 0.025, 0.1)\n",
      "(149, 'Syria', 3.462, 0.619, 0.378, 0.44, 0.013, 0.331, 0.141)\n",
      "(150, 'Malawi', 3.41, 0.191, 0.56, 0.495, 0.443, 0.218, 0.089)\n",
      "(151, 'Yemen', 3.38, 0.287, 1.163, 0.463, 0.143, 0.108, 0.077)\n",
      "(152, 'Rwanda', 3.334, 0.359, 0.711, 0.614, 0.555, 0.217, 0.411)\n",
      "(153, 'Tanzania', 3.231, 0.476, 0.885, 0.499, 0.417, 0.276, 0.147)\n",
      "(154, 'Afghanistan', 3.203, 0.35, 0.517, 0.361, 0.0, 0.158, 0.025)\n",
      "(155, 'Central African Republic', 3.083, 0.026, 0.0, 0.105, 0.225, 0.235, 0.035)\n",
      "(156, 'South Sudan', 2.853, 0.306, 0.575, 0.295, 0.01, 0.202, 0.091)\n"
     ]
    }
   ],
   "source": [
    "\n",
    "cursor = db.cursor()\n",
    "cursor.execute('''\n",
    "    SELECT * FROM happiness\n",
    "''')\n",
    "for row in cursor: print(row)"
   ]
  },
  {
   "cell_type": "markdown",
   "metadata": {},
   "source": []
  }
 ],
 "metadata": {
  "interpreter": {
   "hash": "fb4569285eef3a3450cb62085a5b1e0da4bce0af555edc33dcf29baf3acc1368"
  },
  "kernelspec": {
   "display_name": "Python 3.10.2 64-bit",
   "language": "python",
   "name": "python3"
  },
  "language_info": {
   "codemirror_mode": {
    "name": "ipython",
    "version": 3
   },
   "file_extension": ".py",
   "mimetype": "text/x-python",
   "name": "python",
   "nbconvert_exporter": "python",
   "pygments_lexer": "ipython3",
   "version": "3.10.2"
  },
  "orig_nbformat": 2
 },
 "nbformat": 4,
 "nbformat_minor": 2
}
