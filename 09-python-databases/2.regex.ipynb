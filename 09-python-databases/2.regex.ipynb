{
 "cells": [
  {
   "cell_type": "markdown",
   "metadata": {},
   "source": [
    "## Without regex"
   ]
  },
  {
   "cell_type": "code",
   "execution_count": 2,
   "metadata": {},
   "outputs": [],
   "source": [
    "def is_a_phone_number(text:str)->bool:\n",
    "    '''Checks if a string is a valid  phone number '''\n",
    "    # 05x-xxx-xxxx  x ∈ [1,9]\n",
    "    if len(text) != 12:\n",
    "        return False\n",
    "    if text[0:2] != '05':\n",
    "        return False\n",
    "    nums = text.split('-')\n",
    "    if len(nums) != 3:\n",
    "        return False\n",
    "    for num in nums:\n",
    "        if not num.isdecimal():\n",
    "            return False\n",
    "        if num == nums[2] and len(num)!= 4:\n",
    "            return False\n",
    "    return True"
   ]
  },
  {
   "cell_type": "code",
   "execution_count": 3,
   "metadata": {},
   "outputs": [
    {
     "data": {
      "text/plain": [
       "TestResults(failed=0, attempted=4)"
      ]
     },
     "execution_count": 3,
     "metadata": {},
     "output_type": "execute_result"
    }
   ],
   "source": [
    "import doctest\n",
    "'''\n",
    ">>> is_a_phone_number('055-555-5555')\n",
    "True\n",
    ">>> is_a_phone_number('055-555-555x')\n",
    "False\n",
    ">>> is_a_phone_number('055-555-555')\n",
    "False\n",
    ">>> is_a_phone_number('phone number')\n",
    "False\n",
    "'''\n",
    "doctest.testmod()"
   ]
  },
  {
   "cell_type": "code",
   "execution_count": 4,
   "metadata": {},
   "outputs": [],
   "source": [
    "from typing import List\n",
    "def find_phone_numbers(text:str)-> List[str]:\n",
    "    '''Finds all phone number in a string '''\n",
    "    list_of_phone_numbers = list()\n",
    "    for i in range(len(text)):\n",
    "        if is_a_phone_number(text[i:i+12]):\n",
    "           list_of_phone_numbers.append(text[i:i+12])\n",
    "    return list_of_phone_numbers"
   ]
  },
  {
   "cell_type": "code",
   "execution_count": 5,
   "metadata": {},
   "outputs": [
    {
     "data": {
      "text/plain": [
       "TestResults(failed=0, attempted=4)"
      ]
     },
     "execution_count": 5,
     "metadata": {},
     "output_type": "execute_result"
    }
   ],
   "source": [
    "import doctest\n",
    "'''\n",
    ">>> txt ='054-444-4444 gj fdkl055-555-5555mvkdl053-545-4545'\n",
    ">>> find_phone_numbers(txt)\n",
    "['054-444-4444', '055-555-5555', '053-545-4545']\n",
    ">>> txt = 'hjhkd056-666-66666csjkccsd'\n",
    ">>> find_phone_numbers(txt)\n",
    "['056-666-6666']\n",
    "'''\n",
    "doctest.testmod()"
   ]
  },
  {
   "cell_type": "markdown",
   "metadata": {},
   "source": [
    "## With regex"
   ]
  },
  {
   "cell_type": "code",
   "execution_count": 6,
   "metadata": {},
   "outputs": [],
   "source": [
    "import re\n",
    "phone_pattern = re.compile(r'05\\d-\\d\\d\\d-\\d\\d\\d\\d')  # r'' = raw string; do not treat \\ as a special char\n",
    "def find_phone_numbers_regex(text:str)-> list[str]: \n",
    "    phones = phone_pattern.findall(text)\n",
    "    return phones"
   ]
  },
  {
   "cell_type": "code",
   "execution_count": 7,
   "metadata": {},
   "outputs": [
    {
     "data": {
      "text/plain": [
       "TestResults(failed=0, attempted=5)"
      ]
     },
     "execution_count": 7,
     "metadata": {},
     "output_type": "execute_result"
    }
   ],
   "source": [
    "import doctest\n",
    "'''\n",
    ">>> txt ='054-444-4444 gj fdkl055-555-5555mvkdl053-545-4545'\n",
    ">>> find_phone_numbers_regex(txt)\n",
    "['054-444-4444', '055-555-5555', '053-545-4545']\n",
    ">>> txt = 'hjhkd056-666-66666csjkccsd'\n",
    ">>> find_phone_numbers_regex(txt)\n",
    "['056-666-6666']\n",
    ">>> find_phone_numbers_regex('045-454-4545')\n",
    "[]\n",
    "'''\n",
    "doctest.testmod()"
   ]
  },
  {
   "cell_type": "markdown",
   "metadata": {},
   "source": [
    "## Regex special chars"
   ]
  },
  {
   "cell_type": "code",
   "execution_count": 67,
   "metadata": {},
   "outputs": [
    {
     "data": {
      "text/plain": [
       "['abcz', 'adez', 'axyz']"
      ]
     },
     "execution_count": 67,
     "metadata": {},
     "output_type": "execute_result"
    }
   ],
   "source": [
    "#.: any character\n",
    "re.findall(r\"a..z\", \"123 abcz adez afz az axyz\")"
   ]
  },
  {
   "cell_type": "code",
   "execution_count": 82,
   "metadata": {},
   "outputs": [
    {
     "name": "stdout",
     "output_type": "stream",
     "text": [
      "['abcz', 'adez']\n",
      "['afxz', 'axyz']\n",
      "['abcz', 'adez', 'afxz']\n",
      "['axyz']\n",
      "['ab.z', 'ax.z']\n"
     ]
    }
   ],
   "source": [
    "#[]: set of characters\n",
    "print(re.findall(r\"a[bd].z\", \"123 abcz adez afxz az axyz\"))\n",
    "print(re.findall(r\"a[^bd].z\", \"123 abcz adez afxz az axyz\")) # ^ = not\n",
    "print(re.findall(r\"a[b-f].z\", \"123 abcz adez afxz az axyz\")) # [b-f] = [bcdef]\n",
    "print(re.findall(r\"a[^b-f].z\", \"123 abcz adez afxz az axyz\")) \n",
    "print(re.findall(r\"a.[.]z\", \"123 ab.z adez afxz az ax.z\"))"
   ]
  },
  {
   "cell_type": "code",
   "execution_count": 74,
   "metadata": {},
   "outputs": [
    {
     "name": "stdout",
     "output_type": "stream",
     "text": [
      "['1A ', '2b\\t', '34 ']\n"
     ]
    }
   ],
   "source": [
    "# \\d: digit = [0-9]\n",
    "# \\w: letter or digit = [a-zA-Z0-9]\n",
    "# \\s: space = [ \\t] \n",
    "print(re.findall(r\"\\d\\w\\s\", \"1A 2b\\t a3 ab 34 \"))"
   ]
  },
  {
   "cell_type": "code",
   "execution_count": 83,
   "metadata": {},
   "outputs": [
    {
     "name": "stdout",
     "output_type": "stream",
     "text": [
      "['1A ']\n",
      "['34 ']\n"
     ]
    }
   ],
   "source": [
    "#^ = start of string\n",
    "#$ = end of string\n",
    "print(re.findall(r\"^\\d\\w\\s\", \"1A 2b\\t a3 ab 34 \"))\n",
    "print(re.findall(r\"\\d\\w\\s$\", \"1A 2b\\t a3 ab 34 \"))"
   ]
  },
  {
   "cell_type": "markdown",
   "metadata": {},
   "source": [
    "## Regex operators"
   ]
  },
  {
   "cell_type": "code",
   "execution_count": 10,
   "metadata": {},
   "outputs": [
    {
     "data": {
      "text/plain": [
       "['nooooo', 'no']"
      ]
     },
     "execution_count": 10,
     "metadata": {},
     "output_type": "execute_result"
    }
   ],
   "source": [
    "#+: one or more\n",
    "txt = \" nooooo or just no that is the question\"\n",
    "re.findall(r\"no+\", txt)"
   ]
  },
  {
   "cell_type": "code",
   "execution_count": 11,
   "metadata": {},
   "outputs": [
    {
     "data": {
      "text/plain": [
       "['yesss', 'ye']"
      ]
     },
     "execution_count": 11,
     "metadata": {},
     "output_type": "execute_result"
    }
   ],
   "source": [
    "#*: zero or more\n",
    "txt = \"yesss we can ,ye\"\n",
    "re.findall(\"yes*\", txt)"
   ]
  },
  {
   "cell_type": "code",
   "execution_count": 16,
   "metadata": {},
   "outputs": [
    {
     "data": {
      "text/plain": [
       "['alll', 'all', 'allll']"
      ]
     },
     "execution_count": 16,
     "metadata": {},
     "output_type": "execute_result"
    }
   ],
   "source": [
    "#{}: exact count\n",
    "txt = \"alex reallly falls in alllllll times\"\n",
    "re.findall(\"al{2,4}\", txt)"
   ]
  },
  {
   "cell_type": "code",
   "execution_count": 15,
   "metadata": {},
   "outputs": [
    {
     "data": {
      "text/plain": [
       "['ys', 'no']"
      ]
     },
     "execution_count": 15,
     "metadata": {},
     "output_type": "execute_result"
    }
   ],
   "source": [
    "#|: or\n",
    "txt = \"yes we can or no we can't\"\n",
    "re.findall(\"ye*s|no\", txt)"
   ]
  },
  {
   "cell_type": "code",
   "execution_count": 21,
   "metadata": {},
   "outputs": [
    {
     "name": "stdout",
     "output_type": "stream",
     "text": [
      "['Batwoman', 'Batman']\n",
      "['Batman', 'Batwoman']\n"
     ]
    }
   ],
   "source": [
    "#?: zero or one\n",
    "batman_pattern = re.compile(r'Batw?o?man')\n",
    "batwoman_txt = 'Batwoman is stronger than Batman'\n",
    "print(re.findall(batman_pattern, batwoman_txt))\n",
    "batman_txt = 'Batman is stronger than Batwoman'\n",
    "print(re.findall(batman_pattern, batman_txt))"
   ]
  },
  {
   "cell_type": "markdown",
   "metadata": {},
   "source": [
    "## Groups"
   ]
  },
  {
   "cell_type": "code",
   "execution_count": 27,
   "metadata": {},
   "outputs": [
    {
     "name": "stdout",
     "output_type": "stream",
     "text": [
      "[('054', '444-4444'), ('055', '555-5555'), ('053', '545-4545')]\n",
      "[('054-444-4444', '054', '444-4444'), ('055-555-5555', '055', '555-5555'), ('053-545-4545', '053', '545-4545')]\n"
     ]
    }
   ],
   "source": [
    "#(): groups\n",
    "txt ='abc054-444-4444 gj fdkl055-555-5555mvkdl053-545-4545'\n",
    "phone_pattern_with_groups = re.compile(r'(05\\d)-(\\d\\d\\d-\\d\\d\\d\\d)')\n",
    "print(phone_pattern_with_groups.findall(txt))\n",
    "phone_pattern_with_entire_number =  re.compile(r'((05\\d)-(\\d\\d\\d-\\d\\d\\d\\d))')\n",
    "print(phone_pattern_with_entire_number.findall(txt))"
   ]
  },
  {
   "cell_type": "code",
   "execution_count": 36,
   "metadata": {},
   "outputs": [
    {
     "name": "stdout",
     "output_type": "stream",
     "text": [
      "054-444-4444\n",
      "054\n",
      "444-4444\n"
     ]
    }
   ],
   "source": [
    "pattern_groups = phone_pattern_with_groups.search(txt)\n",
    "print(pattern_groups.group()) # Returns the entire matching text\n",
    "# Equivalent to: print(pattern_groups.group(0))\n",
    "print(pattern_groups.group(1))\n",
    "print(pattern_groups.group(2))\n",
    "# print(pattern_groups.group(3)) # error - no such group"
   ]
  },
  {
   "cell_type": "code",
   "execution_count": 59,
   "metadata": {},
   "outputs": [
    {
     "name": "stdout",
     "output_type": "stream",
     "text": [
      "['']\n",
      "['wo']\n",
      "[('Batman', '')]\n"
     ]
    }
   ],
   "source": [
    "# Groups with \"?\"\n",
    "print(re.findall(r'Bat(wo)?man', 'Batman VS Superman')) # the group is empty\n",
    "print(re.findall(r'Bat(wo)?man', 'Batwoman VS Superman')) # the group is 'wo' \n",
    "print(re.findall(r'(Bat(wo)?man)', 'Batman VS Superman'))"
   ]
  },
  {
   "cell_type": "markdown",
   "metadata": {},
   "source": [
    "## Flags"
   ]
  },
  {
   "cell_type": "code",
   "execution_count": 77,
   "metadata": {},
   "outputs": [
    {
     "data": {
      "text/plain": [
       "['A', 'a', 'a', 'a', 'A']"
      ]
     },
     "execution_count": 77,
     "metadata": {},
     "output_type": "execute_result"
    }
   ],
   "source": [
    "# Ignore case\n",
    "all_cases_a_patt = re.compile('a', re.IGNORECASE)\n",
    "all_cases_a_patt.findall('And they have all they wanted AMEN')"
   ]
  },
  {
   "cell_type": "code",
   "execution_count": 87,
   "metadata": {},
   "outputs": [
    {
     "data": {
      "text/plain": [
       "['054-444-4444', '055-555-5555', '053-545-4545']"
      ]
     },
     "execution_count": 87,
     "metadata": {},
     "output_type": "execute_result"
    }
   ],
   "source": [
    "# re.VERBOSE - ignores newlines in the pattern (for readability)\n",
    "phone_patt = re.compile(R''' \n",
    "05\\d-\n",
    "\\d{3}-\n",
    "\\d{4}\n",
    "''', re.VERBOSE)\n",
    "phone_patt.findall('054-444-4444 gj fdkl055-555-5555mvkdl053-545-4545')"
   ]
  },
  {
   "cell_type": "code",
   "execution_count": 88,
   "metadata": {},
   "outputs": [
    {
     "name": "stdout",
     "output_type": "stream",
     "text": [
      "Every thing I write \n",
      "will be found\n"
     ]
    }
   ],
   "source": [
    "# re.S = the . char matches newline\n",
    "find_all_patt = re.compile('[a-z].+',re.S|re.IGNORECASE)\n",
    "find_all = find_all_patt.search('Every thing I write \\nwill be found')\n",
    "print(find_all.group())"
   ]
  },
  {
   "cell_type": "markdown",
   "metadata": {},
   "source": [
    "## Methods"
   ]
  },
  {
   "cell_type": "code",
   "execution_count": 80,
   "metadata": {},
   "outputs": [
    {
     "name": "stdout",
     "output_type": "stream",
     "text": [
      "(4, 16)\n"
     ]
    }
   ],
   "source": [
    "# Span\n",
    "txt = 'abc 054-444-4444 gj fdkl055-555-5555mvkdl053-545-4545'\n",
    "search_results = re.search(r'(\\d\\d\\d)-(\\d\\d\\d-\\d\\d\\d\\d)' , txt)\n",
    "print(search_results.span())"
   ]
  },
  {
   "cell_type": "code",
   "execution_count": 53,
   "metadata": {},
   "outputs": [
    {
     "name": "stdout",
     "output_type": "stream",
     "text": [
      "['Tom Pythonovitz', '055-555-5555', 'Tammi Pythonovitz', '054-444-4444']\n",
      "['Tom Pythonovitz', ', Tammi Pythonovitz', '']\n"
     ]
    }
   ],
   "source": [
    "# Split\n",
    "phone_number_row = 'Tom Pythonovitz,055-555-5555, Tammi Pythonovitz,  054-444-4444'\n",
    "list_of_fields = re.split(r', *', phone_number_row)\n",
    "print(list_of_fields)\n",
    "list_of_users = re.split(r', *\\d\\d\\d-\\d\\d\\d-\\d\\d\\d\\d', phone_number_row)\n",
    "print(list_of_users)"
   ]
  },
  {
   "cell_type": "code",
   "execution_count": 55,
   "metadata": {},
   "outputs": [
    {
     "name": "stdout",
     "output_type": "stream",
     "text": [
      "The9rain9in9Spain\n",
      "The9rain9in Spain\n"
     ]
    }
   ],
   "source": [
    "# Sub[stitute]\n",
    "txt = \"The rain in Spain\"\n",
    "print(re.sub(\"\\s\", \"9\", txt))  # \\s = space or tab\n",
    "print(re.sub(\"\\s\", \"9\", txt, 2))  # 2 = replace at most two times"
   ]
  },
  {
   "cell_type": "code",
   "execution_count": 5,
   "metadata": {},
   "outputs": [
    {
     "data": {
      "text/plain": [
       "'Agent A is going to meet Agent Y in the same location they met last time'"
      ]
     },
     "execution_count": 5,
     "metadata": {},
     "output_type": "execute_result"
    }
   ],
   "source": [
    "# Substitute with groups\n",
    "txt = \"Agent Adam is going to meet Agent Yosi in the same location they met last time\"\n",
    "agent_pattern = re.compile(\"Agent (\\w)\\w+\") # \\w = any letter (a-z,A-Z)\n",
    "re.sub(agent_pattern, r\"Agent \\1\", txt) # \\1 = group(1)"
   ]
  }
 ],
 "metadata": {
  "kernelspec": {
   "display_name": "Python 3",
   "language": "python",
   "name": "python3"
  },
  "language_info": {
   "codemirror_mode": {
    "name": "ipython",
    "version": 3
   },
   "file_extension": ".py",
   "mimetype": "text/x-python",
   "name": "python",
   "nbconvert_exporter": "python",
   "pygments_lexer": "ipython3",
   "version": "3.10.2"
  },
  "orig_nbformat": 2
 },
 "nbformat": 4,
 "nbformat_minor": 2
}
