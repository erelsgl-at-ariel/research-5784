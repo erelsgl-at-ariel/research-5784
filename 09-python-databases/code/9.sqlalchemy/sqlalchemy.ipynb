{
 "cells": [
  {
   "cell_type": "code",
   "execution_count": 1,
   "metadata": {},
   "outputs": [
    {
     "data": {
      "text/plain": [
       "Engine(sqlite:///my_database.db)"
      ]
     },
     "execution_count": 1,
     "metadata": {},
     "output_type": "execute_result"
    }
   ],
   "source": [
    "import sqlalchemy\n",
    "engine = sqlalchemy.create_engine(\"sqlite:///my_database.db\", echo=True)   \n",
    "    # Note: sqlite and not sqlite3.\n",
    "    # If you want to use a different database for production (e.g. MySQL), just change the URL.\n",
    "    # echo=True means log the SQL commands\n",
    "engine"
   ]
  },
  {
   "cell_type": "markdown",
   "metadata": {},
   "source": [
    "## CREATE"
   ]
  },
  {
   "cell_type": "code",
   "execution_count": 2,
   "metadata": {},
   "outputs": [
    {
     "name": "stdout",
     "output_type": "stream",
     "text": [
      "2022-05-12 11:56:53,186 INFO sqlalchemy.engine.Engine BEGIN (implicit)\n",
      "2022-05-12 11:56:53,187 INFO sqlalchemy.engine.Engine PRAGMA main.table_info(\"user\")\n",
      "2022-05-12 11:56:53,188 INFO sqlalchemy.engine.Engine [raw sql] ()\n",
      "2022-05-12 11:56:53,190 INFO sqlalchemy.engine.Engine PRAGMA temp.table_info(\"user\")\n",
      "2022-05-12 11:56:53,191 INFO sqlalchemy.engine.Engine [raw sql] ()\n",
      "2022-05-12 11:56:53,194 INFO sqlalchemy.engine.Engine \n",
      "CREATE TABLE user (\n",
      "\tid INTEGER NOT NULL, \n",
      "\tname VARCHAR(20) NOT NULL, \n",
      "\tphone INTEGER, \n",
      "\temail VARCHAR(20) NOT NULL, \n",
      "\tpassword VARCHAR(20) NOT NULL, \n",
      "\tPRIMARY KEY (id), \n",
      "\tUNIQUE (email)\n",
      ")\n",
      "\n",
      "\n",
      "2022-05-12 11:56:53,195 INFO sqlalchemy.engine.Engine [no key 0.00135s] ()\n",
      "2022-05-12 11:56:53,203 INFO sqlalchemy.engine.Engine COMMIT\n"
     ]
    }
   ],
   "source": [
    "# Instead of CREATE TABLE, we create a class that represents the table:\n",
    "from sqlalchemy.orm import declarative_base\n",
    "Base = declarative_base()\n",
    "\n",
    "# Define the \"user\" table:\n",
    "class User(Base):\n",
    "    __tablename__ = 'user'    \n",
    "    # Define the columns in the user table:\n",
    "    id = sqlalchemy.Column(sqlalchemy.Integer , primary_key= True)\n",
    "    name = sqlalchemy.Column(sqlalchemy.String(20) , unique=False, nullable = False , default='Anonymous')\n",
    "    phone = sqlalchemy.Column(sqlalchemy.Integer , unique = False)\n",
    "    email = sqlalchemy.Column(sqlalchemy.String(20) , unique=True, nullable = False)\n",
    "    password = sqlalchemy.Column(sqlalchemy.String(20), nullable= False)\n",
    "\n",
    "    def __repr__(self):\n",
    "        return f'User({self.id!r}, {self.name!r}, {self.phone!r}, {self.email!r})'\n",
    "\n",
    "Base.metadata.create_all(engine)  # Create the database and all tables."
   ]
  },
  {
   "cell_type": "markdown",
   "metadata": {},
   "source": [
    "## INSERT"
   ]
  },
  {
   "cell_type": "code",
   "execution_count": 5,
   "metadata": {},
   "outputs": [],
   "source": [
    "# Same data as before\n",
    "\n",
    "name1 = 'Tom Pythonovitz'\n",
    "phone1 = '3366858'\n",
    "email1 = 'Tom.Pythonovitz@example.com'\n",
    "# A very secure password\n",
    "password1 = '12345'\n",
    " \n",
    "name2 = 'Tammi Pythonovitz'\n",
    "phone2 = '5557241'\n",
    "email2 = 'Tammi@example.com'\n",
    "password2 = 'Javansky'\n",
    "\n",
    "name3 = 'George Rustniovsky'\n",
    "phone3 = '33333'\n",
    "email3 = 'GRust@example.com'\n",
    "password3 = 'Rust for ever'"
   ]
  },
  {
   "cell_type": "code",
   "execution_count": 6,
   "metadata": {},
   "outputs": [],
   "source": [
    "DBSession = sqlalchemy.orm.sessionmaker(bind=engine)\n",
    "session = DBSession()"
   ]
  },
  {
   "cell_type": "code",
   "execution_count": 7,
   "metadata": {},
   "outputs": [
    {
     "name": "stdout",
     "output_type": "stream",
     "text": [
      "First user inserted\n",
      "Second user inserted\n",
      "2022-05-12 11:58:18,859 INFO sqlalchemy.engine.Engine BEGIN (implicit)\n",
      "2022-05-12 11:58:18,862 INFO sqlalchemy.engine.Engine INSERT INTO user (name, phone, email, password) VALUES (?, ?, ?, ?)\n",
      "2022-05-12 11:58:18,864 INFO sqlalchemy.engine.Engine [generated in 0.00131s] ('Tom Pythonovitz', '3366858', 'Tom.Pythonovitz@example.com', '12345')\n",
      "2022-05-12 11:58:18,867 INFO sqlalchemy.engine.Engine INSERT INTO user (name, phone, email, password) VALUES (?, ?, ?, ?)\n",
      "2022-05-12 11:58:18,868 INFO sqlalchemy.engine.Engine [cached since 0.005661s ago] ('Tammi Pythonovitz', '5557241', 'Tammi@example.com', 'Javansky')\n",
      "2022-05-12 11:58:18,870 INFO sqlalchemy.engine.Engine COMMIT\n"
     ]
    }
   ],
   "source": [
    "# Instead of INSERT INTO table, we create new objects:\n",
    "user1 = User(name=name1, phone=phone1,  email=email1, password=password1)\n",
    "session.add(user1)\n",
    "print('First user inserted')\n",
    "\n",
    "session.add(User(name=name2, phone=phone2,  email=email2, password=password2))\n",
    "print('Second user inserted')\n",
    "\n",
    "session.commit()"
   ]
  },
  {
   "cell_type": "code",
   "execution_count": 8,
   "metadata": {},
   "outputs": [
    {
     "name": "stdout",
     "output_type": "stream",
     "text": [
      "Third user inserted\n",
      "2022-05-12 12:00:03,648 INFO sqlalchemy.engine.Engine BEGIN (implicit)\n",
      "2022-05-12 12:00:03,650 INFO sqlalchemy.engine.Engine INSERT INTO user (name, phone, email, password) VALUES (?, ?, ?, ?)\n",
      "2022-05-12 12:00:03,651 INFO sqlalchemy.engine.Engine [cached since 104.8s ago] ('George Rustniovsky', '33333', 'GRust@example.com', 'Rust for ever')\n",
      "2022-05-12 12:00:03,654 INFO sqlalchemy.engine.Engine COMMIT\n"
     ]
    }
   ],
   "source": [
    "session.add(User(name=name3, phone=phone3,  email=email3, password=password3))\n",
    "print('Third user inserted')\n",
    "session.commit()"
   ]
  },
  {
   "cell_type": "code",
   "execution_count": 9,
   "metadata": {},
   "outputs": [
    {
     "name": "stdout",
     "output_type": "stream",
     "text": [
      "2022-05-12 12:00:11,362 INFO sqlalchemy.engine.Engine BEGIN (implicit)\n",
      "2022-05-12 12:00:11,363 INFO sqlalchemy.engine.Engine INSERT INTO user (name, phone, email, password) VALUES (?, ?, ?, ?)\n",
      "2022-05-12 12:00:11,364 INFO sqlalchemy.engine.Engine [generated in 0.00095s] (('Joee Javany', '2222', 'joo@example.mail', 'password'), ('Shirel Cplustik', '3333', 'cpp@example.mail', 'cppass'), ('Adam Kotlinberg', '4444', 'Adam_Kotlin@example.mail', 'JustPassword'))\n",
      "Many users inserted\n",
      "2022-05-12 12:00:11,366 INFO sqlalchemy.engine.Engine COMMIT\n"
     ]
    }
   ],
   "source": [
    "users = [User(name='Joee Javany', phone='2222', email='joo@example.mail', password='password'),\n",
    "        User(name='Shirel Cplustik', phone='3333', email='cpp@example.mail', password='cppass'),\n",
    "        User(name='Adam Kotlinberg', phone='4444', email='Adam_Kotlin@example.mail', password='JustPassword'),\n",
    "        ]\n",
    "# Insert many\n",
    "session.bulk_save_objects(users)\n",
    "print('Many users inserted')\n",
    "session.commit()"
   ]
  },
  {
   "cell_type": "markdown",
   "metadata": {},
   "source": [
    "## SELECT"
   ]
  },
  {
   "cell_type": "code",
   "execution_count": 10,
   "metadata": {},
   "outputs": [
    {
     "name": "stdout",
     "output_type": "stream",
     "text": [
      "2022-05-12 12:00:26,015 INFO sqlalchemy.engine.Engine BEGIN (implicit)\n",
      "2022-05-12 12:00:26,019 INFO sqlalchemy.engine.Engine SELECT user.id AS user_id, user.name AS user_name, user.phone AS user_phone, user.email AS user_email, user.password AS user_password \n",
      "FROM user\n",
      "2022-05-12 12:00:26,020 INFO sqlalchemy.engine.Engine [generated in 0.00114s] ()\n"
     ]
    },
    {
     "data": {
      "text/plain": [
       "[User(1, 'Tom Pythonovitz', 3366858, 'Tom.Pythonovitz@example.com'),\n",
       " User(2, 'Tammi Pythonovitz', 5557241, 'Tammi@example.com'),\n",
       " User(3, 'George Rustniovsky', 33333, 'GRust@example.com'),\n",
       " User(4, 'Joee Javany', 2222, 'joo@example.mail'),\n",
       " User(5, 'Shirel Cplustik', 3333, 'cpp@example.mail'),\n",
       " User(6, 'Adam Kotlinberg', 4444, 'Adam_Kotlin@example.mail')]"
      ]
     },
     "execution_count": 10,
     "metadata": {},
     "output_type": "execute_result"
    }
   ],
   "source": [
    "session.query(User).all()"
   ]
  },
  {
   "cell_type": "code",
   "execution_count": 11,
   "metadata": {},
   "outputs": [
    {
     "name": "stdout",
     "output_type": "stream",
     "text": [
      "2022-05-12 12:01:20,836 INFO sqlalchemy.engine.Engine SELECT user.id AS user_id, user.name AS user_name, user.phone AS user_phone, user.email AS user_email, user.password AS user_password \n",
      "FROM user \n",
      "WHERE user.name = ?\n",
      "2022-05-12 12:01:20,839 INFO sqlalchemy.engine.Engine [generated in 0.00250s] ('Tom Pythonovitz',)\n"
     ]
    },
    {
     "data": {
      "text/plain": [
       "[User(1, 'Tom Pythonovitz', 3366858, 'Tom.Pythonovitz@example.com')]"
      ]
     },
     "execution_count": 11,
     "metadata": {},
     "output_type": "execute_result"
    }
   ],
   "source": [
    "session.query(User).filter(User.name==\"Tom Pythonovitz\").all()"
   ]
  },
  {
   "cell_type": "code",
   "execution_count": 12,
   "metadata": {},
   "outputs": [
    {
     "name": "stdout",
     "output_type": "stream",
     "text": [
      "2022-05-12 12:01:24,460 INFO sqlalchemy.engine.Engine SELECT user.id AS user_id, user.name AS user_name, user.phone AS user_phone, user.email AS user_email, user.password AS user_password \n",
      "FROM user \n",
      "WHERE user.name = ?\n",
      " LIMIT ? OFFSET ?\n",
      "2022-05-12 12:01:24,461 INFO sqlalchemy.engine.Engine [generated in 0.00081s] ('Tom Pythonovitz', 1, 0)\n"
     ]
    },
    {
     "data": {
      "text/plain": [
       "User(1, 'Tom Pythonovitz', 3366858, 'Tom.Pythonovitz@example.com')"
      ]
     },
     "execution_count": 12,
     "metadata": {},
     "output_type": "execute_result"
    }
   ],
   "source": [
    "tom = session.query(User).filter(User.name==\"Tom Pythonovitz\").first()\n",
    "tom"
   ]
  },
  {
   "cell_type": "code",
   "execution_count": 14,
   "metadata": {},
   "outputs": [
    {
     "data": {
      "text/plain": [
       "3366858"
      ]
     },
     "execution_count": 14,
     "metadata": {},
     "output_type": "execute_result"
    }
   ],
   "source": [
    "tom.phone"
   ]
  },
  {
   "cell_type": "markdown",
   "metadata": {},
   "source": [
    "## DROP"
   ]
  },
  {
   "cell_type": "code",
   "execution_count": 15,
   "metadata": {},
   "outputs": [
    {
     "name": "stdout",
     "output_type": "stream",
     "text": [
      "2022-05-12 12:02:00,225 INFO sqlalchemy.engine.Engine BEGIN (implicit)\n",
      "2022-05-12 12:02:00,226 INFO sqlalchemy.engine.Engine PRAGMA main.table_info(\"user\")\n",
      "2022-05-12 12:02:00,228 INFO sqlalchemy.engine.Engine [raw sql] ()\n",
      "2022-05-12 12:02:00,230 INFO sqlalchemy.engine.Engine \n",
      "DROP TABLE user\n",
      "2022-05-12 12:02:00,231 INFO sqlalchemy.engine.Engine [no key 0.00140s] ()\n",
      "2022-05-12 12:02:00,240 INFO sqlalchemy.engine.Engine COMMIT\n"
     ]
    }
   ],
   "source": [
    "# To drop all tables:\n",
    "Base.metadata.drop_all(engine) "
   ]
  },
  {
   "cell_type": "markdown",
   "metadata": {},
   "source": [
    "## close"
   ]
  },
  {
   "cell_type": "code",
   "execution_count": 16,
   "metadata": {},
   "outputs": [
    {
     "name": "stdout",
     "output_type": "stream",
     "text": [
      "2022-05-12 12:02:02,276 INFO sqlalchemy.engine.Engine ROLLBACK\n"
     ]
    }
   ],
   "source": [
    "session.close()"
   ]
  },
  {
   "cell_type": "code",
   "execution_count": null,
   "metadata": {},
   "outputs": [],
   "source": []
  }
 ],
 "metadata": {
  "interpreter": {
   "hash": "fb4569285eef3a3450cb62085a5b1e0da4bce0af555edc33dcf29baf3acc1368"
  },
  "kernelspec": {
   "display_name": "Python 3.10.2 64-bit",
   "language": "python",
   "name": "python3"
  },
  "language_info": {
   "codemirror_mode": {
    "name": "ipython",
    "version": 3
   },
   "file_extension": ".py",
   "mimetype": "text/x-python",
   "name": "python",
   "nbconvert_exporter": "python",
   "pygments_lexer": "ipython3",
   "version": "3.10.2"
  },
  "orig_nbformat": 2
 },
 "nbformat": 4,
 "nbformat_minor": 2
}
